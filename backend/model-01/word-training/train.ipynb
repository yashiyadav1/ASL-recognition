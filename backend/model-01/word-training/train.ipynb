{
 "cells": [
  {
   "cell_type": "code",
   "execution_count": null,
   "metadata": {
    "colab": {
     "base_uri": "https://localhost:8080/"
    },
    "id": "sf14FfqcF1C2",
    "outputId": "a572b671-966b-4e95-f0a6-b9314a6c9f50",
    "scrolled": true
   },
   "outputs": [],
   "source": [
    "# !pip install yt-dlp\n",
    "# !pip install opencv-python\n",
    "# !pip install pandas\n",
    "# !pip install google-colab\n",
    "# !pip install tensorflow"
   ]
  },
  {
   "cell_type": "code",
   "execution_count": 1,
   "metadata": {
    "id": "-SZk5xrsCv1X"
   },
   "outputs": [
    {
     "name": "stdout",
     "output_type": "stream",
     "text": [
      "WARNING:tensorflow:From C:\\Users\\dangk\\AppData\\Local\\Programs\\Python\\Python36\\Lib\\site-packages\\keras\\src\\losses.py:2976: The name tf.losses.sparse_softmax_cross_entropy is deprecated. Please use tf.compat.v1.losses.sparse_softmax_cross_entropy instead.\n",
      "\n"
     ]
    }
   ],
   "source": [
    "import os\n",
    "import json\n",
    "import yt_dlp\n",
    "import cv2\n",
    "import math\n",
    "import random\n",
    "import concurrent.futures\n",
    "import tensorflow as tf\n",
    "from tensorflow.keras.applications.vgg16 import VGG16\n",
    "from tensorflow.keras.layers import Dense, Flatten, Dropout, LSTM, TimeDistributed\n",
    "from tensorflow.keras.models import Model\n",
    "from tensorflow.keras.optimizers import Adam\n",
    "from tensorflow.keras.preprocessing.image import ImageDataGenerator\n",
    "from tensorflow.keras.callbacks import ModelCheckpoint\n",
    "from tensorflow.keras.layers import Input, Lambda\n",
    "from tensorflow.keras.models import Sequential\n",
    "from tensorflow.keras.preprocessing.image import img_to_array, load_img\n",
    "import numpy as np\n",
    "from tensorflow.keras.utils import to_categorical"
   ]
  },
  {
   "cell_type": "code",
   "execution_count": 5,
   "metadata": {
    "id": "C0pUK8HVCvol"
   },
   "outputs": [],
   "source": [
    "def download_and_extract_frames(video_data, save_frames_path):\n",
    "    video_url = video_data['url']\n",
    "    # ISSUE 2: using the video id is not good because it is using file, which is not the same as the words. Also, it is not ideal because two words can have the same file. Two solutions here:\n",
    "    # 1. Create a folder with the label then inside that folder, we have laugh 1, laugh 2, laugh 3, etc ---> trying this\n",
    "    # 2. Create a csv or json to hold the label and the link \n",
    "    video_id = video_data['file']\n",
    "    label = video_data['clean_text']\n",
    "    start_time = video_data['start_time']\n",
    "    end_time = video_data['end_time']\n",
    "    output_filename = label + \" \" + video_id\n",
    "    ydl_opts = {\n",
    "        'format': 'bestvideo[ext=mp4]',\n",
    "        'quiet': True,\n",
    "        'no_warnings': True\n",
    "    }\n",
    "\n",
    "    try:\n",
    "        with yt_dlp.YoutubeDL(ydl_opts) as ydl:\n",
    "            video_info = ydl.extract_info(video_url, download=False)\n",
    "            video_url = video_info['url']\n",
    "    except Exception as e:\n",
    "        print(f\"Error downloading {video_url}: {e}\")\n",
    "        return\n",
    "\n",
    "    print(f\"Video extracted successfully to {output_filename}\")\n",
    "\n",
    "    ################################## ISSUE 1: It is breaking whole video into frames, not just a clip\n",
    "    ################################## SOLUTION:\n",
    "    cap = cv2.VideoCapture(video_url)\n",
    "    label_dir = os.path.join(save_frames_path, label)\n",
    "    output_dir = os.path.join(label_dir, video_id)\n",
    "    #Create a folder for a label\n",
    "    os.makedirs(label_dir, exist_ok=True)\n",
    "    #Create the folder to save the frames within the label\n",
    "    os.makedirs(output_dir, exist_ok= True)\n",
    "\n",
    "    # Get frames per second and total number of frames\n",
    "    fps = cap.get(cv2.CAP_PROP_FPS)\n",
    "    total_frames = int(cap.get(cv2.CAP_PROP_FRAME_COUNT))\n",
    "\n",
    "    # Calculate frame indices based on start and end timestamps\n",
    "    start_frame_index = int(start_time * fps)\n",
    "    end_frame_index = int(end_time * fps)\n",
    "\n",
    "    # Set the capture position to the start frame\n",
    "    cap.set(cv2.CAP_PROP_POS_FRAMES, start_frame_index)\n",
    "\n",
    "    # Read frames between start and end timestamps\n",
    "    # frames = []\n",
    "    frame_idx = start_frame_index\n",
    "    while frame_idx <= end_frame_index:\n",
    "        ret, frame = cap.read()\n",
    "        if not ret:\n",
    "            break\n",
    "        frame_filename = os.path.join(output_dir, f\"frame_{frame_idx}.jpg\")\n",
    "        cv2.imwrite(frame_filename, frame)\n",
    "        frame_idx += 1\n",
    "\n",
    "    # Release the video capture object\n",
    "    cap.release()\n",
    "    ############################### END OF SOLUTION \n",
    "   \n",
    "# checkpoint_path = \"/content/drive/My Drive/Colab Notebooks/MS-ASL/preprocessing_checkpoint.txt\"\n",
    "#print(os.path.exists(checkpoint_path))\n",
    "#print(os.listdir(\"/content/drive/My Drive/Colab Notebooks/MS-ASL/\"))\n",
    "\n",
    "def preprocess_data_multithreaded(data, save_frames_path, checkpoint_path, max_workers=10):\n",
    "    # Load existing checkpoints if available\n",
    "    if os.path.exists(checkpoint_path):\n",
    "        with open(checkpoint_path, 'r') as file:\n",
    "            processed_videos = set(line.strip() for line in file.readlines())\n",
    "    else:\n",
    "        processed_videos = set()\n",
    "\n",
    "    with concurrent.futures.ThreadPoolExecutor(max_workers=max_workers) as executor:\n",
    "        # Filter out already processed videos and videos without a 'file' key\n",
    "        filtered_data = [item for item in data if 'file' in item and item['file'] not in processed_videos]\n",
    "\n",
    "        # Process videos and update checkpoint after each video\n",
    "        for item in filtered_data:\n",
    "            download_and_extract_frames(item, save_frames_path)\n",
    "\n",
    "            # Debugging information\n",
    "            print(f\"Processed video: {item['file']}\")\n",
    "\n",
    "            # os.makedirs(os.path.dirname(checkpoint_path), exist_ok=True)\n",
    "            with open(checkpoint_path, 'a') as file:\n",
    "                file.write(item['file'] + '\\n')\n",
    "\n",
    "            # Debugging information\n",
    "            print(f\"Updated checkpoint with video: {item['file']}\")\n",
    "\n",
    "\n"
   ]
  },
  {
   "cell_type": "code",
   "execution_count": 53,
   "metadata": {
    "colab": {
     "base_uri": "https://localhost:8080/"
    },
    "id": "praQaFccCvvH",
    "outputId": "aa7730e9-9ace-4927-d436-5eff1c55329c",
    "scrolled": true
   },
   "outputs": [
    {
     "name": "stdout",
     "output_type": "stream",
     "text": [
      "Video extracted successfully to sign language SIGN-LANGUAGE-S-CLAW-F\n",
      "Processed video: SIGN-LANGUAGE-S-CLAW-F\n",
      "Updated checkpoint with video: SIGN-LANGUAGE-S-CLAW-F\n"
     ]
    },
    {
     "name": "stderr",
     "output_type": "stream",
     "text": [
      "ERROR: [youtube] 1AyT77LqJzQ: Video unavailable\n"
     ]
    },
    {
     "name": "stdout",
     "output_type": "stream",
     "text": [
      "Error downloading https://www.youtube.com/watch?v=1AyT77LqJzQ: ERROR: [youtube] 1AyT77LqJzQ: Video unavailable\n",
      "Processed video: ASL Vocabulary school\n",
      "Updated checkpoint with video: ASL Vocabulary school\n"
     ]
    },
    {
     "name": "stderr",
     "output_type": "stream",
     "text": [
      "ERROR: [youtube] 1AyT77LqJzQ: Video unavailable\n"
     ]
    },
    {
     "name": "stdout",
     "output_type": "stream",
     "text": [
      "Error downloading https://www.youtube.com/watch?v=1AyT77LqJzQ: ERROR: [youtube] 1AyT77LqJzQ: Video unavailable\n",
      "Processed video: ASL Vocabulary school\n",
      "Updated checkpoint with video: ASL Vocabulary school\n",
      "Video extracted successfully to easter Easter\n",
      "Processed video: Easter\n",
      "Updated checkpoint with video: Easter\n",
      "Video extracted successfully to boring ASL Boring \n",
      "Processed video: ASL Boring \n",
      "Updated checkpoint with video: ASL Boring \n",
      "Video extracted successfully to letter LETTER(3)\n",
      "Processed video: LETTER(3)\n",
      "Updated checkpoint with video: LETTER(3)\n",
      "Video extracted successfully to shock shock-BRAIN-FREEZE\n",
      "Processed video: shock-BRAIN-FREEZE\n",
      "Updated checkpoint with video: shock-BRAIN-FREEZE\n",
      "Video extracted successfully to breakfast ASL Breakfast  \n",
      "Processed video: ASL Breakfast  \n",
      "Updated checkpoint with video: ASL Breakfast  \n",
      "Video extracted successfully to clock clock(2)\n",
      "Processed video: clock(2)\n",
      "Updated checkpoint with video: clock(2)\n",
      "Video extracted successfully to important essential-IMPORTANT(1)\n",
      "Processed video: essential-IMPORTANT(1)\n",
      "Updated checkpoint with video: essential-IMPORTANT(1)\n",
      "Video extracted successfully to norway NORWAY\n",
      "Processed video: NORWAY\n",
      "Updated checkpoint with video: NORWAY\n",
      "Video extracted successfully to ball BALL-(solid massive)\n",
      "Processed video: BALL-(solid massive)\n",
      "Updated checkpoint with video: BALL-(solid massive)\n",
      "Video extracted successfully to in IN\n",
      "Processed video: IN\n",
      "Updated checkpoint with video: IN\n",
      "Video extracted successfully to marry ASL Married \n",
      "Processed video: ASL Married \n",
      "Updated checkpoint with video: ASL Married \n",
      "Video extracted successfully to meet meet in American Sign Language\n",
      "Processed video: meet in American Sign Language\n",
      "Updated checkpoint with video: meet in American Sign Language\n",
      "Video extracted successfully to spider ASL Spider  \n",
      "Processed video: ASL Spider  \n",
      "Updated checkpoint with video: ASL Spider  \n",
      "Video extracted successfully to cafeteria Cafeteria\n",
      "Processed video: Cafeteria\n",
      "Updated checkpoint with video: Cafeteria\n",
      "Video extracted successfully to jacket COAT(2)\n",
      "Processed video: COAT(2)\n",
      "Updated checkpoint with video: COAT(2)\n",
      "Video extracted successfully to south SOUTH(2)\n",
      "Processed video: SOUTH(2)\n",
      "Updated checkpoint with video: SOUTH(2)\n",
      "Video extracted successfully to happy Happy(1)\n",
      "Processed video: Happy(1)\n",
      "Updated checkpoint with video: Happy(1)\n",
      "Video extracted successfully to hit HIT-sudden-impact-Pow\n",
      "Processed video: HIT-sudden-impact-Pow\n",
      "Updated checkpoint with video: HIT-sudden-impact-Pow\n",
      "Video extracted successfully to motorcycle MOTORCYCLE(2)\n",
      "Processed video: MOTORCYCLE(2)\n",
      "Updated checkpoint with video: MOTORCYCLE(2)\n",
      "Video extracted successfully to meat ASL Meat \n",
      "Processed video: ASL Meat \n",
      "Updated checkpoint with video: ASL Meat \n",
      "Video extracted successfully to english ASL English \n",
      "Processed video: ASL English \n",
      "Updated checkpoint with video: ASL English \n",
      "Video extracted successfully to future Future\n",
      "Processed video: Future\n",
      "Updated checkpoint with video: Future\n",
      "Video extracted successfully to child CHILD\n",
      "Processed video: CHILD\n",
      "Updated checkpoint with video: CHILD\n",
      "Video extracted successfully to janitor JANITOR\n",
      "Processed video: JANITOR\n",
      "Updated checkpoint with video: JANITOR\n"
     ]
    },
    {
     "name": "stderr",
     "output_type": "stream",
     "text": [
      "ERROR: [youtube] caqvrVq77P0: Private video. Sign in if you've been granted access to this video\n"
     ]
    },
    {
     "name": "stdout",
     "output_type": "stream",
     "text": [
      "Error downloading www.youtube.com/watch?v=caqvrVq77P0: ERROR: [youtube] caqvrVq77P0: Private video. Sign in if you've been granted access to this video\n",
      "Processed video: SignSchool Cuba Firefighter\n",
      "Updated checkpoint with video: SignSchool Cuba Firefighter\n",
      "Video extracted successfully to meet Meet\n",
      "Processed video: Meet\n",
      "Updated checkpoint with video: Meet\n",
      "Video extracted successfully to meet Meet\n",
      "Processed video: Meet\n",
      "Updated checkpoint with video: Meet\n",
      "Video extracted successfully to sweep BROOM-SWEEP\n",
      "Processed video: BROOM-SWEEP\n",
      "Updated checkpoint with video: BROOM-SWEEP\n",
      "Video extracted successfully to africa Africa (Hungarian sign 2)\n",
      "Processed video: Africa (Hungarian sign 2)\n",
      "Updated checkpoint with video: Africa (Hungarian sign 2)\n",
      "Video extracted successfully to understand ASL I understand  \n",
      "Processed video: ASL I understand  \n",
      "Updated checkpoint with video: ASL I understand  \n",
      "Video extracted successfully to not NOT(1)\n",
      "Processed video: NOT(1)\n",
      "Updated checkpoint with video: NOT(1)\n",
      "Video extracted successfully to buy BUY(1)\n",
      "Processed video: BUY(1)\n",
      "Updated checkpoint with video: BUY(1)\n",
      "Video extracted successfully to hit HIT-impact\n",
      "Processed video: HIT-impact\n",
      "Updated checkpoint with video: HIT-impact\n",
      "Video extracted successfully to for FOR(1)\n",
      "Processed video: FOR(1)\n",
      "Updated checkpoint with video: FOR(1)\n",
      "Video extracted successfully to eat To eat - Asl\n",
      "Processed video: To eat - Asl\n",
      "Updated checkpoint with video: To eat - Asl\n",
      "Video extracted successfully to new new - ASL sign for new\n",
      "Processed video: new - ASL sign for new\n",
      "Updated checkpoint with video: new - ASL sign for new\n",
      "Video extracted successfully to new new - ASL sign for new\n",
      "Processed video: new - ASL sign for new\n",
      "Updated checkpoint with video: new - ASL sign for new\n"
     ]
    },
    {
     "name": "stderr",
     "output_type": "stream",
     "text": [
      "ERROR: [youtube] 98Dc1XXwork: Video unavailable. This video is no longer available because the uploader has closed their YouTube account.\n"
     ]
    },
    {
     "name": "stdout",
     "output_type": "stream",
     "text": [
      "Error downloading www.youtube.com/watch?v=98Dc1XXwork: ERROR: [youtube] 98Dc1XXwork: Video unavailable. This video is no longer available because the uploader has closed their YouTube account.\n",
      "Processed video: 14\n",
      "Updated checkpoint with video: 14\n",
      "Video extracted successfully to boots BOOTS-boot\n",
      "Processed video: BOOTS-boot\n",
      "Updated checkpoint with video: BOOTS-boot\n",
      "Video extracted successfully to basketball ASL Basketball \n",
      "Processed video: ASL Basketball \n",
      "Updated checkpoint with video: ASL Basketball \n",
      "Video extracted successfully to born birth-S-hand-version-borndelivery\n",
      "Processed video: birth-S-hand-version-borndelivery\n",
      "Updated checkpoint with video: birth-S-hand-version-borndelivery\n",
      "Video extracted successfully to student student\n",
      "Processed video: student\n",
      "Updated checkpoint with video: student\n",
      "Video extracted successfully to student student\n",
      "Processed video: student\n",
      "Updated checkpoint with video: student\n",
      "Video extracted successfully to student student\n",
      "Processed video: student\n",
      "Updated checkpoint with video: student\n",
      "Video extracted successfully to student student\n",
      "Processed video: student\n",
      "Updated checkpoint with video: student\n",
      "Video extracted successfully to play playplaying\n",
      "Processed video: playplaying\n",
      "Updated checkpoint with video: playplaying\n",
      "Video extracted successfully to excited ASL Excited \n",
      "Processed video: ASL Excited \n",
      "Updated checkpoint with video: ASL Excited \n",
      "Video extracted successfully to light Light\n",
      "Processed video: Light\n",
      "Updated checkpoint with video: Light\n",
      "Video extracted successfully to light Light\n",
      "Processed video: Light\n",
      "Updated checkpoint with video: Light\n"
     ]
    },
    {
     "name": "stderr",
     "output_type": "stream",
     "text": [
      "ERROR: [youtube] wZpMNvLP0sU: Private video. Sign in if you've been granted access to this video\n"
     ]
    },
    {
     "name": "stdout",
     "output_type": "stream",
     "text": [
      "Error downloading www.youtube.com/watch?v=wZpMNvLP0sU: ERROR: [youtube] wZpMNvLP0sU: Private video. Sign in if you've been granted access to this video\n",
      "Processed video: SignSchool Israel\n",
      "Updated checkpoint with video: SignSchool Israel\n",
      "Video extracted successfully to monkey Monkey\n",
      "Processed video: Monkey\n",
      "Updated checkpoint with video: Monkey\n",
      "Video extracted successfully to monkey Monkey\n",
      "Processed video: Monkey\n",
      "Updated checkpoint with video: Monkey\n",
      "Video extracted successfully to eat ASL Food \n",
      "Processed video: ASL Food \n",
      "Updated checkpoint with video: ASL Food \n",
      "Video extracted successfully to boy ASL Boy \n",
      "Processed video: ASL Boy \n",
      "Updated checkpoint with video: ASL Boy \n",
      "Video extracted successfully to divorce Sign DIVORCE\n",
      "Processed video: Sign DIVORCE\n",
      "Updated checkpoint with video: Sign DIVORCE\n",
      "Video extracted successfully to divorce Sign DIVORCE\n",
      "Processed video: Sign DIVORCE\n",
      "Updated checkpoint with video: Sign DIVORCE\n",
      "Video extracted successfully to divorce Sign DIVORCE\n",
      "Processed video: Sign DIVORCE\n",
      "Updated checkpoint with video: Sign DIVORCE\n",
      "Video extracted successfully to divorce Sign DIVORCE\n",
      "Processed video: Sign DIVORCE\n",
      "Updated checkpoint with video: Sign DIVORCE\n",
      "Video extracted successfully to drawer Drawer\n",
      "Processed video: Drawer\n",
      "Updated checkpoint with video: Drawer\n",
      "Video extracted successfully to 26 26(1)\n",
      "Processed video: 26(1)\n",
      "Updated checkpoint with video: 26(1)\n",
      "Video extracted successfully to 26 26(1)\n",
      "Processed video: 26(1)\n",
      "Updated checkpoint with video: 26(1)\n",
      "Video extracted successfully to husband husband\n",
      "Processed video: husband\n",
      "Updated checkpoint with video: husband\n",
      "Video extracted successfully to happy How to sign Happy - ASL Vocabulary Series\n",
      "Processed video: How to sign Happy - ASL Vocabulary Series\n",
      "Updated checkpoint with video: How to sign Happy - ASL Vocabulary Series\n",
      "Video extracted successfully to flag ASL Flag \n",
      "Processed video: ASL Flag \n",
      "Updated checkpoint with video: ASL Flag \n",
      "Video extracted successfully to eat eat - ASL sign for eat\n",
      "Processed video: eat - ASL sign for eat\n",
      "Updated checkpoint with video: eat - ASL sign for eat\n",
      "Video extracted successfully to brush teeth BRUSH-TEETH\n",
      "Processed video: BRUSH-TEETH\n",
      "Updated checkpoint with video: BRUSH-TEETH\n",
      "Video extracted successfully to forget FORGET(2)\n",
      "Processed video: FORGET(2)\n",
      "Updated checkpoint with video: FORGET(2)\n",
      "Video extracted successfully to cuba Cuba  (ASL variation)\n",
      "Processed video: Cuba  (ASL variation)\n",
      "Updated checkpoint with video: Cuba  (ASL variation)\n",
      "Video extracted successfully to shelves Shelves\n",
      "Processed video: Shelves\n",
      "Updated checkpoint with video: Shelves\n",
      "Video extracted successfully to midnight ASL Midnight \n",
      "Processed video: ASL Midnight \n",
      "Updated checkpoint with video: ASL Midnight \n",
      "Video extracted successfully to visit visit\n",
      "Processed video: visit\n",
      "Updated checkpoint with video: visit\n",
      "Video extracted successfully to holland HOLLAND-version-2\n",
      "Processed video: HOLLAND-version-2\n",
      "Updated checkpoint with video: HOLLAND-version-2\n",
      "Video extracted successfully to expensive Expensive\n",
      "Processed video: Expensive\n",
      "Updated checkpoint with video: Expensive\n",
      "Video extracted successfully to expensive Expensive\n",
      "Processed video: Expensive\n",
      "Updated checkpoint with video: Expensive\n",
      "Video extracted successfully to country COUNTRY-Y-hand-version\n",
      "Processed video: COUNTRY-Y-hand-version\n",
      "Updated checkpoint with video: COUNTRY-Y-hand-version\n"
     ]
    },
    {
     "name": "stderr",
     "output_type": "stream",
     "text": [
      "ERROR: [youtube] aNva2VLkvkc: Video unavailable\n"
     ]
    },
    {
     "name": "stdout",
     "output_type": "stream",
     "text": [
      "Error downloading www.youtube.com/watch?v=aNva2VLkvkc: ERROR: [youtube] aNva2VLkvkc: Video unavailable\n",
      "Processed video: Baby Sign Language Thirsty\n",
      "Updated checkpoint with video: Baby Sign Language Thirsty\n",
      "Video extracted successfully to future ASL Future \n",
      "Processed video: ASL Future \n",
      "Updated checkpoint with video: ASL Future \n",
      "Video extracted successfully to important important\n",
      "Processed video: important\n",
      "Updated checkpoint with video: important\n",
      "Video extracted successfully to noon ASL Noon \n",
      "Processed video: ASL Noon \n",
      "Updated checkpoint with video: ASL Noon \n",
      "Video extracted successfully to man man\n",
      "Processed video: man\n",
      "Updated checkpoint with video: man\n",
      "Video extracted successfully to swing SWING\n",
      "Processed video: SWING\n",
      "Updated checkpoint with video: SWING\n",
      "Video extracted successfully to meet ASL Vocabulary meet\n",
      "Processed video: ASL Vocabulary meet\n",
      "Updated checkpoint with video: ASL Vocabulary meet\n",
      "Video extracted successfully to meet ASL Vocabulary meet\n",
      "Processed video: ASL Vocabulary meet\n",
      "Updated checkpoint with video: ASL Vocabulary meet\n",
      "Video extracted successfully to lake lake-WATER-CL-bent-L-hands\n",
      "Processed video: lake-WATER-CL-bent-L-hands\n",
      "Updated checkpoint with video: lake-WATER-CL-bent-L-hands\n",
      "Video extracted successfully to business ASL Business \n",
      "Processed video: ASL Business \n",
      "Updated checkpoint with video: ASL Business \n"
     ]
    },
    {
     "name": "stderr",
     "output_type": "stream",
     "text": [
      "ERROR: [youtube] FWvHYCdAx8A: Video unavailable\n"
     ]
    },
    {
     "name": "stdout",
     "output_type": "stream",
     "text": [
      "Error downloading https://www.youtube.com/watch?v=FWvHYCdAx8A: ERROR: [youtube] FWvHYCdAx8A: Video unavailable\n",
      "Processed video: ASL Vocabulary husband\n",
      "Updated checkpoint with video: ASL Vocabulary husband\n"
     ]
    },
    {
     "name": "stderr",
     "output_type": "stream",
     "text": [
      "ERROR: [youtube] FWvHYCdAx8A: Video unavailable\n"
     ]
    },
    {
     "name": "stdout",
     "output_type": "stream",
     "text": [
      "Error downloading https://www.youtube.com/watch?v=FWvHYCdAx8A: ERROR: [youtube] FWvHYCdAx8A: Video unavailable\n",
      "Processed video: ASL Vocabulary husband\n",
      "Updated checkpoint with video: ASL Vocabulary husband\n",
      "Video extracted successfully to chat Chat\n",
      "Processed video: Chat\n",
      "Updated checkpoint with video: Chat\n",
      "Video extracted successfully to twins twin-TWINS\n",
      "Processed video: twin-TWINS\n",
      "Updated checkpoint with video: twin-TWINS\n",
      "Video extracted successfully to polite polite(1)\n",
      "Processed video: polite(1)\n",
      "Updated checkpoint with video: polite(1)\n",
      "Video extracted successfully to vacation VACATION - holiday\n",
      "Processed video: VACATION - holiday\n",
      "Updated checkpoint with video: VACATION - holiday\n",
      "Video extracted successfully to last year Last Year\n",
      "Processed video: Last Year\n",
      "Updated checkpoint with video: Last Year\n",
      "Video extracted successfully to last year Last Year\n",
      "Processed video: Last Year\n",
      "Updated checkpoint with video: Last Year\n",
      "Video extracted successfully to train TRAIN(2)\n",
      "Processed video: TRAIN(2)\n",
      "Updated checkpoint with video: TRAIN(2)\n",
      "Video extracted successfully to yes Yes\n",
      "Processed video: Yes\n",
      "Updated checkpoint with video: Yes\n",
      "Video extracted successfully to mouse Mouse in Sign Language ASL Dictionary for kids\n",
      "Processed video: Mouse in Sign Language ASL Dictionary for kids\n",
      "Updated checkpoint with video: Mouse in Sign Language ASL Dictionary for kids\n",
      "Video extracted successfully to internet ASL Internet \n",
      "Processed video: ASL Internet \n",
      "Updated checkpoint with video: ASL Internet \n",
      "Video extracted successfully to new new\n",
      "Processed video: new\n",
      "Updated checkpoint with video: new\n",
      "Video extracted successfully to bath ASL Bath \n",
      "Processed video: ASL Bath \n",
      "Updated checkpoint with video: ASL Bath \n",
      "Video extracted successfully to israel israel (I hand version)\n",
      "Processed video: israel (I hand version)\n",
      "Updated checkpoint with video: israel (I hand version)\n",
      "Video extracted successfully to flat tire flat-tire-T-I-R-E_FLAT\n",
      "Processed video: flat-tire-T-I-R-E_FLAT\n",
      "Updated checkpoint with video: flat-tire-T-I-R-E_FLAT\n",
      "Video extracted successfully to green GREEN(1)\n",
      "Processed video: GREEN(1)\n",
      "Updated checkpoint with video: GREEN(1)\n",
      "Video extracted successfully to daughter DAUGHTER(1)\n",
      "Processed video: DAUGHTER(1)\n",
      "Updated checkpoint with video: DAUGHTER(1)\n",
      "Video extracted successfully to now Now\n",
      "Processed video: Now\n",
      "Updated checkpoint with video: Now\n"
     ]
    },
    {
     "name": "stderr",
     "output_type": "stream",
     "text": [
      "ERROR: [youtube] TLoZKdMeA8w: Video unavailable\n"
     ]
    },
    {
     "name": "stdout",
     "output_type": "stream",
     "text": [
      "Error downloading www.youtube.com/watch?v=TLoZKdMeA8w: ERROR: [youtube] TLoZKdMeA8w: Video unavailable\n",
      "Processed video: black(1)\n",
      "Updated checkpoint with video: black(1)\n"
     ]
    },
    {
     "name": "stderr",
     "output_type": "stream",
     "text": [
      "ERROR: [youtube] tf6WSHkS_Cg: Private video. Sign in if you've been granted access to this video\n"
     ]
    },
    {
     "name": "stdout",
     "output_type": "stream",
     "text": [
      "Error downloading www.youtube.com/watch?v=tf6WSHkS_Cg: ERROR: [youtube] tf6WSHkS_Cg: Private video. Sign in if you've been granted access to this video\n",
      "Processed video: SignSchool Grey Conductor\n",
      "Updated checkpoint with video: SignSchool Grey Conductor\n",
      "Video extracted successfully to eat Food\n",
      "Processed video: Food\n",
      "Updated checkpoint with video: Food\n",
      "Video extracted successfully to every week EVERY WEEK\n",
      "Processed video: EVERY WEEK\n",
      "Updated checkpoint with video: EVERY WEEK\n",
      "Video extracted successfully to cuba Cuba (ASL)\n",
      "Processed video: Cuba (ASL)\n",
      "Updated checkpoint with video: Cuba (ASL)\n",
      "Video extracted successfully to how_many HOW MUCH\n",
      "Processed video: HOW MUCH\n",
      "Updated checkpoint with video: HOW MUCH\n",
      "Video extracted successfully to africa Africa\n",
      "Processed video: Africa\n",
      "Updated checkpoint with video: Africa\n"
     ]
    },
    {
     "name": "stderr",
     "output_type": "stream",
     "text": [
      "ERROR: [youtube] IkdUvdBRIuc: Video unavailable\n"
     ]
    },
    {
     "name": "stdout",
     "output_type": "stream",
     "text": [
      "Error downloading https://www.youtube.com/watch?v=IkdUvdBRIuc: ERROR: [youtube] IkdUvdBRIuc: Video unavailable\n",
      "Processed video: CHRISTMAS(1)\n",
      "Updated checkpoint with video: CHRISTMAS(1)\n",
      "Video extracted successfully to i I\n",
      "Processed video: I\n",
      "Updated checkpoint with video: I\n",
      "Video extracted successfully to delicious DELICIOUS(1)\n",
      "Processed video: DELICIOUS(1)\n",
      "Updated checkpoint with video: DELICIOUS(1)\n",
      "Video extracted successfully to also ALSO(1)\n",
      "Processed video: ALSO(1)\n",
      "Updated checkpoint with video: ALSO(1)\n",
      "Video extracted successfully to train Train\n",
      "Processed video: Train\n",
      "Updated checkpoint with video: Train\n",
      "Video extracted successfully to whale ASL Whale \n",
      "Processed video: ASL Whale \n",
      "Updated checkpoint with video: ASL Whale \n",
      "Video extracted successfully to gold gold\n",
      "Processed video: gold\n",
      "Updated checkpoint with video: gold\n",
      "Video extracted successfully to and AND(1)\n",
      "Processed video: AND(1)\n",
      "Updated checkpoint with video: AND(1)\n",
      "Video extracted successfully to school School\n",
      "Processed video: School\n",
      "Updated checkpoint with video: School\n",
      "Video extracted successfully to school School\n",
      "Processed video: School\n",
      "Updated checkpoint with video: School\n",
      "Video extracted successfully to dizzy Sign for DIZZY from page 51\n",
      "Processed video: Sign for DIZZY from page 51\n",
      "Updated checkpoint with video: Sign for DIZZY from page 51\n",
      "Video extracted successfully to pizza PIZZA (alternative)\n",
      "Processed video: PIZZA (alternative)\n",
      "Updated checkpoint with video: PIZZA (alternative)\n",
      "Video extracted successfully to gold California\n",
      "Processed video: California\n",
      "Updated checkpoint with video: California\n",
      "Video extracted successfully to gold California\n",
      "Processed video: California\n",
      "Updated checkpoint with video: California\n",
      "Video extracted successfully to where WHERE(1)\n",
      "Processed video: WHERE(1)\n",
      "Updated checkpoint with video: WHERE(1)\n",
      "Video extracted successfully to every week Every Week\n",
      "Processed video: Every Week\n",
      "Updated checkpoint with video: Every Week\n",
      "Video extracted successfully to north NORTH(2)\n",
      "Processed video: NORTH(2)\n",
      "Updated checkpoint with video: NORTH(2)\n",
      "Video extracted successfully to sandwich Sandwich\n",
      "Processed video: Sandwich\n",
      "Updated checkpoint with video: Sandwich\n",
      "Video extracted successfully to sandwich Sandwich\n",
      "Processed video: Sandwich\n",
      "Updated checkpoint with video: Sandwich\n",
      "Video extracted successfully to buy Buy(1)\n",
      "Processed video: Buy(1)\n",
      "Updated checkpoint with video: Buy(1)\n",
      "Video extracted successfully to microwave Microwave\n",
      "Processed video: Microwave\n",
      "Updated checkpoint with video: Microwave\n",
      "Video extracted successfully to holland HOLLAND-hat-version\n",
      "Processed video: HOLLAND-hat-version\n",
      "Updated checkpoint with video: HOLLAND-hat-version\n",
      "Video extracted successfully to morning ASL Morning \n",
      "Processed video: ASL Morning \n",
      "Updated checkpoint with video: ASL Morning \n",
      "Video extracted successfully to noon How to sign Noon - ASL Vocabulary Series\n",
      "Processed video: How to sign Noon - ASL Vocabulary Series\n",
      "Updated checkpoint with video: How to sign Noon - ASL Vocabulary Series\n",
      "Video extracted successfully to medium Medium\n",
      "Processed video: Medium\n",
      "Updated checkpoint with video: Medium\n",
      "Video extracted successfully to drawer DRAWER DRESSER\n",
      "Processed video: DRAWER DRESSER\n",
      "Updated checkpoint with video: DRAWER DRESSER\n",
      "Video extracted successfully to lemon ASL Lemon \n",
      "Processed video: ASL Lemon \n",
      "Updated checkpoint with video: ASL Lemon \n",
      "Video extracted successfully to lie LIE-2h-version-compulsive liar\n",
      "Processed video: LIE-2h-version-compulsive liar\n",
      "Updated checkpoint with video: LIE-2h-version-compulsive liar\n",
      "Video extracted successfully to early EARLY\n",
      "Processed video: EARLY\n",
      "Updated checkpoint with video: EARLY\n",
      "Video extracted successfully to bath BATH(2)\n",
      "Processed video: BATH(2)\n",
      "Updated checkpoint with video: BATH(2)\n",
      "Video extracted successfully to laundry ASL Washing Machine  \n",
      "Processed video: ASL Washing Machine  \n",
      "Updated checkpoint with video: ASL Washing Machine  \n",
      "Video extracted successfully to far FAR (alternative)\n",
      "Processed video: FAR (alternative)\n",
      "Updated checkpoint with video: FAR (alternative)\n",
      "Video extracted successfully to swing swing - ASL sign for swing\n",
      "Processed video: swing - ASL sign for swing\n",
      "Updated checkpoint with video: swing - ASL sign for swing\n",
      "Video extracted successfully to swing swing - ASL sign for swing\n",
      "Processed video: swing - ASL sign for swing\n",
      "Updated checkpoint with video: swing - ASL sign for swing\n",
      "Video extracted successfully to melon ASL Melon (Cantaloupe) \n",
      "Processed video: ASL Melon (Cantaloupe) \n",
      "Updated checkpoint with video: ASL Melon (Cantaloupe) \n",
      "Video extracted successfully to student Student\n",
      "Processed video: Student\n",
      "Updated checkpoint with video: Student\n",
      "Video extracted successfully to careful careful- ASL sign for carful\n",
      "Processed video: careful- ASL sign for carful\n",
      "Updated checkpoint with video: careful- ASL sign for carful\n",
      "Video extracted successfully to careful careful- ASL sign for carful\n",
      "Processed video: careful- ASL sign for carful\n",
      "Updated checkpoint with video: careful- ASL sign for carful\n",
      "Video extracted successfully to careful careful- ASL sign for carful\n",
      "Processed video: careful- ASL sign for carful\n",
      "Updated checkpoint with video: careful- ASL sign for carful\n"
     ]
    },
    {
     "name": "stderr",
     "output_type": "stream",
     "text": [
      "ERROR: [youtube] LSM0sp4VCz4: Private video. Sign in if you've been granted access to this video\n"
     ]
    },
    {
     "name": "stdout",
     "output_type": "stream",
     "text": [
      "Error downloading www.youtube.com/watch?v=LSM0sp4VCz4: ERROR: [youtube] LSM0sp4VCz4: Private video. Sign in if you've been granted access to this video\n",
      "Processed video: SignSchool where\n",
      "Updated checkpoint with video: SignSchool where\n",
      "Video extracted successfully to long LONG\n",
      "Processed video: LONG\n",
      "Updated checkpoint with video: LONG\n",
      "Video extracted successfully to lion lion(1)\n",
      "Processed video: lion(1)\n",
      "Updated checkpoint with video: lion(1)\n",
      "Video extracted successfully to do ASL Do \n",
      "Processed video: ASL Do \n",
      "Updated checkpoint with video: ASL Do \n",
      "Video extracted successfully to welcome ASL Welcome  \n",
      "Processed video: ASL Welcome  \n",
      "Updated checkpoint with video: ASL Welcome  \n",
      "Video extracted successfully to radio radio(1)\n",
      "Processed video: radio(1)\n",
      "Updated checkpoint with video: radio(1)\n",
      "Video extracted successfully to what's up WHATS UP\n",
      "Processed video: WHATS UP\n",
      "Updated checkpoint with video: WHATS UP\n",
      "Video extracted successfully to world WORLD(1)\n",
      "Processed video: WORLD(1)\n",
      "Updated checkpoint with video: WORLD(1)\n"
     ]
    },
    {
     "name": "stderr",
     "output_type": "stream",
     "text": [
      "ERROR: [youtube] BCUwejC9ZMw: Private video. Sign in if you've been granted access to this video\n"
     ]
    },
    {
     "name": "stdout",
     "output_type": "stream",
     "text": [
      "Error downloading www.youtube.com/watch?v=BCUwejC9ZMw: ERROR: [youtube] BCUwejC9ZMw: Private video. Sign in if you've been granted access to this video\n",
      "Processed video: SignSchool Not\n",
      "Updated checkpoint with video: SignSchool Not\n",
      "Video extracted successfully to take up TAKE UP\n",
      "Processed video: TAKE UP\n",
      "Updated checkpoint with video: TAKE UP\n",
      "Video extracted successfully to closet Sign for CLOSET from page 22\n",
      "Processed video: Sign for CLOSET from page 22\n",
      "Updated checkpoint with video: Sign for CLOSET from page 22\n",
      "Video extracted successfully to belt BELT(2)\n",
      "Processed video: BELT(2)\n",
      "Updated checkpoint with video: BELT(2)\n",
      "Video extracted successfully to lie LIE-bent-hand-version\n",
      "Processed video: LIE-bent-hand-version\n",
      "Updated checkpoint with video: LIE-bent-hand-version\n",
      "Video extracted successfully to silly Silly\n",
      "Processed video: Silly\n",
      "Updated checkpoint with video: Silly\n",
      "Video extracted successfully to visit VISIT-be-visited\n",
      "Processed video: VISIT-be-visited\n",
      "Updated checkpoint with video: VISIT-be-visited\n",
      "Video extracted successfully to librarian Librarian\n",
      "Processed video: Librarian\n",
      "Updated checkpoint with video: Librarian\n",
      "Video extracted successfully to librarian Librarian\n",
      "Processed video: Librarian\n",
      "Updated checkpoint with video: Librarian\n"
     ]
    },
    {
     "name": "stderr",
     "output_type": "stream",
     "text": [
      "ERROR: [youtube] ex0oz_FcMtA: Private video. Sign in if you've been granted access to this video\n"
     ]
    },
    {
     "name": "stdout",
     "output_type": "stream",
     "text": [
      "Error downloading www.youtube.com/watch?v=ex0oz_FcMtA: ERROR: [youtube] ex0oz_FcMtA: Private video. Sign in if you've been granted access to this video\n",
      "Processed video: SignSchool Learn\n",
      "Updated checkpoint with video: SignSchool Learn\n",
      "Video extracted successfully to table ASL Table \n",
      "Processed video: ASL Table \n",
      "Updated checkpoint with video: ASL Table \n",
      "Video extracted successfully to spoon ASL Spoon \n",
      "Processed video: ASL Spoon \n",
      "Updated checkpoint with video: ASL Spoon \n",
      "Video extracted successfully to lion ASL Lion \n",
      "Processed video: ASL Lion \n",
      "Updated checkpoint with video: ASL Lion \n",
      "Video extracted successfully to country ASL Dictionary - Country\n",
      "Processed video: ASL Dictionary - Country\n",
      "Updated checkpoint with video: ASL Dictionary - Country\n",
      "Video extracted successfully to that one THAT-one-yn-Q-That-personconfirming\n",
      "Processed video: THAT-one-yn-Q-That-personconfirming\n",
      "Updated checkpoint with video: THAT-one-yn-Q-That-personconfirming\n",
      "Video extracted successfully to oversleep oversleep(1)\n",
      "Processed video: oversleep(1)\n",
      "Updated checkpoint with video: oversleep(1)\n",
      "Video extracted successfully to today ASL Today \n",
      "Processed video: ASL Today \n",
      "Updated checkpoint with video: ASL Today \n",
      "Video extracted successfully to born ASL Born \n",
      "Processed video: ASL Born \n",
      "Updated checkpoint with video: ASL Born \n",
      "Video extracted successfully to pizza Pizza\n",
      "Processed video: Pizza\n",
      "Updated checkpoint with video: Pizza\n",
      "Video extracted successfully to closet Sign for CLOSET from page 25\n",
      "Processed video: Sign for CLOSET from page 25\n",
      "Updated checkpoint with video: Sign for CLOSET from page 25\n",
      "Video extracted successfully to africa Africa(2)\n",
      "Processed video: Africa(2)\n",
      "Updated checkpoint with video: Africa(2)\n",
      "Video extracted successfully to birthday ASL Birthday  \n",
      "Processed video: ASL Birthday  \n",
      "Updated checkpoint with video: ASL Birthday  \n",
      "Video extracted successfully to major MAJOR-(main line of work)\n",
      "Processed video: MAJOR-(main line of work)\n",
      "Updated checkpoint with video: MAJOR-(main line of work)\n",
      "Video extracted successfully to together together\n",
      "Processed video: together\n",
      "Updated checkpoint with video: together\n",
      "Video extracted successfully to together together\n",
      "Processed video: together\n",
      "Updated checkpoint with video: together\n",
      "Video extracted successfully to together together\n",
      "Processed video: together\n",
      "Updated checkpoint with video: together\n",
      "Video extracted successfully to born BORN\n",
      "Processed video: BORN\n",
      "Updated checkpoint with video: BORN\n"
     ]
    },
    {
     "name": "stderr",
     "output_type": "stream",
     "text": [
      "ERROR: [youtube] Ktj1sbN3Gpk: Private video. Sign in if you've been granted access to this video\n"
     ]
    },
    {
     "name": "stdout",
     "output_type": "stream",
     "text": [
      "Error downloading www.youtube.com/watch?v=Ktj1sbN3Gpk: ERROR: [youtube] Ktj1sbN3Gpk: Private video. Sign in if you've been granted access to this video\n",
      "Processed video: SignSchool partner couple\n",
      "Updated checkpoint with video: SignSchool partner couple\n",
      "Video extracted successfully to play play\n",
      "Processed video: play\n",
      "Updated checkpoint with video: play\n",
      "Video extracted successfully to door DOOR(2)\n",
      "Processed video: DOOR(2)\n",
      "Updated checkpoint with video: DOOR(2)\n",
      "Video extracted successfully to breakfast ASL Vocabulary Breakfast\n",
      "Processed video: ASL Vocabulary Breakfast\n",
      "Updated checkpoint with video: ASL Vocabulary Breakfast\n",
      "Video extracted successfully to education Education\n",
      "Processed video: Education\n",
      "Updated checkpoint with video: Education\n",
      "Video extracted successfully to education Education\n",
      "Processed video: Education\n",
      "Updated checkpoint with video: Education\n",
      "Video extracted successfully to children ASL Children \n",
      "Processed video: ASL Children \n",
      "Updated checkpoint with video: ASL Children \n"
     ]
    },
    {
     "name": "stderr",
     "output_type": "stream",
     "text": [
      "ERROR: [youtube] X1xl_EXNYuE: Private video. Sign in if you've been granted access to this video\n"
     ]
    },
    {
     "name": "stdout",
     "output_type": "stream",
     "text": [
      "Error downloading www.youtube.com/watch?v=X1xl_EXNYuE: ERROR: [youtube] X1xl_EXNYuE: Private video. Sign in if you've been granted access to this video\n",
      "Processed video: SignSchool Hour\n",
      "Updated checkpoint with video: SignSchool Hour\n"
     ]
    },
    {
     "name": "stderr",
     "output_type": "stream",
     "text": [
      "ERROR: [youtube] B4m86DSrWs8: Video unavailable\n"
     ]
    },
    {
     "name": "stdout",
     "output_type": "stream",
     "text": [
      "Error downloading www.youtube.com/watch?v=B4m86DSrWs8: ERROR: [youtube] B4m86DSrWs8: Video unavailable\n",
      "Processed video: Baby Sign Language Fine\n",
      "Updated checkpoint with video: Baby Sign Language Fine\n",
      "Video extracted successfully to now NOW(3)\n",
      "Processed video: NOW(3)\n",
      "Updated checkpoint with video: NOW(3)\n"
     ]
    },
    {
     "name": "stderr",
     "output_type": "stream",
     "text": [
      "ERROR: [youtube] AQm9sNosiHY: Video unavailable\n"
     ]
    },
    {
     "name": "stdout",
     "output_type": "stream",
     "text": [
      "Error downloading https://www.youtube.com/watch?v=AQm9sNosiHY: ERROR: [youtube] AQm9sNosiHY: Video unavailable\n",
      "Processed video: ASL Vocabulary store\n",
      "Updated checkpoint with video: ASL Vocabulary store\n"
     ]
    },
    {
     "name": "stderr",
     "output_type": "stream",
     "text": [
      "ERROR: [youtube] AQm9sNosiHY: Video unavailable\n"
     ]
    },
    {
     "name": "stdout",
     "output_type": "stream",
     "text": [
      "Error downloading https://www.youtube.com/watch?v=AQm9sNosiHY: ERROR: [youtube] AQm9sNosiHY: Video unavailable\n",
      "Processed video: ASL Vocabulary store\n",
      "Updated checkpoint with video: ASL Vocabulary store\n",
      "Video extracted successfully to marry MARRY(1)\n",
      "Processed video: MARRY(1)\n",
      "Updated checkpoint with video: MARRY(1)\n",
      "Video extracted successfully to lamp LAMP\n",
      "Processed video: LAMP\n",
      "Updated checkpoint with video: LAMP\n",
      "Video extracted successfully to daughter DAUGHTER (alternative)\n",
      "Processed video: DAUGHTER (alternative)\n",
      "Updated checkpoint with video: DAUGHTER (alternative)\n",
      "Video extracted successfully to for FOR(2)\n",
      "Processed video: FOR(2)\n",
      "Updated checkpoint with video: FOR(2)\n"
     ]
    },
    {
     "name": "stderr",
     "output_type": "stream",
     "text": [
      "ERROR: [youtube] Kg0VRsnehgQ: Private video. Sign in if you've been granted access to this video\n"
     ]
    },
    {
     "name": "stdout",
     "output_type": "stream",
     "text": [
      "Error downloading www.youtube.com/watch?v=Kg0VRsnehgQ: ERROR: [youtube] Kg0VRsnehgQ: Private video. Sign in if you've been granted access to this video\n",
      "Processed video: SignSchool Yes\n",
      "Updated checkpoint with video: SignSchool Yes\n",
      "Video extracted successfully to last year last-YEAR-1-handed-shoulder-version\n",
      "Processed video: last-YEAR-1-handed-shoulder-version\n",
      "Updated checkpoint with video: last-YEAR-1-handed-shoulder-version\n",
      "Video extracted successfully to cook COOK(5)\n",
      "Processed video: COOK(5)\n",
      "Updated checkpoint with video: COOK(5)\n",
      "Video extracted successfully to black black - ASL sign for black\n",
      "Processed video: black - ASL sign for black\n",
      "Updated checkpoint with video: black - ASL sign for black\n",
      "Video extracted successfully to black black - ASL sign for black\n",
      "Processed video: black - ASL sign for black\n",
      "Updated checkpoint with video: black - ASL sign for black\n"
     ]
    },
    {
     "name": "stderr",
     "output_type": "stream",
     "text": [
      "ERROR: [youtube] pT7QlL49A2M: Video unavailable\n"
     ]
    },
    {
     "name": "stdout",
     "output_type": "stream",
     "text": [
      "Error downloading www.youtube.com/watch?v=pT7QlL49A2M: ERROR: [youtube] pT7QlL49A2M: Video unavailable\n",
      "Processed video: grey\n",
      "Updated checkpoint with video: grey\n"
     ]
    },
    {
     "name": "stderr",
     "output_type": "stream",
     "text": [
      "ERROR: [youtube] F2NsgO4tj5E: Private video. Sign in if you've been granted access to this video\n"
     ]
    },
    {
     "name": "stdout",
     "output_type": "stream",
     "text": [
      "Error downloading www.youtube.com/watch?v=F2NsgO4tj5E: ERROR: [youtube] F2NsgO4tj5E: Private video. Sign in if you've been granted access to this video\n",
      "Processed video: SignSchool Jewish Israel\n",
      "Updated checkpoint with video: SignSchool Jewish Israel\n",
      "Video extracted successfully to door Door\n",
      "Processed video: Door\n",
      "Updated checkpoint with video: Door\n",
      "Video extracted successfully to kiss ASL Kiss \n",
      "Processed video: ASL Kiss \n",
      "Updated checkpoint with video: ASL Kiss \n",
      "Video extracted successfully to dry ASL Dry \n",
      "Processed video: ASL Dry \n",
      "Updated checkpoint with video: ASL Dry \n",
      "Video extracted successfully to soap ASL Soap \n",
      "Processed video: ASL Soap \n",
      "Updated checkpoint with video: ASL Soap \n"
     ]
    },
    {
     "name": "stderr",
     "output_type": "stream",
     "text": [
      "ERROR: [youtube] i5ETtfqlUg0: Video unavailable\n"
     ]
    },
    {
     "name": "stdout",
     "output_type": "stream",
     "text": [
      "Error downloading www.youtube.com/watch?v=i5ETtfqlUg0: ERROR: [youtube] i5ETtfqlUg0: Video unavailable\n",
      "Processed video: hit\n",
      "Updated checkpoint with video: hit\n"
     ]
    },
    {
     "name": "stderr",
     "output_type": "stream",
     "text": [
      "ERROR: [youtube] h8dstbX5kN0: Video unavailable\n"
     ]
    },
    {
     "name": "stdout",
     "output_type": "stream",
     "text": [
      "Error downloading www.youtube.com/watch?v=h8dstbX5kN0: ERROR: [youtube] h8dstbX5kN0: Video unavailable\n",
      "Processed video: Baby Sign Language Yes\n",
      "Updated checkpoint with video: Baby Sign Language Yes\n",
      "Video extracted successfully to today today\n",
      "Processed video: today\n",
      "Updated checkpoint with video: today\n",
      "Video extracted successfully to today today\n",
      "Processed video: today\n",
      "Updated checkpoint with video: today\n",
      "Video extracted successfully to today today\n",
      "Processed video: today\n",
      "Updated checkpoint with video: today\n",
      "Video extracted successfully to sweep Sign for BROOM from page 29\n",
      "Processed video: Sign for BROOM from page 29\n",
      "Updated checkpoint with video: Sign for BROOM from page 29\n",
      "Video extracted successfully to noon Noon\n",
      "Processed video: Noon\n",
      "Updated checkpoint with video: Noon\n"
     ]
    },
    {
     "name": "stderr",
     "output_type": "stream",
     "text": [
      "ERROR: [youtube] _OgLfGX2hSU: Video unavailable\n"
     ]
    },
    {
     "name": "stdout",
     "output_type": "stream",
     "text": [
      "Error downloading www.youtube.com/watch?v=_OgLfGX2hSU: ERROR: [youtube] _OgLfGX2hSU: Video unavailable\n",
      "Processed video: snake 2\n",
      "Updated checkpoint with video: snake 2\n",
      "Video extracted successfully to glass GLASS tooth-version\n",
      "Processed video: GLASS tooth-version\n",
      "Updated checkpoint with video: GLASS tooth-version\n",
      "Video extracted successfully to hour HOUR\n",
      "Processed video: HOUR\n",
      "Updated checkpoint with video: HOUR\n",
      "Video extracted successfully to first ASL First \n",
      "Processed video: ASL First \n",
      "Updated checkpoint with video: ASL First \n",
      "Video extracted successfully to student student in American Sign Language\n",
      "Processed video: student in American Sign Language\n",
      "Updated checkpoint with video: student in American Sign Language\n",
      "Video extracted successfully to believe BELIEVE\n",
      "Processed video: BELIEVE\n",
      "Updated checkpoint with video: BELIEVE\n",
      "Video extracted successfully to perfect PERFECT exactly-rightprecisely\n",
      "Processed video: PERFECT exactly-rightprecisely\n",
      "Updated checkpoint with video: PERFECT exactly-rightprecisely\n",
      "Video extracted successfully to vacation holiday VACATION\n",
      "Processed video: holiday VACATION\n",
      "Updated checkpoint with video: holiday VACATION\n",
      "Video extracted successfully to dizzy Dizzy - ASL sign for Dizzy\n",
      "Processed video: Dizzy - ASL sign for Dizzy\n",
      "Updated checkpoint with video: Dizzy - ASL sign for Dizzy\n",
      "Video extracted successfully to dizzy Dizzy - ASL sign for Dizzy\n",
      "Processed video: Dizzy - ASL sign for Dizzy\n",
      "Updated checkpoint with video: Dizzy - ASL sign for Dizzy\n",
      "Video extracted successfully to dizzy Dizzy - ASL sign for Dizzy\n",
      "Processed video: Dizzy - ASL sign for Dizzy\n",
      "Updated checkpoint with video: Dizzy - ASL sign for Dizzy\n",
      "Video extracted successfully to ask Mastering ASL Unit 2 Vocabulary signed by Dr Wooten\n",
      "Processed video: Mastering ASL Unit 2 Vocabulary signed by Dr Wooten\n",
      "Updated checkpoint with video: Mastering ASL Unit 2 Vocabulary signed by Dr Wooten\n",
      "Video extracted successfully to tuesday ASL Tuesday \n",
      "Processed video: ASL Tuesday \n",
      "Updated checkpoint with video: ASL Tuesday \n",
      "Video extracted successfully to jacket COAT\n",
      "Processed video: COAT\n",
      "Updated checkpoint with video: COAT\n",
      "Video extracted successfully to important essential-cant-without\n",
      "Processed video: essential-cant-without\n",
      "Updated checkpoint with video: essential-cant-without\n",
      "Video extracted successfully to backpack Next Words School Items in ASL with captions\n",
      "Processed video: Next Words School Items in ASL with captions\n",
      "Updated checkpoint with video: Next Words School Items in ASL with captions\n",
      "Video extracted successfully to table Next Words School Items in ASL with captions\n",
      "Processed video: Next Words School Items in ASL with captions\n",
      "Updated checkpoint with video: Next Words School Items in ASL with captions\n",
      "Video extracted successfully to school Next Words School Items in ASL with captions\n",
      "Processed video: Next Words School Items in ASL with captions\n",
      "Updated checkpoint with video: Next Words School Items in ASL with captions\n",
      "Video extracted successfully to tape Next Words School Items in ASL with captions\n",
      "Processed video: Next Words School Items in ASL with captions\n",
      "Updated checkpoint with video: Next Words School Items in ASL with captions\n",
      "Video extracted successfully to sweetheart ASL Sweetheart \n",
      "Processed video: ASL Sweetheart \n",
      "Updated checkpoint with video: ASL Sweetheart \n"
     ]
    },
    {
     "name": "stderr",
     "output_type": "stream",
     "text": [
      "ERROR: [youtube] iqiNVwU6PT4: Video unavailable\n"
     ]
    },
    {
     "name": "stdout",
     "output_type": "stream",
     "text": [
      "Error downloading www.youtube.com/watch?v=iqiNVwU6PT4: ERROR: [youtube] iqiNVwU6PT4: Video unavailable\n",
      "Processed video: Baby Sign Language Lion\n",
      "Updated checkpoint with video: Baby Sign Language Lion\n",
      "Video extracted successfully to stubborn STUBBORN (determined)\n",
      "Processed video: STUBBORN (determined)\n",
      "Updated checkpoint with video: STUBBORN (determined)\n"
     ]
    },
    {
     "name": "stderr",
     "output_type": "stream",
     "text": [
      "ERROR: [youtube] OsSj-kl579A: Video unavailable\n"
     ]
    },
    {
     "name": "stdout",
     "output_type": "stream",
     "text": [
      "Error downloading https://www.youtube.com/watch?v=OsSj-kl579A: ERROR: [youtube] OsSj-kl579A: Video unavailable\n",
      "Processed video: ASL Vocabulary black\n",
      "Updated checkpoint with video: ASL Vocabulary black\n"
     ]
    },
    {
     "name": "stderr",
     "output_type": "stream",
     "text": [
      "ERROR: [youtube] vI_EiEt5Yg0: Video unavailable\n"
     ]
    },
    {
     "name": "stdout",
     "output_type": "stream",
     "text": [
      "Error downloading www.youtube.com/watch?v=vI_EiEt5Yg0: ERROR: [youtube] vI_EiEt5Yg0: Video unavailable\n",
      "Processed video: grey 3\n",
      "Updated checkpoint with video: grey 3\n",
      "Video extracted successfully to south SOUTH\n",
      "Processed video: SOUTH\n",
      "Updated checkpoint with video: SOUTH\n",
      "Video extracted successfully to happy ASL Happy \n",
      "Processed video: ASL Happy \n",
      "Updated checkpoint with video: ASL Happy \n",
      "Video extracted successfully to tell TELL-tell-to\n",
      "Processed video: TELL-tell-to\n",
      "Updated checkpoint with video: TELL-tell-to\n",
      "Video extracted successfully to divorce DIVORCE(2)\n",
      "Processed video: DIVORCE(2)\n",
      "Updated checkpoint with video: DIVORCE(2)\n",
      "Video extracted successfully to inform INFORM  let-you-know  obey  obedience\n",
      "Processed video: INFORM  let-you-know  obey  obedience\n",
      "Updated checkpoint with video: INFORM  let-you-know  obey  obedience\n"
     ]
    },
    {
     "name": "stderr",
     "output_type": "stream",
     "text": [
      "ERROR: [youtube] 1FXdQN-cDEQ: Video unavailable\n"
     ]
    },
    {
     "name": "stdout",
     "output_type": "stream",
     "text": [
      "Error downloading www.youtube.com/watch?v=1FXdQN-cDEQ: ERROR: [youtube] 1FXdQN-cDEQ: Video unavailable\n",
      "Processed video: Baby Sign Language Clock\n",
      "Updated checkpoint with video: Baby Sign Language Clock\n",
      "Video extracted successfully to table Sign for DESK from page 25\n",
      "Processed video: Sign for DESK from page 25\n",
      "Updated checkpoint with video: Sign for DESK from page 25\n",
      "Video extracted successfully to man ASL Male \n",
      "Processed video: ASL Male \n",
      "Updated checkpoint with video: ASL Male \n",
      "Video extracted successfully to clock CLOCK TIME  CL L-curved  large round object\n",
      "Processed video: CLOCK TIME  CL L-curved  large round object\n",
      "Updated checkpoint with video: CLOCK TIME  CL L-curved  large round object\n",
      "Video extracted successfully to friend ASL Friend \n",
      "Processed video: ASL Friend \n",
      "Updated checkpoint with video: ASL Friend \n"
     ]
    },
    {
     "name": "stderr",
     "output_type": "stream",
     "text": [
      "ERROR: [youtube] L4LehRcpqdU: Video unavailable\n"
     ]
    },
    {
     "name": "stdout",
     "output_type": "stream",
     "text": [
      "Error downloading https://www.youtube.com/watch?v=L4LehRcpqdU: ERROR: [youtube] L4LehRcpqdU: Video unavailable\n",
      "Processed video: VACATION\n",
      "Updated checkpoint with video: VACATION\n",
      "Video extracted successfully to goat goat(1)\n",
      "Processed video: goat(1)\n",
      "Updated checkpoint with video: goat(1)\n",
      "Video extracted successfully to wife ASL Wife \n",
      "Processed video: ASL Wife \n",
      "Updated checkpoint with video: ASL Wife \n",
      "Video extracted successfully to train train - ASL sign for train\n",
      "Processed video: train - ASL sign for train\n",
      "Updated checkpoint with video: train - ASL sign for train\n",
      "Video extracted successfully to train train - ASL sign for train\n",
      "Processed video: train - ASL sign for train\n",
      "Updated checkpoint with video: train - ASL sign for train\n"
     ]
    },
    {
     "name": "stderr",
     "output_type": "stream",
     "text": [
      "ERROR: [youtube] OQU_4_iw0vU: Video unavailable\n"
     ]
    },
    {
     "name": "stdout",
     "output_type": "stream",
     "text": [
      "Error downloading https://www.youtube.com/watch?v=OQU_4_iw0vU: ERROR: [youtube] OQU_4_iw0vU: Video unavailable\n",
      "Processed video: HUSBAND\n",
      "Updated checkpoint with video: HUSBAND\n",
      "Video extracted successfully to west WEST\n",
      "Processed video: WEST\n",
      "Updated checkpoint with video: WEST\n",
      "Video extracted successfully to lion lion - ASL sign for lion\n",
      "Processed video: lion - ASL sign for lion\n",
      "Updated checkpoint with video: lion - ASL sign for lion\n",
      "Video extracted successfully to lion lion - ASL sign for lion\n",
      "Processed video: lion - ASL sign for lion\n",
      "Updated checkpoint with video: lion - ASL sign for lion\n"
     ]
    },
    {
     "name": "stderr",
     "output_type": "stream",
     "text": [
      "ERROR: [youtube] THnAOsOMHWY: Video unavailable\n"
     ]
    },
    {
     "name": "stdout",
     "output_type": "stream",
     "text": [
      "Error downloading www.youtube.com/watch?v=THnAOsOMHWY: ERROR: [youtube] THnAOsOMHWY: Video unavailable\n",
      "Processed video: Baby Sign Language Bath\n",
      "Updated checkpoint with video: Baby Sign Language Bath\n",
      "Video extracted successfully to moon MOON-modified-C-hand-version\n",
      "Processed video: MOON-modified-C-hand-version\n",
      "Updated checkpoint with video: MOON-modified-C-hand-version\n",
      "Video extracted successfully to door ASL Door \n",
      "Processed video: ASL Door \n",
      "Updated checkpoint with video: ASL Door \n",
      "Video extracted successfully to firefighter ASL Fire Fighters  \n",
      "Processed video: ASL Fire Fighters  \n",
      "Updated checkpoint with video: ASL Fire Fighters  \n"
     ]
    },
    {
     "name": "stderr",
     "output_type": "stream",
     "text": [
      "ERROR: [youtube] TDhhoTi9lX8: Video unavailable\n"
     ]
    },
    {
     "name": "stdout",
     "output_type": "stream",
     "text": [
      "Error downloading https://www.youtube.com/watch?v=TDhhoTi9lX8: ERROR: [youtube] TDhhoTi9lX8: Video unavailable\n",
      "Processed video: Baby Sign Language Coat\n",
      "Updated checkpoint with video: Baby Sign Language Coat\n",
      "Video extracted successfully to microwave MICROWAVE(1)\n",
      "Processed video: MICROWAVE(1)\n",
      "Updated checkpoint with video: MICROWAVE(1)\n",
      "Video extracted successfully to busy ASL Busy \n",
      "Processed video: ASL Busy \n",
      "Updated checkpoint with video: ASL Busy \n"
     ]
    },
    {
     "name": "stderr",
     "output_type": "stream",
     "text": [
      "ERROR: [youtube] mvsD8WLTMZA: Video unavailable\n"
     ]
    },
    {
     "name": "stdout",
     "output_type": "stream",
     "text": [
      "Error downloading www.youtube.com/watch?v=mvsD8WLTMZA: ERROR: [youtube] mvsD8WLTMZA: Video unavailable\n",
      "Processed video: Baby Sign Language Christmas\n",
      "Updated checkpoint with video: Baby Sign Language Christmas\n",
      "Video extracted successfully to salad ASL Salad \n",
      "Processed video: ASL Salad \n",
      "Updated checkpoint with video: ASL Salad \n",
      "Video extracted successfully to draw ASL Draw \n",
      "Processed video: ASL Draw \n",
      "Updated checkpoint with video: ASL Draw \n",
      "Video extracted successfully to inform INFORM\n",
      "Processed video: INFORM\n",
      "Updated checkpoint with video: INFORM\n",
      "Video extracted successfully to juice ASL Juice \n",
      "Processed video: ASL Juice \n",
      "Updated checkpoint with video: ASL Juice \n",
      "Video extracted successfully to yes YES(3)\n",
      "Processed video: YES(3)\n",
      "Updated checkpoint with video: YES(3)\n",
      "Video extracted successfully to radio Radio\n",
      "Processed video: Radio\n",
      "Updated checkpoint with video: Radio\n",
      "Video extracted successfully to radio Radio\n",
      "Processed video: Radio\n",
      "Updated checkpoint with video: Radio\n",
      "Video extracted successfully to hour ASL Vocabulary hour\n",
      "Processed video: ASL Vocabulary hour\n",
      "Updated checkpoint with video: ASL Vocabulary hour\n",
      "Video extracted successfully to hour ASL Vocabulary hour\n",
      "Processed video: ASL Vocabulary hour\n",
      "Updated checkpoint with video: ASL Vocabulary hour\n"
     ]
    },
    {
     "name": "stderr",
     "output_type": "stream",
     "text": [
      "ERROR: [youtube] 3rurYLE33MI: Video unavailable\n"
     ]
    },
    {
     "name": "stdout",
     "output_type": "stream",
     "text": [
      "Error downloading https://www.youtube.com/watch?v=3rurYLE33MI: ERROR: [youtube] 3rurYLE33MI: Video unavailable\n",
      "Processed video: ASL Vocabulary eatfood\n",
      "Updated checkpoint with video: ASL Vocabulary eatfood\n",
      "Video extracted successfully to yes yes in American Sign Language\n",
      "Processed video: yes in American Sign Language\n",
      "Updated checkpoint with video: yes in American Sign Language\n",
      "Video extracted successfully to marry MARRIAGE\n",
      "Processed video: MARRIAGE\n",
      "Updated checkpoint with video: MARRIAGE\n"
     ]
    },
    {
     "name": "stderr",
     "output_type": "stream",
     "text": [
      "ERROR: [youtube] zsr1zUDY3Ok: Private video. Sign in if you've been granted access to this video\n"
     ]
    },
    {
     "name": "stdout",
     "output_type": "stream",
     "text": [
      "Error downloading www.youtube.com/watch?v=zsr1zUDY3Ok: ERROR: [youtube] zsr1zUDY3Ok: Private video. Sign in if you've been granted access to this video\n",
      "Processed video: SignSchool Thanksgiving Grateful\n",
      "Updated checkpoint with video: SignSchool Thanksgiving Grateful\n"
     ]
    },
    {
     "name": "stderr",
     "output_type": "stream",
     "text": [
      "ERROR: [youtube] 1setR0hZOx8: Private video. Sign in if you've been granted access to this video\n"
     ]
    },
    {
     "name": "stdout",
     "output_type": "stream",
     "text": [
      "Error downloading www.youtube.com/watch?v=1setR0hZOx8: ERROR: [youtube] 1setR0hZOx8: Private video. Sign in if you've been granted access to this video\n",
      "Processed video: SignSchool The Netherlands 2\n",
      "Updated checkpoint with video: SignSchool The Netherlands 2\n",
      "Video extracted successfully to challenge CHALLENGE\n",
      "Processed video: CHALLENGE\n",
      "Updated checkpoint with video: CHALLENGE\n",
      "Video extracted successfully to shoes SHOES\n",
      "Processed video: SHOES\n",
      "Updated checkpoint with video: SHOES\n",
      "Video extracted successfully to family Family\n",
      "Processed video: Family\n",
      "Updated checkpoint with video: Family\n",
      "Video extracted successfully to pizza PIZZA-modified-indexthumb-version\n",
      "Processed video: PIZZA-modified-indexthumb-version\n",
      "Updated checkpoint with video: PIZZA-modified-indexthumb-version\n",
      "Video extracted successfully to shoes shoes\n",
      "Processed video: shoes\n",
      "Updated checkpoint with video: shoes\n",
      "Video extracted successfully to shark ASL Shark \n",
      "Processed video: ASL Shark \n",
      "Updated checkpoint with video: ASL Shark \n",
      "Video extracted successfully to innocent innocent\n",
      "Processed video: innocent\n",
      "Updated checkpoint with video: innocent\n",
      "Video extracted successfully to so SO-SO(1)\n",
      "Processed video: SO-SO(1)\n",
      "Updated checkpoint with video: SO-SO(1)\n"
     ]
    },
    {
     "name": "stderr",
     "output_type": "stream",
     "text": [
      "ERROR: [youtube] 8gvNBh-5RzU: Video unavailable\n"
     ]
    },
    {
     "name": "stdout",
     "output_type": "stream",
     "text": [
      "Error downloading www.youtube.com/watch?v=8gvNBh-5RzU: ERROR: [youtube] 8gvNBh-5RzU: Video unavailable\n",
      "Processed video: monkey\n",
      "Updated checkpoint with video: monkey\n"
     ]
    },
    {
     "name": "stderr",
     "output_type": "stream",
     "text": [
      "ERROR: [youtube] WeVfGjRYpRE: Private video. Sign in if you've been granted access to this video\n"
     ]
    },
    {
     "name": "stdout",
     "output_type": "stream",
     "text": [
      "Error downloading www.youtube.com/watch?v=WeVfGjRYpRE: ERROR: [youtube] WeVfGjRYpRE: Private video. Sign in if you've been granted access to this video\n",
      "Processed video: SignSchool Israel 2\n",
      "Updated checkpoint with video: SignSchool Israel 2\n"
     ]
    },
    {
     "name": "stderr",
     "output_type": "stream",
     "text": [
      "ERROR: [youtube] 8tDdpDqZ1tY: Private video. Sign in if you've been granted access to this video\n"
     ]
    },
    {
     "name": "stdout",
     "output_type": "stream",
     "text": [
      "Error downloading www.youtube.com/watch?v=8tDdpDqZ1tY: ERROR: [youtube] 8tDdpDqZ1tY: Private video. Sign in if you've been granted access to this video\n",
      "Processed video: SignSchool soon\n",
      "Updated checkpoint with video: SignSchool soon\n",
      "Video extracted successfully to around APPROXIMATELY-around about\n",
      "Processed video: APPROXIMATELY-around about\n",
      "Updated checkpoint with video: APPROXIMATELY-around about\n",
      "Video extracted successfully to austria AUSTRIA\n",
      "Processed video: AUSTRIA\n",
      "Updated checkpoint with video: AUSTRIA\n",
      "Video extracted successfully to practice ASL Practice \n",
      "Processed video: ASL Practice \n",
      "Updated checkpoint with video: ASL Practice \n",
      "Video extracted successfully to fun ASL Fun \n",
      "Processed video: ASL Fun \n",
      "Updated checkpoint with video: ASL Fun \n",
      "Video extracted successfully to building ASL Building \n",
      "Processed video: ASL Building \n",
      "Updated checkpoint with video: ASL Building \n",
      "Video extracted successfully to visit visit(1)\n",
      "Processed video: visit(1)\n",
      "Updated checkpoint with video: visit(1)\n",
      "Video extracted successfully to breakfast Breakfast  - Asl\n",
      "Processed video: Breakfast  - Asl\n",
      "Updated checkpoint with video: Breakfast  - Asl\n"
     ]
    },
    {
     "name": "stderr",
     "output_type": "stream",
     "text": [
      "ERROR: [youtube] 7B2Vg4sl7B8: Video unavailable\n"
     ]
    },
    {
     "name": "stdout",
     "output_type": "stream",
     "text": [
      "Error downloading www.youtube.com/watch?v=7B2Vg4sl7B8: ERROR: [youtube] 7B2Vg4sl7B8: Video unavailable\n",
      "Processed video: mouse\n",
      "Updated checkpoint with video: mouse\n"
     ]
    },
    {
     "name": "stderr",
     "output_type": "stream",
     "text": [
      "ERROR: [youtube] XBjyvy4ASgc: Video unavailable\n"
     ]
    },
    {
     "name": "stdout",
     "output_type": "stream",
     "text": [
      "Error downloading www.youtube.com/watch?v=XBjyvy4ASgc: ERROR: [youtube] XBjyvy4ASgc: Video unavailable\n",
      "Processed video: Baby Sign Language Black\n",
      "Updated checkpoint with video: Baby Sign Language Black\n",
      "Video extracted successfully to afternoon ASL Afternoon  \n",
      "Processed video: ASL Afternoon  \n",
      "Updated checkpoint with video: ASL Afternoon  \n"
     ]
    },
    {
     "name": "stderr",
     "output_type": "stream",
     "text": [
      "ERROR: [youtube] 0qij0e7-5Ak: Private video. Sign in if you've been granted access to this video\n"
     ]
    },
    {
     "name": "stdout",
     "output_type": "stream",
     "text": [
      "Error downloading www.youtube.com/watch?v=0qij0e7-5Ak: ERROR: [youtube] 0qij0e7-5Ak: Private video. Sign in if you've been granted access to this video\n",
      "Processed video: SignSchool Need\n",
      "Updated checkpoint with video: SignSchool Need\n",
      "Video extracted successfully to vacation VACATION(2)\n",
      "Processed video: VACATION(2)\n",
      "Updated checkpoint with video: VACATION(2)\n",
      "Video extracted successfully to how_many How to sign How Much  How Many - ASL Vocabulary Series\n",
      "Processed video: How to sign How Much  How Many - ASL Vocabulary Series\n",
      "Updated checkpoint with video: How to sign How Much  How Many - ASL Vocabulary Series\n"
     ]
    },
    {
     "name": "stderr",
     "output_type": "stream",
     "text": [
      "ERROR: [youtube] f-uHnbirGvc: Video unavailable\n"
     ]
    },
    {
     "name": "stdout",
     "output_type": "stream",
     "text": [
      "Error downloading www.youtube.com/watch?v=f-uHnbirGvc: ERROR: [youtube] f-uHnbirGvc: Video unavailable\n",
      "Processed video: Baby Sign Language Play\n",
      "Updated checkpoint with video: Baby Sign Language Play\n"
     ]
    },
    {
     "name": "stderr",
     "output_type": "stream",
     "text": [
      "ERROR: [youtube] g8Yep9NCmfc: Video unavailable\n"
     ]
    },
    {
     "name": "stdout",
     "output_type": "stream",
     "text": [
      "Error downloading https://www.youtube.com/watch?v=g8Yep9NCmfc: ERROR: [youtube] g8Yep9NCmfc: Video unavailable\n",
      "Processed video: Baby Sign Language In\n",
      "Updated checkpoint with video: Baby Sign Language In\n",
      "Video extracted successfully to cook Cook(1)\n",
      "Processed video: Cook(1)\n",
      "Updated checkpoint with video: Cook(1)\n",
      "Video extracted successfully to love ASL Love \n",
      "Processed video: ASL Love \n",
      "Updated checkpoint with video: ASL Love \n",
      "Video extracted successfully to vacation VACATION-time-off-extended-break-from-working-version-of-retire-off-work\n",
      "Processed video: VACATION-time-off-extended-break-from-working-version-of-retire-off-work\n",
      "Updated checkpoint with video: VACATION-time-off-extended-break-from-working-version-of-retire-off-work\n",
      "Video extracted successfully to lake Lake\n",
      "Processed video: Lake\n",
      "Updated checkpoint with video: Lake\n",
      "Video extracted successfully to lake Lake\n",
      "Processed video: Lake\n",
      "Updated checkpoint with video: Lake\n",
      "Video extracted successfully to family Sign FAMILY\n",
      "Processed video: Sign FAMILY\n",
      "Updated checkpoint with video: Sign FAMILY\n",
      "Video extracted successfully to learn LEARN\n",
      "Processed video: LEARN\n",
      "Updated checkpoint with video: LEARN\n",
      "Video extracted successfully to happy HAPPY(1)\n",
      "Processed video: HAPPY(1)\n",
      "Updated checkpoint with video: HAPPY(1)\n",
      "Video extracted successfully to table TABLE(3)\n",
      "Processed video: TABLE(3)\n",
      "Updated checkpoint with video: TABLE(3)\n",
      "Video extracted successfully to hi ASL Hi  \n",
      "Processed video: ASL Hi  \n",
      "Updated checkpoint with video: ASL Hi  \n",
      "Video extracted successfully to now NOW-1-movement\n",
      "Processed video: NOW-1-movement\n",
      "Updated checkpoint with video: NOW-1-movement\n",
      "Video extracted successfully to train Train - Asl\n",
      "Processed video: Train - Asl\n",
      "Updated checkpoint with video: Train - Asl\n",
      "Video extracted successfully to fine FINE(2)\n",
      "Processed video: FINE(2)\n",
      "Updated checkpoint with video: FINE(2)\n",
      "Video extracted successfully to expensive ASL Expensive \n",
      "Processed video: ASL Expensive \n",
      "Updated checkpoint with video: ASL Expensive \n",
      "Video extracted successfully to marry Sign MARRIED\n",
      "Processed video: Sign MARRIED\n",
      "Updated checkpoint with video: Sign MARRIED\n",
      "Video extracted successfully to ball ball - ASL sign for ball\n",
      "Processed video: ball - ASL sign for ball\n",
      "Updated checkpoint with video: ball - ASL sign for ball\n",
      "Video extracted successfully to ball ball - ASL sign for ball\n",
      "Processed video: ball - ASL sign for ball\n",
      "Updated checkpoint with video: ball - ASL sign for ball\n",
      "Video extracted successfully to example ASL Example \n",
      "Processed video: ASL Example \n",
      "Updated checkpoint with video: ASL Example \n",
      "Video extracted successfully to month ASL Month \n",
      "Processed video: ASL Month \n",
      "Updated checkpoint with video: ASL Month \n",
      "Video extracted successfully to how_many How Many How Much\n",
      "Processed video: How Many How Much\n",
      "Updated checkpoint with video: How Many How Much\n",
      "Video extracted successfully to all ASL All \n",
      "Processed video: ASL All \n",
      "Updated checkpoint with video: ASL All \n",
      "Video extracted successfully to cherry CHERRY(1)\n",
      "Processed video: CHERRY(1)\n",
      "Updated checkpoint with video: CHERRY(1)\n",
      "Video extracted successfully to store Store\n",
      "Processed video: Store\n",
      "Updated checkpoint with video: Store\n",
      "Video extracted successfully to hour How to sign Hour - ASL Vocabulary Series\n",
      "Processed video: How to sign Hour - ASL Vocabulary Series\n",
      "Updated checkpoint with video: How to sign Hour - ASL Vocabulary Series\n"
     ]
    },
    {
     "name": "stderr",
     "output_type": "stream",
     "text": [
      "ERROR: [youtube] 1Je2985kjxg: Video unavailable\n"
     ]
    },
    {
     "name": "stdout",
     "output_type": "stream",
     "text": [
      "Error downloading www.youtube.com/watch?v=1Je2985kjxg: ERROR: [youtube] 1Je2985kjxg: Video unavailable\n",
      "Processed video: Baby Sign Language Ball\n",
      "Updated checkpoint with video: Baby Sign Language Ball\n",
      "Video extracted successfully to bath bath - ASL sign for bath\n",
      "Processed video: bath - ASL sign for bath\n",
      "Updated checkpoint with video: bath - ASL sign for bath\n",
      "Video extracted successfully to bath bath - ASL sign for bath\n",
      "Processed video: bath - ASL sign for bath\n",
      "Updated checkpoint with video: bath - ASL sign for bath\n",
      "Video extracted successfully to frog ASL Frog  \n",
      "Processed video: ASL Frog  \n",
      "Updated checkpoint with video: ASL Frog  \n"
     ]
    },
    {
     "name": "stderr",
     "output_type": "stream",
     "text": [
      "ERROR: [youtube] UDfmYUTxGl0: Video unavailable\n"
     ]
    },
    {
     "name": "stdout",
     "output_type": "stream",
     "text": [
      "Error downloading www.youtube.com/watch?v=UDfmYUTxGl0: ERROR: [youtube] UDfmYUTxGl0: Video unavailable\n",
      "Processed video: Baby Sign Language Play(1)\n",
      "Updated checkpoint with video: Baby Sign Language Play(1)\n"
     ]
    },
    {
     "name": "stderr",
     "output_type": "stream",
     "text": [
      "ERROR: [youtube] ObGIlV72tog: Private video. Sign in if you've been granted access to this video\n"
     ]
    },
    {
     "name": "stdout",
     "output_type": "stream",
     "text": [
      "Error downloading www.youtube.com/watch?v=ObGIlV72tog: ERROR: [youtube] ObGIlV72tog: Private video. Sign in if you've been granted access to this video\n",
      "Processed video: SignSchool Disappointed\n",
      "Updated checkpoint with video: SignSchool Disappointed\n",
      "Video extracted successfully to school ASL School  \n",
      "Processed video: ASL School  \n",
      "Updated checkpoint with video: ASL School  \n",
      "Video extracted successfully to moon moon - ASL sign for moon\n",
      "Processed video: moon - ASL sign for moon\n",
      "Updated checkpoint with video: moon - ASL sign for moon\n",
      "Video extracted successfully to learn learn in American Sign Language\n",
      "Processed video: learn in American Sign Language\n",
      "Updated checkpoint with video: learn in American Sign Language\n",
      "Video extracted successfully to jacket JACKET(1)\n",
      "Processed video: JACKET(1)\n",
      "Updated checkpoint with video: JACKET(1)\n",
      "Video extracted successfully to happy happy\n",
      "Processed video: happy\n",
      "Updated checkpoint with video: happy\n",
      "Video extracted successfully to black ASL Black \n",
      "Processed video: ASL Black \n",
      "Updated checkpoint with video: ASL Black \n",
      "Video extracted successfully to green GREEN(3)\n",
      "Processed video: GREEN(3)\n",
      "Updated checkpoint with video: GREEN(3)\n",
      "Video extracted successfully to flat tire FLAT-TIRE-version\n",
      "Processed video: FLAT-TIRE-version\n",
      "Updated checkpoint with video: FLAT-TIRE-version\n",
      "Video extracted successfully to black black in American Sign Language\n",
      "Processed video: black in American Sign Language\n",
      "Updated checkpoint with video: black in American Sign Language\n",
      "Video extracted successfully to jealous ASL Jealous \n",
      "Processed video: ASL Jealous \n",
      "Updated checkpoint with video: ASL Jealous \n",
      "Video extracted successfully to sad ASL Sad \n",
      "Processed video: ASL Sad \n",
      "Updated checkpoint with video: ASL Sad \n",
      "Video extracted successfully to now NOW(4)\n",
      "Processed video: NOW(4)\n",
      "Updated checkpoint with video: NOW(4)\n",
      "Video extracted successfully to so SO-SO\n",
      "Processed video: SO-SO\n",
      "Updated checkpoint with video: SO-SO\n",
      "Video extracted successfully to today TODAY(1)\n",
      "Processed video: TODAY(1)\n",
      "Updated checkpoint with video: TODAY(1)\n",
      "Video extracted successfully to boyfriend ASL Boy friend \n",
      "Processed video: ASL Boy friend \n",
      "Updated checkpoint with video: ASL Boy friend \n",
      "Video extracted successfully to learn LEARN(3)\n",
      "Processed video: LEARN(3)\n",
      "Updated checkpoint with video: LEARN(3)\n",
      "Video extracted successfully to store STORE(1)\n",
      "Processed video: STORE(1)\n",
      "Updated checkpoint with video: STORE(1)\n",
      "Video extracted successfully to expensive EXPENSIVE(3)\n",
      "Processed video: EXPENSIVE(3)\n",
      "Updated checkpoint with video: EXPENSIVE(3)\n"
     ]
    },
    {
     "name": "stderr",
     "output_type": "stream",
     "text": [
      "ERROR: [youtube] EaSuvgF8BcU: Video unavailable\n"
     ]
    },
    {
     "name": "stdout",
     "output_type": "stream",
     "text": [
      "Error downloading www.youtube.com/watch?v=EaSuvgF8BcU: ERROR: [youtube] EaSuvgF8BcU: Video unavailable\n",
      "Processed video: grey 2\n",
      "Updated checkpoint with video: grey 2\n",
      "Video extracted successfully to school SCHOOL(5)\n",
      "Processed video: SCHOOL(5)\n",
      "Updated checkpoint with video: SCHOOL(5)\n",
      "Video extracted successfully to but BUT(2)\n",
      "Processed video: BUT(2)\n",
      "Updated checkpoint with video: BUT(2)\n"
     ]
    },
    {
     "name": "stderr",
     "output_type": "stream",
     "text": [
      "ERROR: [youtube] h3OSvoX524I: Video unavailable\n"
     ]
    },
    {
     "name": "stdout",
     "output_type": "stream",
     "text": [
      "Error downloading www.youtube.com/watch?v=h3OSvoX524I: ERROR: [youtube] h3OSvoX524I: Video unavailable\n",
      "Processed video: bright\n",
      "Updated checkpoint with video: bright\n",
      "Video extracted successfully to college ASL College \n",
      "Processed video: ASL College \n",
      "Updated checkpoint with video: ASL College \n",
      "Video extracted successfully to snake ASL Snake \n",
      "Processed video: ASL Snake \n",
      "Updated checkpoint with video: ASL Snake \n",
      "Video extracted successfully to jealous JEALOUS\n",
      "Processed video: JEALOUS\n",
      "Updated checkpoint with video: JEALOUS\n",
      "Video extracted successfully to fence Sign for FENCE from page 20\n",
      "Processed video: Sign for FENCE from page 20\n",
      "Updated checkpoint with video: Sign for FENCE from page 20\n",
      "Video extracted successfully to milk ASL Milk \n",
      "Processed video: ASL Milk \n",
      "Updated checkpoint with video: ASL Milk \n",
      "Video extracted successfully to shelf Sign for SHELF from page 23\n",
      "Processed video: Sign for SHELF from page 23\n",
      "Updated checkpoint with video: Sign for SHELF from page 23\n",
      "Video extracted successfully to south africa South Africa\n",
      "Processed video: South Africa\n",
      "Updated checkpoint with video: South Africa\n",
      "Video extracted successfully to man MAN(1)\n",
      "Processed video: MAN(1)\n",
      "Updated checkpoint with video: MAN(1)\n",
      "Video extracted successfully to man MAN(1)\n",
      "Processed video: MAN(1)\n",
      "Updated checkpoint with video: MAN(1)\n",
      "Video extracted successfully to family FAMILY(2)\n",
      "Processed video: FAMILY(2)\n",
      "Updated checkpoint with video: FAMILY(2)\n",
      "Video extracted successfully to breakfast Breakfast\n",
      "Processed video: Breakfast\n",
      "Updated checkpoint with video: Breakfast\n",
      "Video extracted successfully to crazy CRAZY-version 1\n",
      "Processed video: CRAZY-version 1\n",
      "Updated checkpoint with video: CRAZY-version 1\n"
     ]
    },
    {
     "name": "stderr",
     "output_type": "stream",
     "text": [
      "ERROR: [youtube] yRk1CucYPQo: Video unavailable\n"
     ]
    },
    {
     "name": "stdout",
     "output_type": "stream",
     "text": [
      "Error downloading www.youtube.com/watch?v=yRk1CucYPQo: ERROR: [youtube] yRk1CucYPQo: Video unavailable\n",
      "Processed video: Baby Sign Language Shoes\n",
      "Updated checkpoint with video: Baby Sign Language Shoes\n",
      "Video extracted successfully to chat CHAT(3)\n",
      "Processed video: CHAT(3)\n",
      "Updated checkpoint with video: CHAT(3)\n",
      "Video extracted successfully to wake up Wake Up\n",
      "Processed video: Wake Up\n",
      "Updated checkpoint with video: Wake Up\n"
     ]
    },
    {
     "name": "stderr",
     "output_type": "stream",
     "text": [
      "ERROR: [youtube] rHhfQRgVaOc: Private video. Sign in if you've been granted access to this video\n"
     ]
    },
    {
     "name": "stdout",
     "output_type": "stream",
     "text": [
      "Error downloading www.youtube.com/watch?v=rHhfQRgVaOc: ERROR: [youtube] rHhfQRgVaOc: Private video. Sign in if you've been granted access to this video\n",
      "Processed video: SignSchool Norway\n",
      "Updated checkpoint with video: SignSchool Norway\n",
      "Video extracted successfully to man Man\n",
      "Processed video: Man\n",
      "Updated checkpoint with video: Man\n",
      "Video extracted successfully to bank ASL Bank \n",
      "Processed video: ASL Bank \n",
      "Updated checkpoint with video: ASL Bank \n",
      "Video extracted successfully to green green\n",
      "Processed video: green\n",
      "Updated checkpoint with video: green\n",
      "Video extracted successfully to cook COOK(4)\n",
      "Processed video: COOK(4)\n",
      "Updated checkpoint with video: COOK(4)\n",
      "Video extracted successfully to motorcycle MOTORCYCLE\n",
      "Processed video: MOTORCYCLE\n",
      "Updated checkpoint with video: MOTORCYCLE\n",
      "Video extracted successfully to green GREEN COLOR ASL\n",
      "Processed video: GREEN COLOR ASL\n",
      "Updated checkpoint with video: GREEN COLOR ASL\n",
      "Video extracted successfully to happy happy - ASL sign for happy\n",
      "Processed video: happy - ASL sign for happy\n",
      "Updated checkpoint with video: happy - ASL sign for happy\n",
      "Video extracted successfully to happy happy - ASL sign for happy\n",
      "Processed video: happy - ASL sign for happy\n",
      "Updated checkpoint with video: happy - ASL sign for happy\n",
      "Video extracted successfully to 50 50\n",
      "Processed video: 50\n",
      "Updated checkpoint with video: 50\n",
      "Video extracted successfully to engineer Engineer\n",
      "Processed video: Engineer\n",
      "Updated checkpoint with video: Engineer\n",
      "Video extracted successfully to engineer Engineer\n",
      "Processed video: Engineer\n",
      "Updated checkpoint with video: Engineer\n",
      "Video extracted successfully to understand understand in American Sign Language\n",
      "Processed video: understand in American Sign Language\n",
      "Updated checkpoint with video: understand in American Sign Language\n",
      "Video extracted successfully to marry ASL Marriage \n",
      "Processed video: ASL Marriage \n",
      "Updated checkpoint with video: ASL Marriage \n",
      "Video extracted successfully to candle candle\n",
      "Processed video: candle\n",
      "Updated checkpoint with video: candle\n",
      "Video extracted successfully to store How to sign Store - ASL Vocabulary Series\n",
      "Processed video: How to sign Store - ASL Vocabulary Series\n",
      "Updated checkpoint with video: How to sign Store - ASL Vocabulary Series\n"
     ]
    },
    {
     "name": "stderr",
     "output_type": "stream",
     "text": [
      "ERROR: [youtube] YxlgxRkyOts: Private video. Sign in if you've been granted access to this video\n"
     ]
    },
    {
     "name": "stdout",
     "output_type": "stream",
     "text": [
      "Error downloading www.youtube.com/watch?v=YxlgxRkyOts: ERROR: [youtube] YxlgxRkyOts: Private video. Sign in if you've been granted access to this video\n",
      "Processed video: SignSchool Bank\n",
      "Updated checkpoint with video: SignSchool Bank\n",
      "Video extracted successfully to noon noon\n",
      "Processed video: noon\n",
      "Updated checkpoint with video: noon\n",
      "Video extracted successfully to pizza PIZZA\n",
      "Processed video: PIZZA\n",
      "Updated checkpoint with video: PIZZA\n",
      "Video extracted successfully to music ASL Music \n",
      "Processed video: ASL Music \n",
      "Updated checkpoint with video: ASL Music \n",
      "Video extracted successfully to oversleep oversleep\n",
      "Processed video: oversleep\n",
      "Updated checkpoint with video: oversleep\n",
      "Video extracted successfully to black black BLACK(person)-B-hand\n",
      "Processed video: black BLACK(person)-B-hand\n",
      "Updated checkpoint with video: black BLACK(person)-B-hand\n",
      "Video extracted successfully to strong STRONG\n",
      "Processed video: STRONG\n",
      "Updated checkpoint with video: STRONG\n",
      "Video extracted successfully to eat Eat\n",
      "Processed video: Eat\n",
      "Updated checkpoint with video: Eat\n",
      "Video extracted successfully to easter EASTER-one_handed_version\n",
      "Processed video: EASTER-one_handed_version\n",
      "Updated checkpoint with video: EASTER-one_handed_version\n",
      "Video extracted successfully to holland HOLLAND-horn-version\n",
      "Processed video: HOLLAND-horn-version\n",
      "Updated checkpoint with video: HOLLAND-horn-version\n",
      "Video extracted successfully to easter EASTER-two_handed_version\n",
      "Processed video: EASTER-two_handed_version\n",
      "Updated checkpoint with video: EASTER-two_handed_version\n",
      "Video extracted successfully to careful ASL Careful \n",
      "Processed video: ASL Careful \n",
      "Updated checkpoint with video: ASL Careful \n",
      "Video extracted successfully to clock clock(1)\n",
      "Processed video: clock(1)\n",
      "Updated checkpoint with video: clock(1)\n",
      "Video extracted successfully to lion Lion\n",
      "Processed video: Lion\n",
      "Updated checkpoint with video: Lion\n",
      "Video extracted successfully to lion Lion\n",
      "Processed video: Lion\n",
      "Updated checkpoint with video: Lion\n",
      "Video extracted successfully to born Born Birth(1)\n",
      "Processed video: Born Birth(1)\n",
      "Updated checkpoint with video: Born Birth(1)\n",
      "Video extracted successfully to appointment Appointment\n",
      "Processed video: Appointment\n",
      "Updated checkpoint with video: Appointment\n",
      "Video extracted successfully to midnight MIDNIGHT(1)\n",
      "Processed video: MIDNIGHT(1)\n",
      "Updated checkpoint with video: MIDNIGHT(1)\n",
      "Video extracted successfully to table table - ASL sign for table\n",
      "Processed video: table - ASL sign for table\n",
      "Updated checkpoint with video: table - ASL sign for table\n",
      "Video extracted successfully to table table - ASL sign for table\n",
      "Processed video: table - ASL sign for table\n",
      "Updated checkpoint with video: table - ASL sign for table\n",
      "Video extracted successfully to table table - ASL sign for table\n",
      "Processed video: table - ASL sign for table\n",
      "Updated checkpoint with video: table - ASL sign for table\n",
      "Video extracted successfully to light LIGHTS\n",
      "Processed video: LIGHTS\n",
      "Updated checkpoint with video: LIGHTS\n",
      "Video extracted successfully to forget Sign for FORGOT from page 15\n",
      "Processed video: Sign for FORGOT from page 15\n",
      "Updated checkpoint with video: Sign for FORGOT from page 15\n",
      "Video extracted successfully to norway Norway(1)\n",
      "Processed video: Norway(1)\n",
      "Updated checkpoint with video: Norway(1)\n",
      "Video extracted successfully to norway Norway(1)\n",
      "Processed video: Norway(1)\n",
      "Updated checkpoint with video: Norway(1)\n",
      "Video extracted successfully to glass GLASS\n",
      "Processed video: GLASS\n",
      "Updated checkpoint with video: GLASS\n",
      "Video extracted successfully to again ASL Again \n",
      "Processed video: ASL Again \n",
      "Updated checkpoint with video: ASL Again \n"
     ]
    },
    {
     "name": "stderr",
     "output_type": "stream",
     "text": [
      "ERROR: [youtube] QQKrZHCgrZE: Video unavailable\n"
     ]
    },
    {
     "name": "stdout",
     "output_type": "stream",
     "text": [
      "Error downloading www.youtube.com/watch?v=QQKrZHCgrZE: ERROR: [youtube] QQKrZHCgrZE: Video unavailable\n",
      "Processed video: Baby Sign Language Family\n",
      "Updated checkpoint with video: Baby Sign Language Family\n",
      "Video extracted successfully to south america South America (ASL)\n",
      "Processed video: South America (ASL)\n",
      "Updated checkpoint with video: South America (ASL)\n",
      "Video extracted successfully to sister ASL Sister \n",
      "Processed video: ASL Sister \n",
      "Updated checkpoint with video: ASL Sister \n",
      "Video extracted successfully to play PLAY(3)\n",
      "Processed video: PLAY(3)\n",
      "Updated checkpoint with video: PLAY(3)\n",
      "Video extracted successfully to not Sign NOT\n",
      "Processed video: Sign NOT\n",
      "Updated checkpoint with video: Sign NOT\n"
     ]
    },
    {
     "name": "stderr",
     "output_type": "stream",
     "text": [
      "ERROR: [youtube] BXHGLOWkdNY: Video unavailable\n"
     ]
    },
    {
     "name": "stdout",
     "output_type": "stream",
     "text": [
      "Error downloading www.youtube.com/watch?v=BXHGLOWkdNY: ERROR: [youtube] BXHGLOWkdNY: Video unavailable\n",
      "Processed video: light\n",
      "Updated checkpoint with video: light\n"
     ]
    },
    {
     "name": "stderr",
     "output_type": "stream",
     "text": [
      "ERROR: [youtube] rbnYbQyFvK4: Video unavailable\n"
     ]
    },
    {
     "name": "stdout",
     "output_type": "stream",
     "text": [
      "Error downloading www.youtube.com/watch?v=rbnYbQyFvK4: ERROR: [youtube] rbnYbQyFvK4: Video unavailable\n",
      "Processed video: eat(1)\n",
      "Updated checkpoint with video: eat(1)\n",
      "Video extracted successfully to live ASL Address \n",
      "Processed video: ASL Address \n",
      "Updated checkpoint with video: ASL Address \n",
      "Video extracted successfully to table table\n",
      "Processed video: table\n",
      "Updated checkpoint with video: table\n",
      "Video extracted successfully to careful CAREFUL\n",
      "Processed video: CAREFUL\n",
      "Updated checkpoint with video: CAREFUL\n",
      "Video extracted successfully to school SCHOOL\n",
      "Processed video: SCHOOL\n",
      "Updated checkpoint with video: SCHOOL\n",
      "Video extracted successfully to thirsty Thirsty\n",
      "Processed video: Thirsty\n",
      "Updated checkpoint with video: Thirsty\n",
      "Video extracted successfully to lie LIE-index-finger-version\n",
      "Processed video: LIE-index-finger-version\n",
      "Updated checkpoint with video: LIE-index-finger-version\n",
      "Video extracted successfully to answer Answer\n",
      "Processed video: Answer\n",
      "Updated checkpoint with video: Answer\n",
      "Video extracted successfully to mouth Mouth\n",
      "Processed video: Mouth\n",
      "Updated checkpoint with video: Mouth\n",
      "Video extracted successfully to maybe Maybe\n",
      "Processed video: Maybe\n",
      "Updated checkpoint with video: Maybe\n",
      "Video extracted successfully to back ASL Back  \n",
      "Processed video: ASL Back  \n",
      "Updated checkpoint with video: ASL Back  \n",
      "Video extracted successfully to gold GOLD COLOR ASL\n",
      "Processed video: GOLD COLOR ASL\n",
      "Updated checkpoint with video: GOLD COLOR ASL\n",
      "Video extracted successfully to bath BATH(1)\n",
      "Processed video: BATH(1)\n",
      "Updated checkpoint with video: BATH(1)\n",
      "Video extracted successfully to now ASL Vocabulary now\n",
      "Processed video: ASL Vocabulary now\n",
      "Updated checkpoint with video: ASL Vocabulary now\n",
      "Video extracted successfully to now ASL Vocabulary now\n",
      "Processed video: ASL Vocabulary now\n",
      "Updated checkpoint with video: ASL Vocabulary now\n",
      "Video extracted successfully to cherry ASL Cherry \n",
      "Processed video: ASL Cherry \n",
      "Updated checkpoint with video: ASL Cherry \n",
      "Video extracted successfully to bus ASL Bus \n",
      "Processed video: ASL Bus \n",
      "Updated checkpoint with video: ASL Bus \n",
      "Video extracted successfully to how_many how many\n",
      "Processed video: how many\n",
      "Updated checkpoint with video: how many\n",
      "Video extracted successfully to now ASL Now \n",
      "Processed video: ASL Now \n",
      "Updated checkpoint with video: ASL Now \n",
      "Video extracted successfully to need NEED(2)\n",
      "Processed video: NEED(2)\n",
      "Updated checkpoint with video: NEED(2)\n",
      "Video extracted successfully to fine fine\n",
      "Processed video: fine\n",
      "Updated checkpoint with video: fine\n",
      "Video extracted successfully to together TOGETHER\n",
      "Processed video: TOGETHER\n",
      "Updated checkpoint with video: TOGETHER\n",
      "Video extracted successfully to austria Austria(1)\n",
      "Processed video: Austria(1)\n",
      "Updated checkpoint with video: Austria(1)\n",
      "Video extracted successfully to fence FENCE(1)\n",
      "Processed video: FENCE(1)\n",
      "Updated checkpoint with video: FENCE(1)\n"
     ]
    },
    {
     "name": "stderr",
     "output_type": "stream",
     "text": [
      "ERROR: [youtube] d9DVaZTwDBg: Private video. Sign in if you've been granted access to this video\n"
     ]
    },
    {
     "name": "stdout",
     "output_type": "stream",
     "text": [
      "Error downloading www.youtube.com/watch?v=d9DVaZTwDBg: ERROR: [youtube] d9DVaZTwDBg: Private video. Sign in if you've been granted access to this video\n",
      "Processed video: SignSchool Austria\n",
      "Updated checkpoint with video: SignSchool Austria\n",
      "Video extracted successfully to marry MARRIAGE-marry-married\n",
      "Processed video: MARRIAGE-marry-married\n",
      "Updated checkpoint with video: MARRIAGE-marry-married\n"
     ]
    },
    {
     "name": "stderr",
     "output_type": "stream",
     "text": [
      "ERROR: [youtube] M-4n9Dr9zQs: Video unavailable\n"
     ]
    },
    {
     "name": "stdout",
     "output_type": "stream",
     "text": [
      "Error downloading https://www.youtube.com/watch?v=M-4n9Dr9zQs: ERROR: [youtube] M-4n9Dr9zQs: Video unavailable\n",
      "Processed video: ASL Vocabulary student\n",
      "Updated checkpoint with video: ASL Vocabulary student\n"
     ]
    },
    {
     "name": "stderr",
     "output_type": "stream",
     "text": [
      "ERROR: [youtube] M-4n9Dr9zQs: Video unavailable\n"
     ]
    },
    {
     "name": "stdout",
     "output_type": "stream",
     "text": [
      "Error downloading https://www.youtube.com/watch?v=M-4n9Dr9zQs: ERROR: [youtube] M-4n9Dr9zQs: Video unavailable\n",
      "Processed video: ASL Vocabulary student\n",
      "Updated checkpoint with video: ASL Vocabulary student\n",
      "Video extracted successfully to visit VISIT-visit-3rd-person\n",
      "Processed video: VISIT-visit-3rd-person\n",
      "Updated checkpoint with video: VISIT-visit-3rd-person\n",
      "Video extracted successfully to polite POLITE(1)\n",
      "Processed video: POLITE(1)\n",
      "Updated checkpoint with video: POLITE(1)\n",
      "Video extracted successfully to black BLACK(3)\n",
      "Processed video: BLACK(3)\n",
      "Updated checkpoint with video: BLACK(3)\n",
      "Video extracted successfully to learn Sign for LEARN from page 14\n",
      "Processed video: Sign for LEARN from page 14\n",
      "Updated checkpoint with video: Sign for LEARN from page 14\n",
      "Video extracted successfully to work ASL Work Job \n",
      "Processed video: ASL Work Job \n",
      "Updated checkpoint with video: ASL Work Job \n",
      "Video extracted successfully to sign language Sign Language\n",
      "Processed video: Sign Language\n",
      "Updated checkpoint with video: Sign Language\n",
      "Video extracted successfully to school Sign for SCHOOL from page 14\n",
      "Processed video: Sign for SCHOOL from page 14\n",
      "Updated checkpoint with video: Sign for SCHOOL from page 14\n",
      "Video extracted successfully to play PLAY(4)\n",
      "Processed video: PLAY(4)\n",
      "Updated checkpoint with video: PLAY(4)\n",
      "Video extracted successfully to soon SOON (alternative)\n",
      "Processed video: SOON (alternative)\n",
      "Updated checkpoint with video: SOON (alternative)\n",
      "Video extracted successfully to beach Beach\n",
      "Processed video: Beach\n",
      "Updated checkpoint with video: Beach\n",
      "Video extracted successfully to goat goat - ASL sign for goat\n",
      "Processed video: goat - ASL sign for goat\n",
      "Updated checkpoint with video: goat - ASL sign for goat\n",
      "Video extracted successfully to goat goat - ASL sign for goat\n",
      "Processed video: goat - ASL sign for goat\n",
      "Updated checkpoint with video: goat - ASL sign for goat\n",
      "Video extracted successfully to goat goat - ASL sign for goat\n",
      "Processed video: goat - ASL sign for goat\n",
      "Updated checkpoint with video: goat - ASL sign for goat\n",
      "Video extracted successfully to last week ASL Last week  \n",
      "Processed video: ASL Last week  \n",
      "Updated checkpoint with video: ASL Last week  \n",
      "Video extracted successfully to manager MANAGER\n",
      "Processed video: MANAGER\n",
      "Updated checkpoint with video: MANAGER\n",
      "Video extracted successfully to camping CAMPING\n",
      "Processed video: CAMPING\n",
      "Updated checkpoint with video: CAMPING\n",
      "Video extracted successfully to divorce DIVORCE(3)\n",
      "Processed video: DIVORCE(3)\n",
      "Updated checkpoint with video: DIVORCE(3)\n"
     ]
    },
    {
     "name": "stderr",
     "output_type": "stream",
     "text": [
      "ERROR: [youtube] ogiNuaQ_qwE: Video unavailable\n"
     ]
    },
    {
     "name": "stdout",
     "output_type": "stream",
     "text": [
      "Error downloading https://www.youtube.com/watch?v=ogiNuaQ_qwE: ERROR: [youtube] ogiNuaQ_qwE: Video unavailable\n",
      "Processed video: ASL Vocabulary Silly\n",
      "Updated checkpoint with video: ASL Vocabulary Silly\n"
     ]
    },
    {
     "name": "stderr",
     "output_type": "stream",
     "text": [
      "ERROR: [youtube] ogiNuaQ_qwE: Video unavailable\n"
     ]
    },
    {
     "name": "stdout",
     "output_type": "stream",
     "text": [
      "Error downloading https://www.youtube.com/watch?v=ogiNuaQ_qwE: ERROR: [youtube] ogiNuaQ_qwE: Video unavailable\n",
      "Processed video: ASL Vocabulary Silly\n",
      "Updated checkpoint with video: ASL Vocabulary Silly\n"
     ]
    },
    {
     "name": "stderr",
     "output_type": "stream",
     "text": [
      "ERROR: [youtube] XmoEkUEzOqM: Private video. Sign in if you've been granted access to this video\n"
     ]
    },
    {
     "name": "stdout",
     "output_type": "stream",
     "text": [
      "Error downloading www.youtube.com/watch?v=XmoEkUEzOqM: ERROR: [youtube] XmoEkUEzOqM: Private video. Sign in if you've been granted access to this video\n",
      "Processed video: SignSchool Appointment\n",
      "Updated checkpoint with video: SignSchool Appointment\n",
      "Video extracted successfully to microwave MICROWAVE-version(1)\n",
      "Processed video: MICROWAVE-version(1)\n",
      "Updated checkpoint with video: MICROWAVE-version(1)\n",
      "Video extracted successfully to man Sign for MAN from page 13\n",
      "Processed video: Sign for MAN from page 13\n",
      "Updated checkpoint with video: Sign for MAN from page 13\n",
      "Video extracted successfully to accident ASL Accident \n",
      "Processed video: ASL Accident \n",
      "Updated checkpoint with video: ASL Accident \n",
      "Video extracted successfully to tea ASL Tea \n",
      "Processed video: ASL Tea \n",
      "Updated checkpoint with video: ASL Tea \n",
      "Video extracted successfully to vacation Holiday\n",
      "Processed video: Holiday\n",
      "Updated checkpoint with video: Holiday\n",
      "Video extracted successfully to polite polite\n",
      "Processed video: polite\n",
      "Updated checkpoint with video: polite\n",
      "Video extracted successfully to israel ISRAEL\n",
      "Processed video: ISRAEL\n",
      "Updated checkpoint with video: ISRAEL\n",
      "Video extracted successfully to brush teeth Brush Teeth\n",
      "Processed video: Brush Teeth\n",
      "Updated checkpoint with video: Brush Teeth\n",
      "Video extracted successfully to wake up WAKE UP\n",
      "Processed video: WAKE UP\n",
      "Updated checkpoint with video: WAKE UP\n",
      "Video extracted successfully to wood WOOD(2)\n",
      "Processed video: WOOD(2)\n",
      "Updated checkpoint with video: WOOD(2)\n"
     ]
    },
    {
     "name": "stderr",
     "output_type": "stream",
     "text": [
      "ERROR: [youtube] OFTCG01Jka0: Video unavailable\n"
     ]
    },
    {
     "name": "stdout",
     "output_type": "stream",
     "text": [
      "Error downloading www.youtube.com/watch?v=OFTCG01Jka0: ERROR: [youtube] OFTCG01Jka0: Video unavailable\n",
      "Processed video: Baby Sign Language Dry\n",
      "Updated checkpoint with video: Baby Sign Language Dry\n",
      "Video extracted successfully to build BUILD\n",
      "Processed video: BUILD\n",
      "Updated checkpoint with video: BUILD\n",
      "Video extracted successfully to thanksgiving THANKSGIVING-wattle-version\n",
      "Processed video: THANKSGIVING-wattle-version\n",
      "Updated checkpoint with video: THANKSGIVING-wattle-version\n",
      "Video extracted successfully to furniture FURNITURE(1)\n",
      "Processed video: FURNITURE(1)\n",
      "Updated checkpoint with video: FURNITURE(1)\n",
      "Video extracted successfully to before Before\n",
      "Processed video: Before\n",
      "Updated checkpoint with video: Before\n",
      "Video extracted successfully to mustache Mustache\n",
      "Processed video: Mustache\n",
      "Updated checkpoint with video: Mustache\n",
      "Video extracted successfully to i I-I-I-all-about-meself-centered EGO-idiomatic\n",
      "Processed video: I-I-I-all-about-meself-centered EGO-idiomatic\n",
      "Updated checkpoint with video: I-I-I-all-about-meself-centered EGO-idiomatic\n"
     ]
    },
    {
     "name": "stderr",
     "output_type": "stream",
     "text": [
      "ERROR: [youtube] Fha-bi1kHs4: Video unavailable\n"
     ]
    },
    {
     "name": "stdout",
     "output_type": "stream",
     "text": [
      "Error downloading www.youtube.com/watch?v=Fha-bi1kHs4: ERROR: [youtube] Fha-bi1kHs4: Video unavailable\n",
      "Processed video: Baby Sign Language Thanksgiving\n",
      "Updated checkpoint with video: Baby Sign Language Thanksgiving\n"
     ]
    },
    {
     "name": "stderr",
     "output_type": "stream",
     "text": [
      "ERROR: [youtube] rul1iWBt3Jg: Video unavailable\n"
     ]
    },
    {
     "name": "stdout",
     "output_type": "stream",
     "text": [
      "Error downloading www.youtube.com/watch?v=rul1iWBt3Jg: ERROR: [youtube] rul1iWBt3Jg: Video unavailable\n",
      "Processed video: need\n",
      "Updated checkpoint with video: need\n",
      "Video extracted successfully to chat CHAT(1)\n",
      "Processed video: CHAT(1)\n",
      "Updated checkpoint with video: CHAT(1)\n",
      "Video extracted successfully to father ASL Father \n",
      "Processed video: ASL Father \n",
      "Updated checkpoint with video: ASL Father \n"
     ]
    },
    {
     "name": "stderr",
     "output_type": "stream",
     "text": [
      "ERROR: [youtube] kMclSZZwMMw: Video unavailable\n"
     ]
    },
    {
     "name": "stdout",
     "output_type": "stream",
     "text": [
      "Error downloading www.youtube.com/watch?v=kMclSZZwMMw: ERROR: [youtube] kMclSZZwMMw: Video unavailable\n",
      "Processed video: Baby Sign Language Pear\n",
      "Updated checkpoint with video: Baby Sign Language Pear\n",
      "Video extracted successfully to table table(1)\n",
      "Processed video: table(1)\n",
      "Updated checkpoint with video: table(1)\n",
      "Video extracted successfully to table table(1)\n",
      "Processed video: table(1)\n",
      "Updated checkpoint with video: table(1)\n",
      "Video extracted successfully to table table(1)\n",
      "Processed video: table(1)\n",
      "Updated checkpoint with video: table(1)\n",
      "Video extracted successfully to knife ASL Knife \n",
      "Processed video: ASL Knife \n",
      "Updated checkpoint with video: ASL Knife \n",
      "Video extracted successfully to before BEFORE-non-dominant-hand-palm-forward-version-prior-to\n",
      "Processed video: BEFORE-non-dominant-hand-palm-forward-version-prior-to\n",
      "Updated checkpoint with video: BEFORE-non-dominant-hand-palm-forward-version-prior-to\n",
      "Video extracted successfully to cuba Cuba (indigenous)\n",
      "Processed video: Cuba (indigenous)\n",
      "Updated checkpoint with video: Cuba (indigenous)\n",
      "Video extracted successfully to librarian LIBRARIAN\n",
      "Processed video: LIBRARIAN\n",
      "Updated checkpoint with video: LIBRARIAN\n",
      "Video extracted successfully to last month ASL Last month  \n",
      "Processed video: ASL Last month  \n",
      "Updated checkpoint with video: ASL Last month  \n",
      "Video extracted successfully to student STUDENT-casual-version\n",
      "Processed video: STUDENT-casual-version\n",
      "Updated checkpoint with video: STUDENT-casual-version\n",
      "Video extracted successfully to furniture FURNITURE(2)\n",
      "Processed video: FURNITURE(2)\n",
      "Updated checkpoint with video: FURNITURE(2)\n",
      "Video extracted successfully to boots ASL Boots \n",
      "Processed video: ASL Boots \n",
      "Updated checkpoint with video: ASL Boots \n",
      "Video extracted successfully to bank Bank\n",
      "Processed video: Bank\n",
      "Updated checkpoint with video: Bank\n",
      "Video extracted successfully to before BEFORE  PRIOR TO\n",
      "Processed video: BEFORE  PRIOR TO\n",
      "Updated checkpoint with video: BEFORE  PRIOR TO\n",
      "Video extracted successfully to table DESK TABLE\n",
      "Processed video: DESK TABLE\n",
      "Updated checkpoint with video: DESK TABLE\n",
      "Video extracted successfully to freeze cream ASL Ice-cream \n",
      "Processed video: ASL Ice-cream \n",
      "Updated checkpoint with video: ASL Ice-cream \n",
      "Video extracted successfully to radio radio\n",
      "Processed video: radio\n",
      "Updated checkpoint with video: radio\n",
      "Video extracted successfully to forget FORGET(3)\n",
      "Processed video: FORGET(3)\n",
      "Updated checkpoint with video: FORGET(3)\n",
      "Video extracted successfully to meet MEET(2)\n",
      "Processed video: MEET(2)\n",
      "Updated checkpoint with video: MEET(2)\n",
      "Video extracted successfully to know ASL Know \n",
      "Processed video: ASL Know \n",
      "Updated checkpoint with video: ASL Know \n",
      "Video extracted successfully to army ASL Army  \n",
      "Processed video: ASL Army  \n",
      "Updated checkpoint with video: ASL Army  \n",
      "Video extracted successfully to not Dont(1)\n",
      "Processed video: Dont(1)\n",
      "Updated checkpoint with video: Dont(1)\n",
      "Video extracted successfully to wall Wall\n",
      "Processed video: Wall\n",
      "Updated checkpoint with video: Wall\n",
      "Video extracted successfully to wall Wall\n",
      "Processed video: Wall\n",
      "Updated checkpoint with video: Wall\n",
      "Video extracted successfully to shoes ASL Vocabulary Shoes\n",
      "Processed video: ASL Vocabulary Shoes\n",
      "Updated checkpoint with video: ASL Vocabulary Shoes\n",
      "Video extracted successfully to shoes ASL Vocabulary Shoes\n",
      "Processed video: ASL Vocabulary Shoes\n",
      "Updated checkpoint with video: ASL Vocabulary Shoes\n",
      "Video extracted successfully to yes yes-Y-E-S-lexicalized\n",
      "Processed video: yes-Y-E-S-lexicalized\n",
      "Updated checkpoint with video: yes-Y-E-S-lexicalized\n"
     ]
    },
    {
     "name": "stderr",
     "output_type": "stream",
     "text": [
      "ERROR: [youtube] Q4YaB8gEu_A: Video unavailable\n"
     ]
    },
    {
     "name": "stdout",
     "output_type": "stream",
     "text": [
      "Error downloading www.youtube.com/watch?v=Q4YaB8gEu_A: ERROR: [youtube] Q4YaB8gEu_A: Video unavailable\n",
      "Processed video: gold(1)\n",
      "Updated checkpoint with video: gold(1)\n"
     ]
    },
    {
     "name": "stderr",
     "output_type": "stream",
     "text": [
      "ERROR: [youtube] wc2A8AZepy4: Video unavailable\n"
     ]
    },
    {
     "name": "stdout",
     "output_type": "stream",
     "text": [
      "Error downloading www.youtube.com/watch?v=wc2A8AZepy4: ERROR: [youtube] wc2A8AZepy4: Video unavailable\n",
      "Processed video: yes(1)\n",
      "Updated checkpoint with video: yes(1)\n",
      "Video extracted successfully to take care TAKE CARE\n",
      "Processed video: TAKE CARE\n",
      "Updated checkpoint with video: TAKE CARE\n",
      "Video extracted successfully to believe ASL Believe \n",
      "Processed video: ASL Believe \n",
      "Updated checkpoint with video: ASL Believe \n",
      "Video extracted successfully to early ASL Early \n",
      "Processed video: ASL Early \n",
      "Updated checkpoint with video: ASL Early \n",
      "Video extracted successfully to hill Hill\n",
      "Processed video: Hill\n",
      "Updated checkpoint with video: Hill\n",
      "Video extracted successfully to closet ASL Closet \n",
      "Processed video: ASL Closet \n",
      "Updated checkpoint with video: ASL Closet \n",
      "Video extracted successfully to engineer engineer measurer\n",
      "Processed video: engineer measurer\n",
      "Updated checkpoint with video: engineer measurer\n",
      "Video extracted successfully to strict STRICT\n",
      "Processed video: STRICT\n",
      "Updated checkpoint with video: STRICT\n",
      "Video extracted successfully to answer Answer Respond\n",
      "Processed video: Answer Respond\n",
      "Updated checkpoint with video: Answer Respond\n",
      "Video extracted successfully to midnight midnight\n",
      "Processed video: midnight\n",
      "Updated checkpoint with video: midnight\n",
      "Video extracted successfully to husband ASL Husband \n",
      "Processed video: ASL Husband \n",
      "Updated checkpoint with video: ASL Husband \n",
      "Video extracted successfully to christmas Christmas\n",
      "Processed video: Christmas\n",
      "Updated checkpoint with video: Christmas\n",
      "Video extracted successfully to tape Sign for TAPE from page 27\n",
      "Processed video: Sign for TAPE from page 27\n",
      "Updated checkpoint with video: Sign for TAPE from page 27\n",
      "Video extracted successfully to holland HOLLAND-version-1\n",
      "Processed video: HOLLAND-version-1\n",
      "Updated checkpoint with video: HOLLAND-version-1\n"
     ]
    },
    {
     "name": "stderr",
     "output_type": "stream",
     "text": [
      "ERROR: [youtube] 60-nldLDuP8: Private video. Sign in if you've been granted access to this video\n"
     ]
    },
    {
     "name": "stdout",
     "output_type": "stream",
     "text": [
      "Error downloading www.youtube.com/watch?v=60-nldLDuP8: ERROR: [youtube] 60-nldLDuP8: Private video. Sign in if you've been granted access to this video\n",
      "Processed video: SignSchool The Netherlands\n",
      "Updated checkpoint with video: SignSchool The Netherlands\n",
      "Video extracted successfully to where where(1)\n",
      "Processed video: where(1)\n",
      "Updated checkpoint with video: where(1)\n",
      "Video extracted successfully to where where(1)\n",
      "Processed video: where(1)\n",
      "Updated checkpoint with video: where(1)\n"
     ]
    },
    {
     "name": "stderr",
     "output_type": "stream",
     "text": [
      "ERROR: [youtube] _x3_qx56Z9g: Private video. Sign in if you've been granted access to this video\n"
     ]
    },
    {
     "name": "stdout",
     "output_type": "stream",
     "text": [
      "Error downloading www.youtube.com/watch?v=_x3_qx56Z9g: ERROR: [youtube] _x3_qx56Z9g: Private video. Sign in if you've been granted access to this video\n",
      "Processed video: SignSchool Table\n",
      "Updated checkpoint with video: SignSchool Table\n",
      "Video extracted successfully to green ASL Vocabulary green\n",
      "Processed video: ASL Vocabulary green\n",
      "Updated checkpoint with video: ASL Vocabulary green\n",
      "Video extracted successfully to moon MOON(1)\n",
      "Processed video: MOON(1)\n",
      "Updated checkpoint with video: MOON(1)\n",
      "Video extracted successfully to light LIGHT\n",
      "Processed video: LIGHT\n",
      "Updated checkpoint with video: LIGHT\n"
     ]
    },
    {
     "name": "stderr",
     "output_type": "stream",
     "text": [
      "ERROR: [youtube] Sicuvs8r1Lg: Video unavailable\n"
     ]
    },
    {
     "name": "stdout",
     "output_type": "stream",
     "text": [
      "Error downloading https://www.youtube.com/watch?v=Sicuvs8r1Lg: ERROR: [youtube] Sicuvs8r1Lg: Video unavailable\n",
      "Processed video: ASL Vocabulary ask\n",
      "Updated checkpoint with video: ASL Vocabulary ask\n"
     ]
    },
    {
     "name": "stderr",
     "output_type": "stream",
     "text": [
      "ERROR: [youtube] Sicuvs8r1Lg: Video unavailable\n"
     ]
    },
    {
     "name": "stdout",
     "output_type": "stream",
     "text": [
      "Error downloading https://www.youtube.com/watch?v=Sicuvs8r1Lg: ERROR: [youtube] Sicuvs8r1Lg: Video unavailable\n",
      "Processed video: ASL Vocabulary ask\n",
      "Updated checkpoint with video: ASL Vocabulary ask\n",
      "Video extracted successfully to ask ASK(1)\n",
      "Processed video: ASK(1)\n",
      "Updated checkpoint with video: ASK(1)\n",
      "Video extracted successfully to camping Camping\n",
      "Processed video: Camping\n",
      "Updated checkpoint with video: Camping\n",
      "Video extracted successfully to hill hill\n",
      "Processed video: hill\n",
      "Updated checkpoint with video: hill\n"
     ]
    },
    {
     "name": "stderr",
     "output_type": "stream",
     "text": [
      "ERROR: [youtube] hmBm4QV7J_8: Video unavailable\n"
     ]
    },
    {
     "name": "stdout",
     "output_type": "stream",
     "text": [
      "Error downloading https://www.youtube.com/watch?v=hmBm4QV7J_8: ERROR: [youtube] hmBm4QV7J_8: Video unavailable\n",
      "Processed video: MAYBE\n",
      "Updated checkpoint with video: MAYBE\n",
      "Video extracted successfully to false ASL False \n",
      "Processed video: ASL False \n",
      "Updated checkpoint with video: ASL False \n",
      "Video extracted successfully to use USE\n",
      "Processed video: USE\n",
      "Updated checkpoint with video: USE\n",
      "Video extracted successfully to how_many HOW MANY\n",
      "Processed video: HOW MANY\n",
      "Updated checkpoint with video: HOW MANY\n",
      "Video extracted successfully to ball BALL (round object)\n",
      "Processed video: BALL (round object)\n",
      "Updated checkpoint with video: BALL (round object)\n",
      "Video extracted successfully to day ASL Day \n",
      "Processed video: ASL Day \n",
      "Updated checkpoint with video: ASL Day \n",
      "Video extracted successfully to equal EQUAL(1)\n",
      "Processed video: EQUAL(1)\n",
      "Updated checkpoint with video: EQUAL(1)\n",
      "Video extracted successfully to bad ASL Bad \n",
      "Processed video: ASL Bad \n",
      "Updated checkpoint with video: ASL Bad \n",
      "Video extracted successfully to microwave Sign for MICROWAVE from page 24\n",
      "Processed video: Sign for MICROWAVE from page 24\n",
      "Updated checkpoint with video: Sign for MICROWAVE from page 24\n",
      "Video extracted successfully to soon SOON\n",
      "Processed video: SOON\n",
      "Updated checkpoint with video: SOON\n",
      "Video extracted successfully to half half\n",
      "Processed video: half\n",
      "Updated checkpoint with video: half\n",
      "Video extracted successfully to hat ASL Hat \n",
      "Processed video: ASL Hat \n",
      "Updated checkpoint with video: ASL Hat \n",
      "Video extracted successfully to ball Ball\n",
      "Processed video: Ball\n",
      "Updated checkpoint with video: Ball\n",
      "Video extracted successfully to cuba Cuba\n",
      "Processed video: Cuba\n",
      "Updated checkpoint with video: Cuba\n",
      "Video extracted successfully to understand Understand\n",
      "Processed video: Understand\n",
      "Updated checkpoint with video: Understand\n",
      "Video extracted successfully to fence ASL Fence \n",
      "Processed video: ASL Fence \n",
      "Updated checkpoint with video: ASL Fence \n",
      "Video extracted successfully to lake lake-WATER-AREA\n",
      "Processed video: lake-WATER-AREA\n",
      "Updated checkpoint with video: lake-WATER-AREA\n",
      "Video extracted successfully to green ASL Green \n",
      "Processed video: ASL Green \n",
      "Updated checkpoint with video: ASL Green \n",
      "Video extracted successfully to different ASL Different \n",
      "Processed video: ASL Different \n",
      "Updated checkpoint with video: ASL Different \n"
     ]
    },
    {
     "name": "stderr",
     "output_type": "stream",
     "text": [
      "ERROR: [youtube] 0Hv7Eeuv-24: Video unavailable\n"
     ]
    },
    {
     "name": "stdout",
     "output_type": "stream",
     "text": [
      "Error downloading www.youtube.com/watch?v=0Hv7Eeuv-24: ERROR: [youtube] 0Hv7Eeuv-24: Video unavailable\n",
      "Processed video: Baby Sign Language Green\n",
      "Updated checkpoint with video: Baby Sign Language Green\n",
      "Video extracted successfully to face ASL Face \n",
      "Processed video: ASL Face \n",
      "Updated checkpoint with video: ASL Face \n",
      "Video extracted successfully to bright BRIGHT\n",
      "Processed video: BRIGHT\n",
      "Updated checkpoint with video: BRIGHT\n",
      "Video extracted successfully to brush teeth BRUSH TEETH\n",
      "Processed video: BRUSH TEETH\n",
      "Updated checkpoint with video: BRUSH TEETH\n",
      "Video extracted successfully to that one THAT-one-nod-yes-thatconfirming\n",
      "Processed video: THAT-one-nod-yes-thatconfirming\n",
      "Updated checkpoint with video: THAT-one-nod-yes-thatconfirming\n",
      "Video extracted successfully to last year ASL Last year  \n",
      "Processed video: ASL Last year  \n",
      "Updated checkpoint with video: ASL Last year  \n",
      "Video extracted successfully to flat tire Flat Tire\n",
      "Processed video: Flat Tire\n",
      "Updated checkpoint with video: Flat Tire\n",
      "Video extracted successfully to yes YES(1)\n",
      "Processed video: YES(1)\n",
      "Updated checkpoint with video: YES(1)\n",
      "Video extracted successfully to cup ASL Cup \n",
      "Processed video: ASL Cup \n",
      "Updated checkpoint with video: ASL Cup \n",
      "Video extracted successfully to algebra ALGEBRA\n",
      "Processed video: ALGEBRA\n",
      "Updated checkpoint with video: ALGEBRA\n",
      "Video extracted successfully to west WEST(1)\n",
      "Processed video: WEST(1)\n",
      "Updated checkpoint with video: WEST(1)\n",
      "Video extracted successfully to important IMPORTANT-value cost worth\n",
      "Processed video: IMPORTANT-value cost worth\n",
      "Updated checkpoint with video: IMPORTANT-value cost worth\n",
      "Video extracted successfully to understand UNDERSTAND(2)\n",
      "Processed video: UNDERSTAND(2)\n",
      "Updated checkpoint with video: UNDERSTAND(2)\n"
     ]
    },
    {
     "name": "stderr",
     "output_type": "stream",
     "text": [
      "ERROR: [youtube] 6By4ve8GCtI: Private video. Sign in if you've been granted access to this video\n"
     ]
    },
    {
     "name": "stdout",
     "output_type": "stream",
     "text": [
      "Error downloading www.youtube.com/watch?v=6By4ve8GCtI: ERROR: [youtube] 6By4ve8GCtI: Private video. Sign in if you've been granted access to this video\n",
      "Processed video: SignSchool Far\n",
      "Updated checkpoint with video: SignSchool Far\n",
      "Video extracted successfully to shock shock-ELECTRIC-inflected-version\n",
      "Processed video: shock-ELECTRIC-inflected-version\n",
      "Updated checkpoint with video: shock-ELECTRIC-inflected-version\n",
      "Video extracted successfully to what's up WHATS-UP\n",
      "Processed video: WHATS-UP\n",
      "Updated checkpoint with video: WHATS-UP\n",
      "Video extracted successfully to yes Yes - Asl\n",
      "Processed video: Yes - Asl\n",
      "Updated checkpoint with video: Yes - Asl\n",
      "Video extracted successfully to frustrated ASL Frustrated \n",
      "Processed video: ASL Frustrated \n",
      "Updated checkpoint with video: ASL Frustrated \n",
      "Video extracted successfully to visit VISIT(1)\n",
      "Processed video: VISIT(1)\n",
      "Updated checkpoint with video: VISIT(1)\n",
      "Video extracted successfully to light light - ASL sign for light\n",
      "Processed video: light - ASL sign for light\n",
      "Updated checkpoint with video: light - ASL sign for light\n",
      "Video extracted successfully to light light - ASL sign for light\n",
      "Processed video: light - ASL sign for light\n",
      "Updated checkpoint with video: light - ASL sign for light\n",
      "Video extracted successfully to today TODAY\n",
      "Processed video: TODAY\n",
      "Updated checkpoint with video: TODAY\n",
      "Video extracted successfully to pants ASL Pants \n",
      "Processed video: ASL Pants \n",
      "Updated checkpoint with video: ASL Pants \n",
      "Video extracted successfully to shock SHOCKED\n",
      "Processed video: SHOCKED\n",
      "Updated checkpoint with video: SHOCKED\n",
      "Video extracted successfully to beach ASL Beach \n",
      "Processed video: ASL Beach \n",
      "Updated checkpoint with video: ASL Beach \n",
      "Video extracted successfully to dry DRY(3)\n",
      "Processed video: DRY(3)\n",
      "Updated checkpoint with video: DRY(3)\n",
      "Video extracted successfully to eat How to sign Food - ASL Vocabulary Series\n",
      "Processed video: How to sign Food - ASL Vocabulary Series\n",
      "Updated checkpoint with video: How to sign Food - ASL Vocabulary Series\n",
      "Video extracted successfully to eat FOOD\n",
      "Processed video: FOOD\n",
      "Updated checkpoint with video: FOOD\n",
      "Video extracted successfully to school ASL Dictionary - School\n",
      "Processed video: ASL Dictionary - School\n",
      "Updated checkpoint with video: ASL Dictionary - School\n"
     ]
    },
    {
     "name": "stderr",
     "output_type": "stream",
     "text": [
      "ERROR: [youtube] 8K-DDvNrOL4: Video unavailable\n"
     ]
    },
    {
     "name": "stdout",
     "output_type": "stream",
     "text": [
      "Error downloading https://www.youtube.com/watch?v=8K-DDvNrOL4: ERROR: [youtube] 8K-DDvNrOL4: Video unavailable\n",
      "Processed video: ASL Vocabulary Tell\n",
      "Updated checkpoint with video: ASL Vocabulary Tell\n"
     ]
    },
    {
     "name": "stderr",
     "output_type": "stream",
     "text": [
      "ERROR: [youtube] 8K-DDvNrOL4: Video unavailable\n"
     ]
    },
    {
     "name": "stdout",
     "output_type": "stream",
     "text": [
      "Error downloading https://www.youtube.com/watch?v=8K-DDvNrOL4: ERROR: [youtube] 8K-DDvNrOL4: Video unavailable\n",
      "Processed video: ASL Vocabulary Tell\n",
      "Updated checkpoint with video: ASL Vocabulary Tell\n",
      "Video extracted successfully to world How to sign World - ASL Vocabulary Series\n",
      "Processed video: How to sign World - ASL Vocabulary Series\n",
      "Updated checkpoint with video: How to sign World - ASL Vocabulary Series\n",
      "Video extracted successfully to vacuum Sign for VACUUM from page 29\n",
      "Processed video: Sign for VACUUM from page 29\n",
      "Updated checkpoint with video: Sign for VACUUM from page 29\n",
      "Video extracted successfully to thanksgiving THANKSGIVING-THANKS-GIVE-version\n",
      "Processed video: THANKSGIVING-THANKS-GIVE-version\n",
      "Updated checkpoint with video: THANKSGIVING-THANKS-GIVE-version\n",
      "Video extracted successfully to show ASL Show \n",
      "Processed video: ASL Show \n",
      "Updated checkpoint with video: ASL Show \n",
      "Video extracted successfully to study ASL Study \n",
      "Processed video: ASL Study \n",
      "Updated checkpoint with video: ASL Study \n",
      "Video extracted successfully to yes yes - ASL sign for yes\n",
      "Processed video: yes - ASL sign for yes\n",
      "Updated checkpoint with video: yes - ASL sign for yes\n",
      "Video extracted successfully to yes yes - ASL sign for yes\n",
      "Processed video: yes - ASL sign for yes\n",
      "Updated checkpoint with video: yes - ASL sign for yes\n",
      "Video extracted successfully to education EDUCATION(1)\n",
      "Processed video: EDUCATION(1)\n",
      "Updated checkpoint with video: EDUCATION(1)\n",
      "Video extracted successfully to letter LETTER(1)\n",
      "Processed video: LETTER(1)\n",
      "Updated checkpoint with video: LETTER(1)\n",
      "Video extracted successfully to fourteen 14(1)\n",
      "Processed video: 14(1)\n",
      "Updated checkpoint with video: 14(1)\n",
      "Video extracted successfully to stuck STUCK\n",
      "Processed video: STUCK\n",
      "Updated checkpoint with video: STUCK\n"
     ]
    },
    {
     "name": "stderr",
     "output_type": "stream",
     "text": [
      "ERROR: [youtube] 4r-DIicIYsA: Private video. Sign in if you've been granted access to this video\n"
     ]
    },
    {
     "name": "stdout",
     "output_type": "stream",
     "text": [
      "Error downloading www.youtube.com/watch?v=4r-DIicIYsA: ERROR: [youtube] 4r-DIicIYsA: Private video. Sign in if you've been granted access to this video\n",
      "Processed video: SignSchool perfect\n",
      "Updated checkpoint with video: SignSchool perfect\n",
      "Video extracted successfully to ears ASL Ears \n",
      "Processed video: ASL Ears \n",
      "Updated checkpoint with video: ASL Ears \n",
      "Video extracted successfully to awful ASL Awful \n",
      "Processed video: ASL Awful \n",
      "Updated checkpoint with video: ASL Awful \n",
      "Video extracted successfully to noon NOON(2)\n",
      "Processed video: NOON(2)\n",
      "Updated checkpoint with video: NOON(2)\n",
      "Video extracted successfully to elephant ASL Elephant \n",
      "Processed video: ASL Elephant \n",
      "Updated checkpoint with video: ASL Elephant \n",
      "Video extracted successfully to midnight Midnight(1)\n",
      "Processed video: Midnight(1)\n",
      "Updated checkpoint with video: Midnight(1)\n",
      "Video extracted successfully to cook COOK-basic-version\n",
      "Processed video: COOK-basic-version\n",
      "Updated checkpoint with video: COOK-basic-version\n",
      "Video extracted successfully to africa Africa (Hungarian sign 1)\n",
      "Processed video: Africa (Hungarian sign 1)\n",
      "Updated checkpoint with video: Africa (Hungarian sign 1)\n",
      "Video extracted successfully to exercise ASL Exercise \n",
      "Processed video: ASL Exercise \n",
      "Updated checkpoint with video: ASL Exercise \n",
      "Video extracted successfully to not Sign for NOT from page 15\n",
      "Processed video: Sign for NOT from page 15\n",
      "Updated checkpoint with video: Sign for NOT from page 15\n",
      "Video extracted successfully to stamp Sign for STAMP from page 27\n",
      "Processed video: Sign for STAMP from page 27\n",
      "Updated checkpoint with video: Sign for STAMP from page 27\n"
     ]
    },
    {
     "name": "stderr",
     "output_type": "stream",
     "text": [
      "ERROR: [youtube] SNOt4hGsHaM: Video unavailable\n"
     ]
    },
    {
     "name": "stdout",
     "output_type": "stream",
     "text": [
      "Error downloading https://www.youtube.com/watch?v=SNOt4hGsHaM: ERROR: [youtube] SNOt4hGsHaM: Video unavailable\n",
      "Processed video: ASL Vocabulary Sandwich\n",
      "Updated checkpoint with video: ASL Vocabulary Sandwich\n"
     ]
    },
    {
     "name": "stderr",
     "output_type": "stream",
     "text": [
      "ERROR: [youtube] SNOt4hGsHaM: Video unavailable\n"
     ]
    },
    {
     "name": "stdout",
     "output_type": "stream",
     "text": [
      "Error downloading https://www.youtube.com/watch?v=SNOt4hGsHaM: ERROR: [youtube] SNOt4hGsHaM: Video unavailable\n",
      "Processed video: ASL Vocabulary Sandwich\n",
      "Updated checkpoint with video: ASL Vocabulary Sandwich\n",
      "Video extracted successfully to island ISLAND\n",
      "Processed video: ISLAND\n",
      "Updated checkpoint with video: ISLAND\n",
      "Video extracted successfully to apartment apartment - ASL sign for apartment\n",
      "Processed video: apartment - ASL sign for apartment\n",
      "Updated checkpoint with video: apartment - ASL sign for apartment\n",
      "Video extracted successfully to apartment apartment - ASL sign for apartment\n",
      "Processed video: apartment - ASL sign for apartment\n",
      "Updated checkpoint with video: apartment - ASL sign for apartment\n",
      "Video extracted successfully to camping ASL Dictionary - Camping\n",
      "Processed video: ASL Dictionary - Camping\n",
      "Updated checkpoint with video: ASL Dictionary - Camping\n",
      "Video extracted successfully to backpack BACKPACK(1)\n",
      "Processed video: BACKPACK(1)\n",
      "Updated checkpoint with video: BACKPACK(1)\n",
      "Video extracted successfully to animal animal - ASL sign for animal\n",
      "Processed video: animal - ASL sign for animal\n",
      "Updated checkpoint with video: animal - ASL sign for animal\n",
      "Video extracted successfully to animal animal - ASL sign for animal\n",
      "Processed video: animal - ASL sign for animal\n",
      "Updated checkpoint with video: animal - ASL sign for animal\n"
     ]
    },
    {
     "name": "stderr",
     "output_type": "stream",
     "text": [
      "ERROR: [youtube] MEScvfV9a8A: Video unavailable\n"
     ]
    },
    {
     "name": "stdout",
     "output_type": "stream",
     "text": [
      "Error downloading https://www.youtube.com/watch?v=MEScvfV9a8A: ERROR: [youtube] MEScvfV9a8A: Video unavailable\n",
      "Processed video: Baby Sign Language Brush Teeth\n",
      "Updated checkpoint with video: Baby Sign Language Brush Teeth\n",
      "Video extracted successfully to so ASL So so  \n",
      "Processed video: ASL So so  \n",
      "Updated checkpoint with video: ASL So so  \n",
      "Video extracted successfully to dress ASL Dress \n",
      "Processed video: ASL Dress \n",
      "Updated checkpoint with video: ASL Dress \n",
      "Video extracted successfully to birthday Birthday\n",
      "Processed video: Birthday\n",
      "Updated checkpoint with video: Birthday\n",
      "Video extracted successfully to belt BELT(3)\n",
      "Processed video: BELT(3)\n",
      "Updated checkpoint with video: BELT(3)\n",
      "Video extracted successfully to today Today(1)\n",
      "Processed video: Today(1)\n",
      "Updated checkpoint with video: Today(1)\n"
     ]
    },
    {
     "name": "stderr",
     "output_type": "stream",
     "text": [
      "ERROR: [youtube] ZFbI4-pPjRo: Video unavailable\n"
     ]
    },
    {
     "name": "stdout",
     "output_type": "stream",
     "text": [
      "Error downloading https://www.youtube.com/watch?v=ZFbI4-pPjRo: ERROR: [youtube] ZFbI4-pPjRo: Video unavailable\n",
      "Processed video: ASL Vocabulary Play\n",
      "Updated checkpoint with video: ASL Vocabulary Play\n",
      "Video extracted successfully to animal ASL Animal   \n",
      "Processed video: ASL Animal   \n",
      "Updated checkpoint with video: ASL Animal   \n",
      "Video extracted successfully to woman ASL Female \n",
      "Processed video: ASL Female \n",
      "Updated checkpoint with video: ASL Female \n",
      "Video extracted successfully to fine fine(1)\n",
      "Processed video: fine(1)\n",
      "Updated checkpoint with video: fine(1)\n",
      "Video extracted successfully to wood WOOD\n",
      "Processed video: WOOD\n",
      "Updated checkpoint with video: WOOD\n",
      "Video extracted successfully to forget Forget\n",
      "Processed video: Forget\n",
      "Updated checkpoint with video: Forget\n",
      "Video extracted successfully to world world\n",
      "Processed video: world\n",
      "Updated checkpoint with video: world\n"
     ]
    },
    {
     "name": "stderr",
     "output_type": "stream",
     "text": [
      "ERROR: [youtube] h-Uwu1UnfJE: Video unavailable\n"
     ]
    },
    {
     "name": "stdout",
     "output_type": "stream",
     "text": [
      "Error downloading https://www.youtube.com/watch?v=h-Uwu1UnfJE: ERROR: [youtube] h-Uwu1UnfJE: Video unavailable\n",
      "Processed video: ASL Vocabulary Today\n",
      "Updated checkpoint with video: ASL Vocabulary Today\n"
     ]
    },
    {
     "name": "stderr",
     "output_type": "stream",
     "text": [
      "ERROR: [youtube] h-Uwu1UnfJE: Video unavailable\n"
     ]
    },
    {
     "name": "stdout",
     "output_type": "stream",
     "text": [
      "Error downloading https://www.youtube.com/watch?v=h-Uwu1UnfJE: ERROR: [youtube] h-Uwu1UnfJE: Video unavailable\n",
      "Processed video: ASL Vocabulary Today\n",
      "Updated checkpoint with video: ASL Vocabulary Today\n",
      "Video extracted successfully to soon SOON  TEMPORARY\n",
      "Processed video: SOON  TEMPORARY\n",
      "Updated checkpoint with video: SOON  TEMPORARY\n",
      "Video extracted successfully to flat tire FLAT-TIRE\n",
      "Processed video: FLAT-TIRE\n",
      "Updated checkpoint with video: FLAT-TIRE\n",
      "Video extracted successfully to medicine ASL Medicine \n",
      "Processed video: ASL Medicine \n",
      "Updated checkpoint with video: ASL Medicine \n",
      "Video extracted successfully to woman ASL Woman \n",
      "Processed video: ASL Woman \n",
      "Updated checkpoint with video: ASL Woman \n",
      "Video extracted successfully to green GREEN(5)\n",
      "Processed video: GREEN(5)\n",
      "Updated checkpoint with video: GREEN(5)\n",
      "Video extracted successfully to born Born Birth\n",
      "Processed video: Born Birth\n",
      "Updated checkpoint with video: Born Birth\n",
      "Video extracted successfully to norway Norway\n",
      "Processed video: Norway\n",
      "Updated checkpoint with video: Norway\n",
      "Video extracted successfully to furniture Sign for FURNITURE from page 21\n",
      "Processed video: Sign for FURNITURE from page 21\n",
      "Updated checkpoint with video: Sign for FURNITURE from page 21\n",
      "Video extracted successfully to store STORE\n",
      "Processed video: STORE\n",
      "Updated checkpoint with video: STORE\n",
      "Video extracted successfully to long long\n",
      "Processed video: long\n",
      "Updated checkpoint with video: long\n",
      "Video extracted successfully to mother ASL Mother \n",
      "Processed video: ASL Mother \n",
      "Updated checkpoint with video: ASL Mother \n",
      "Video extracted successfully to cook COOK(2)\n",
      "Processed video: COOK(2)\n",
      "Updated checkpoint with video: COOK(2)\n",
      "Video extracted successfully to thursday ASL Thursday \n",
      "Processed video: ASL Thursday \n",
      "Updated checkpoint with video: ASL Thursday \n",
      "Video extracted successfully to night ASL Night \n",
      "Processed video: ASL Night \n",
      "Updated checkpoint with video: ASL Night \n",
      "Video extracted successfully to daughter Sign DAUGHTER\n",
      "Processed video: Sign DAUGHTER\n",
      "Updated checkpoint with video: Sign DAUGHTER\n",
      "Video extracted successfully to monkey monkey - ASL sign for monkey\n",
      "Processed video: monkey - ASL sign for monkey\n",
      "Updated checkpoint with video: monkey - ASL sign for monkey\n",
      "Video extracted successfully to monkey monkey - ASL sign for monkey\n",
      "Processed video: monkey - ASL sign for monkey\n",
      "Updated checkpoint with video: monkey - ASL sign for monkey\n",
      "Video extracted successfully to mouth MOUTH\n",
      "Processed video: MOUTH\n",
      "Updated checkpoint with video: MOUTH\n",
      "Video extracted successfully to ring RING(1)\n",
      "Processed video: RING(1)\n",
      "Updated checkpoint with video: RING(1)\n",
      "Video extracted successfully to cry ASL To Cry \n",
      "Processed video: ASL To Cry \n",
      "Updated checkpoint with video: ASL To Cry \n",
      "Video extracted successfully to buy How to sign Buy - ASL Vocabulary Series\n",
      "Processed video: How to sign Buy - ASL Vocabulary Series\n",
      "Updated checkpoint with video: How to sign Buy - ASL Vocabulary Series\n",
      "Video extracted successfully to need Need\n",
      "Processed video: Need\n",
      "Updated checkpoint with video: Need\n",
      "Video extracted successfully to before PRIOR-TO\n",
      "Processed video: PRIOR-TO\n",
      "Updated checkpoint with video: PRIOR-TO\n",
      "Video extracted successfully to sweep Sign for SWEEP\n",
      "Processed video: Sign for SWEEP\n",
      "Updated checkpoint with video: Sign for SWEEP\n",
      "Video extracted successfully to green green in American Sign Language\n",
      "Processed video: green in American Sign Language\n",
      "Updated checkpoint with video: green in American Sign Language\n",
      "Video extracted successfully to crazy CRAZY-version 2\n",
      "Processed video: CRAZY-version 2\n",
      "Updated checkpoint with video: CRAZY-version 2\n",
      "Video extracted successfully to vacuum vacuum(1)\n",
      "Processed video: vacuum(1)\n",
      "Updated checkpoint with video: vacuum(1)\n",
      "Video extracted successfully to vacuum vacuum(1)\n",
      "Processed video: vacuum(1)\n",
      "Updated checkpoint with video: vacuum(1)\n",
      "Video extracted successfully to vacuum vacuum(1)\n",
      "Processed video: vacuum(1)\n",
      "Updated checkpoint with video: vacuum(1)\n",
      "Video extracted successfully to yes yes\n",
      "Processed video: yes\n",
      "Updated checkpoint with video: yes\n",
      "Video extracted successfully to north NORTH(1)\n",
      "Processed video: NORTH(1)\n",
      "Updated checkpoint with video: NORTH(1)\n",
      "Video extracted successfully to black black(2)\n",
      "Processed video: black(2)\n",
      "Updated checkpoint with video: black(2)\n",
      "Video extracted successfully to dry DRY\n",
      "Processed video: DRY\n",
      "Updated checkpoint with video: DRY\n"
     ]
    },
    {
     "name": "stderr",
     "output_type": "stream",
     "text": [
      "ERROR: [youtube] 0-Wokz2DWCs: Video unavailable\n"
     ]
    },
    {
     "name": "stdout",
     "output_type": "stream",
     "text": [
      "Error downloading www.youtube.com/watch?v=0-Wokz2DWCs: ERROR: [youtube] 0-Wokz2DWCs: Video unavailable\n",
      "Processed video: Baby Sign Language Where\n",
      "Updated checkpoint with video: Baby Sign Language Where\n"
     ]
    },
    {
     "name": "stderr",
     "output_type": "stream",
     "text": [
      "ERROR: [youtube] xYxPi_kOD-A: Video unavailable\n"
     ]
    },
    {
     "name": "stdout",
     "output_type": "stream",
     "text": [
      "Error downloading https://www.youtube.com/watch?v=xYxPi_kOD-A: ERROR: [youtube] xYxPi_kOD-A: Video unavailable\n",
      "Processed video: ASL Vocabulary Pizza\n",
      "Updated checkpoint with video: ASL Vocabulary Pizza\n",
      "Video extracted successfully to plus PLUS(2)\n",
      "Processed video: PLUS(2)\n",
      "Updated checkpoint with video: PLUS(2)\n",
      "Video extracted successfully to africa Africa (LSF)\n",
      "Processed video: Africa (LSF)\n",
      "Updated checkpoint with video: Africa (LSF)\n"
     ]
    },
    {
     "name": "stderr",
     "output_type": "stream",
     "text": [
      "ERROR: [youtube] 5kqM18YSifY: Video unavailable\n"
     ]
    },
    {
     "name": "stdout",
     "output_type": "stream",
     "text": [
      "Error downloading https://www.youtube.com/watch?v=5kqM18YSifY: ERROR: [youtube] 5kqM18YSifY: Video unavailable\n",
      "Processed video: ASL Vocabulary where\n",
      "Updated checkpoint with video: ASL Vocabulary where\n"
     ]
    },
    {
     "name": "stderr",
     "output_type": "stream",
     "text": [
      "ERROR: [youtube] 5kqM18YSifY: Video unavailable\n"
     ]
    },
    {
     "name": "stdout",
     "output_type": "stream",
     "text": [
      "Error downloading https://www.youtube.com/watch?v=5kqM18YSifY: ERROR: [youtube] 5kqM18YSifY: Video unavailable\n",
      "Processed video: ASL Vocabulary where\n",
      "Updated checkpoint with video: ASL Vocabulary where\n",
      "Video extracted successfully to where where\n",
      "Processed video: where\n",
      "Updated checkpoint with video: where\n",
      "Video extracted successfully to forget FORGET\n",
      "Processed video: FORGET\n",
      "Updated checkpoint with video: FORGET\n"
     ]
    },
    {
     "name": "stderr",
     "output_type": "stream",
     "text": [
      "ERROR: [youtube] VOZWkbZGBTg: Video unavailable\n"
     ]
    },
    {
     "name": "stdout",
     "output_type": "stream",
     "text": [
      "Error downloading https://www.youtube.com/watch?v=VOZWkbZGBTg: ERROR: [youtube] VOZWkbZGBTg: Video unavailable\n",
      "Processed video: PARTNER\n",
      "Updated checkpoint with video: PARTNER\n",
      "Video extracted successfully to perfect PERFECT\n",
      "Processed video: PERFECT\n",
      "Updated checkpoint with video: PERFECT\n",
      "Video extracted successfully to mouse mouse(1)\n",
      "Processed video: mouse(1)\n",
      "Updated checkpoint with video: mouse(1)\n",
      "Video extracted successfully to holland Holland\n",
      "Processed video: Holland\n",
      "Updated checkpoint with video: Holland\n"
     ]
    },
    {
     "name": "stderr",
     "output_type": "stream",
     "text": [
      "ERROR: [youtube] NuduWnfAQzs: Private video. Sign in if you've been granted access to this video\n"
     ]
    },
    {
     "name": "stdout",
     "output_type": "stream",
     "text": [
      "Error downloading www.youtube.com/watch?v=NuduWnfAQzs: ERROR: [youtube] NuduWnfAQzs: Private video. Sign in if you've been granted access to this video\n",
      "Processed video: SignSchool store 2\n",
      "Updated checkpoint with video: SignSchool store 2\n",
      "Video extracted successfully to meet meet\n",
      "Processed video: meet\n",
      "Updated checkpoint with video: meet\n",
      "Video extracted successfully to innocent INNOCENT\n",
      "Processed video: INNOCENT\n",
      "Updated checkpoint with video: INNOCENT\n",
      "Video extracted successfully to christmas CHRISTMAS\n",
      "Processed video: CHRISTMAS\n",
      "Updated checkpoint with video: CHRISTMAS\n",
      "Video extracted successfully to understand ASL Understand \n",
      "Processed video: ASL Understand \n",
      "Updated checkpoint with video: ASL Understand \n",
      "Video extracted successfully to candle CANDLE\n",
      "Processed video: CANDLE\n",
      "Updated checkpoint with video: CANDLE\n"
     ]
    },
    {
     "name": "stderr",
     "output_type": "stream",
     "text": [
      "ERROR: [youtube] EoG6ZZyr6NE: Video unavailable\n"
     ]
    },
    {
     "name": "stdout",
     "output_type": "stream",
     "text": [
      "Error downloading www.youtube.com/watch?v=EoG6ZZyr6NE: ERROR: [youtube] EoG6ZZyr6NE: Video unavailable\n",
      "Processed video: lion\n",
      "Updated checkpoint with video: lion\n"
     ]
    },
    {
     "name": "stderr",
     "output_type": "stream",
     "text": [
      "ERROR: [youtube] v26GFPBHpo0: Video unavailable\n"
     ]
    },
    {
     "name": "stdout",
     "output_type": "stream",
     "text": [
      "Error downloading www.youtube.com/watch?v=v26GFPBHpo0: ERROR: [youtube] v26GFPBHpo0: Video unavailable\n",
      "Processed video: Baby Sign Language Light\n",
      "Updated checkpoint with video: Baby Sign Language Light\n",
      "Video extracted successfully to africa Africa(1)\n",
      "Processed video: Africa(1)\n",
      "Updated checkpoint with video: Africa(1)\n",
      "Video extracted successfully to israel Israel (palm back v pulled across chin)\n",
      "Processed video: Israel (palm back v pulled across chin)\n",
      "Updated checkpoint with video: Israel (palm back v pulled across chin)\n",
      "Video extracted successfully to butter ASL Butter \n",
      "Processed video: ASL Butter \n",
      "Updated checkpoint with video: ASL Butter \n",
      "Video extracted successfully to manager Manager\n",
      "Processed video: Manager\n",
      "Updated checkpoint with video: Manager\n",
      "Video extracted successfully to pear PEAR\n",
      "Processed video: PEAR\n",
      "Updated checkpoint with video: PEAR\n",
      "Video extracted successfully to school school - ASL sign for school\n",
      "Processed video: school - ASL sign for school\n",
      "Updated checkpoint with video: school - ASL sign for school\n",
      "Video extracted successfully to school school - ASL sign for school\n",
      "Processed video: school - ASL sign for school\n",
      "Updated checkpoint with video: school - ASL sign for school\n",
      "Video extracted successfully to new NEW(1)\n",
      "Processed video: NEW(1)\n",
      "Updated checkpoint with video: NEW(1)\n",
      "Video extracted successfully to store ASL Dictionary - Store\n",
      "Processed video: ASL Dictionary - Store\n",
      "Updated checkpoint with video: ASL Dictionary - Store\n",
      "Video extracted successfully to major MAJOR(1)\n",
      "Processed video: MAJOR(1)\n",
      "Updated checkpoint with video: MAJOR(1)\n",
      "Video extracted successfully to jacket jacket - ASL sign for jacket\n",
      "Processed video: jacket - ASL sign for jacket\n",
      "Updated checkpoint with video: jacket - ASL sign for jacket\n",
      "Video extracted successfully to jacket jacket - ASL sign for jacket\n",
      "Processed video: jacket - ASL sign for jacket\n",
      "Updated checkpoint with video: jacket - ASL sign for jacket\n",
      "Video extracted successfully to plus PLUS(1)\n",
      "Processed video: PLUS(1)\n",
      "Updated checkpoint with video: PLUS(1)\n",
      "Video extracted successfully to grey GREY(1)\n",
      "Processed video: GREY(1)\n",
      "Updated checkpoint with video: GREY(1)\n",
      "Video extracted successfully to sunday ASL Sunday  \n",
      "Processed video: ASL Sunday  \n",
      "Updated checkpoint with video: ASL Sunday  \n",
      "Video extracted successfully to economics ASL EconomyEconomics \n",
      "Processed video: ASL EconomyEconomics \n",
      "Updated checkpoint with video: ASL EconomyEconomics \n"
     ]
    },
    {
     "name": "stderr",
     "output_type": "stream",
     "text": [
      "ERROR: [youtube] 5mAQtD9ZaeE: Video unavailable\n"
     ]
    },
    {
     "name": "stdout",
     "output_type": "stream",
     "text": [
      "Error downloading https://www.youtube.com/watch?v=5mAQtD9ZaeE: ERROR: [youtube] 5mAQtD9ZaeE: Video unavailable\n",
      "Processed video: HALF\n",
      "Updated checkpoint with video: HALF\n",
      "Video extracted successfully to geometry GEOMETRY\n",
      "Processed video: GEOMETRY\n",
      "Updated checkpoint with video: GEOMETRY\n",
      "Video extracted successfully to center ASL Center \n",
      "Processed video: ASL Center \n",
      "Updated checkpoint with video: ASL Center \n",
      "Video extracted successfully to last week Last Week\n",
      "Processed video: Last Week\n",
      "Updated checkpoint with video: Last Week\n",
      "Video extracted successfully to man MAN(3)\n",
      "Processed video: MAN(3)\n",
      "Updated checkpoint with video: MAN(3)\n",
      "Video extracted successfully to engineer ENGINEER(1)\n",
      "Processed video: ENGINEER(1)\n",
      "Updated checkpoint with video: ENGINEER(1)\n",
      "Video extracted successfully to wall WALL(1)\n",
      "Processed video: WALL(1)\n",
      "Updated checkpoint with video: WALL(1)\n",
      "Video extracted successfully to strong Strong\n",
      "Processed video: Strong\n",
      "Updated checkpoint with video: Strong\n",
      "Video extracted successfully to jacket Coat\n",
      "Processed video: Coat\n",
      "Updated checkpoint with video: Coat\n",
      "Video extracted successfully to shoes ASL Shoes \n",
      "Processed video: ASL Shoes \n",
      "Updated checkpoint with video: ASL Shoes \n",
      "Video extracted successfully to play play - ASL sign for play\n",
      "Processed video: play - ASL sign for play\n",
      "Updated checkpoint with video: play - ASL sign for play\n",
      "Video extracted successfully to play play - ASL sign for play\n",
      "Processed video: play - ASL sign for play\n",
      "Updated checkpoint with video: play - ASL sign for play\n",
      "Video extracted successfully to play play - ASL sign for play\n",
      "Processed video: play - ASL sign for play\n",
      "Updated checkpoint with video: play - ASL sign for play\n",
      "Video extracted successfully to mouse MOUSE-computer-mouse\n",
      "Processed video: MOUSE-computer-mouse\n",
      "Updated checkpoint with video: MOUSE-computer-mouse\n",
      "Video extracted successfully to jacket ASL Coat \n",
      "Processed video: ASL Coat \n",
      "Updated checkpoint with video: ASL Coat \n",
      "Video extracted successfully to not Dont(2)\n",
      "Processed video: Dont(2)\n",
      "Updated checkpoint with video: Dont(2)\n",
      "Video extracted successfully to cook COOK(3)\n",
      "Processed video: COOK(3)\n",
      "Updated checkpoint with video: COOK(3)\n",
      "Video extracted successfully to motorcycle Motorcycle\n",
      "Processed video: Motorcycle\n",
      "Updated checkpoint with video: Motorcycle\n",
      "Video extracted successfully to belt BELT\n",
      "Processed video: BELT\n",
      "Updated checkpoint with video: BELT\n"
     ]
    },
    {
     "name": "stderr",
     "output_type": "stream",
     "text": [
      "ERROR: [youtube] 06fCXhdCtr4: Video unavailable\n"
     ]
    },
    {
     "name": "stdout",
     "output_type": "stream",
     "text": [
      "Error downloading https://www.youtube.com/watch?v=06fCXhdCtr4: ERROR: [youtube] 06fCXhdCtr4: Video unavailable\n",
      "Processed video: WOOD(3)\n",
      "Updated checkpoint with video: WOOD(3)\n",
      "Video extracted successfully to yes ASL Vocabulary yes\n",
      "Processed video: ASL Vocabulary yes\n",
      "Updated checkpoint with video: ASL Vocabulary yes\n",
      "Video extracted successfully to yes ASL Vocabulary yes\n",
      "Processed video: ASL Vocabulary yes\n",
      "Updated checkpoint with video: ASL Vocabulary yes\n",
      "Video extracted successfully to delicious DELICIOUS(2)\n",
      "Processed video: DELICIOUS(2)\n",
      "Updated checkpoint with video: DELICIOUS(2)\n",
      "Video extracted successfully to shelves SHELVES\n",
      "Processed video: SHELVES\n",
      "Updated checkpoint with video: SHELVES\n",
      "Video extracted successfully to mouth ASL Mouth \n",
      "Processed video: ASL Mouth \n",
      "Updated checkpoint with video: ASL Mouth \n",
      "Video extracted successfully to mustache MUSTACHE(1)\n",
      "Processed video: MUSTACHE(1)\n",
      "Updated checkpoint with video: MUSTACHE(1)\n",
      "Video extracted successfully to vacuum Vacuum\n",
      "Processed video: Vacuum\n",
      "Updated checkpoint with video: Vacuum\n"
     ]
    },
    {
     "name": "stderr",
     "output_type": "stream",
     "text": [
      "ERROR: [youtube] I6vvmVz7Q8E: Video unavailable\n"
     ]
    },
    {
     "name": "stdout",
     "output_type": "stream",
     "text": [
      "Error downloading www.youtube.com/watch?v=I6vvmVz7Q8E: ERROR: [youtube] I6vvmVz7Q8E: Video unavailable\n",
      "Processed video: Baby Sign Language Eat\n",
      "Updated checkpoint with video: Baby Sign Language Eat\n",
      "Video extracted successfully to i I-all-about-meself-centered\n",
      "Processed video: I-all-about-meself-centered\n",
      "Updated checkpoint with video: I-all-about-meself-centered\n",
      "Video extracted successfully to student STUDENT(1)\n",
      "Processed video: STUDENT(1)\n",
      "Updated checkpoint with video: STUDENT(1)\n",
      "Video extracted successfully to born Sign BORN\n",
      "Processed video: Sign BORN\n",
      "Updated checkpoint with video: Sign BORN\n",
      "Video extracted successfully to so So so\n",
      "Processed video: So so\n",
      "Updated checkpoint with video: So so\n",
      "Video extracted successfully to future FUTURE-general-sign\n",
      "Processed video: FUTURE-general-sign\n",
      "Updated checkpoint with video: FUTURE-general-sign\n",
      "Video extracted successfully to eat How to sign Eat - ASL Vocabulary Series\n",
      "Processed video: How to sign Eat - ASL Vocabulary Series\n",
      "Updated checkpoint with video: How to sign Eat - ASL Vocabulary Series\n",
      "Video extracted successfully to understand I understand - Asl\n",
      "Processed video: I understand - Asl\n",
      "Updated checkpoint with video: I understand - Asl\n",
      "Video extracted successfully to yes Sign for YES from page 15\n",
      "Processed video: Sign for YES from page 15\n",
      "Updated checkpoint with video: Sign for YES from page 15\n",
      "Video extracted successfully to grey grey in American Sign Language\n",
      "Processed video: grey in American Sign Language\n",
      "Updated checkpoint with video: grey in American Sign Language\n",
      "Video extracted successfully to shoes SHOES(3)\n",
      "Processed video: SHOES(3)\n",
      "Updated checkpoint with video: SHOES(3)\n",
      "Video extracted successfully to photographer PHOTOGRAPHER\n",
      "Processed video: PHOTOGRAPHER\n",
      "Updated checkpoint with video: PHOTOGRAPHER\n",
      "Video extracted successfully to shoes SHOES(2)\n",
      "Processed video: SHOES(2)\n",
      "Updated checkpoint with video: SHOES(2)\n",
      "Video extracted successfully to midnight Midnight\n",
      "Processed video: Midnight\n",
      "Updated checkpoint with video: Midnight\n",
      "Video extracted successfully to midnight Midnight\n",
      "Processed video: Midnight\n",
      "Updated checkpoint with video: Midnight\n",
      "Video extracted successfully to philippines Philippines (ASL)\n",
      "Processed video: Philippines (ASL)\n",
      "Updated checkpoint with video: Philippines (ASL)\n",
      "Video extracted successfully to meet ASL Meet \n",
      "Processed video: ASL Meet \n",
      "Updated checkpoint with video: ASL Meet \n",
      "Video extracted successfully to marry MARRIED\n",
      "Processed video: MARRIED\n",
      "Updated checkpoint with video: MARRIED\n",
      "Video extracted successfully to gold GOLD\n",
      "Processed video: GOLD\n",
      "Updated checkpoint with video: GOLD\n",
      "Video extracted successfully to equal FAIR\n",
      "Processed video: FAIR\n",
      "Updated checkpoint with video: FAIR\n",
      "Video extracted successfully to wood Sign for WOOD from page 21\n",
      "Processed video: Sign for WOOD from page 21\n",
      "Updated checkpoint with video: Sign for WOOD from page 21\n",
      "Video extracted successfully to early EARLY-backward-movement-version\n",
      "Processed video: EARLY-backward-movement-version\n",
      "Updated checkpoint with video: EARLY-backward-movement-version\n",
      "Video extracted successfully to ok OK\n",
      "Processed video: OK\n",
      "Updated checkpoint with video: OK\n",
      "Video extracted successfully to far FAR(1)\n",
      "Processed video: FAR(1)\n",
      "Updated checkpoint with video: FAR(1)\n",
      "Video extracted successfully to fine FINE(4)\n",
      "Processed video: FINE(4)\n",
      "Updated checkpoint with video: FINE(4)\n",
      "Video extracted successfully to student STUDENT-full-version\n",
      "Processed video: STUDENT-full-version\n",
      "Updated checkpoint with video: STUDENT-full-version\n"
     ]
    },
    {
     "name": "stderr",
     "output_type": "stream",
     "text": [
      "ERROR: [youtube] yiS9IHo_g_M: Video unavailable\n"
     ]
    },
    {
     "name": "stdout",
     "output_type": "stream",
     "text": [
      "Error downloading https://www.youtube.com/watch?v=yiS9IHo_g_M: ERROR: [youtube] yiS9IHo_g_M: Video unavailable\n",
      "Processed video: FUTURE\n",
      "Updated checkpoint with video: FUTURE\n",
      "Video extracted successfully to black black\n",
      "Processed video: black\n",
      "Updated checkpoint with video: black\n",
      "Video extracted successfully to birthday birthday - ASL sign for birthday\n",
      "Processed video: birthday - ASL sign for birthday\n",
      "Updated checkpoint with video: birthday - ASL sign for birthday\n",
      "Video extracted successfully to birthday birthday - ASL sign for birthday\n",
      "Processed video: birthday - ASL sign for birthday\n",
      "Updated checkpoint with video: birthday - ASL sign for birthday\n"
     ]
    },
    {
     "name": "stderr",
     "output_type": "stream",
     "text": [
      "ERROR: [youtube] X15S6liSGeA: Video unavailable\n"
     ]
    },
    {
     "name": "stdout",
     "output_type": "stream",
     "text": [
      "Error downloading www.youtube.com/watch?v=X15S6liSGeA: ERROR: [youtube] X15S6liSGeA: Video unavailable\n",
      "Processed video: goat\n",
      "Updated checkpoint with video: goat\n",
      "Video extracted successfully to year ASL Year \n",
      "Processed video: ASL Year \n",
      "Updated checkpoint with video: ASL Year \n",
      "Video extracted successfully to answer answer\n",
      "Processed video: answer\n",
      "Updated checkpoint with video: answer\n",
      "Video extracted successfully to orange ASL Orange \n",
      "Processed video: ASL Orange \n",
      "Updated checkpoint with video: ASL Orange \n",
      "Video extracted successfully to table Table\n",
      "Processed video: Table\n",
      "Updated checkpoint with video: Table\n",
      "Video extracted successfully to orange ASL Color SIGN   \n",
      "Processed video: ASL Color SIGN   \n",
      "Updated checkpoint with video: ASL Color SIGN   \n",
      "Video extracted successfully to orange ASL Color SIGN   \n",
      "Processed video: ASL Color SIGN   \n",
      "Updated checkpoint with video: ASL Color SIGN   \n",
      "Video extracted successfully to orange ASL Color SIGN   \n",
      "Processed video: ASL Color SIGN   \n",
      "Updated checkpoint with video: ASL Color SIGN   \n",
      "Video extracted successfully to blue ASL Color SIGN   \n",
      "Processed video: ASL Color SIGN   \n",
      "Updated checkpoint with video: ASL Color SIGN   \n",
      "Video extracted successfully to blue ASL Color SIGN   \n",
      "Processed video: ASL Color SIGN   \n",
      "Updated checkpoint with video: ASL Color SIGN   \n",
      "Video extracted successfully to black ASL Color SIGN   \n",
      "Processed video: ASL Color SIGN   \n",
      "Updated checkpoint with video: ASL Color SIGN   \n"
     ]
    },
    {
     "name": "stderr",
     "output_type": "stream",
     "text": [
      "ERROR: [youtube] 3zmo3ewmtfY: Private video. Sign in if you've been granted access to this video\n"
     ]
    },
    {
     "name": "stdout",
     "output_type": "stream",
     "text": [
      "Error downloading www.youtube.com/watch?v=3zmo3ewmtfY: ERROR: [youtube] 3zmo3ewmtfY: Private video. Sign in if you've been granted access to this video\n",
      "Processed video: SignSchool Cuba Australia Anthropology\n",
      "Updated checkpoint with video: SignSchool Cuba Australia Anthropology\n",
      "Video extracted successfully to vacation Holiday fluttering fingers version\n",
      "Processed video: Holiday fluttering fingers version\n",
      "Updated checkpoint with video: Holiday fluttering fingers version\n",
      "Video extracted successfully to family FAMILY-non-initialized\n",
      "Processed video: FAMILY-non-initialized\n",
      "Updated checkpoint with video: FAMILY-non-initialized\n",
      "Video extracted successfully to sweep sweep(1)\n",
      "Processed video: sweep(1)\n",
      "Updated checkpoint with video: sweep(1)\n",
      "Video extracted successfully to sweep sweep(1)\n",
      "Processed video: sweep(1)\n",
      "Updated checkpoint with video: sweep(1)\n",
      "Video extracted successfully to pizza PIZZA(2)\n",
      "Processed video: PIZZA(2)\n",
      "Updated checkpoint with video: PIZZA(2)\n",
      "Video extracted successfully to glass GLASS 2h-version\n",
      "Processed video: GLASS 2h-version\n",
      "Updated checkpoint with video: GLASS 2h-version\n",
      "Video extracted successfully to 26 26\n",
      "Processed video: 26\n",
      "Updated checkpoint with video: 26\n"
     ]
    },
    {
     "name": "stderr",
     "output_type": "stream",
     "text": [
      "ERROR: [youtube] V_CmcX4SF3s: Video unavailable\n"
     ]
    },
    {
     "name": "stdout",
     "output_type": "stream",
     "text": [
      "Error downloading https://www.youtube.com/watch?v=V_CmcX4SF3s: ERROR: [youtube] V_CmcX4SF3s: Video unavailable\n",
      "Processed video: ASL Vocabulary need\n",
      "Updated checkpoint with video: ASL Vocabulary need\n"
     ]
    },
    {
     "name": "stderr",
     "output_type": "stream",
     "text": [
      "ERROR: [youtube] V_CmcX4SF3s: Video unavailable\n"
     ]
    },
    {
     "name": "stdout",
     "output_type": "stream",
     "text": [
      "Error downloading https://www.youtube.com/watch?v=V_CmcX4SF3s: ERROR: [youtube] V_CmcX4SF3s: Video unavailable\n",
      "Processed video: ASL Vocabulary need\n",
      "Updated checkpoint with video: ASL Vocabulary need\n",
      "Video extracted successfully to night ASL Evening \n",
      "Processed video: ASL Evening \n",
      "Updated checkpoint with video: ASL Evening \n",
      "Video extracted successfully to bright ASL Bright \n",
      "Processed video: ASL Bright \n",
      "Updated checkpoint with video: ASL Bright \n",
      "Video extracted successfully to store store - ASL sign for store\n",
      "Processed video: store - ASL sign for store\n",
      "Updated checkpoint with video: store - ASL sign for store\n",
      "Video extracted successfully to store store - ASL sign for store\n",
      "Processed video: store - ASL sign for store\n",
      "Updated checkpoint with video: store - ASL sign for store\n",
      "Video extracted successfully to what's up Whats up\n",
      "Processed video: Whats up\n",
      "Updated checkpoint with video: Whats up\n",
      "Video extracted successfully to candle Sign for CANDLE from page 29\n",
      "Processed video: Sign for CANDLE from page 29\n",
      "Updated checkpoint with video: Sign for CANDLE from page 29\n",
      "Video extracted successfully to belt Next Words Clothes in ASL with captions\n",
      "Processed video: Next Words Clothes in ASL with captions\n",
      "Updated checkpoint with video: Next Words Clothes in ASL with captions\n",
      "Video extracted successfully to several SEVERAL\n",
      "Processed video: SEVERAL\n",
      "Updated checkpoint with video: SEVERAL\n",
      "Video extracted successfully to city ASL City \n",
      "Processed video: ASL City \n",
      "Updated checkpoint with video: ASL City \n",
      "Video extracted successfully to ball BALL(1)\n",
      "Processed video: BALL(1)\n",
      "Updated checkpoint with video: BALL(1)\n",
      "Video extracted successfully to breakfast BREAKFAST(1)\n",
      "Processed video: BREAKFAST(1)\n",
      "Updated checkpoint with video: BREAKFAST(1)\n",
      "Video extracted successfully to need NEED-1-movement\n",
      "Processed video: NEED-1-movement\n",
      "Updated checkpoint with video: NEED-1-movement\n"
     ]
    },
    {
     "name": "stderr",
     "output_type": "stream",
     "text": [
      "ERROR: [youtube] 8vlv4cqbW1A: Video unavailable\n"
     ]
    },
    {
     "name": "stdout",
     "output_type": "stream",
     "text": [
      "Error downloading https://www.youtube.com/watch?v=8vlv4cqbW1A: ERROR: [youtube] 8vlv4cqbW1A: Video unavailable\n",
      "Processed video: ASL Vocabulary learn\n",
      "Updated checkpoint with video: ASL Vocabulary learn\n"
     ]
    },
    {
     "name": "stderr",
     "output_type": "stream",
     "text": [
      "ERROR: [youtube] 8vlv4cqbW1A: Video unavailable\n"
     ]
    },
    {
     "name": "stdout",
     "output_type": "stream",
     "text": [
      "Error downloading https://www.youtube.com/watch?v=8vlv4cqbW1A: ERROR: [youtube] 8vlv4cqbW1A: Video unavailable\n",
      "Processed video: ASL Vocabulary learn\n",
      "Updated checkpoint with video: ASL Vocabulary learn\n",
      "Video extracted successfully to not Dont\n",
      "Processed video: Dont\n",
      "Updated checkpoint with video: Dont\n",
      "Video extracted successfully to cook Cook\n",
      "Processed video: Cook\n",
      "Updated checkpoint with video: Cook\n",
      "Video extracted successfully to dry dry - ASL sign for dry\n",
      "Processed video: dry - ASL sign for dry\n",
      "Updated checkpoint with video: dry - ASL sign for dry\n",
      "Video extracted successfully to dry dry - ASL sign for dry\n",
      "Processed video: dry - ASL sign for dry\n",
      "Updated checkpoint with video: dry - ASL sign for dry\n"
     ]
    },
    {
     "name": "stderr",
     "output_type": "stream",
     "text": [
      "ERROR: [youtube] _HJPMED-hHE: Private video. Sign in if you've been granted access to this video\n"
     ]
    },
    {
     "name": "stdout",
     "output_type": "stream",
     "text": [
      "Error downloading www.youtube.com/watch?v=_HJPMED-hHE: ERROR: [youtube] _HJPMED-hHE: Private video. Sign in if you've been granted access to this video\n",
      "Processed video: SignSchool really delicious\n",
      "Updated checkpoint with video: SignSchool really delicious\n",
      "Video extracted successfully to class ASL Class \n",
      "Processed video: ASL Class \n",
      "Updated checkpoint with video: ASL Class \n",
      "Video extracted successfully to cuba CUBA\n",
      "Processed video: CUBA\n",
      "Updated checkpoint with video: CUBA\n",
      "Video extracted successfully to expensive EXPENSIVE\n",
      "Processed video: EXPENSIVE\n",
      "Updated checkpoint with video: EXPENSIVE\n",
      "Video extracted successfully to tell TELL(1)\n",
      "Processed video: TELL(1)\n",
      "Updated checkpoint with video: TELL(1)\n",
      "Video extracted successfully to buy BUY(2)\n",
      "Processed video: BUY(2)\n",
      "Updated checkpoint with video: BUY(2)\n",
      "Video extracted successfully to medium MEDIUM\n",
      "Processed video: MEDIUM\n",
      "Updated checkpoint with video: MEDIUM\n",
      "Video extracted successfully to black Black\n",
      "Processed video: Black\n",
      "Updated checkpoint with video: Black\n",
      "Video extracted successfully to ball BALLSOFTBALL\n",
      "Processed video: BALLSOFTBALL\n",
      "Updated checkpoint with video: BALLSOFTBALL\n",
      "Video extracted successfully to building Building\n",
      "Processed video: Building\n",
      "Updated checkpoint with video: Building\n",
      "Video extracted successfully to building Building\n",
      "Processed video: Building\n",
      "Updated checkpoint with video: Building\n",
      "Video extracted successfully to daughter ASL Daughter \n",
      "Processed video: ASL Daughter \n",
      "Updated checkpoint with video: ASL Daughter \n",
      "Video extracted successfully to fine ASL Vocabulary fine\n",
      "Processed video: ASL Vocabulary fine\n",
      "Updated checkpoint with video: ASL Vocabulary fine\n",
      "Video extracted successfully to fine ASL Vocabulary fine\n",
      "Processed video: ASL Vocabulary fine\n",
      "Updated checkpoint with video: ASL Vocabulary fine\n",
      "Video extracted successfully to understand UNDERSTAND(1)\n",
      "Processed video: UNDERSTAND(1)\n",
      "Updated checkpoint with video: UNDERSTAND(1)\n",
      "Video extracted successfully to and AND(3)\n",
      "Processed video: AND(3)\n",
      "Updated checkpoint with video: AND(3)\n",
      "Video extracted successfully to eat eat\n",
      "Processed video: eat\n",
      "Updated checkpoint with video: eat\n",
      "Video extracted successfully to pear pear - ASL sign for pear\n",
      "Processed video: pear - ASL sign for pear\n",
      "Updated checkpoint with video: pear - ASL sign for pear\n",
      "Video extracted successfully to pear pear - ASL sign for pear\n",
      "Processed video: pear - ASL sign for pear\n",
      "Updated checkpoint with video: pear - ASL sign for pear\n",
      "Video extracted successfully to pear pear - ASL sign for pear\n",
      "Processed video: pear - ASL sign for pear\n",
      "Updated checkpoint with video: pear - ASL sign for pear\n"
     ]
    },
    {
     "name": "stderr",
     "output_type": "stream",
     "text": [
      "ERROR: [youtube] UvaayIDXkuw: Private video. Sign in if you've been granted access to this video\n"
     ]
    },
    {
     "name": "stdout",
     "output_type": "stream",
     "text": [
      "Error downloading www.youtube.com/watch?v=UvaayIDXkuw: ERROR: [youtube] UvaayIDXkuw: Private video. Sign in if you've been granted access to this video\n",
      "Processed video: SignSchool Meet\n",
      "Updated checkpoint with video: SignSchool Meet\n",
      "Video extracted successfully to yesterday ASL Yesterday \n",
      "Processed video: ASL Yesterday \n",
      "Updated checkpoint with video: ASL Yesterday \n"
     ]
    },
    {
     "name": "stderr",
     "output_type": "stream",
     "text": [
      "ERROR: [youtube] -WHGzWZa_gk: Video unavailable\n"
     ]
    },
    {
     "name": "stdout",
     "output_type": "stream",
     "text": [
      "Error downloading www.youtube.com/watch?v=-WHGzWZa_gk: ERROR: [youtube] -WHGzWZa_gk: Video unavailable\n",
      "Processed video: yes b\n",
      "Updated checkpoint with video: yes b\n"
     ]
    },
    {
     "name": "stderr",
     "output_type": "stream",
     "text": [
      "ERROR: [youtube] NPwtA5-E95M: Video unavailable\n"
     ]
    },
    {
     "name": "stdout",
     "output_type": "stream",
     "text": [
      "Error downloading www.youtube.com/watch?v=NPwtA5-E95M: ERROR: [youtube] NPwtA5-E95M: Video unavailable\n",
      "Processed video: Baby Sign Language Monkey\n",
      "Updated checkpoint with video: Baby Sign Language Monkey\n"
     ]
    },
    {
     "name": "stderr",
     "output_type": "stream",
     "text": [
      "ERROR: [youtube] LtlRiqpwlEU: Video unavailable\n"
     ]
    },
    {
     "name": "stdout",
     "output_type": "stream",
     "text": [
      "Error downloading https://www.youtube.com/watch?v=LtlRiqpwlEU: ERROR: [youtube] LtlRiqpwlEU: Video unavailable\n",
      "Processed video: Baby Sign Language Down\n",
      "Updated checkpoint with video: Baby Sign Language Down\n",
      "Video extracted successfully to green green-color\n",
      "Processed video: green-color\n",
      "Updated checkpoint with video: green-color\n",
      "Video extracted successfully to table TABLE(2)\n",
      "Processed video: TABLE(2)\n",
      "Updated checkpoint with video: TABLE(2)\n",
      "Video extracted successfully to africa AFRICA(1)\n",
      "Processed video: AFRICA(1)\n",
      "Updated checkpoint with video: AFRICA(1)\n",
      "Video extracted successfully to meet MEET(1)\n",
      "Processed video: MEET(1)\n",
      "Updated checkpoint with video: MEET(1)\n"
     ]
    },
    {
     "name": "stderr",
     "output_type": "stream",
     "text": [
      "ERROR: [youtube] hnQVdVtj2Xo: Video unavailable\n"
     ]
    },
    {
     "name": "stdout",
     "output_type": "stream",
     "text": [
      "Error downloading https://www.youtube.com/watch?v=hnQVdVtj2Xo: ERROR: [youtube] hnQVdVtj2Xo: Video unavailable\n",
      "Processed video: ASL Vocabulary understand\n",
      "Updated checkpoint with video: ASL Vocabulary understand\n"
     ]
    },
    {
     "name": "stderr",
     "output_type": "stream",
     "text": [
      "ERROR: [youtube] hnQVdVtj2Xo: Video unavailable\n"
     ]
    },
    {
     "name": "stdout",
     "output_type": "stream",
     "text": [
      "Error downloading https://www.youtube.com/watch?v=hnQVdVtj2Xo: ERROR: [youtube] hnQVdVtj2Xo: Video unavailable\n",
      "Processed video: ASL Vocabulary understand\n",
      "Updated checkpoint with video: ASL Vocabulary understand\n",
      "Video extracted successfully to dry DRY(1)\n",
      "Processed video: DRY(1)\n",
      "Updated checkpoint with video: DRY(1)\n",
      "Video extracted successfully to use use (palm back version)\n",
      "Processed video: use (palm back version)\n",
      "Updated checkpoint with video: use (palm back version)\n",
      "Video extracted successfully to closet CLOSET-(HANG-UP-LINE-OF)\n",
      "Processed video: CLOSET-(HANG-UP-LINE-OF)\n",
      "Updated checkpoint with video: CLOSET-(HANG-UP-LINE-OF)\n",
      "Video extracted successfully to use use (palm forward version)\n",
      "Processed video: use (palm forward version)\n",
      "Updated checkpoint with video: use (palm forward version)\n",
      "Video extracted successfully to husband Sign HUSBAND\n",
      "Processed video: Sign HUSBAND\n",
      "Updated checkpoint with video: Sign HUSBAND\n",
      "Video extracted successfully to last week LAST-WEEK past-WEEK\n",
      "Processed video: LAST-WEEK past-WEEK\n",
      "Updated checkpoint with video: LAST-WEEK past-WEEK\n",
      "Video extracted successfully to school SCHOOL(2)\n",
      "Processed video: SCHOOL(2)\n",
      "Updated checkpoint with video: SCHOOL(2)\n",
      "Video extracted successfully to senior SENIOR\n",
      "Processed video: SENIOR\n",
      "Updated checkpoint with video: SENIOR\n",
      "Video extracted successfully to understand understand - ASL sign for understand\n",
      "Processed video: understand - ASL sign for understand\n",
      "Updated checkpoint with video: understand - ASL sign for understand\n",
      "Video extracted successfully to understand understand - ASL sign for understand\n",
      "Processed video: understand - ASL sign for understand\n",
      "Updated checkpoint with video: understand - ASL sign for understand\n",
      "Video extracted successfully to jacket jacket\n",
      "Processed video: jacket\n",
      "Updated checkpoint with video: jacket\n"
     ]
    },
    {
     "name": "stderr",
     "output_type": "stream",
     "text": [
      "ERROR: [youtube] X6iwAq58A6U: Video unavailable\n"
     ]
    },
    {
     "name": "stdout",
     "output_type": "stream",
     "text": [
      "Error downloading https://www.youtube.com/watch?v=X6iwAq58A6U: ERROR: [youtube] X6iwAq58A6U: Video unavailable\n",
      "Processed video: ASL Vocabulary maybe\n",
      "Updated checkpoint with video: ASL Vocabulary maybe\n"
     ]
    },
    {
     "name": "stderr",
     "output_type": "stream",
     "text": [
      "ERROR: [youtube] X6iwAq58A6U: Video unavailable\n"
     ]
    },
    {
     "name": "stdout",
     "output_type": "stream",
     "text": [
      "Error downloading https://www.youtube.com/watch?v=X6iwAq58A6U: ERROR: [youtube] X6iwAq58A6U: Video unavailable\n",
      "Processed video: ASL Vocabulary maybe\n",
      "Updated checkpoint with video: ASL Vocabulary maybe\n"
     ]
    },
    {
     "name": "stderr",
     "output_type": "stream",
     "text": [
      "ERROR: [youtube] 1QJT9gUN0Vs: Video unavailable\n"
     ]
    },
    {
     "name": "stdout",
     "output_type": "stream",
     "text": [
      "Error downloading www.youtube.com/watch?v=1QJT9gUN0Vs: ERROR: [youtube] 1QJT9gUN0Vs: Video unavailable\n",
      "Processed video: gold 3\n",
      "Updated checkpoint with video: gold 3\n",
      "Video extracted successfully to future FUTURE(2)\n",
      "Processed video: FUTURE(2)\n",
      "Updated checkpoint with video: FUTURE(2)\n",
      "Video extracted successfully to microwave MICROWAVE-version\n",
      "Processed video: MICROWAVE-version\n",
      "Updated checkpoint with video: MICROWAVE-version\n",
      "Video extracted successfully to fine FINE-good\n",
      "Processed video: FINE-good\n",
      "Updated checkpoint with video: FINE-good\n",
      "Video extracted successfully to eat EAT\n",
      "Processed video: EAT\n",
      "Updated checkpoint with video: EAT\n",
      "Video extracted successfully to janitor Custodian Janitor\n",
      "Processed video: Custodian Janitor\n",
      "Updated checkpoint with video: Custodian Janitor\n",
      "Video extracted successfully to happy Happy\n",
      "Processed video: Happy\n",
      "Updated checkpoint with video: Happy\n",
      "Video extracted successfully to apartment Apartment\n",
      "Processed video: Apartment\n",
      "Updated checkpoint with video: Apartment\n",
      "Video extracted successfully to apartment Apartment\n",
      "Processed video: Apartment\n",
      "Updated checkpoint with video: Apartment\n",
      "Video extracted successfully to every week every week\n",
      "Processed video: every week\n",
      "Updated checkpoint with video: every week\n",
      "Video extracted successfully to hashtag HASHTAG\n",
      "Processed video: HASHTAG\n",
      "Updated checkpoint with video: HASHTAG\n",
      "Video extracted successfully to student ASL Student \n",
      "Processed video: ASL Student \n",
      "Updated checkpoint with video: ASL Student \n",
      "Video extracted successfully to draw ASL Art \n",
      "Processed video: ASL Art \n",
      "Updated checkpoint with video: ASL Art \n"
     ]
    },
    {
     "name": "stderr",
     "output_type": "stream",
     "text": [
      "ERROR: [youtube] 4nMNMyBAXQw: Video unavailable\n"
     ]
    },
    {
     "name": "stdout",
     "output_type": "stream",
     "text": [
      "Error downloading https://www.youtube.com/watch?v=4nMNMyBAXQw: ERROR: [youtube] 4nMNMyBAXQw: Video unavailable\n",
      "Processed video: VISIT\n",
      "Updated checkpoint with video: VISIT\n",
      "Video extracted successfully to bed ASL Bed \n",
      "Processed video: ASL Bed \n",
      "Updated checkpoint with video: ASL Bed \n",
      "Video extracted successfully to animal Animal\n",
      "Processed video: Animal\n",
      "Updated checkpoint with video: Animal\n",
      "Video extracted successfully to shoes Shoes\n",
      "Processed video: Shoes\n",
      "Updated checkpoint with video: Shoes\n",
      "Video extracted successfully to strict STRICT-hard-nosed\n",
      "Processed video: STRICT-hard-nosed\n",
      "Updated checkpoint with video: STRICT-hard-nosed\n",
      "Video extracted successfully to vacation Vacation\n",
      "Processed video: Vacation\n",
      "Updated checkpoint with video: Vacation\n",
      "Video extracted successfully to cat ASL Cat \n",
      "Processed video: ASL Cat \n",
      "Updated checkpoint with video: ASL Cat \n",
      "Video extracted successfully to decide ASL Decide \n",
      "Processed video: ASL Decide \n",
      "Updated checkpoint with video: ASL Decide \n",
      "Video extracted successfully to bath bath\n",
      "Processed video: bath\n",
      "Updated checkpoint with video: bath\n",
      "Video extracted successfully to mustache MUSTACHE(5)\n",
      "Processed video: MUSTACHE(5)\n",
      "Updated checkpoint with video: MUSTACHE(5)\n"
     ]
    },
    {
     "name": "stderr",
     "output_type": "stream",
     "text": [
      "ERROR: [youtube] XaVjrSYXUgc: Video unavailable\n"
     ]
    },
    {
     "name": "stdout",
     "output_type": "stream",
     "text": [
      "Error downloading www.youtube.com/watch?v=XaVjrSYXUgc: ERROR: [youtube] XaVjrSYXUgc: Video unavailable\n",
      "Processed video: Baby Sign Language Moon\n",
      "Updated checkpoint with video: Baby Sign Language Moon\n",
      "Video extracted successfully to fire ASL Fire \n",
      "Processed video: ASL Fire \n",
      "Updated checkpoint with video: ASL Fire \n",
      "Video extracted successfully to noon NOON(1)\n",
      "Processed video: NOON(1)\n",
      "Updated checkpoint with video: NOON(1)\n",
      "Video extracted successfully to break up break up\n",
      "Processed video: break up\n",
      "Updated checkpoint with video: break up\n",
      "Video extracted successfully to last year LAST YEAR\n",
      "Processed video: LAST YEAR\n",
      "Updated checkpoint with video: LAST YEAR\n",
      "Video extracted successfully to use Use\n",
      "Processed video: Use\n",
      "Updated checkpoint with video: Use\n",
      "Video extracted successfully to early Early\n",
      "Processed video: Early\n",
      "Updated checkpoint with video: Early\n",
      "Video extracted successfully to but BUT(1)\n",
      "Processed video: BUT(1)\n",
      "Updated checkpoint with video: BUT(1)\n",
      "Video extracted successfully to next year ASL Next year  \n",
      "Processed video: ASL Next year  \n",
      "Updated checkpoint with video: ASL Next year  \n",
      "Video extracted successfully to black BLACK(1)\n",
      "Processed video: BLACK(1)\n",
      "Updated checkpoint with video: BLACK(1)\n",
      "Video extracted successfully to wall WALL\n",
      "Processed video: WALL\n",
      "Updated checkpoint with video: WALL\n",
      "Video extracted successfully to play Play\n",
      "Processed video: Play\n",
      "Updated checkpoint with video: Play\n",
      "Video extracted successfully to man ASL Man \n",
      "Processed video: ASL Man \n",
      "Updated checkpoint with video: ASL Man \n",
      "Video extracted successfully to disappointed ASL Disappointed \n",
      "Processed video: ASL Disappointed \n",
      "Updated checkpoint with video: ASL Disappointed \n",
      "Video extracted successfully to in IN(1)\n",
      "Processed video: IN(1)\n",
      "Updated checkpoint with video: IN(1)\n",
      "Video extracted successfully to door DOOR\n",
      "Processed video: DOOR\n",
      "Updated checkpoint with video: DOOR\n",
      "Video extracted successfully to learn Learn\n",
      "Processed video: Learn\n",
      "Updated checkpoint with video: Learn\n",
      "Video extracted successfully to blue ASL Blue \n",
      "Processed video: ASL Blue \n",
      "Updated checkpoint with video: ASL Blue \n",
      "Video extracted successfully to front FRONT(1)\n",
      "Processed video: FRONT(1)\n",
      "Updated checkpoint with video: FRONT(1)\n",
      "Video extracted successfully to cow ASL Cow \n",
      "Processed video: ASL Cow \n",
      "Updated checkpoint with video: ASL Cow \n",
      "Video extracted successfully to soon ASL Soon \n",
      "Processed video: ASL Soon \n",
      "Updated checkpoint with video: ASL Soon \n",
      "Video extracted successfully to where Where\n",
      "Processed video: Where\n",
      "Updated checkpoint with video: Where\n",
      "Video extracted successfully to holland Netherlands\n",
      "Processed video: Netherlands\n",
      "Updated checkpoint with video: Netherlands\n",
      "Video extracted successfully to boots Boots\n",
      "Processed video: Boots\n",
      "Updated checkpoint with video: Boots\n",
      "Video extracted successfully to cafeteria CAFETERIA(2)\n",
      "Processed video: CAFETERIA(2)\n",
      "Updated checkpoint with video: CAFETERIA(2)\n",
      "Video extracted successfully to important essential-IMPORTANT\n",
      "Processed video: essential-IMPORTANT\n",
      "Updated checkpoint with video: essential-IMPORTANT\n",
      "Video extracted successfully to wall Wall(1)\n",
      "Processed video: Wall(1)\n",
      "Updated checkpoint with video: Wall(1)\n",
      "Video extracted successfully to wall Wall(1)\n",
      "Processed video: Wall(1)\n",
      "Updated checkpoint with video: Wall(1)\n",
      "Video extracted successfully to living room ASL Living-room \n",
      "Processed video: ASL Living-room \n",
      "Updated checkpoint with video: ASL Living-room \n"
     ]
    },
    {
     "name": "stderr",
     "output_type": "stream",
     "text": [
      "ERROR: [youtube] lYZk-ZzQpqs: Video unavailable\n"
     ]
    },
    {
     "name": "stdout",
     "output_type": "stream",
     "text": [
      "Error downloading www.youtube.com/watch?v=lYZk-ZzQpqs: ERROR: [youtube] lYZk-ZzQpqs: Video unavailable\n",
      "Processed video: 9\n",
      "Updated checkpoint with video: 9\n",
      "Video extracted successfully to teach ASL Teach \n",
      "Processed video: ASL Teach \n",
      "Updated checkpoint with video: ASL Teach \n",
      "Video extracted successfully to pizza ASL Pizza \n",
      "Processed video: ASL Pizza \n",
      "Updated checkpoint with video: ASL Pizza \n",
      "Video extracted successfully to all morning ALL MORNING\n",
      "Processed video: ALL MORNING\n",
      "Updated checkpoint with video: ALL MORNING\n",
      "Video extracted successfully to metal METAL\n",
      "Processed video: METAL\n",
      "Updated checkpoint with video: METAL\n",
      "Video extracted successfully to break up break-up (ASL)\n",
      "Processed video: break-up (ASL)\n",
      "Updated checkpoint with video: break-up (ASL)\n",
      "Video extracted successfully to sandwich ASL Sandwich \n",
      "Processed video: ASL Sandwich \n",
      "Updated checkpoint with video: ASL Sandwich \n",
      "Video extracted successfully to door DOOR(3)\n",
      "Processed video: DOOR(3)\n",
      "Updated checkpoint with video: DOOR(3)\n",
      "Video extracted successfully to sandwich SANDWICH(1)\n",
      "Processed video: SANDWICH(1)\n",
      "Updated checkpoint with video: SANDWICH(1)\n",
      "Video extracted successfully to single ASL Single \n",
      "Processed video: ASL Single \n",
      "Updated checkpoint with video: ASL Single \n",
      "Video extracted successfully to medium MEDIUM-drink\n",
      "Processed video: MEDIUM-drink\n",
      "Updated checkpoint with video: MEDIUM-drink\n",
      "Video extracted successfully to mustache MUSTACHE(3)\n",
      "Processed video: MUSTACHE(3)\n",
      "Updated checkpoint with video: MUSTACHE(3)\n",
      "Video extracted successfully to maybe MAYBE-may might\n",
      "Processed video: MAYBE-may might\n",
      "Updated checkpoint with video: MAYBE-may might\n",
      "Video extracted successfully to dish DISH\n",
      "Processed video: DISH\n",
      "Updated checkpoint with video: DISH\n",
      "Video extracted successfully to hour HOUR(2)\n",
      "Processed video: HOUR(2)\n",
      "Updated checkpoint with video: HOUR(2)\n"
     ]
    },
    {
     "name": "stderr",
     "output_type": "stream",
     "text": [
      "ERROR: [youtube] ihtOWVTDdoM: Private video. Sign in if you've been granted access to this video\n"
     ]
    },
    {
     "name": "stdout",
     "output_type": "stream",
     "text": [
      "Error downloading www.youtube.com/watch?v=ihtOWVTDdoM: ERROR: [youtube] ihtOWVTDdoM: Private video. Sign in if you've been granted access to this video\n",
      "Processed video: SignSchool Front\n",
      "Updated checkpoint with video: SignSchool Front\n",
      "Video extracted successfully to and and\n",
      "Processed video: and\n",
      "Updated checkpoint with video: and\n",
      "Video extracted successfully to worm WORM(2)\n",
      "Processed video: WORM(2)\n",
      "Updated checkpoint with video: WORM(2)\n"
     ]
    },
    {
     "name": "stderr",
     "output_type": "stream",
     "text": [
      "ERROR: [youtube] qofgGwavA8k: Video unavailable\n"
     ]
    },
    {
     "name": "stdout",
     "output_type": "stream",
     "text": [
      "Error downloading www.youtube.com/watch?v=qofgGwavA8k: ERROR: [youtube] qofgGwavA8k: Video unavailable\n",
      "Processed video: Baby Sign Language Careful\n",
      "Updated checkpoint with video: Baby Sign Language Careful\n",
      "Video extracted successfully to husband HUSBAND(1)\n",
      "Processed video: HUSBAND(1)\n",
      "Updated checkpoint with video: HUSBAND(1)\n"
     ]
    },
    {
     "name": "stderr",
     "output_type": "stream",
     "text": [
      "ERROR: [youtube] AFQ1q4iF_08: Video unavailable\n"
     ]
    },
    {
     "name": "stdout",
     "output_type": "stream",
     "text": [
      "Error downloading https://www.youtube.com/watch?v=AFQ1q4iF_08: ERROR: [youtube] AFQ1q4iF_08: Video unavailable\n",
      "Processed video: MARRY\n",
      "Updated checkpoint with video: MARRY\n"
     ]
    },
    {
     "name": "stderr",
     "output_type": "stream",
     "text": [
      "ERROR: [youtube] gfrWv86jq68: Video unavailable\n"
     ]
    },
    {
     "name": "stdout",
     "output_type": "stream",
     "text": [
      "Error downloading www.youtube.com/watch?v=gfrWv86jq68: ERROR: [youtube] gfrWv86jq68: Video unavailable\n",
      "Processed video: Baby Sign Language I\n",
      "Updated checkpoint with video: Baby Sign Language I\n"
     ]
    },
    {
     "name": "stderr",
     "output_type": "stream",
     "text": [
      "ERROR: [youtube] B79LCAc3-x0: Video unavailable\n"
     ]
    },
    {
     "name": "stdout",
     "output_type": "stream",
     "text": [
      "Error downloading www.youtube.com/watch?v=B79LCAc3-x0: ERROR: [youtube] B79LCAc3-x0: Video unavailable\n",
      "Processed video: thirsty\n",
      "Updated checkpoint with video: thirsty\n",
      "Video extracted successfully to green Green\n",
      "Processed video: Green\n",
      "Updated checkpoint with video: Green\n",
      "Video extracted successfully to israel Israel\n",
      "Processed video: Israel\n",
      "Updated checkpoint with video: Israel\n",
      "Video extracted successfully to buy Buy\n",
      "Processed video: Buy\n",
      "Updated checkpoint with video: Buy\n",
      "Video extracted successfully to shoes shoes - ASL sign for shoes\n",
      "Processed video: shoes - ASL sign for shoes\n",
      "Updated checkpoint with video: shoes - ASL sign for shoes\n",
      "Video extracted successfully to shoes shoes - ASL sign for shoes\n",
      "Processed video: shoes - ASL sign for shoes\n",
      "Updated checkpoint with video: shoes - ASL sign for shoes\n"
     ]
    },
    {
     "name": "stderr",
     "output_type": "stream",
     "text": [
      "ERROR: [youtube] fbSkLYhi7OE: Video unavailable\n"
     ]
    },
    {
     "name": "stdout",
     "output_type": "stream",
     "text": [
      "Error downloading www.youtube.com/watch?v=fbSkLYhi7OE: ERROR: [youtube] fbSkLYhi7OE: Video unavailable\n",
      "Processed video: Baby Sign Language Happy\n",
      "Updated checkpoint with video: Baby Sign Language Happy\n"
     ]
    },
    {
     "name": "stderr",
     "output_type": "stream",
     "text": [
      "ERROR: [youtube] ZVjxbwioYmU: Video unavailable\n"
     ]
    },
    {
     "name": "stdout",
     "output_type": "stream",
     "text": [
      "Error downloading https://www.youtube.com/watch?v=ZVjxbwioYmU: ERROR: [youtube] ZVjxbwioYmU: Video unavailable\n",
      "Processed video: Baby Sign Language Dont\n",
      "Updated checkpoint with video: Baby Sign Language Dont\n",
      "Video extracted successfully to new New\n",
      "Processed video: New\n",
      "Updated checkpoint with video: New\n",
      "Video extracted successfully to silly SILLY(1)\n",
      "Processed video: SILLY(1)\n",
      "Updated checkpoint with video: SILLY(1)\n",
      "Video extracted successfully to black BLACK COLOR ASL\n",
      "Processed video: BLACK COLOR ASL\n",
      "Updated checkpoint with video: BLACK COLOR ASL\n",
      "Video extracted successfully to important essential-MUSTneed\n",
      "Processed video: essential-MUSTneed\n",
      "Updated checkpoint with video: essential-MUSTneed\n",
      "Video extracted successfully to still STILL\n",
      "Processed video: STILL\n",
      "Updated checkpoint with video: STILL\n",
      "Video extracted successfully to happy ASL Vocabulary happy\n",
      "Processed video: ASL Vocabulary happy\n",
      "Updated checkpoint with video: ASL Vocabulary happy\n",
      "Video extracted successfully to happy ASL Vocabulary happy\n",
      "Processed video: ASL Vocabulary happy\n",
      "Updated checkpoint with video: ASL Vocabulary happy\n",
      "Video extracted successfully to jealous JEALOUS(1)\n",
      "Processed video: JEALOUS(1)\n",
      "Updated checkpoint with video: JEALOUS(1)\n",
      "Video extracted successfully to today Today\n",
      "Processed video: Today\n",
      "Updated checkpoint with video: Today\n",
      "Video extracted successfully to today Today\n",
      "Processed video: Today\n",
      "Updated checkpoint with video: Today\n",
      "Video extracted successfully to today Today\n",
      "Processed video: Today\n",
      "Updated checkpoint with video: Today\n"
     ]
    },
    {
     "name": "stderr",
     "output_type": "stream",
     "text": [
      "ERROR: [youtube] ZelCAT41qr0: Video unavailable\n"
     ]
    },
    {
     "name": "stdout",
     "output_type": "stream",
     "text": [
      "Error downloading www.youtube.com/watch?v=ZelCAT41qr0: ERROR: [youtube] ZelCAT41qr0: Video unavailable\n",
      "Processed video: Baby Sign Language Fourteen\n",
      "Updated checkpoint with video: Baby Sign Language Fourteen\n",
      "Video extracted successfully to cute ASL Cute \n",
      "Processed video: ASL Cute \n",
      "Updated checkpoint with video: ASL Cute \n",
      "Video extracted successfully to photographer Photographer\n",
      "Processed video: Photographer\n",
      "Updated checkpoint with video: Photographer\n",
      "Video extracted successfully to sweep Sweep\n",
      "Processed video: Sweep\n",
      "Updated checkpoint with video: Sweep\n",
      "Video extracted successfully to thanksgiving THANKSGIVING-crest-version\n",
      "Processed video: THANKSGIVING-crest-version\n",
      "Updated checkpoint with video: THANKSGIVING-crest-version\n"
     ]
    },
    {
     "name": "stderr",
     "output_type": "stream",
     "text": [
      "ERROR: [youtube] cd4Ixihgu3Q: Video unavailable\n"
     ]
    },
    {
     "name": "stdout",
     "output_type": "stream",
     "text": [
      "Error downloading www.youtube.com/watch?v=cd4Ixihgu3Q: ERROR: [youtube] cd4Ixihgu3Q: Video unavailable\n",
      "Processed video: green(1)\n",
      "Updated checkpoint with video: green(1)\n"
     ]
    },
    {
     "name": "stderr",
     "output_type": "stream",
     "text": [
      "ERROR: [youtube] W5PHoo-D-Ck: Video unavailable\n"
     ]
    },
    {
     "name": "stdout",
     "output_type": "stream",
     "text": [
      "Error downloading www.youtube.com/watch?v=W5PHoo-D-Ck: ERROR: [youtube] W5PHoo-D-Ck: Video unavailable\n",
      "Processed video: Baby Sign Language Push\n",
      "Updated checkpoint with video: Baby Sign Language Push\n",
      "Video extracted successfully to fine Fine\n",
      "Processed video: Fine\n",
      "Updated checkpoint with video: Fine\n",
      "Video extracted successfully to due Due\n",
      "Processed video: Due\n",
      "Updated checkpoint with video: Due\n",
      "Video extracted successfully to hi Hi\n",
      "Processed video: Hi\n",
      "Updated checkpoint with video: Hi\n",
      "Video extracted successfully to learn ASL Learn \n",
      "Processed video: ASL Learn \n",
      "Updated checkpoint with video: ASL Learn \n"
     ]
    },
    {
     "name": "stderr",
     "output_type": "stream",
     "text": [
      "ERROR: [youtube] pt9bV_EvcaU: Private video. Sign in if you've been granted access to this video\n"
     ]
    },
    {
     "name": "stdout",
     "output_type": "stream",
     "text": [
      "Error downloading https://www.youtube.com/watch?v=pt9bV_EvcaU: ERROR: [youtube] pt9bV_EvcaU: Private video. Sign in if you've been granted access to this video\n",
      "Processed video: asl come on\n",
      "Updated checkpoint with video: asl come on\n"
     ]
    },
    {
     "name": "stderr",
     "output_type": "stream",
     "text": [
      "ERROR: [youtube] lsPdSIbEPSk: Video unavailable\n"
     ]
    },
    {
     "name": "stdout",
     "output_type": "stream",
     "text": [
      "Error downloading www.youtube.com/watch?v=lsPdSIbEPSk: ERROR: [youtube] lsPdSIbEPSk: Video unavailable\n",
      "Processed video: microwave 2\n",
      "Updated checkpoint with video: microwave 2\n"
     ]
    },
    {
     "name": "stderr",
     "output_type": "stream",
     "text": [
      "ERROR: [youtube] mJVC9oI13Lo: Private video. Sign in if you've been granted access to this video\n"
     ]
    },
    {
     "name": "stdout",
     "output_type": "stream",
     "text": [
      "Error downloading www.youtube.com/watch?v=mJVC9oI13Lo: ERROR: [youtube] mJVC9oI13Lo: Private video. Sign in if you've been granted access to this video\n",
      "Processed video: SignSchool Pizza\n",
      "Updated checkpoint with video: SignSchool Pizza\n"
     ]
    },
    {
     "name": "stderr",
     "output_type": "stream",
     "text": [
      "ERROR: [youtube] O_vG7MMoSLE: Private video. Sign in if you've been granted access to this video\n"
     ]
    },
    {
     "name": "stdout",
     "output_type": "stream",
     "text": [
      "Error downloading www.youtube.com/watch?v=O_vG7MMoSLE: ERROR: [youtube] O_vG7MMoSLE: Private video. Sign in if you've been granted access to this video\n",
      "Processed video: SignSchool Tape Deposit\n",
      "Updated checkpoint with video: SignSchool Tape Deposit\n"
     ]
    },
    {
     "name": "stderr",
     "output_type": "stream",
     "text": [
      "ERROR: [youtube] Rfnpk9fqpGI: Video unavailable\n"
     ]
    },
    {
     "name": "stdout",
     "output_type": "stream",
     "text": [
      "Error downloading https://www.youtube.com/watch?v=Rfnpk9fqpGI: ERROR: [youtube] Rfnpk9fqpGI: Video unavailable\n",
      "Processed video: DAUGHTER\n",
      "Updated checkpoint with video: DAUGHTER\n"
     ]
    },
    {
     "name": "stderr",
     "output_type": "stream",
     "text": [
      "ERROR: [youtube] 0T6SohUrRSw: Private video. Sign in if you've been granted access to this video\n"
     ]
    },
    {
     "name": "stdout",
     "output_type": "stream",
     "text": [
      "Error downloading www.youtube.com/watch?v=0T6SohUrRSw: ERROR: [youtube] 0T6SohUrRSw: Private video. Sign in if you've been granted access to this video\n",
      "Processed video: SignSchool Strong 2\n",
      "Updated checkpoint with video: SignSchool Strong 2\n"
     ]
    },
    {
     "name": "stderr",
     "output_type": "stream",
     "text": [
      "ERROR: [youtube] HbZNXikzaow: Private video. Sign in if you've been granted access to this video\n"
     ]
    },
    {
     "name": "stdout",
     "output_type": "stream",
     "text": [
      "Error downloading www.youtube.com/watch?v=HbZNXikzaow: ERROR: [youtube] HbZNXikzaow: Private video. Sign in if you've been granted access to this video\n",
      "Processed video: SignSchool I Ask You\n",
      "Updated checkpoint with video: SignSchool I Ask You\n",
      "Video extracted successfully to table DESK\n",
      "Processed video: DESK\n",
      "Updated checkpoint with video: DESK\n"
     ]
    },
    {
     "name": "stderr",
     "output_type": "stream",
     "text": [
      "ERROR: [youtube] IH-OrQBLrxA: Private video. Sign in if you've been granted access to this video\n"
     ]
    },
    {
     "name": "stdout",
     "output_type": "stream",
     "text": [
      "Error downloading www.youtube.com/watch?v=IH-OrQBLrxA: ERROR: [youtube] IH-OrQBLrxA: Private video. Sign in if you've been granted access to this video\n",
      "Processed video: SignSchool Senior SR\n",
      "Updated checkpoint with video: SignSchool Senior SR\n"
     ]
    },
    {
     "name": "stderr",
     "output_type": "stream",
     "text": [
      "ERROR: [youtube] lONRcINrW-A: Private video. Sign in if you've been granted access to this video\n"
     ]
    },
    {
     "name": "stdout",
     "output_type": "stream",
     "text": [
      "Error downloading www.youtube.com/watch?v=lONRcINrW-A: ERROR: [youtube] lONRcINrW-A: Private video. Sign in if you've been granted access to this video\n",
      "Processed video: SignSchool Elevator Doors Open Wall\n",
      "Updated checkpoint with video: SignSchool Elevator Doors Open Wall\n"
     ]
    },
    {
     "name": "stderr",
     "output_type": "stream",
     "text": [
      "ERROR: [youtube] Fsuz7K3EKaA: Private video. Sign in if you've been granted access to this video\n"
     ]
    },
    {
     "name": "stdout",
     "output_type": "stream",
     "text": [
      "Error downloading www.youtube.com/watch?v=Fsuz7K3EKaA: ERROR: [youtube] Fsuz7K3EKaA: Private video. Sign in if you've been granted access to this video\n",
      "Processed video: SignSchool Mouse\n",
      "Updated checkpoint with video: SignSchool Mouse\n",
      "Video extracted successfully to appointment APPOINTMENT(1)\n",
      "Processed video: APPOINTMENT(1)\n",
      "Updated checkpoint with video: APPOINTMENT(1)\n"
     ]
    },
    {
     "name": "stderr",
     "output_type": "stream",
     "text": [
      "ERROR: [youtube] jLBvstHqoZE: Private video. Sign in if you've been granted access to this video\n"
     ]
    },
    {
     "name": "stdout",
     "output_type": "stream",
     "text": [
      "Error downloading https://www.youtube.com/watch?v=jLBvstHqoZE: ERROR: [youtube] jLBvstHqoZE: Private video. Sign in if you've been granted access to this video\n",
      "Processed video: ASL MIDNIGHT\n",
      "Updated checkpoint with video: ASL MIDNIGHT\n",
      "Video extracted successfully to letter LETTER(4)\n",
      "Processed video: LETTER(4)\n",
      "Updated checkpoint with video: LETTER(4)\n"
     ]
    },
    {
     "name": "stderr",
     "output_type": "stream",
     "text": [
      "ERROR: [youtube] Kl-MGSf9U3s: Video unavailable\n"
     ]
    },
    {
     "name": "stdout",
     "output_type": "stream",
     "text": [
      "Error downloading www.youtube.com/watch?v=Kl-MGSf9U3s: ERROR: [youtube] Kl-MGSf9U3s: Video unavailable\n",
      "Processed video: table 2\n",
      "Updated checkpoint with video: table 2\n"
     ]
    },
    {
     "name": "stderr",
     "output_type": "stream",
     "text": [
      "ERROR: [youtube] 0-7PCfQKIJY: Private video. Sign in if you've been granted access to this video\n"
     ]
    },
    {
     "name": "stdout",
     "output_type": "stream",
     "text": [
      "Error downloading www.youtube.com/watch?v=0-7PCfQKIJY: ERROR: [youtube] 0-7PCfQKIJY: Private video. Sign in if you've been granted access to this video\n",
      "Processed video: SignSchool Senior 3\n",
      "Updated checkpoint with video: SignSchool Senior 3\n",
      "Video extracted successfully to together TOGETHER(1)\n",
      "Processed video: TOGETHER(1)\n",
      "Updated checkpoint with video: TOGETHER(1)\n",
      "Video extracted successfully to mouth MOUTH(2)\n",
      "Processed video: MOUTH(2)\n",
      "Updated checkpoint with video: MOUTH(2)\n",
      "Video extracted successfully to and AND(2)\n",
      "Processed video: AND(2)\n",
      "Updated checkpoint with video: AND(2)\n"
     ]
    },
    {
     "name": "stderr",
     "output_type": "stream",
     "text": [
      "ERROR: [youtube] z4EGd4Y2TOs: Private video. Sign in if you've been granted access to this video\n"
     ]
    },
    {
     "name": "stdout",
     "output_type": "stream",
     "text": [
      "Error downloading www.youtube.com/watch?v=z4EGd4Y2TOs: ERROR: [youtube] z4EGd4Y2TOs: Private video. Sign in if you've been granted access to this video\n",
      "Processed video: SignSchool Delicious\n",
      "Updated checkpoint with video: SignSchool Delicious\n",
      "Video extracted successfully to not NOT DONT\n",
      "Processed video: NOT DONT\n",
      "Updated checkpoint with video: NOT DONT\n"
     ]
    },
    {
     "name": "stderr",
     "output_type": "stream",
     "text": [
      "ERROR: [youtube] T9BWoZ4oHiw: Private video. Sign in if you've been granted access to this video\n"
     ]
    },
    {
     "name": "stdout",
     "output_type": "stream",
     "text": [
      "Error downloading https://www.youtube.com/watch?v=T9BWoZ4oHiw: ERROR: [youtube] T9BWoZ4oHiw: Private video. Sign in if you've been granted access to this video\n",
      "Processed video: ASL ICE SKATE\n",
      "Updated checkpoint with video: ASL ICE SKATE\n",
      "Video extracted successfully to pizza PIZZA(1)\n",
      "Processed video: PIZZA(1)\n",
      "Updated checkpoint with video: PIZZA(1)\n",
      "Video extracted successfully to africa Africa (Old ASL)\n",
      "Processed video: Africa (Old ASL)\n",
      "Updated checkpoint with video: Africa (Old ASL)\n"
     ]
    },
    {
     "name": "stderr",
     "output_type": "stream",
     "text": [
      "ERROR: [youtube] nSEPVrC-8NA: Private video. Sign in if you've been granted access to this video\n"
     ]
    },
    {
     "name": "stdout",
     "output_type": "stream",
     "text": [
      "Error downloading https://www.youtube.com/watch?v=nSEPVrC-8NA: ERROR: [youtube] nSEPVrC-8NA: Private video. Sign in if you've been granted access to this video\n",
      "Processed video: child\n",
      "Updated checkpoint with video: child\n"
     ]
    },
    {
     "name": "stderr",
     "output_type": "stream",
     "text": [
      "ERROR: [youtube] MMNCrO9MnaY: Video unavailable. This video is no longer available because the YouTube account associated with this video has been terminated.\n"
     ]
    },
    {
     "name": "stdout",
     "output_type": "stream",
     "text": [
      "Error downloading https://www.youtube.com/watch?v=MMNCrO9MnaY: ERROR: [youtube] MMNCrO9MnaY: Video unavailable. This video is no longer available because the YouTube account associated with this video has been terminated.\n",
      "Processed video: ASL Breakfast\n",
      "Updated checkpoint with video: ASL Breakfast\n"
     ]
    },
    {
     "name": "stderr",
     "output_type": "stream",
     "text": [
      "ERROR: [youtube] eRJROI0rMIw: Video unavailable\n"
     ]
    },
    {
     "name": "stdout",
     "output_type": "stream",
     "text": [
      "Error downloading https://www.youtube.com/watch?v=eRJROI0rMIw: ERROR: [youtube] eRJROI0rMIw: Video unavailable\n",
      "Processed video: TWIN\n",
      "Updated checkpoint with video: TWIN\n"
     ]
    },
    {
     "name": "stderr",
     "output_type": "stream",
     "text": [
      "ERROR: [youtube] Ij1PTQJ0FYo: Private video. Sign in if you've been granted access to this video\n"
     ]
    },
    {
     "name": "stdout",
     "output_type": "stream",
     "text": [
      "Error downloading https://www.youtube.com/watch?v=Ij1PTQJ0FYo: ERROR: [youtube] Ij1PTQJ0FYo: Private video. Sign in if you've been granted access to this video\n",
      "Processed video: ASL STORE\n",
      "Updated checkpoint with video: ASL STORE\n"
     ]
    },
    {
     "name": "stderr",
     "output_type": "stream",
     "text": [
      "ERROR: [youtube] cGh1E05G1pU: Private video. Sign in if you've been granted access to this video\n"
     ]
    },
    {
     "name": "stdout",
     "output_type": "stream",
     "text": [
      "Error downloading https://www.youtube.com/watch?v=cGh1E05G1pU: ERROR: [youtube] cGh1E05G1pU: Private video. Sign in if you've been granted access to this video\n",
      "Processed video: ASL HOUR\n",
      "Updated checkpoint with video: ASL HOUR\n"
     ]
    },
    {
     "name": "stderr",
     "output_type": "stream",
     "text": [
      "ERROR: [youtube] JMAHJOOuQFE: Private video. Sign in if you've been granted access to this video\n"
     ]
    },
    {
     "name": "stdout",
     "output_type": "stream",
     "text": [
      "Error downloading https://www.youtube.com/watch?v=JMAHJOOuQFE: ERROR: [youtube] JMAHJOOuQFE: Private video. Sign in if you've been granted access to this video\n",
      "Processed video: asl cook\n",
      "Updated checkpoint with video: asl cook\n"
     ]
    },
    {
     "name": "stderr",
     "output_type": "stream",
     "text": [
      "ERROR: [youtube] hZGAtQjra4c: Private video. Sign in if you've been granted access to this video\n"
     ]
    },
    {
     "name": "stdout",
     "output_type": "stream",
     "text": [
      "Error downloading https://www.youtube.com/watch?v=hZGAtQjra4c: ERROR: [youtube] hZGAtQjra4c: Private video. Sign in if you've been granted access to this video\n",
      "Processed video: ASL 9\n",
      "Updated checkpoint with video: ASL 9\n"
     ]
    },
    {
     "name": "stderr",
     "output_type": "stream",
     "text": [
      "ERROR: [youtube] bOAMrTyVSAU: Private video. Sign in if you've been granted access to this video\n"
     ]
    },
    {
     "name": "stdout",
     "output_type": "stream",
     "text": [
      "Error downloading www.youtube.com/watch?v=bOAMrTyVSAU: ERROR: [youtube] bOAMrTyVSAU: Private video. Sign in if you've been granted access to this video\n",
      "Processed video: SignSchool Divorce\n",
      "Updated checkpoint with video: SignSchool Divorce\n"
     ]
    },
    {
     "name": "stderr",
     "output_type": "stream",
     "text": [
      "ERROR: [youtube] TVpB8unL-kw: Private video. Sign in if you've been granted access to this video\n"
     ]
    },
    {
     "name": "stdout",
     "output_type": "stream",
     "text": [
      "Error downloading www.youtube.com/watch?v=TVpB8unL-kw: ERROR: [youtube] TVpB8unL-kw: Private video. Sign in if you've been granted access to this video\n",
      "Processed video: SignSchool How Many\n",
      "Updated checkpoint with video: SignSchool How Many\n",
      "Video extracted successfully to major MAJOR(2)\n",
      "Processed video: MAJOR(2)\n",
      "Updated checkpoint with video: MAJOR(2)\n",
      "Video extracted successfully to lion Lion in Sign Language ASL Dictionary for kids\n",
      "Processed video: Lion in Sign Language ASL Dictionary for kids\n",
      "Updated checkpoint with video: Lion in Sign Language ASL Dictionary for kids\n",
      "Video extracted successfully to green GREEN(4)\n",
      "Processed video: GREEN(4)\n",
      "Updated checkpoint with video: GREEN(4)\n"
     ]
    },
    {
     "name": "stderr",
     "output_type": "stream",
     "text": [
      "ERROR: [youtube] iIO5SmzFiEk: Private video. Sign in if you've been granted access to this video\n"
     ]
    },
    {
     "name": "stdout",
     "output_type": "stream",
     "text": [
      "Error downloading www.youtube.com/watch?v=iIO5SmzFiEk: ERROR: [youtube] iIO5SmzFiEk: Private video. Sign in if you've been granted access to this video\n",
      "Processed video: SignSchool Mustache\n",
      "Updated checkpoint with video: SignSchool Mustache\n",
      "Video extracted successfully to hashtag How to Sign HAPPY in Sign Language\n",
      "Processed video: How to Sign HAPPY in Sign Language\n",
      "Updated checkpoint with video: How to Sign HAPPY in Sign Language\n",
      "Video extracted successfully to happy How to Sign HAPPY in Sign Language\n",
      "Processed video: How to Sign HAPPY in Sign Language\n",
      "Updated checkpoint with video: How to Sign HAPPY in Sign Language\n",
      "Video extracted successfully to breakfast BREAKFAST\n",
      "Processed video: BREAKFAST\n",
      "Updated checkpoint with video: BREAKFAST\n"
     ]
    },
    {
     "name": "stderr",
     "output_type": "stream",
     "text": [
      "ERROR: [youtube] Nu7LASnlkig: Video unavailable\n"
     ]
    },
    {
     "name": "stdout",
     "output_type": "stream",
     "text": [
      "Error downloading www.youtube.com/watch?v=Nu7LASnlkig: ERROR: [youtube] Nu7LASnlkig: Video unavailable\n",
      "Processed video: desk\n",
      "Updated checkpoint with video: desk\n"
     ]
    },
    {
     "name": "stderr",
     "output_type": "stream",
     "text": [
      "ERROR: [youtube] HU_dHaCFMi0: Private video. Sign in if you've been granted access to this video\n"
     ]
    },
    {
     "name": "stdout",
     "output_type": "stream",
     "text": [
      "Error downloading https://www.youtube.com/watch?v=HU_dHaCFMi0: ERROR: [youtube] HU_dHaCFMi0: Private video. Sign in if you've been granted access to this video\n",
      "Processed video: HEALTH ASL\n",
      "Updated checkpoint with video: HEALTH ASL\n",
      "Video extracted successfully to busy BUSY\n",
      "Processed video: BUSY\n",
      "Updated checkpoint with video: BUSY\n"
     ]
    },
    {
     "name": "stderr",
     "output_type": "stream",
     "text": [
      "ERROR: [youtube] qjOsDnyMQpk: Private video. Sign in if you've been granted access to this video\n"
     ]
    },
    {
     "name": "stdout",
     "output_type": "stream",
     "text": [
      "Error downloading www.youtube.com/watch?v=qjOsDnyMQpk: ERROR: [youtube] qjOsDnyMQpk: Private video. Sign in if you've been granted access to this video\n",
      "Processed video: SignSchool Hit(1)\n",
      "Updated checkpoint with video: SignSchool Hit(1)\n"
     ]
    },
    {
     "name": "stderr",
     "output_type": "stream",
     "text": [
      "ERROR: [youtube] 5E38gLsXn3E: Video unavailable\n"
     ]
    },
    {
     "name": "stdout",
     "output_type": "stream",
     "text": [
      "Error downloading www.youtube.com/watch?v=5E38gLsXn3E: ERROR: [youtube] 5E38gLsXn3E: Video unavailable\n",
      "Processed video: jacket 2\n",
      "Updated checkpoint with video: jacket 2\n"
     ]
    },
    {
     "name": "stderr",
     "output_type": "stream",
     "text": [
      "ERROR: [youtube] CGJx9YAJpuo: Video unavailable. This video is no longer available because the YouTube account associated with this video has been terminated.\n"
     ]
    },
    {
     "name": "stdout",
     "output_type": "stream",
     "text": [
      "Error downloading https://www.youtube.com/watch?v=CGJx9YAJpuo: ERROR: [youtube] CGJx9YAJpuo: Video unavailable. This video is no longer available because the YouTube account associated with this video has been terminated.\n",
      "Processed video: ASL Fine\n",
      "Updated checkpoint with video: ASL Fine\n",
      "Video extracted successfully to engaged ENGAGED(1)\n",
      "Processed video: ENGAGED(1)\n",
      "Updated checkpoint with video: ENGAGED(1)\n",
      "Video extracted successfully to partner PARTNER(1)\n",
      "Processed video: PARTNER(1)\n",
      "Updated checkpoint with video: PARTNER(1)\n"
     ]
    },
    {
     "name": "stderr",
     "output_type": "stream",
     "text": [
      "ERROR: [youtube] T5jEJvZ0s7U: Video unavailable\n"
     ]
    },
    {
     "name": "stdout",
     "output_type": "stream",
     "text": [
      "Error downloading www.youtube.com/watch?v=T5jEJvZ0s7U: ERROR: [youtube] T5jEJvZ0s7U: Video unavailable\n",
      "Processed video: shoes 2\n",
      "Updated checkpoint with video: shoes 2\n",
      "Video extracted successfully to major MAJOR\n",
      "Processed video: MAJOR\n",
      "Updated checkpoint with video: MAJOR\n"
     ]
    },
    {
     "name": "stderr",
     "output_type": "stream",
     "text": [
      "ERROR: [youtube] -CRawrGay1g: Private video. Sign in if you've been granted access to this video\n"
     ]
    },
    {
     "name": "stdout",
     "output_type": "stream",
     "text": [
      "Error downloading www.youtube.com/watch?v=-CRawrGay1g: ERROR: [youtube] -CRawrGay1g: Private video. Sign in if you've been granted access to this video\n",
      "Processed video: SignSchool Daughter\n",
      "Updated checkpoint with video: SignSchool Daughter\n",
      "Video extracted successfully to inform INFORM(1)\n",
      "Processed video: INFORM(1)\n",
      "Updated checkpoint with video: INFORM(1)\n"
     ]
    },
    {
     "name": "stderr",
     "output_type": "stream",
     "text": [
      "ERROR: [youtube] WKrrU8zgbyg: Private video. Sign in if you've been granted access to this video\n"
     ]
    },
    {
     "name": "stdout",
     "output_type": "stream",
     "text": [
      "Error downloading www.youtube.com/watch?v=WKrrU8zgbyg: ERROR: [youtube] WKrrU8zgbyg: Private video. Sign in if you've been granted access to this video\n",
      "Processed video: SignSchool New 2\n",
      "Updated checkpoint with video: SignSchool New 2\n"
     ]
    },
    {
     "name": "stderr",
     "output_type": "stream",
     "text": [
      "ERROR: [youtube] x0h0cfmPnV4: Video unavailable\n"
     ]
    },
    {
     "name": "stdout",
     "output_type": "stream",
     "text": [
      "Error downloading www.youtube.com/watch?v=x0h0cfmPnV4: ERROR: [youtube] x0h0cfmPnV4: Video unavailable\n",
      "Processed video: shoes 1\n",
      "Updated checkpoint with video: shoes 1\n"
     ]
    },
    {
     "name": "stderr",
     "output_type": "stream",
     "text": [
      "ERROR: [youtube] _T-ozLiMGcQ: Private video. Sign in if you've been granted access to this video\n"
     ]
    },
    {
     "name": "stdout",
     "output_type": "stream",
     "text": [
      "Error downloading www.youtube.com/watch?v=_T-ozLiMGcQ: ERROR: [youtube] _T-ozLiMGcQ: Private video. Sign in if you've been granted access to this video\n",
      "Processed video: SignSchool Crazy Radio\n",
      "Updated checkpoint with video: SignSchool Crazy Radio\n",
      "Video extracted successfully to not DONT\n",
      "Processed video: DONT\n",
      "Updated checkpoint with video: DONT\n",
      "Video extracted successfully to expensive EXPENSIVE(2)\n",
      "Processed video: EXPENSIVE(2)\n",
      "Updated checkpoint with video: EXPENSIVE(2)\n",
      "Video extracted successfully to fence FENCE\n",
      "Processed video: FENCE\n",
      "Updated checkpoint with video: FENCE\n"
     ]
    },
    {
     "name": "stderr",
     "output_type": "stream",
     "text": [
      "ERROR: [youtube] qwqdhCrY3Ac: Private video. Sign in if you've been granted access to this video\n"
     ]
    },
    {
     "name": "stdout",
     "output_type": "stream",
     "text": [
      "Error downloading www.youtube.com/watch?v=qwqdhCrY3Ac: ERROR: [youtube] qwqdhCrY3Ac: Private video. Sign in if you've been granted access to this video\n",
      "Processed video: SignSchool Ring\n",
      "Updated checkpoint with video: SignSchool Ring\n",
      "Video extracted successfully to eat EAT(2)\n",
      "Processed video: EAT(2)\n",
      "Updated checkpoint with video: EAT(2)\n"
     ]
    },
    {
     "name": "stderr",
     "output_type": "stream",
     "text": [
      "ERROR: [youtube] wz5TKdo8xyw: Private video. Sign in if you've been granted access to this video\n"
     ]
    },
    {
     "name": "stdout",
     "output_type": "stream",
     "text": [
      "Error downloading https://www.youtube.com/watch?v=wz5TKdo8xyw: ERROR: [youtube] wz5TKdo8xyw: Private video. Sign in if you've been granted access to this video\n",
      "Processed video: motivated\n",
      "Updated checkpoint with video: motivated\n",
      "Video extracted successfully to yes Yes in Sign Language ASL Dictionary for kids\n",
      "Processed video: Yes in Sign Language ASL Dictionary for kids\n",
      "Updated checkpoint with video: Yes in Sign Language ASL Dictionary for kids\n",
      "Video extracted successfully to school School in Sign Language ASL Dictionary for kids\n",
      "Processed video: School in Sign Language ASL Dictionary for kids\n",
      "Updated checkpoint with video: School in Sign Language ASL Dictionary for kids\n",
      "Video extracted successfully to ball Ball in Sign Language ASL Dictionary for kids\n",
      "Processed video: Ball in Sign Language ASL Dictionary for kids\n",
      "Updated checkpoint with video: Ball in Sign Language ASL Dictionary for kids\n"
     ]
    },
    {
     "name": "stderr",
     "output_type": "stream",
     "text": [
      "ERROR: [youtube] YsMzOGf-ydw: Private video. Sign in if you've been granted access to this video\n"
     ]
    },
    {
     "name": "stdout",
     "output_type": "stream",
     "text": [
      "Error downloading www.youtube.com/watch?v=YsMzOGf-ydw: ERROR: [youtube] YsMzOGf-ydw: Private video. Sign in if you've been granted access to this video\n",
      "Processed video: SignSchool Tape 2\n",
      "Updated checkpoint with video: SignSchool Tape 2\n"
     ]
    },
    {
     "name": "stderr",
     "output_type": "stream",
     "text": [
      "ERROR: [youtube] vAikcQ_ZMY0: Video unavailable. This video is no longer available because the YouTube account associated with this video has been terminated.\n"
     ]
    },
    {
     "name": "stdout",
     "output_type": "stream",
     "text": [
      "Error downloading https://www.youtube.com/watch?v=vAikcQ_ZMY0: ERROR: [youtube] vAikcQ_ZMY0: Video unavailable. This video is no longer available because the YouTube account associated with this video has been terminated.\n",
      "Processed video: ASL Hi\n",
      "Updated checkpoint with video: ASL Hi\n"
     ]
    },
    {
     "name": "stderr",
     "output_type": "stream",
     "text": [
      "ERROR: [youtube] eyzXa5clA_g: Video unavailable. This video is no longer available because the YouTube account associated with this video has been terminated.\n"
     ]
    },
    {
     "name": "stdout",
     "output_type": "stream",
     "text": [
      "Error downloading https://www.youtube.com/watch?v=eyzXa5clA_g: ERROR: [youtube] eyzXa5clA_g: Video unavailable. This video is no longer available because the YouTube account associated with this video has been terminated.\n",
      "Processed video: ASL Bank\n",
      "Updated checkpoint with video: ASL Bank\n",
      "Video extracted successfully to ask ASK(2)\n",
      "Processed video: ASK(2)\n",
      "Updated checkpoint with video: ASK(2)\n",
      "Video extracted successfully to half HALF(1)\n",
      "Processed video: HALF(1)\n",
      "Updated checkpoint with video: HALF(1)\n"
     ]
    },
    {
     "name": "stderr",
     "output_type": "stream",
     "text": [
      "ERROR: [youtube] qw2XtayJel4: Video unavailable. This video is no longer available because the YouTube account associated with this video has been terminated.\n"
     ]
    },
    {
     "name": "stdout",
     "output_type": "stream",
     "text": [
      "Error downloading https://www.youtube.com/watch?v=qw2XtayJel4: ERROR: [youtube] qw2XtayJel4: Video unavailable. This video is no longer available because the YouTube account associated with this video has been terminated.\n",
      "Processed video: ASL Number 14\n",
      "Updated checkpoint with video: ASL Number 14\n"
     ]
    },
    {
     "name": "stderr",
     "output_type": "stream",
     "text": [
      "ERROR: [youtube] zUvqxUuJ8Oc: Private video. Sign in if you've been granted access to this video\n"
     ]
    },
    {
     "name": "stdout",
     "output_type": "stream",
     "text": [
      "Error downloading www.youtube.com/watch?v=zUvqxUuJ8Oc: ERROR: [youtube] zUvqxUuJ8Oc: Private video. Sign in if you've been granted access to this video\n",
      "Processed video: SignSchool 14\n",
      "Updated checkpoint with video: SignSchool 14\n",
      "Video extracted successfully to plus PLUS\n",
      "Processed video: PLUS\n",
      "Updated checkpoint with video: PLUS\n",
      "Video extracted successfully to important ESSENTIAL\n",
      "Processed video: ESSENTIAL\n",
      "Updated checkpoint with video: ESSENTIAL\n"
     ]
    },
    {
     "name": "stderr",
     "output_type": "stream",
     "text": [
      "ERROR: [youtube] hdUFIzAvK6A: Video unavailable. This video is no longer available because the YouTube account associated with this video has been terminated.\n"
     ]
    },
    {
     "name": "stdout",
     "output_type": "stream",
     "text": [
      "Error downloading https://www.youtube.com/watch?v=hdUFIzAvK6A: ERROR: [youtube] hdUFIzAvK6A: Video unavailable. This video is no longer available because the YouTube account associated with this video has been terminated.\n",
      "Processed video: ASL Hit\n",
      "Updated checkpoint with video: ASL Hit\n"
     ]
    },
    {
     "name": "stderr",
     "output_type": "stream",
     "text": [
      "ERROR: [youtube] hdUFIzAvK6A: Video unavailable. This video is no longer available because the YouTube account associated with this video has been terminated.\n"
     ]
    },
    {
     "name": "stdout",
     "output_type": "stream",
     "text": [
      "Error downloading https://www.youtube.com/watch?v=hdUFIzAvK6A: ERROR: [youtube] hdUFIzAvK6A: Video unavailable. This video is no longer available because the YouTube account associated with this video has been terminated.\n",
      "Processed video: ASL Hit\n",
      "Updated checkpoint with video: ASL Hit\n",
      "Video extracted successfully to answer ANSWER\n",
      "Processed video: ANSWER\n",
      "Updated checkpoint with video: ANSWER\n"
     ]
    },
    {
     "name": "stderr",
     "output_type": "stream",
     "text": [
      "ERROR: [youtube] B4ClepLh_nM: Private video. Sign in if you've been granted access to this video\n"
     ]
    },
    {
     "name": "stdout",
     "output_type": "stream",
     "text": [
      "Error downloading www.youtube.com/watch?v=B4ClepLh_nM: ERROR: [youtube] B4ClepLh_nM: Private video. Sign in if you've been granted access to this video\n",
      "Processed video: SignSchool Jealous(1)\n",
      "Updated checkpoint with video: SignSchool Jealous(1)\n",
      "Video extracted successfully to chat CHAT(2)\n",
      "Processed video: CHAT(2)\n",
      "Updated checkpoint with video: CHAT(2)\n"
     ]
    },
    {
     "name": "stderr",
     "output_type": "stream",
     "text": [
      "ERROR: [youtube] 6psMaxJlnoM: Private video. Sign in if you've been granted access to this video\n"
     ]
    },
    {
     "name": "stdout",
     "output_type": "stream",
     "text": [
      "Error downloading www.youtube.com/watch?v=6psMaxJlnoM: ERROR: [youtube] 6psMaxJlnoM: Private video. Sign in if you've been granted access to this video\n",
      "Processed video: SignSchool Push\n",
      "Updated checkpoint with video: SignSchool Push\n"
     ]
    },
    {
     "name": "stderr",
     "output_type": "stream",
     "text": [
      "ERROR: [youtube] 4mNN2nkj0d4: Private video. Sign in if you've been granted access to this video\n"
     ]
    },
    {
     "name": "stdout",
     "output_type": "stream",
     "text": [
      "Error downloading https://www.youtube.com/watch?v=4mNN2nkj0d4: ERROR: [youtube] 4mNN2nkj0d4: Private video. Sign in if you've been granted access to this video\n",
      "Processed video: ASL 150\n",
      "Updated checkpoint with video: ASL 150\n",
      "Video extracted successfully to how_many HOW MUCH(1)\n",
      "Processed video: HOW MUCH(1)\n",
      "Updated checkpoint with video: HOW MUCH(1)\n"
     ]
    },
    {
     "name": "stderr",
     "output_type": "stream",
     "text": [
      "ERROR: [youtube] WCGDN5CniTY: Video unavailable\n"
     ]
    },
    {
     "name": "stdout",
     "output_type": "stream",
     "text": [
      "Error downloading www.youtube.com/watch?v=WCGDN5CniTY: ERROR: [youtube] WCGDN5CniTY: Video unavailable\n",
      "Processed video: door\n",
      "Updated checkpoint with video: door\n",
      "Video extracted successfully to forget FORGET(1)\n",
      "Processed video: FORGET(1)\n",
      "Updated checkpoint with video: FORGET(1)\n"
     ]
    },
    {
     "name": "stderr",
     "output_type": "stream",
     "text": [
      "ERROR: [youtube] dqRCKjpXV4Q: Video unavailable\n"
     ]
    },
    {
     "name": "stdout",
     "output_type": "stream",
     "text": [
      "Error downloading www.youtube.com/watch?v=dqRCKjpXV4Q: ERROR: [youtube] dqRCKjpXV4Q: Video unavailable\n",
      "Processed video: jacket 1\n",
      "Updated checkpoint with video: jacket 1\n",
      "Video extracted successfully to melon MELON\n",
      "Processed video: MELON\n",
      "Updated checkpoint with video: MELON\n"
     ]
    },
    {
     "name": "stderr",
     "output_type": "stream",
     "text": [
      "ERROR: [youtube] LrAamaR9FqQ: Private video. Sign in if you've been granted access to this video\n"
     ]
    },
    {
     "name": "stdout",
     "output_type": "stream",
     "text": [
      "Error downloading www.youtube.com/watch?v=LrAamaR9FqQ: ERROR: [youtube] LrAamaR9FqQ: Private video. Sign in if you've been granted access to this video\n",
      "Processed video: SignSchool Hashtag 2\n",
      "Updated checkpoint with video: SignSchool Hashtag 2\n"
     ]
    },
    {
     "name": "stderr",
     "output_type": "stream",
     "text": [
      "ERROR: [youtube] 9fVkSxyZFD0: Private video. Sign in if you've been granted access to this video\n"
     ]
    },
    {
     "name": "stdout",
     "output_type": "stream",
     "text": [
      "Error downloading www.youtube.com/watch?v=9fVkSxyZFD0: ERROR: [youtube] 9fVkSxyZFD0: Private video. Sign in if you've been granted access to this video\n",
      "Processed video: SignSchool Hashtag\n",
      "Updated checkpoint with video: SignSchool Hashtag\n",
      "Video extracted successfully to gold GOLD(1)\n",
      "Processed video: GOLD(1)\n",
      "Updated checkpoint with video: GOLD(1)\n"
     ]
    },
    {
     "name": "stderr",
     "output_type": "stream",
     "text": [
      "ERROR: [youtube] UMPO2ajluuQ: Video unavailable. This video is no longer available because the YouTube account associated with this video has been terminated.\n"
     ]
    },
    {
     "name": "stdout",
     "output_type": "stream",
     "text": [
      "Error downloading https://www.youtube.com/watch?v=UMPO2ajluuQ: ERROR: [youtube] UMPO2ajluuQ: Video unavailable. This video is no longer available because the YouTube account associated with this video has been terminated.\n",
      "Processed video: ASL Green\n",
      "Updated checkpoint with video: ASL Green\n"
     ]
    },
    {
     "name": "stderr",
     "output_type": "stream",
     "text": [
      "ERROR: [youtube] IKOLn3Z8KkA: Private video. Sign in if you've been granted access to this video\n"
     ]
    },
    {
     "name": "stdout",
     "output_type": "stream",
     "text": [
      "Error downloading https://www.youtube.com/watch?v=IKOLn3Z8KkA: ERROR: [youtube] IKOLn3Z8KkA: Private video. Sign in if you've been granted access to this video\n",
      "Processed video: ASL TOGETHER\n",
      "Updated checkpoint with video: ASL TOGETHER\n"
     ]
    },
    {
     "name": "stderr",
     "output_type": "stream",
     "text": [
      "ERROR: [youtube] Zzf1EhDiGs0: Private video. Sign in if you've been granted access to this video\n"
     ]
    },
    {
     "name": "stdout",
     "output_type": "stream",
     "text": [
      "Error downloading https://www.youtube.com/watch?v=Zzf1EhDiGs0: ERROR: [youtube] Zzf1EhDiGs0: Private video. Sign in if you've been granted access to this video\n",
      "Processed video: ASL STUDENT\n",
      "Updated checkpoint with video: ASL STUDENT\n"
     ]
    },
    {
     "name": "stderr",
     "output_type": "stream",
     "text": [
      "ERROR: [youtube] 2cWE93gN60w: Video unavailable. This video is no longer available because the YouTube account associated with this video has been terminated.\n"
     ]
    },
    {
     "name": "stdout",
     "output_type": "stream",
     "text": [
      "Error downloading https://www.youtube.com/watch?v=2cWE93gN60w: ERROR: [youtube] 2cWE93gN60w: Video unavailable. This video is no longer available because the YouTube account associated with this video has been terminated.\n",
      "Processed video: ASL Grocery store\n",
      "Updated checkpoint with video: ASL Grocery store\n"
     ]
    },
    {
     "name": "stderr",
     "output_type": "stream",
     "text": [
      "ERROR: [youtube] 0YvI81wx1hI: Private video. Sign in if you've been granted access to this video\n"
     ]
    },
    {
     "name": "stdout",
     "output_type": "stream",
     "text": [
      "Error downloading www.youtube.com/watch?v=0YvI81wx1hI: ERROR: [youtube] 0YvI81wx1hI: Private video. Sign in if you've been granted access to this video\n",
      "Processed video: SignSchool Motorcycle(1)\n",
      "Updated checkpoint with video: SignSchool Motorcycle(1)\n",
      "Video extracted successfully to take up TAKE up\n",
      "Processed video: TAKE up\n",
      "Updated checkpoint with video: TAKE up\n"
     ]
    },
    {
     "name": "stderr",
     "output_type": "stream",
     "text": [
      "ERROR: [youtube] 79dU1_BoVis: Private video. Sign in if you've been granted access to this video\n"
     ]
    },
    {
     "name": "stdout",
     "output_type": "stream",
     "text": [
      "Error downloading www.youtube.com/watch?v=79dU1_BoVis: ERROR: [youtube] 79dU1_BoVis: Private video. Sign in if you've been granted access to this video\n",
      "Processed video: SignSchool Gallaudet\n",
      "Updated checkpoint with video: SignSchool Gallaudet\n",
      "Video extracted successfully to relationship How to Sign RELATIONSHIP in Sign Language\n",
      "Processed video: How to Sign RELATIONSHIP in Sign Language\n",
      "Updated checkpoint with video: How to Sign RELATIONSHIP in Sign Language\n",
      "Video extracted successfully to relationship How to Sign RELATIONSHIP in Sign Language\n",
      "Processed video: How to Sign RELATIONSHIP in Sign Language\n",
      "Updated checkpoint with video: How to Sign RELATIONSHIP in Sign Language\n",
      "Video extracted successfully to relationship How to Sign RELATIONSHIP in Sign Language\n",
      "Processed video: How to Sign RELATIONSHIP in Sign Language\n",
      "Updated checkpoint with video: How to Sign RELATIONSHIP in Sign Language\n",
      "Video extracted successfully to before BEFORE\n",
      "Processed video: BEFORE\n",
      "Updated checkpoint with video: BEFORE\n"
     ]
    },
    {
     "name": "stderr",
     "output_type": "stream",
     "text": [
      "ERROR: [youtube] DB5oSxy6rrc: Video unavailable\n"
     ]
    },
    {
     "name": "stdout",
     "output_type": "stream",
     "text": [
      "Error downloading www.youtube.com/watch?v=DB5oSxy6rrc: ERROR: [youtube] DB5oSxy6rrc: Video unavailable\n",
      "Processed video: table 1\n",
      "Updated checkpoint with video: table 1\n",
      "Video extracted successfully to hashtag How to Sign SELFIE in Sign Language\n",
      "Processed video: How to Sign SELFIE in Sign Language\n",
      "Updated checkpoint with video: How to Sign SELFIE in Sign Language\n",
      "Video extracted successfully to stubborn STUBBORN(1)\n",
      "Processed video: STUBBORN(1)\n",
      "Updated checkpoint with video: STUBBORN(1)\n"
     ]
    },
    {
     "name": "stderr",
     "output_type": "stream",
     "text": [
      "ERROR: [youtube] GnPU4O0k5eQ: Private video. Sign in if you've been granted access to this video\n"
     ]
    },
    {
     "name": "stdout",
     "output_type": "stream",
     "text": [
      "Error downloading https://www.youtube.com/watch?v=GnPU4O0k5eQ: ERROR: [youtube] GnPU4O0k5eQ: Private video. Sign in if you've been granted access to this video\n",
      "Processed video: ASL 126\n",
      "Updated checkpoint with video: ASL 126\n"
     ]
    },
    {
     "name": "stderr",
     "output_type": "stream",
     "text": [
      "ERROR: [youtube] S0s-qh1GpmE: Private video. Sign in if you've been granted access to this video\n"
     ]
    },
    {
     "name": "stdout",
     "output_type": "stream",
     "text": [
      "Error downloading www.youtube.com/watch?v=S0s-qh1GpmE: ERROR: [youtube] S0s-qh1GpmE: Private video. Sign in if you've been granted access to this video\n",
      "Processed video: SignSchool Jacket Coat\n",
      "Updated checkpoint with video: SignSchool Jacket Coat\n"
     ]
    },
    {
     "name": "stderr",
     "output_type": "stream",
     "text": [
      "ERROR: [youtube] XAGD2SmBimM: Video unavailable\n"
     ]
    },
    {
     "name": "stdout",
     "output_type": "stream",
     "text": [
      "Error downloading www.youtube.com/watch?v=XAGD2SmBimM: ERROR: [youtube] XAGD2SmBimM: Video unavailable\n",
      "Processed video: microwave 1\n",
      "Updated checkpoint with video: microwave 1\n",
      "Video extracted successfully to shoes Shoes in Sign Language ASL Dictionary for kids\n",
      "Processed video: Shoes in Sign Language ASL Dictionary for kids\n",
      "Updated checkpoint with video: Shoes in Sign Language ASL Dictionary for kids\n",
      "Video extracted successfully to lion LION(1)\n",
      "Processed video: LION(1)\n",
      "Updated checkpoint with video: LION(1)\n"
     ]
    },
    {
     "name": "stderr",
     "output_type": "stream",
     "text": [
      "ERROR: [youtube] JwyulzeLjEw: Private video. Sign in if you've been granted access to this video\n"
     ]
    },
    {
     "name": "stdout",
     "output_type": "stream",
     "text": [
      "Error downloading https://www.youtube.com/watch?v=JwyulzeLjEw: ERROR: [youtube] JwyulzeLjEw: Private video. Sign in if you've been granted access to this video\n",
      "Processed video: ASL GEOMETRY\n",
      "Updated checkpoint with video: ASL GEOMETRY\n",
      "Video extracted successfully to careful BE CAREFUL\n",
      "Processed video: BE CAREFUL\n",
      "Updated checkpoint with video: BE CAREFUL\n",
      "Video extracted successfully to only JUST\n",
      "Processed video: JUST\n",
      "Updated checkpoint with video: JUST\n"
     ]
    },
    {
     "name": "stderr",
     "output_type": "stream",
     "text": [
      "ERROR: [youtube] YZJ2dWd8eVs: Private video. Sign in if you've been granted access to this video\n"
     ]
    },
    {
     "name": "stdout",
     "output_type": "stream",
     "text": [
      "Error downloading https://www.youtube.com/watch?v=YZJ2dWd8eVs: ERROR: [youtube] YZJ2dWd8eVs: Private video. Sign in if you've been granted access to this video\n",
      "Processed video: asl MARRY\n",
      "Updated checkpoint with video: asl MARRY\n",
      "Video extracted successfully to school SCHOOL(6)\n",
      "Processed video: SCHOOL(6)\n",
      "Updated checkpoint with video: SCHOOL(6)\n"
     ]
    },
    {
     "name": "stderr",
     "output_type": "stream",
     "text": [
      "ERROR: [youtube] xy9NQqzpcEg: Private video. Sign in if you've been granted access to this video\n"
     ]
    },
    {
     "name": "stdout",
     "output_type": "stream",
     "text": [
      "Error downloading https://www.youtube.com/watch?v=xy9NQqzpcEg: ERROR: [youtube] xy9NQqzpcEg: Private video. Sign in if you've been granted access to this video\n",
      "Processed video: ASL MAINSTREAMED\n",
      "Updated checkpoint with video: ASL MAINSTREAMED\n",
      "Video extracted successfully to philippines Philippines (indigenous)\n",
      "Processed video: Philippines (indigenous)\n",
      "Updated checkpoint with video: Philippines (indigenous)\n"
     ]
    },
    {
     "name": "stderr",
     "output_type": "stream",
     "text": [
      "ERROR: [youtube] lkYqA5KZpNs: Private video. Sign in if you've been granted access to this video\n"
     ]
    },
    {
     "name": "stdout",
     "output_type": "stream",
     "text": [
      "Error downloading https://www.youtube.com/watch?v=lkYqA5KZpNs: ERROR: [youtube] lkYqA5KZpNs: Private video. Sign in if you've been granted access to this video\n",
      "Processed video: accident\n",
      "Updated checkpoint with video: accident\n",
      "Video extracted successfully to vacuum VACUUM(1)\n",
      "Processed video: VACUUM(1)\n",
      "Updated checkpoint with video: VACUUM(1)\n"
     ]
    },
    {
     "name": "stderr",
     "output_type": "stream",
     "text": [
      "ERROR: [youtube] XaB9w51DpDg: Private video. Sign in if you've been granted access to this video\n"
     ]
    },
    {
     "name": "stdout",
     "output_type": "stream",
     "text": [
      "Error downloading https://www.youtube.com/watch?v=XaB9w51DpDg: ERROR: [youtube] XaB9w51DpDg: Private video. Sign in if you've been granted access to this video\n",
      "Processed video: ASL LONG\n",
      "Updated checkpoint with video: ASL LONG\n"
     ]
    },
    {
     "name": "stderr",
     "output_type": "stream",
     "text": [
      "ERROR: [youtube] y8OOZ3vtSag: Private video. Sign in if you've been granted access to this video\n"
     ]
    },
    {
     "name": "stdout",
     "output_type": "stream",
     "text": [
      "Error downloading https://www.youtube.com/watch?v=y8OOZ3vtSag: ERROR: [youtube] y8OOZ3vtSag: Private video. Sign in if you've been granted access to this video\n",
      "Processed video: VICE PRESIDENT ASL\n",
      "Updated checkpoint with video: VICE PRESIDENT ASL\n",
      "Video extracted successfully to metal METAL(1)\n",
      "Processed video: METAL(1)\n",
      "Updated checkpoint with video: METAL(1)\n",
      "Video extracted successfully to hashtag How to Sign ME in Sign Language\n",
      "Processed video: How to Sign ME in Sign Language\n",
      "Updated checkpoint with video: How to Sign ME in Sign Language\n",
      "Video extracted successfully to around AROUND\n",
      "Processed video: AROUND\n",
      "Updated checkpoint with video: AROUND\n"
     ]
    },
    {
     "name": "stderr",
     "output_type": "stream",
     "text": [
      "ERROR: [youtube] Ec8ZZe6p7gw: Video unavailable\n"
     ]
    },
    {
     "name": "stdout",
     "output_type": "stream",
     "text": [
      "Error downloading https://www.youtube.com/watch?v=Ec8ZZe6p7gw: ERROR: [youtube] Ec8ZZe6p7gw: Video unavailable\n",
      "Processed video: DIVORCE\n",
      "Updated checkpoint with video: DIVORCE\n"
     ]
    },
    {
     "name": "stderr",
     "output_type": "stream",
     "text": [
      "ERROR: [youtube] QE2mPtq4Rh4: Private video. Sign in if you've been granted access to this video\n"
     ]
    },
    {
     "name": "stdout",
     "output_type": "stream",
     "text": [
      "Error downloading www.youtube.com/watch?v=QE2mPtq4Rh4: ERROR: [youtube] QE2mPtq4Rh4: Private video. Sign in if you've been granted access to this video\n",
      "Processed video: SignSchool Backpack(2)\n",
      "Updated checkpoint with video: SignSchool Backpack(2)\n",
      "Video extracted successfully to happy HAPPY(2)\n",
      "Processed video: HAPPY(2)\n",
      "Updated checkpoint with video: HAPPY(2)\n"
     ]
    },
    {
     "name": "stderr",
     "output_type": "stream",
     "text": [
      "ERROR: [youtube] Hmzk2YeJ-AE: Video unavailable. This video is no longer available because the YouTube account associated with this video has been terminated.\n"
     ]
    },
    {
     "name": "stdout",
     "output_type": "stream",
     "text": [
      "Error downloading https://www.youtube.com/watch?v=Hmzk2YeJ-AE: ERROR: [youtube] Hmzk2YeJ-AE: Video unavailable. This video is no longer available because the YouTube account associated with this video has been terminated.\n",
      "Processed video: ASL Jealous\n",
      "Updated checkpoint with video: ASL Jealous\n"
     ]
    },
    {
     "name": "stderr",
     "output_type": "stream",
     "text": [
      "ERROR: [youtube] 54HRj8zzfG0: Private video. Sign in if you've been granted access to this video\n"
     ]
    },
    {
     "name": "stdout",
     "output_type": "stream",
     "text": [
      "Error downloading www.youtube.com/watch?v=54HRj8zzfG0: ERROR: [youtube] 54HRj8zzfG0: Private video. Sign in if you've been granted access to this video\n",
      "Processed video: SignSchool Shock\n",
      "Updated checkpoint with video: SignSchool Shock\n"
     ]
    },
    {
     "name": "stderr",
     "output_type": "stream",
     "text": [
      "ERROR: [youtube] 8a3YjdOsQNI: Private video. Sign in if you've been granted access to this video\n"
     ]
    },
    {
     "name": "stdout",
     "output_type": "stream",
     "text": [
      "Error downloading https://www.youtube.com/watch?v=8a3YjdOsQNI: ERROR: [youtube] 8a3YjdOsQNI: Private video. Sign in if you've been granted access to this video\n",
      "Processed video: ASL LAST WEEK\n",
      "Updated checkpoint with video: ASL LAST WEEK\n",
      "Video extracted successfully to holland HollandNetherlands\n",
      "Processed video: HollandNetherlands\n",
      "Updated checkpoint with video: HollandNetherlands\n"
     ]
    },
    {
     "name": "stderr",
     "output_type": "stream",
     "text": [
      "ERROR: [youtube] wVrfhtSnUCQ: Video unavailable. This video is no longer available because the YouTube account associated with this video has been terminated.\n"
     ]
    },
    {
     "name": "stdout",
     "output_type": "stream",
     "text": [
      "Error downloading https://www.youtube.com/watch?v=wVrfhtSnUCQ: ERROR: [youtube] wVrfhtSnUCQ: Video unavailable. This video is no longer available because the YouTube account associated with this video has been terminated.\n",
      "Processed video: ASL Eat\n",
      "Updated checkpoint with video: ASL Eat\n",
      "Video extracted successfully to not NOT(2)\n",
      "Processed video: NOT(2)\n",
      "Updated checkpoint with video: NOT(2)\n"
     ]
    },
    {
     "name": "stderr",
     "output_type": "stream",
     "text": [
      "ERROR: [youtube] kuHSI7oHO0k: Private video. Sign in if you've been granted access to this video\n"
     ]
    },
    {
     "name": "stdout",
     "output_type": "stream",
     "text": [
      "Error downloading https://www.youtube.com/watch?v=kuHSI7oHO0k: ERROR: [youtube] kuHSI7oHO0k: Private video. Sign in if you've been granted access to this video\n",
      "Processed video: ASL WOODSHOP\n",
      "Updated checkpoint with video: ASL WOODSHOP\n"
     ]
    },
    {
     "name": "stderr",
     "output_type": "stream",
     "text": [
      "ERROR: [youtube] aifqg8ePLMI: Private video. Sign in if you've been granted access to this video\n"
     ]
    },
    {
     "name": "stdout",
     "output_type": "stream",
     "text": [
      "Error downloading www.youtube.com/watch?v=aifqg8ePLMI: ERROR: [youtube] aifqg8ePLMI: Private video. Sign in if you've been granted access to this video\n",
      "Processed video: SignSchool Man\n",
      "Updated checkpoint with video: SignSchool Man\n"
     ]
    },
    {
     "name": "stderr",
     "output_type": "stream",
     "text": [
      "ERROR: [youtube] VH3w3GwNIvc: Private video. Sign in if you've been granted access to this video\n"
     ]
    },
    {
     "name": "stdout",
     "output_type": "stream",
     "text": [
      "Error downloading www.youtube.com/watch?v=VH3w3GwNIvc: ERROR: [youtube] VH3w3GwNIvc: Private video. Sign in if you've been granted access to this video\n",
      "Processed video: SignSchool Letter 2\n",
      "Updated checkpoint with video: SignSchool Letter 2\n",
      "Video extracted successfully to strict STRICT(2)\n",
      "Processed video: STRICT(2)\n",
      "Updated checkpoint with video: STRICT(2)\n"
     ]
    },
    {
     "name": "stderr",
     "output_type": "stream",
     "text": [
      "ERROR: [youtube] Gj5_x1Xk49Q: Video unavailable. This video is no longer available because the YouTube account associated with this video has been terminated.\n"
     ]
    },
    {
     "name": "stdout",
     "output_type": "stream",
     "text": [
      "Error downloading https://www.youtube.com/watch?v=Gj5_x1Xk49Q: ERROR: [youtube] Gj5_x1Xk49Q: Video unavailable. This video is no longer available because the YouTube account associated with this video has been terminated.\n",
      "Processed video: ASL Black\n",
      "Updated checkpoint with video: ASL Black\n"
     ]
    },
    {
     "name": "stderr",
     "output_type": "stream",
     "text": [
      "ERROR: [youtube] bIIO8CdkS9g: Private video. Sign in if you've been granted access to this video\n"
     ]
    },
    {
     "name": "stdout",
     "output_type": "stream",
     "text": [
      "Error downloading www.youtube.com/watch?v=bIIO8CdkS9g: ERROR: [youtube] bIIO8CdkS9g: Private video. Sign in if you've been granted access to this video\n",
      "Processed video: SignSchool Crazy\n",
      "Updated checkpoint with video: SignSchool Crazy\n",
      "Video extracted successfully to mainstreamed ASL - Types of School\n",
      "Processed video: ASL - Types of School\n",
      "Updated checkpoint with video: ASL - Types of School\n"
     ]
    },
    {
     "name": "stderr",
     "output_type": "stream",
     "text": [
      "ERROR: [youtube] kP975hEinrY: Private video. Sign in if you've been granted access to this video\n"
     ]
    },
    {
     "name": "stdout",
     "output_type": "stream",
     "text": [
      "Error downloading www.youtube.com/watch?v=kP975hEinrY: ERROR: [youtube] kP975hEinrY: Private video. Sign in if you've been granted access to this video\n",
      "Processed video: SignSchool Senior 2\n",
      "Updated checkpoint with video: SignSchool Senior 2\n"
     ]
    },
    {
     "name": "stderr",
     "output_type": "stream",
     "text": [
      "ERROR: [youtube] OtvDLa0meFY: Video unavailable. This video is no longer available because the YouTube account associated with this video has been terminated.\n"
     ]
    },
    {
     "name": "stdout",
     "output_type": "stream",
     "text": [
      "Error downloading https://www.youtube.com/watch?v=OtvDLa0meFY: ERROR: [youtube] OtvDLa0meFY: Video unavailable. This video is no longer available because the YouTube account associated with this video has been terminated.\n",
      "Processed video: ASL Busy\n",
      "Updated checkpoint with video: ASL Busy\n",
      "Video extracted successfully to monkey MONKEY(1)\n",
      "Processed video: MONKEY(1)\n",
      "Updated checkpoint with video: MONKEY(1)\n"
     ]
    },
    {
     "name": "stderr",
     "output_type": "stream",
     "text": [
      "ERROR: [youtube] ganm_fJzmhk: Private video. Sign in if you've been granted access to this video\n"
     ]
    },
    {
     "name": "stdout",
     "output_type": "stream",
     "text": [
      "Error downloading https://www.youtube.com/watch?v=ganm_fJzmhk: ERROR: [youtube] ganm_fJzmhk: Private video. Sign in if you've been granted access to this video\n",
      "Processed video: MOTORCYCLE ASL\n",
      "Updated checkpoint with video: MOTORCYCLE ASL\n"
     ]
    },
    {
     "name": "stderr",
     "output_type": "stream",
     "text": [
      "ERROR: [youtube] RVNq9KxSCuc: Private video. Sign in if you've been granted access to this video\n"
     ]
    },
    {
     "name": "stdout",
     "output_type": "stream",
     "text": [
      "Error downloading https://www.youtube.com/watch?v=RVNq9KxSCuc: ERROR: [youtube] RVNq9KxSCuc: Private video. Sign in if you've been granted access to this video\n",
      "Processed video: ASL 9(1)\n",
      "Updated checkpoint with video: ASL 9(1)\n"
     ]
    },
    {
     "name": "stderr",
     "output_type": "stream",
     "text": [
      "ERROR: [youtube] uecW_6BXnFA: Private video. Sign in if you've been granted access to this video\n"
     ]
    },
    {
     "name": "stdout",
     "output_type": "stream",
     "text": [
      "Error downloading https://www.youtube.com/watch?v=uecW_6BXnFA: ERROR: [youtube] uecW_6BXnFA: Private video. Sign in if you've been granted access to this video\n",
      "Processed video: daughter(1)\n",
      "Updated checkpoint with video: daughter(1)\n",
      "Video extracted successfully to around APPROXIMATELY\n",
      "Processed video: APPROXIMATELY\n",
      "Updated checkpoint with video: APPROXIMATELY\n"
     ]
    },
    {
     "name": "stderr",
     "output_type": "stream",
     "text": [
      "ERROR: [youtube] LSM6KYDvu88: Private video. Sign in if you've been granted access to this video\n"
     ]
    },
    {
     "name": "stdout",
     "output_type": "stream",
     "text": [
      "Error downloading www.youtube.com/watch?v=LSM6KYDvu88: ERROR: [youtube] LSM6KYDvu88: Private video. Sign in if you've been granted access to this video\n",
      "Processed video: SignSchool Born Deliver\n",
      "Updated checkpoint with video: SignSchool Born Deliver\n",
      "Video extracted successfully to but BUT(3)\n",
      "Processed video: BUT(3)\n",
      "Updated checkpoint with video: BUT(3)\n",
      "Video extracted successfully to south america South America\n",
      "Processed video: South America\n",
      "Updated checkpoint with video: South America\n"
     ]
    },
    {
     "name": "stderr",
     "output_type": "stream",
     "text": [
      "ERROR: [youtube] 2guCgS9_uhg: Private video. Sign in if you've been granted access to this video\n"
     ]
    },
    {
     "name": "stdout",
     "output_type": "stream",
     "text": [
      "Error downloading www.youtube.com/watch?v=2guCgS9_uhg: ERROR: [youtube] 2guCgS9_uhg: Private video. Sign in if you've been granted access to this video\n",
      "Processed video: SignSchool 9\n",
      "Updated checkpoint with video: SignSchool 9\n",
      "Video extracted successfully to goat GOAT(1)\n",
      "Processed video: GOAT(1)\n",
      "Updated checkpoint with video: GOAT(1)\n"
     ]
    },
    {
     "name": "stderr",
     "output_type": "stream",
     "text": [
      "ERROR: [youtube] jmVzVAEcwvk: Private video. Sign in if you've been granted access to this video\n"
     ]
    },
    {
     "name": "stdout",
     "output_type": "stream",
     "text": [
      "Error downloading www.youtube.com/watch?v=jmVzVAEcwvk: ERROR: [youtube] jmVzVAEcwvk: Private video. Sign in if you've been granted access to this video\n",
      "Processed video: SignSchool Golf\n",
      "Updated checkpoint with video: SignSchool Golf\n"
     ]
    },
    {
     "name": "stderr",
     "output_type": "stream",
     "text": [
      "ERROR: [youtube] zgYUzElmp1k: Private video. Sign in if you've been granted access to this video\n"
     ]
    },
    {
     "name": "stdout",
     "output_type": "stream",
     "text": [
      "Error downloading www.youtube.com/watch?v=zgYUzElmp1k: ERROR: [youtube] zgYUzElmp1k: Private video. Sign in if you've been granted access to this video\n",
      "Processed video: SignSchool Understand\n",
      "Updated checkpoint with video: SignSchool Understand\n",
      "Video extracted successfully to learn LEARN(1)\n",
      "Processed video: LEARN(1)\n",
      "Updated checkpoint with video: LEARN(1)\n"
     ]
    },
    {
     "name": "stderr",
     "output_type": "stream",
     "text": [
      "ERROR: [youtube] 6Tqmc8jymoE: Private video. Sign in if you've been granted access to this video\n"
     ]
    },
    {
     "name": "stdout",
     "output_type": "stream",
     "text": [
      "Error downloading https://www.youtube.com/watch?v=6Tqmc8jymoE: ERROR: [youtube] 6Tqmc8jymoE: Private video. Sign in if you've been granted access to this video\n",
      "Processed video: ASL MAJOR IN\n",
      "Updated checkpoint with video: ASL MAJOR IN\n",
      "Video extracted successfully to shoes SHOE(2)\n",
      "Processed video: SHOE(2)\n",
      "Updated checkpoint with video: SHOE(2)\n"
     ]
    },
    {
     "name": "stderr",
     "output_type": "stream",
     "text": [
      "ERROR: [youtube] Se78WI3j-mI: Private video. Sign in if you've been granted access to this video\n"
     ]
    },
    {
     "name": "stdout",
     "output_type": "stream",
     "text": [
      "Error downloading www.youtube.com/watch?v=Se78WI3j-mI: ERROR: [youtube] Se78WI3j-mI: Private video. Sign in if you've been granted access to this video\n",
      "Processed video: SignSchool Before\n",
      "Updated checkpoint with video: SignSchool Before\n"
     ]
    },
    {
     "name": "stderr",
     "output_type": "stream",
     "text": [
      "ERROR: [youtube] 2OeZZeIh3pc: Private video. Sign in if you've been granted access to this video\n"
     ]
    },
    {
     "name": "stdout",
     "output_type": "stream",
     "text": [
      "Error downloading https://www.youtube.com/watch?v=2OeZZeIh3pc: ERROR: [youtube] 2OeZZeIh3pc: Private video. Sign in if you've been granted access to this video\n",
      "Processed video: ASL YEARBOOK\n",
      "Updated checkpoint with video: ASL YEARBOOK\n",
      "Video extracted successfully to i ASL - Alphabet\n",
      "Processed video: ASL - Alphabet\n",
      "Updated checkpoint with video: ASL - Alphabet\n"
     ]
    },
    {
     "name": "stderr",
     "output_type": "stream",
     "text": [
      "ERROR: [youtube] urEDFlPDcfs: Private video. Sign in if you've been granted access to this video\n"
     ]
    },
    {
     "name": "stdout",
     "output_type": "stream",
     "text": [
      "Error downloading https://www.youtube.com/watch?v=urEDFlPDcfs: ERROR: [youtube] urEDFlPDcfs: Private video. Sign in if you've been granted access to this video\n",
      "Processed video: education ASL\n",
      "Updated checkpoint with video: education ASL\n"
     ]
    },
    {
     "name": "stderr",
     "output_type": "stream",
     "text": [
      "ERROR: [youtube] yJtp5nym7Wo: Private video. Sign in if you've been granted access to this video\n"
     ]
    },
    {
     "name": "stdout",
     "output_type": "stream",
     "text": [
      "Error downloading https://www.youtube.com/watch?v=yJtp5nym7Wo: ERROR: [youtube] yJtp5nym7Wo: Private video. Sign in if you've been granted access to this video\n",
      "Processed video: ASL CAFETERIA\n",
      "Updated checkpoint with video: ASL CAFETERIA\n"
     ]
    },
    {
     "name": "stderr",
     "output_type": "stream",
     "text": [
      "ERROR: [youtube] 3cRmkwYL1NM: Private video. Sign in if you've been granted access to this video\n"
     ]
    },
    {
     "name": "stdout",
     "output_type": "stream",
     "text": [
      "Error downloading https://www.youtube.com/watch?v=3cRmkwYL1NM: ERROR: [youtube] 3cRmkwYL1NM: Private video. Sign in if you've been granted access to this video\n",
      "Processed video: ASL 19\n",
      "Updated checkpoint with video: ASL 19\n"
     ]
    },
    {
     "name": "stderr",
     "output_type": "stream",
     "text": [
      "ERROR: [youtube] Pyp4oVp16wU: Private video. Sign in if you've been granted access to this video\n"
     ]
    },
    {
     "name": "stdout",
     "output_type": "stream",
     "text": [
      "Error downloading www.youtube.com/watch?v=Pyp4oVp16wU: ERROR: [youtube] Pyp4oVp16wU: Private video. Sign in if you've been granted access to this video\n",
      "Processed video: SignSchool Worm\n",
      "Updated checkpoint with video: SignSchool Worm\n",
      "Video extracted successfully to hi Hi in Sign Language ASL Dictionary for kids\n",
      "Processed video: Hi in Sign Language ASL Dictionary for kids\n",
      "Updated checkpoint with video: Hi in Sign Language ASL Dictionary for kids\n"
     ]
    },
    {
     "name": "stderr",
     "output_type": "stream",
     "text": [
      "ERROR: [youtube] 6NAKVj4E9ZE: Private video. Sign in if you've been granted access to this video\n"
     ]
    },
    {
     "name": "stdout",
     "output_type": "stream",
     "text": [
      "Error downloading www.youtube.com/watch?v=6NAKVj4E9ZE: ERROR: [youtube] 6NAKVj4E9ZE: Private video. Sign in if you've been granted access to this video\n",
      "Processed video: SignSchool Marry Marriage\n",
      "Updated checkpoint with video: SignSchool Marry Marriage\n",
      "Video extracted successfully to dry DRY(2)\n",
      "Processed video: DRY(2)\n",
      "Updated checkpoint with video: DRY(2)\n"
     ]
    },
    {
     "name": "stderr",
     "output_type": "stream",
     "text": [
      "ERROR: [youtube] rfAdArfzx2Q: Private video. Sign in if you've been granted access to this video\n"
     ]
    },
    {
     "name": "stdout",
     "output_type": "stream",
     "text": [
      "Error downloading www.youtube.com/watch?v=rfAdArfzx2Q: ERROR: [youtube] rfAdArfzx2Q: Private video. Sign in if you've been granted access to this video\n",
      "Processed video: SignSchool Delicious 3\n",
      "Updated checkpoint with video: SignSchool Delicious 3\n",
      "Video extracted successfully to jacket COAT(1)\n",
      "Processed video: COAT(1)\n",
      "Updated checkpoint with video: COAT(1)\n",
      "Video extracted successfully to crazy CRAZY\n",
      "Processed video: CRAZY\n",
      "Updated checkpoint with video: CRAZY\n",
      "Video extracted successfully to careful CAREFUL(2)\n",
      "Processed video: CAREFUL(2)\n",
      "Updated checkpoint with video: CAREFUL(2)\n",
      "Video extracted successfully to black Black in Sign Language ASL Dictionary for kids\n",
      "Processed video: Black in Sign Language ASL Dictionary for kids\n",
      "Updated checkpoint with video: Black in Sign Language ASL Dictionary for kids\n"
     ]
    },
    {
     "name": "stderr",
     "output_type": "stream",
     "text": [
      "ERROR: [youtube] OnJxNwHhkIs: Private video. Sign in if you've been granted access to this video\n"
     ]
    },
    {
     "name": "stdout",
     "output_type": "stream",
     "text": [
      "Error downloading www.youtube.com/watch?v=OnJxNwHhkIs: ERROR: [youtube] OnJxNwHhkIs: Private video. Sign in if you've been granted access to this video\n",
      "Processed video: SignSchool Cook\n",
      "Updated checkpoint with video: SignSchool Cook\n",
      "Video extracted successfully to tell TELL(2)\n",
      "Processed video: TELL(2)\n",
      "Updated checkpoint with video: TELL(2)\n",
      "Video extracted successfully to thirsty Thirsty in Sign Language ASL Dictionary for kids\n",
      "Processed video: Thirsty in Sign Language ASL Dictionary for kids\n",
      "Updated checkpoint with video: Thirsty in Sign Language ASL Dictionary for kids\n",
      "Video extracted successfully to dizzy DIZZY\n",
      "Processed video: DIZZY\n",
      "Updated checkpoint with video: DIZZY\n",
      "Video extracted successfully to school SCHOOL(3)\n",
      "Processed video: SCHOOL(3)\n",
      "Updated checkpoint with video: SCHOOL(3)\n",
      "Video extracted successfully to worm WORM(1)\n",
      "Processed video: WORM(1)\n",
      "Updated checkpoint with video: WORM(1)\n"
     ]
    },
    {
     "name": "stderr",
     "output_type": "stream",
     "text": [
      "ERROR: [youtube] csLs9W1Eba8: Private video. Sign in if you've been granted access to this video\n"
     ]
    },
    {
     "name": "stdout",
     "output_type": "stream",
     "text": [
      "Error downloading https://www.youtube.com/watch?v=csLs9W1Eba8: ERROR: [youtube] csLs9W1Eba8: Private video. Sign in if you've been granted access to this video\n",
      "Processed video: ASL LAST WEEK(1)\n",
      "Updated checkpoint with video: ASL LAST WEEK(1)\n"
     ]
    },
    {
     "name": "stderr",
     "output_type": "stream",
     "text": [
      "ERROR: [youtube] AZXMZlHbsYo: Private video. Sign in if you've been granted access to this video\n"
     ]
    },
    {
     "name": "stdout",
     "output_type": "stream",
     "text": [
      "Error downloading https://www.youtube.com/watch?v=AZXMZlHbsYo: ERROR: [youtube] AZXMZlHbsYo: Private video. Sign in if you've been granted access to this video\n",
      "Processed video: economics ASL\n",
      "Updated checkpoint with video: economics ASL\n"
     ]
    },
    {
     "name": "stderr",
     "output_type": "stream",
     "text": [
      "ERROR: [youtube] yLIbF6yybak: Private video. Sign in if you've been granted access to this video\n"
     ]
    },
    {
     "name": "stdout",
     "output_type": "stream",
     "text": [
      "Error downloading https://www.youtube.com/watch?v=yLIbF6yybak: ERROR: [youtube] yLIbF6yybak: Private video. Sign in if you've been granted access to this video\n",
      "Processed video: algebra\n",
      "Updated checkpoint with video: algebra\n",
      "Video extracted successfully to boots BOOT\n",
      "Processed video: BOOT\n",
      "Updated checkpoint with video: BOOT\n"
     ]
    },
    {
     "name": "stderr",
     "output_type": "stream",
     "text": [
      "ERROR: [youtube] IfANaj5cmYQ: Private video. Sign in if you've been granted access to this video\n"
     ]
    },
    {
     "name": "stdout",
     "output_type": "stream",
     "text": [
      "Error downloading https://www.youtube.com/watch?v=IfANaj5cmYQ: ERROR: [youtube] IfANaj5cmYQ: Private video. Sign in if you've been granted access to this video\n",
      "Processed video: ASL BUSY\n",
      "Updated checkpoint with video: ASL BUSY\n"
     ]
    },
    {
     "name": "stderr",
     "output_type": "stream",
     "text": [
      "ERROR: [youtube] o_U50ODqKdY: Video unavailable\n"
     ]
    },
    {
     "name": "stdout",
     "output_type": "stream",
     "text": [
      "Error downloading https://www.youtube.com/watch?v=o_U50ODqKdY: ERROR: [youtube] o_U50ODqKdY: Video unavailable\n",
      "Processed video: NOT\n",
      "Updated checkpoint with video: NOT\n"
     ]
    },
    {
     "name": "stderr",
     "output_type": "stream",
     "text": [
      "ERROR: [youtube] ekSb-IM5ve0: Private video. Sign in if you've been granted access to this video\n"
     ]
    },
    {
     "name": "stdout",
     "output_type": "stream",
     "text": [
      "Error downloading www.youtube.com/watch?v=ekSb-IM5ve0: ERROR: [youtube] ekSb-IM5ve0: Private video. Sign in if you've been granted access to this video\n",
      "Processed video: SignSchool Hashtag 4\n",
      "Updated checkpoint with video: SignSchool Hashtag 4\n",
      "Video extracted successfully to yes YES(2)\n",
      "Processed video: YES(2)\n",
      "Updated checkpoint with video: YES(2)\n"
     ]
    },
    {
     "name": "stderr",
     "output_type": "stream",
     "text": [
      "ERROR: [youtube] AMLbZSekNdY: Private video. Sign in if you've been granted access to this video\n"
     ]
    },
    {
     "name": "stdout",
     "output_type": "stream",
     "text": [
      "Error downloading www.youtube.com/watch?v=AMLbZSekNdY: ERROR: [youtube] AMLbZSekNdY: Private video. Sign in if you've been granted access to this video\n",
      "Processed video: SignSchool Early\n",
      "Updated checkpoint with video: SignSchool Early\n"
     ]
    },
    {
     "name": "stderr",
     "output_type": "stream",
     "text": [
      "ERROR: [youtube] g5-udWgwNwo: Private video. Sign in if you've been granted access to this video\n"
     ]
    },
    {
     "name": "stdout",
     "output_type": "stream",
     "text": [
      "Error downloading www.youtube.com/watch?v=g5-udWgwNwo: ERROR: [youtube] g5-udWgwNwo: Private video. Sign in if you've been granted access to this video\n",
      "Processed video: SignSchool Train\n",
      "Updated checkpoint with video: SignSchool Train\n"
     ]
    },
    {
     "name": "stderr",
     "output_type": "stream",
     "text": [
      "ERROR: [youtube] amqLtz4b9U0: Private video. Sign in if you've been granted access to this video\n"
     ]
    },
    {
     "name": "stdout",
     "output_type": "stream",
     "text": [
      "Error downloading https://www.youtube.com/watch?v=amqLtz4b9U0: ERROR: [youtube] amqLtz4b9U0: Private video. Sign in if you've been granted access to this video\n",
      "Processed video: ASL LAST YEAR\n",
      "Updated checkpoint with video: ASL LAST YEAR\n",
      "Video extracted successfully to also ALSO\n",
      "Processed video: ALSO\n",
      "Updated checkpoint with video: ALSO\n"
     ]
    },
    {
     "name": "stderr",
     "output_type": "stream",
     "text": [
      "ERROR: [youtube] bfY_3UCUOxE: Private video. Sign in if you've been granted access to this video\n"
     ]
    },
    {
     "name": "stdout",
     "output_type": "stream",
     "text": [
      "Error downloading www.youtube.com/watch?v=bfY_3UCUOxE: ERROR: [youtube] bfY_3UCUOxE: Private video. Sign in if you've been granted access to this video\n",
      "Processed video: SignSchool Plus\n",
      "Updated checkpoint with video: SignSchool Plus\n",
      "Video extracted successfully to geometry GEOMETRY(1)\n",
      "Processed video: GEOMETRY(1)\n",
      "Updated checkpoint with video: GEOMETRY(1)\n",
      "Video extracted successfully to eat Food in Sign Language ASL Dictionary for kids\n",
      "Processed video: Food in Sign Language ASL Dictionary for kids\n",
      "Updated checkpoint with video: Food in Sign Language ASL Dictionary for kids\n"
     ]
    },
    {
     "name": "stderr",
     "output_type": "stream",
     "text": [
      "ERROR: [youtube] MsTSiLJkUmk: Private video. Sign in if you've been granted access to this video\n"
     ]
    },
    {
     "name": "stdout",
     "output_type": "stream",
     "text": [
      "Error downloading www.youtube.com/watch?v=MsTSiLJkUmk: ERROR: [youtube] MsTSiLJkUmk: Private video. Sign in if you've been granted access to this video\n",
      "Processed video: SignSchool Divorce 2\n",
      "Updated checkpoint with video: SignSchool Divorce 2\n"
     ]
    },
    {
     "name": "stderr",
     "output_type": "stream",
     "text": [
      "ERROR: [youtube] uUtWckN5NJ0: Private video. Sign in if you've been granted access to this video\n"
     ]
    },
    {
     "name": "stdout",
     "output_type": "stream",
     "text": [
      "Error downloading https://www.youtube.com/watch?v=uUtWckN5NJ0: ERROR: [youtube] uUtWckN5NJ0: Private video. Sign in if you've been granted access to this video\n",
      "Processed video: ASL LEARN\n",
      "Updated checkpoint with video: ASL LEARN\n",
      "Video extracted successfully to light LIGHT(1)\n",
      "Processed video: LIGHT(1)\n",
      "Updated checkpoint with video: LIGHT(1)\n"
     ]
    },
    {
     "name": "stderr",
     "output_type": "stream",
     "text": [
      "ERROR: [youtube] 02xxXtC3G8c: Private video. Sign in if you've been granted access to this video\n"
     ]
    },
    {
     "name": "stdout",
     "output_type": "stream",
     "text": [
      "Error downloading www.youtube.com/watch?v=02xxXtC3G8c: ERROR: [youtube] 02xxXtC3G8c: Private video. Sign in if you've been granted access to this video\n",
      "Processed video: SignSchool Before 2\n",
      "Updated checkpoint with video: SignSchool Before 2\n",
      "Video extracted successfully to emotional EMOTIONAL\n",
      "Processed video: EMOTIONAL\n",
      "Updated checkpoint with video: EMOTIONAL\n"
     ]
    },
    {
     "name": "stderr",
     "output_type": "stream",
     "text": [
      "ERROR: [youtube] 2jROts7aSXg: Private video. Sign in if you've been granted access to this video\n"
     ]
    },
    {
     "name": "stdout",
     "output_type": "stream",
     "text": [
      "Error downloading https://www.youtube.com/watch?v=2jROts7aSXg: ERROR: [youtube] 2jROts7aSXg: Private video. Sign in if you've been granted access to this video\n",
      "Processed video: ASL MOTIVATED\n",
      "Updated checkpoint with video: ASL MOTIVATED\n",
      "Video extracted successfully to that one THAT ONE\n",
      "Processed video: THAT ONE\n",
      "Updated checkpoint with video: THAT ONE\n",
      "Video extracted successfully to mustache MUSTACHE(4)\n",
      "Processed video: MUSTACHE(4)\n",
      "Updated checkpoint with video: MUSTACHE(4)\n"
     ]
    },
    {
     "name": "stderr",
     "output_type": "stream",
     "text": [
      "ERROR: [youtube] kUWw6tbiEhc: Private video. Sign in if you've been granted access to this video\n"
     ]
    },
    {
     "name": "stdout",
     "output_type": "stream",
     "text": [
      "Error downloading www.youtube.com/watch?v=kUWw6tbiEhc: ERROR: [youtube] kUWw6tbiEhc: Private video. Sign in if you've been granted access to this video\n",
      "Processed video: SignSchool Fence\n",
      "Updated checkpoint with video: SignSchool Fence\n",
      "Video extracted successfully to trigonometry TRIGONOMETRY\n",
      "Processed video: TRIGONOMETRY\n",
      "Updated checkpoint with video: TRIGONOMETRY\n"
     ]
    },
    {
     "name": "stderr",
     "output_type": "stream",
     "text": [
      "ERROR: [youtube] eG-tga3H3y8: Video unavailable\n"
     ]
    },
    {
     "name": "stdout",
     "output_type": "stream",
     "text": [
      "Error downloading www.youtube.com/watch?v=eG-tga3H3y8: ERROR: [youtube] eG-tga3H3y8: Video unavailable\n",
      "Processed video: light 1\n",
      "Updated checkpoint with video: light 1\n"
     ]
    },
    {
     "name": "stderr",
     "output_type": "stream",
     "text": [
      "ERROR: [youtube] fuG-I3iWGio: Private video. Sign in if you've been granted access to this video\n"
     ]
    },
    {
     "name": "stdout",
     "output_type": "stream",
     "text": [
      "Error downloading https://www.youtube.com/watch?v=fuG-I3iWGio: ERROR: [youtube] fuG-I3iWGio: Private video. Sign in if you've been granted access to this video\n",
      "Processed video: ASL gallaudet\n",
      "Updated checkpoint with video: ASL gallaudet\n",
      "Video extracted successfully to buy BUY(3)\n",
      "Processed video: BUY(3)\n",
      "Updated checkpoint with video: BUY(3)\n",
      "Video extracted successfully to so SO\n",
      "Processed video: SO\n",
      "Updated checkpoint with video: SO\n"
     ]
    },
    {
     "name": "stderr",
     "output_type": "stream",
     "text": [
      "ERROR: [youtube] O-nQwb-krNM: Private video. Sign in if you've been granted access to this video\n"
     ]
    },
    {
     "name": "stdout",
     "output_type": "stream",
     "text": [
      "Error downloading https://www.youtube.com/watch?v=O-nQwb-krNM: ERROR: [youtube] O-nQwb-krNM: Private video. Sign in if you've been granted access to this video\n",
      "Processed video: ASL ONLY\n",
      "Updated checkpoint with video: ASL ONLY\n",
      "Video extracted successfully to cook COOK(1)\n",
      "Processed video: COOK(1)\n",
      "Updated checkpoint with video: COOK(1)\n"
     ]
    },
    {
     "name": "stderr",
     "output_type": "stream",
     "text": [
      "ERROR: [youtube] _B0hwnar_LU: Private video. Sign in if you've been granted access to this video\n"
     ]
    },
    {
     "name": "stdout",
     "output_type": "stream",
     "text": [
      "Error downloading www.youtube.com/watch?v=_B0hwnar_LU: ERROR: [youtube] _B0hwnar_LU: Private video. Sign in if you've been granted access to this video\n",
      "Processed video: SignSchool Senior\n",
      "Updated checkpoint with video: SignSchool Senior\n",
      "Video extracted successfully to pear PEAR(1)\n",
      "Processed video: PEAR(1)\n",
      "Updated checkpoint with video: PEAR(1)\n",
      "Video extracted successfully to monkey Monkey in Sign Language ASL Dictionary for kids\n",
      "Processed video: Monkey in Sign Language ASL Dictionary for kids\n",
      "Updated checkpoint with video: Monkey in Sign Language ASL Dictionary for kids\n",
      "Video extracted successfully to understand UNDERSTAND(3)\n",
      "Processed video: UNDERSTAND(3)\n",
      "Updated checkpoint with video: UNDERSTAND(3)\n",
      "Video extracted successfully to train Train in Sign Language ASL Dictionary for kids\n",
      "Processed video: Train in Sign Language ASL Dictionary for kids\n",
      "Updated checkpoint with video: Train in Sign Language ASL Dictionary for kids\n"
     ]
    },
    {
     "name": "stderr",
     "output_type": "stream",
     "text": [
      "ERROR: [youtube] edIdSEuEunw: Video unavailable\n"
     ]
    },
    {
     "name": "stdout",
     "output_type": "stream",
     "text": [
      "Error downloading https://www.youtube.com/watch?v=edIdSEuEunw: ERROR: [youtube] edIdSEuEunw: Video unavailable\n",
      "Processed video: ENGAGED\n",
      "Updated checkpoint with video: ENGAGED\n"
     ]
    },
    {
     "name": "stderr",
     "output_type": "stream",
     "text": [
      "ERROR: [youtube] LU56SUzihHc: Private video. Sign in if you've been granted access to this video\n"
     ]
    },
    {
     "name": "stdout",
     "output_type": "stream",
     "text": [
      "Error downloading www.youtube.com/watch?v=LU56SUzihHc: ERROR: [youtube] LU56SUzihHc: Private video. Sign in if you've been granted access to this video\n",
      "Processed video: SignSchool Motorcycle\n",
      "Updated checkpoint with video: SignSchool Motorcycle\n"
     ]
    },
    {
     "name": "stderr",
     "output_type": "stream",
     "text": [
      "ERROR: [youtube] R3sv6otytV8: Private video. Sign in if you've been granted access to this video\n"
     ]
    },
    {
     "name": "stdout",
     "output_type": "stream",
     "text": [
      "Error downloading www.youtube.com/watch?v=R3sv6otytV8: ERROR: [youtube] R3sv6otytV8: Private video. Sign in if you've been granted access to this video\n",
      "Processed video: SignSchool Light From Flashlight\n",
      "Updated checkpoint with video: SignSchool Light From Flashlight\n",
      "Video extracted successfully to new NEW(2)\n",
      "Processed video: NEW(2)\n",
      "Updated checkpoint with video: NEW(2)\n",
      "Video extracted successfully to long LONG(1)\n",
      "Processed video: LONG(1)\n",
      "Updated checkpoint with video: LONG(1)\n"
     ]
    },
    {
     "name": "stderr",
     "output_type": "stream",
     "text": [
      "ERROR: [youtube] JmEh_jXrVGU: Private video. Sign in if you've been granted access to this video\n"
     ]
    },
    {
     "name": "stdout",
     "output_type": "stream",
     "text": [
      "Error downloading www.youtube.com/watch?v=JmEh_jXrVGU: ERROR: [youtube] JmEh_jXrVGU: Private video. Sign in if you've been granted access to this video\n",
      "Processed video: SignSchool Backpack\n",
      "Updated checkpoint with video: SignSchool Backpack\n"
     ]
    },
    {
     "name": "stderr",
     "output_type": "stream",
     "text": [
      "ERROR: [youtube] FpwDX4sVMCI: Private video. Sign in if you've been granted access to this video\n"
     ]
    },
    {
     "name": "stdout",
     "output_type": "stream",
     "text": [
      "Error downloading https://www.youtube.com/watch?v=FpwDX4sVMCI: ERROR: [youtube] FpwDX4sVMCI: Private video. Sign in if you've been granted access to this video\n",
      "Processed video: ASL GOLF\n",
      "Updated checkpoint with video: ASL GOLF\n"
     ]
    },
    {
     "name": "stderr",
     "output_type": "stream",
     "text": [
      "ERROR: [youtube] ZOoO0AMbqyY: Video unavailable. This video is no longer available because the YouTube account associated with this video has been terminated.\n"
     ]
    },
    {
     "name": "stdout",
     "output_type": "stream",
     "text": [
      "Error downloading https://www.youtube.com/watch?v=ZOoO0AMbqyY: ERROR: [youtube] ZOoO0AMbqyY: Video unavailable. This video is no longer available because the YouTube account associated with this video has been terminated.\n",
      "Processed video: ASL Number 26\n",
      "Updated checkpoint with video: ASL Number 26\n",
      "Video extracted successfully to important IMPORTANT(1)\n",
      "Processed video: IMPORTANT(1)\n",
      "Updated checkpoint with video: IMPORTANT(1)\n"
     ]
    },
    {
     "name": "stderr",
     "output_type": "stream",
     "text": [
      "ERROR: [youtube] 31jCgAShlZY: Private video. Sign in if you've been granted access to this video\n"
     ]
    },
    {
     "name": "stdout",
     "output_type": "stream",
     "text": [
      "Error downloading www.youtube.com/watch?v=31jCgAShlZY: ERROR: [youtube] 31jCgAShlZY: Private video. Sign in if you've been granted access to this video\n",
      "Processed video: SignSchool Hashtag 3\n",
      "Updated checkpoint with video: SignSchool Hashtag 3\n"
     ]
    },
    {
     "name": "stderr",
     "output_type": "stream",
     "text": [
      "ERROR: [youtube] S6XuaxSud0Y: Private video. Sign in if you've been granted access to this video\n"
     ]
    },
    {
     "name": "stdout",
     "output_type": "stream",
     "text": [
      "Error downloading www.youtube.com/watch?v=S6XuaxSud0Y: ERROR: [youtube] S6XuaxSud0Y: Private video. Sign in if you've been granted access to this video\n",
      "Processed video: SignSchool Long\n",
      "Updated checkpoint with video: SignSchool Long\n",
      "Video extracted successfully to austria Austria\n",
      "Processed video: Austria\n",
      "Updated checkpoint with video: Austria\n",
      "Video extracted successfully to table Table in Sign Language ASL Dictionary for kids\n",
      "Processed video: Table in Sign Language ASL Dictionary for kids\n",
      "Updated checkpoint with video: Table in Sign Language ASL Dictionary for kids\n"
     ]
    },
    {
     "name": "stderr",
     "output_type": "stream",
     "text": [
      "ERROR: [youtube] PYeFvzRhVV4: Private video. Sign in if you've been granted access to this video\n"
     ]
    },
    {
     "name": "stdout",
     "output_type": "stream",
     "text": [
      "Error downloading www.youtube.com/watch?v=PYeFvzRhVV4: ERROR: [youtube] PYeFvzRhVV4: Private video. Sign in if you've been granted access to this video\n",
      "Processed video: SignSchool 26\n",
      "Updated checkpoint with video: SignSchool 26\n",
      "Video extracted successfully to sandwich SANDWICH(2)\n",
      "Processed video: SANDWICH(2)\n",
      "Updated checkpoint with video: SANDWICH(2)\n"
     ]
    },
    {
     "name": "stderr",
     "output_type": "stream",
     "text": [
      "ERROR: [youtube] IsLeSfI-W8c: Private video. Sign in if you've been granted access to this video\n"
     ]
    },
    {
     "name": "stdout",
     "output_type": "stream",
     "text": [
      "Error downloading www.youtube.com/watch?v=IsLeSfI-W8c: ERROR: [youtube] IsLeSfI-W8c: Private video. Sign in if you've been granted access to this video\n",
      "Processed video: SignSchool Shocked\n",
      "Updated checkpoint with video: SignSchool Shocked\n",
      "Video extracted successfully to shoes SHOE(1)\n",
      "Processed video: SHOE(1)\n",
      "Updated checkpoint with video: SHOE(1)\n"
     ]
    },
    {
     "name": "stderr",
     "output_type": "stream",
     "text": [
      "ERROR: [youtube] JB1wVCZHtmY: Video unavailable\n"
     ]
    },
    {
     "name": "stdout",
     "output_type": "stream",
     "text": [
      "Error downloading www.youtube.com/watch?v=JB1wVCZHtmY: ERROR: [youtube] JB1wVCZHtmY: Video unavailable\n",
      "Processed video: hill 2\n",
      "Updated checkpoint with video: hill 2\n"
     ]
    },
    {
     "name": "stderr",
     "output_type": "stream",
     "text": [
      "ERROR: [youtube] IHx7pd5x1E4: Private video. Sign in if you've been granted access to this video\n"
     ]
    },
    {
     "name": "stdout",
     "output_type": "stream",
     "text": [
      "Error downloading https://www.youtube.com/watch?v=IHx7pd5x1E4: ERROR: [youtube] IHx7pd5x1E4: Private video. Sign in if you've been granted access to this video\n",
      "Processed video: ASL TRIGONOMETRY\n",
      "Updated checkpoint with video: ASL TRIGONOMETRY\n",
      "Video extracted successfully to moon Moon in Sign Language ASL Dictionary for kids\n",
      "Processed video: Moon in Sign Language ASL Dictionary for kids\n",
      "Updated checkpoint with video: Moon in Sign Language ASL Dictionary for kids\n",
      "Video extracted successfully to yes YES\n",
      "Processed video: YES\n",
      "Updated checkpoint with video: YES\n"
     ]
    },
    {
     "name": "stderr",
     "output_type": "stream",
     "text": [
      "ERROR: [youtube] qaOx5-whHHI: Private video. Sign in if you've been granted access to this video\n"
     ]
    },
    {
     "name": "stdout",
     "output_type": "stream",
     "text": [
      "Error downloading www.youtube.com/watch?v=qaOx5-whHHI: ERROR: [youtube] qaOx5-whHHI: Private video. Sign in if you've been granted access to this video\n",
      "Processed video: SignSchool 50\n",
      "Updated checkpoint with video: SignSchool 50\n"
     ]
    },
    {
     "name": "stderr",
     "output_type": "stream",
     "text": [
      "ERROR: [youtube] KAJPIxkKWbA: Private video. Sign in if you've been granted access to this video\n"
     ]
    },
    {
     "name": "stdout",
     "output_type": "stream",
     "text": [
      "Error downloading www.youtube.com/watch?v=KAJPIxkKWbA: ERROR: [youtube] KAJPIxkKWbA: Private video. Sign in if you've been granted access to this video\n",
      "Processed video: SignSchool Play Act Performance\n",
      "Updated checkpoint with video: SignSchool Play Act Performance\n"
     ]
    },
    {
     "name": "stderr",
     "output_type": "stream",
     "text": [
      "ERROR: [youtube] Y0f51IM4kfg: Private video. Sign in if you've been granted access to this video\n"
     ]
    },
    {
     "name": "stdout",
     "output_type": "stream",
     "text": [
      "Error downloading www.youtube.com/watch?v=Y0f51IM4kfg: ERROR: [youtube] Y0f51IM4kfg: Private video. Sign in if you've been granted access to this video\n",
      "Processed video: SignSchool Early 2\n",
      "Updated checkpoint with video: SignSchool Early 2\n",
      "Video extracted successfully to down DOWN\n",
      "Processed video: DOWN\n",
      "Updated checkpoint with video: DOWN\n"
     ]
    },
    {
     "name": "stderr",
     "output_type": "stream",
     "text": [
      "ERROR: [youtube] EGPbter02aU: Private video. Sign in if you've been granted access to this video\n"
     ]
    },
    {
     "name": "stdout",
     "output_type": "stream",
     "text": [
      "Error downloading www.youtube.com/watch?v=EGPbter02aU: ERROR: [youtube] EGPbter02aU: Private video. Sign in if you've been granted access to this video\n",
      "Processed video: SignSchool Delicious 2\n",
      "Updated checkpoint with video: SignSchool Delicious 2\n"
     ]
    },
    {
     "name": "stderr",
     "output_type": "stream",
     "text": [
      "ERROR: [youtube] d6GNfNifsIw: Private video. Sign in if you've been granted access to this video\n"
     ]
    },
    {
     "name": "stdout",
     "output_type": "stream",
     "text": [
      "Error downloading www.youtube.com/watch?v=d6GNfNifsIw: ERROR: [youtube] d6GNfNifsIw: Private video. Sign in if you've been granted access to this video\n",
      "Processed video: SignSchool Early 3\n",
      "Updated checkpoint with video: SignSchool Early 3\n",
      "Video extracted successfully to economics ECONOMY\n",
      "Processed video: ECONOMY\n",
      "Updated checkpoint with video: ECONOMY\n"
     ]
    },
    {
     "name": "stderr",
     "output_type": "stream",
     "text": [
      "ERROR: [youtube] HxfPCVePbAo: Private video. Sign in if you've been granted access to this video\n"
     ]
    },
    {
     "name": "stdout",
     "output_type": "stream",
     "text": [
      "Error downloading www.youtube.com/watch?v=HxfPCVePbAo: ERROR: [youtube] HxfPCVePbAo: Private video. Sign in if you've been granted access to this video\n",
      "Processed video: SignSchool World\n",
      "Updated checkpoint with video: SignSchool World\n"
     ]
    },
    {
     "name": "stderr",
     "output_type": "stream",
     "text": [
      "ERROR: [youtube] GjBiBjw2Uh4: Video unavailable\n"
     ]
    },
    {
     "name": "stdout",
     "output_type": "stream",
     "text": [
      "Error downloading www.youtube.com/watch?v=GjBiBjw2Uh4: ERROR: [youtube] GjBiBjw2Uh4: Video unavailable\n",
      "Processed video: shoes 3\n",
      "Updated checkpoint with video: shoes 3\n",
      "Video extracted successfully to how_many HOW MANY(1)\n",
      "Processed video: HOW MANY(1)\n",
      "Updated checkpoint with video: HOW MANY(1)\n",
      "Video extracted successfully to before BEFORE(1)\n",
      "Processed video: BEFORE(1)\n",
      "Updated checkpoint with video: BEFORE(1)\n"
     ]
    },
    {
     "name": "stderr",
     "output_type": "stream",
     "text": [
      "ERROR: [youtube] 3Rx91HSF5JY: Private video. Sign in if you've been granted access to this video\n"
     ]
    },
    {
     "name": "stdout",
     "output_type": "stream",
     "text": [
      "Error downloading www.youtube.com/watch?v=3Rx91HSF5JY: ERROR: [youtube] 3Rx91HSF5JY: Private video. Sign in if you've been granted access to this video\n",
      "Processed video: SignSchool Strong\n",
      "Updated checkpoint with video: SignSchool Strong\n",
      "Video extracted successfully to animal ANIMAL(1)\n",
      "Processed video: ANIMAL(1)\n",
      "Updated checkpoint with video: ANIMAL(1)\n"
     ]
    },
    {
     "name": "stderr",
     "output_type": "stream",
     "text": [
      "ERROR: [youtube] CQ1r5eXoPtM: Private video. Sign in if you've been granted access to this video\n"
     ]
    },
    {
     "name": "stdout",
     "output_type": "stream",
     "text": [
      "Error downloading https://www.youtube.com/watch?v=CQ1r5eXoPtM: ERROR: [youtube] CQ1r5eXoPtM: Private video. Sign in if you've been granted access to this video\n",
      "Processed video: ASL TRAIN\n",
      "Updated checkpoint with video: ASL TRAIN\n",
      "Video extracted successfully to education EDUCATION\n",
      "Processed video: EDUCATION\n",
      "Updated checkpoint with video: EDUCATION\n"
     ]
    },
    {
     "name": "stderr",
     "output_type": "stream",
     "text": [
      "ERROR: [youtube] Gm8PTVKHF1s: Private video. Sign in if you've been granted access to this video\n"
     ]
    },
    {
     "name": "stdout",
     "output_type": "stream",
     "text": [
      "Error downloading www.youtube.com/watch?v=Gm8PTVKHF1s: ERROR: [youtube] Gm8PTVKHF1s: Private video. Sign in if you've been granted access to this video\n",
      "Processed video: SignSchool Pizza 2\n",
      "Updated checkpoint with video: SignSchool Pizza 2\n"
     ]
    },
    {
     "name": "stderr",
     "output_type": "stream",
     "text": [
      "ERROR: [youtube] JV4BqtKxwOY: Private video. Sign in if you've been granted access to this video\n"
     ]
    },
    {
     "name": "stdout",
     "output_type": "stream",
     "text": [
      "Error downloading www.youtube.com/watch?v=JV4BqtKxwOY: ERROR: [youtube] JV4BqtKxwOY: Private video. Sign in if you've been granted access to this video\n",
      "Processed video: SignSchool Family(1)\n",
      "Updated checkpoint with video: SignSchool Family(1)\n"
     ]
    },
    {
     "name": "stderr",
     "output_type": "stream",
     "text": [
      "ERROR: [youtube] 6w5fvniQXZQ: Private video. Sign in if you've been granted access to this video\n"
     ]
    },
    {
     "name": "stdout",
     "output_type": "stream",
     "text": [
      "Error downloading https://www.youtube.com/watch?v=6w5fvniQXZQ: ERROR: [youtube] 6w5fvniQXZQ: Private video. Sign in if you've been granted access to this video\n",
      "Processed video: ASL SENIOR\n",
      "Updated checkpoint with video: ASL SENIOR\n",
      "Video extracted successfully to bright BRIGHT(1)\n",
      "Processed video: BRIGHT(1)\n",
      "Updated checkpoint with video: BRIGHT(1)\n",
      "Video extracted successfully to bath Bath in Sign Language ASL Dictionary for kids\n",
      "Processed video: Bath in Sign Language ASL Dictionary for kids\n",
      "Updated checkpoint with video: Bath in Sign Language ASL Dictionary for kids\n"
     ]
    },
    {
     "name": "stderr",
     "output_type": "stream",
     "text": [
      "ERROR: [youtube] x3GJ5mFOpNA: Video unavailable\n"
     ]
    },
    {
     "name": "stdout",
     "output_type": "stream",
     "text": [
      "Error downloading https://www.youtube.com/watch?v=x3GJ5mFOpNA: ERROR: [youtube] x3GJ5mFOpNA: Video unavailable\n",
      "Processed video: FAMILY\n",
      "Updated checkpoint with video: FAMILY\n",
      "Video extracted successfully to africa Africa (Arabic sign)\n",
      "Processed video: Africa (Arabic sign)\n",
      "Updated checkpoint with video: Africa (Arabic sign)\n"
     ]
    },
    {
     "name": "stderr",
     "output_type": "stream",
     "text": [
      "ERROR: [youtube] cPCRdqANXug: Private video. Sign in if you've been granted access to this video\n"
     ]
    },
    {
     "name": "stdout",
     "output_type": "stream",
     "text": [
      "Error downloading https://www.youtube.com/watch?v=cPCRdqANXug: ERROR: [youtube] cPCRdqANXug: Private video. Sign in if you've been granted access to this video\n",
      "Processed video: ASL PHOTOGRAPHY\n",
      "Updated checkpoint with video: ASL PHOTOGRAPHY\n"
     ]
    },
    {
     "name": "stderr",
     "output_type": "stream",
     "text": [
      "ERROR: [youtube] LtA9qHA1lnA: Video unavailable\n"
     ]
    },
    {
     "name": "stdout",
     "output_type": "stream",
     "text": [
      "Error downloading www.youtube.com/watch?v=LtA9qHA1lnA: ERROR: [youtube] LtA9qHA1lnA: Video unavailable\n",
      "Processed video: light 2\n",
      "Updated checkpoint with video: light 2\n",
      "Video extracted successfully to snake SNAKE(1)\n",
      "Processed video: SNAKE(1)\n",
      "Updated checkpoint with video: SNAKE(1)\n"
     ]
    },
    {
     "name": "stderr",
     "output_type": "stream",
     "text": [
      "ERROR: [youtube] LORew8H73f8: Private video. Sign in if you've been granted access to this video\n"
     ]
    },
    {
     "name": "stdout",
     "output_type": "stream",
     "text": [
      "Error downloading www.youtube.com/watch?v=LORew8H73f8: ERROR: [youtube] LORew8H73f8: Private video. Sign in if you've been granted access to this video\n",
      "Processed video: SignSchool Microwave\n",
      "Updated checkpoint with video: SignSchool Microwave\n"
     ]
    },
    {
     "name": "stderr",
     "output_type": "stream",
     "text": [
      "ERROR: [youtube] xpKWKg9f7TY: Private video. Sign in if you've been granted access to this video\n"
     ]
    },
    {
     "name": "stdout",
     "output_type": "stream",
     "text": [
      "Error downloading https://www.youtube.com/watch?v=xpKWKg9f7TY: ERROR: [youtube] xpKWKg9f7TY: Private video. Sign in if you've been granted access to this video\n",
      "Processed video: ASL front\n",
      "Updated checkpoint with video: ASL front\n"
     ]
    },
    {
     "name": "stderr",
     "output_type": "stream",
     "text": [
      "ERROR: [youtube] eKtDeQeceOU: Private video. Sign in if you've been granted access to this video\n"
     ]
    },
    {
     "name": "stdout",
     "output_type": "stream",
     "text": [
      "Error downloading www.youtube.com/watch?v=eKtDeQeceOU: ERROR: [youtube] eKtDeQeceOU: Private video. Sign in if you've been granted access to this video\n",
      "Processed video: SignSchool Relationship\n",
      "Updated checkpoint with video: SignSchool Relationship\n",
      "Video extracted successfully to delicious DELICIOUS(3)\n",
      "Processed video: DELICIOUS(3)\n",
      "Updated checkpoint with video: DELICIOUS(3)\n",
      "Video extracted successfully to black BLACK(4)\n",
      "Processed video: BLACK(4)\n",
      "Updated checkpoint with video: BLACK(4)\n",
      "Video extracted successfully to only ONLY\n",
      "Processed video: ONLY\n",
      "Updated checkpoint with video: ONLY\n",
      "Video extracted successfully to equal FAIR(1)\n",
      "Processed video: FAIR(1)\n",
      "Updated checkpoint with video: FAIR(1)\n"
     ]
    },
    {
     "name": "stderr",
     "output_type": "stream",
     "text": [
      "ERROR: [youtube] BJ_V7T3naFY: Private video. Sign in if you've been granted access to this video\n"
     ]
    },
    {
     "name": "stdout",
     "output_type": "stream",
     "text": [
      "Error downloading www.youtube.com/watch?v=BJ_V7T3naFY: ERROR: [youtube] BJ_V7T3naFY: Private video. Sign in if you've been granted access to this video\n",
      "Processed video: SignSchool Tell\n",
      "Updated checkpoint with video: SignSchool Tell\n"
     ]
    },
    {
     "name": "stderr",
     "output_type": "stream",
     "text": [
      "ERROR: [youtube] 3Znr34B-moo: Private video. Sign in if you've been granted access to this video\n"
     ]
    },
    {
     "name": "stdout",
     "output_type": "stream",
     "text": [
      "Error downloading www.youtube.com/watch?v=3Znr34B-moo: ERROR: [youtube] 3Znr34B-moo: Private video. Sign in if you've been granted access to this video\n",
      "Processed video: SignSchool Half\n",
      "Updated checkpoint with video: SignSchool Half\n",
      "Video extracted successfully to fine FINE(3)\n",
      "Processed video: FINE(3)\n",
      "Updated checkpoint with video: FINE(3)\n",
      "Video extracted successfully to polite POLITE\n",
      "Processed video: POLITE\n",
      "Updated checkpoint with video: POLITE\n"
     ]
    },
    {
     "name": "stderr",
     "output_type": "stream",
     "text": [
      "ERROR: [youtube] ZxOqr6aCVLc: Video unavailable\n"
     ]
    },
    {
     "name": "stdout",
     "output_type": "stream",
     "text": [
      "Error downloading https://www.youtube.com/watch?v=ZxOqr6aCVLc: ERROR: [youtube] ZxOqr6aCVLc: Video unavailable\n",
      "Processed video: THANKSGIVING\n",
      "Updated checkpoint with video: THANKSGIVING\n"
     ]
    },
    {
     "name": "stderr",
     "output_type": "stream",
     "text": [
      "ERROR: [youtube] FY3boVNHj2g: Private video. Sign in if you've been granted access to this video\n"
     ]
    },
    {
     "name": "stdout",
     "output_type": "stream",
     "text": [
      "Error downloading www.youtube.com/watch?v=FY3boVNHj2g: ERROR: [youtube] FY3boVNHj2g: Private video. Sign in if you've been granted access to this video\n",
      "Processed video: SignSchool Break Up Disconnect\n",
      "Updated checkpoint with video: SignSchool Break Up Disconnect\n"
     ]
    },
    {
     "name": "stderr",
     "output_type": "stream",
     "text": [
      "ERROR: [youtube] KVADhxpgPnc: Private video. Sign in if you've been granted access to this video\n"
     ]
    },
    {
     "name": "stdout",
     "output_type": "stream",
     "text": [
      "Error downloading www.youtube.com/watch?v=KVADhxpgPnc: ERROR: [youtube] KVADhxpgPnc: Private video. Sign in if you've been granted access to this video\n",
      "Processed video: SignSchool Judge Hammer\n",
      "Updated checkpoint with video: SignSchool Judge Hammer\n"
     ]
    },
    {
     "name": "stderr",
     "output_type": "stream",
     "text": [
      "ERROR: [youtube] p_SE8dzfXvg: Video unavailable\n"
     ]
    },
    {
     "name": "stdout",
     "output_type": "stream",
     "text": [
      "Error downloading www.youtube.com/watch?v=p_SE8dzfXvg: ERROR: [youtube] p_SE8dzfXvg: Video unavailable\n",
      "Processed video: hill 1\n",
      "Updated checkpoint with video: hill 1\n",
      "Video extracted successfully to mouse MOUSE(1)\n",
      "Processed video: MOUSE(1)\n",
      "Updated checkpoint with video: MOUSE(1)\n"
     ]
    },
    {
     "name": "stderr",
     "output_type": "stream",
     "text": [
      "ERROR: [youtube] 9ZSHxT8UfRg: Private video. Sign in if you've been granted access to this video\n"
     ]
    },
    {
     "name": "stdout",
     "output_type": "stream",
     "text": [
      "Error downloading www.youtube.com/watch?v=9ZSHxT8UfRg: ERROR: [youtube] 9ZSHxT8UfRg: Private video. Sign in if you've been granted access to this video\n",
      "Processed video: SignSchool Saving\n",
      "Updated checkpoint with video: SignSchool Saving\n",
      "Video extracted successfully to still STILL(1)\n",
      "Processed video: STILL(1)\n",
      "Updated checkpoint with video: STILL(1)\n",
      "Video extracted successfully to algebra ALGEBRA(1)\n",
      "Processed video: ALGEBRA(1)\n",
      "Updated checkpoint with video: ALGEBRA(1)\n"
     ]
    },
    {
     "name": "stderr",
     "output_type": "stream",
     "text": [
      "ERROR: [youtube] 2O1jxmNeMNU: Private video. Sign in if you've been granted access to this video\n"
     ]
    },
    {
     "name": "stdout",
     "output_type": "stream",
     "text": [
      "Error downloading www.youtube.com/watch?v=2O1jxmNeMNU: ERROR: [youtube] 2O1jxmNeMNU: Private video. Sign in if you've been granted access to this video\n",
      "Processed video: SignSchool Shoes\n",
      "Updated checkpoint with video: SignSchool Shoes\n",
      "Video extracted successfully to south africa How to Sign South Africa in Sign Language\n",
      "Processed video: How to Sign South Africa in Sign Language\n",
      "Updated checkpoint with video: How to Sign South Africa in Sign Language\n",
      "Video extracted successfully to south How to Sign South Africa in Sign Language\n",
      "Processed video: How to Sign South Africa in Sign Language\n",
      "Updated checkpoint with video: How to Sign South Africa in Sign Language\n",
      "Video extracted successfully to africa How to Sign South Africa in Sign Language\n",
      "Processed video: How to Sign South Africa in Sign Language\n",
      "Updated checkpoint with video: How to Sign South Africa in Sign Language\n",
      "Video extracted successfully to south africa How to Sign South Africa in Sign Language\n",
      "Processed video: How to Sign South Africa in Sign Language\n",
      "Updated checkpoint with video: How to Sign South Africa in Sign Language\n",
      "Video extracted successfully to stuck STUCK(1)\n",
      "Processed video: STUCK(1)\n",
      "Updated checkpoint with video: STUCK(1)\n",
      "Video extracted successfully to perfect PERFECT(1)\n",
      "Processed video: PERFECT(1)\n",
      "Updated checkpoint with video: PERFECT(1)\n",
      "Video extracted successfully to jacket Jacket in Sign Language ASL Dictionary for kids\n",
      "Processed video: Jacket in Sign Language ASL Dictionary for kids\n",
      "Updated checkpoint with video: Jacket in Sign Language ASL Dictionary for kids\n"
     ]
    },
    {
     "name": "stderr",
     "output_type": "stream",
     "text": [
      "ERROR: [youtube] RVhtwm64uyk: Private video. Sign in if you've been granted access to this video\n"
     ]
    },
    {
     "name": "stdout",
     "output_type": "stream",
     "text": [
      "Error downloading www.youtube.com/watch?v=RVhtwm64uyk: ERROR: [youtube] RVhtwm64uyk: Private video. Sign in if you've been granted access to this video\n",
      "Processed video: SignSchool Adopt Host\n",
      "Updated checkpoint with video: SignSchool Adopt Host\n",
      "Video extracted successfully to chat CHAT(4)\n",
      "Processed video: CHAT(4)\n",
      "Updated checkpoint with video: CHAT(4)\n",
      "Video extracted successfully to cook COOK\n",
      "Processed video: COOK\n",
      "Updated checkpoint with video: COOK\n"
     ]
    },
    {
     "name": "stderr",
     "output_type": "stream",
     "text": [
      "ERROR: [youtube] vcXdImBPUVw: Private video. Sign in if you've been granted access to this video\n"
     ]
    },
    {
     "name": "stdout",
     "output_type": "stream",
     "text": [
      "Error downloading www.youtube.com/watch?v=vcXdImBPUVw: ERROR: [youtube] vcXdImBPUVw: Private video. Sign in if you've been granted access to this video\n",
      "Processed video: SignSchool Early 4\n",
      "Updated checkpoint with video: SignSchool Early 4\n",
      "Video extracted successfully to i I(1)\n",
      "Processed video: I(1)\n",
      "Updated checkpoint with video: I(1)\n"
     ]
    },
    {
     "name": "stderr",
     "output_type": "stream",
     "text": [
      "ERROR: [youtube] v0oPlZWp0xg: Private video. Sign in if you've been granted access to this video\n"
     ]
    },
    {
     "name": "stdout",
     "output_type": "stream",
     "text": [
      "Error downloading https://www.youtube.com/watch?v=v0oPlZWp0xg: ERROR: [youtube] v0oPlZWp0xg: Private video. Sign in if you've been granted access to this video\n",
      "Processed video: asl softball\n",
      "Updated checkpoint with video: asl softball\n",
      "Video extracted successfully to play PLAY\n",
      "Processed video: PLAY\n",
      "Updated checkpoint with video: PLAY\n"
     ]
    },
    {
     "name": "stderr",
     "output_type": "stream",
     "text": [
      "ERROR: [youtube] ELyN0GMAovI: Private video. Sign in if you've been granted access to this video\n"
     ]
    },
    {
     "name": "stdout",
     "output_type": "stream",
     "text": [
      "Error downloading https://www.youtube.com/watch?v=ELyN0GMAovI: ERROR: [youtube] ELyN0GMAovI: Private video. Sign in if you've been granted access to this video\n",
      "Processed video: ASL NOON\n",
      "Updated checkpoint with video: ASL NOON\n"
     ]
    },
    {
     "name": "stderr",
     "output_type": "stream",
     "text": [
      "ERROR: [youtube] rnNRrzVVohg: Private video. Sign in if you've been granted access to this video\n"
     ]
    },
    {
     "name": "stdout",
     "output_type": "stream",
     "text": [
      "Error downloading www.youtube.com/watch?v=rnNRrzVVohg: ERROR: [youtube] rnNRrzVVohg: Private video. Sign in if you've been granted access to this video\n",
      "Processed video: SignSchool New Fresh\n",
      "Updated checkpoint with video: SignSchool New Fresh\n"
     ]
    },
    {
     "name": "stderr",
     "output_type": "stream",
     "text": [
      "ERROR: [youtube] ogbE4s8sAO0: Private video. Sign in if you've been granted access to this video\n"
     ]
    },
    {
     "name": "stdout",
     "output_type": "stream",
     "text": [
      "Error downloading www.youtube.com/watch?v=ogbE4s8sAO0: ERROR: [youtube] ogbE4s8sAO0: Private video. Sign in if you've been granted access to this video\n",
      "Processed video: SignSchool Backpack 2\n",
      "Updated checkpoint with video: SignSchool Backpack 2\n",
      "Video extracted successfully to now NOW\n",
      "Processed video: NOW\n",
      "Updated checkpoint with video: NOW\n"
     ]
    },
    {
     "name": "stderr",
     "output_type": "stream",
     "text": [
      "ERROR: [youtube] tWcR13X3xjE: Private video. Sign in if you've been granted access to this video\n"
     ]
    },
    {
     "name": "stdout",
     "output_type": "stream",
     "text": [
      "Error downloading www.youtube.com/watch?v=tWcR13X3xjE: ERROR: [youtube] tWcR13X3xjE: Private video. Sign in if you've been granted access to this video\n",
      "Processed video: SignSchool Letter\n",
      "Updated checkpoint with video: SignSchool Letter\n"
     ]
    },
    {
     "name": "stderr",
     "output_type": "stream",
     "text": [
      "ERROR: [youtube] hiqCb7JA9F4: Private video. Sign in if you've been granted access to this video\n"
     ]
    },
    {
     "name": "stdout",
     "output_type": "stream",
     "text": [
      "Error downloading www.youtube.com/watch?v=hiqCb7JA9F4: ERROR: [youtube] hiqCb7JA9F4: Private video. Sign in if you've been granted access to this video\n",
      "Processed video: SignSchool Flirt\n",
      "Updated checkpoint with video: SignSchool Flirt\n",
      "Video extracted successfully to fine FINE\n",
      "Processed video: FINE\n",
      "Updated checkpoint with video: FINE\n"
     ]
    },
    {
     "name": "stderr",
     "output_type": "stream",
     "text": [
      "ERROR: [youtube] D-7K4sSsMWw: Private video. Sign in if you've been granted access to this video\n"
     ]
    },
    {
     "name": "stdout",
     "output_type": "stream",
     "text": [
      "Error downloading www.youtube.com/watch?v=D-7K4sSsMWw: ERROR: [youtube] D-7K4sSsMWw: Private video. Sign in if you've been granted access to this video\n",
      "Processed video: SignSchool Child\n",
      "Updated checkpoint with video: SignSchool Child\n"
     ]
    },
    {
     "name": "stderr",
     "output_type": "stream",
     "text": [
      "ERROR: [youtube] aSvUHxoby4U: Video unavailable\n"
     ]
    },
    {
     "name": "stdout",
     "output_type": "stream",
     "text": [
      "Error downloading https://www.youtube.com/watch?v=aSvUHxoby4U: ERROR: [youtube] aSvUHxoby4U: Video unavailable\n",
      "Processed video: BIRTHDAY\n",
      "Updated checkpoint with video: BIRTHDAY\n",
      "Video extracted successfully to equal EQUAL(2)\n",
      "Processed video: EQUAL(2)\n",
      "Updated checkpoint with video: EQUAL(2)\n"
     ]
    },
    {
     "name": "stderr",
     "output_type": "stream",
     "text": [
      "ERROR: [youtube] SSQ7xsLvk9s: Private video. Sign in if you've been granted access to this video\n"
     ]
    },
    {
     "name": "stdout",
     "output_type": "stream",
     "text": [
      "Error downloading https://www.youtube.com/watch?v=SSQ7xsLvk9s: ERROR: [youtube] SSQ7xsLvk9s: Private video. Sign in if you've been granted access to this video\n",
      "Processed video: LIBRARIAN ASL\n",
      "Updated checkpoint with video: LIBRARIAN ASL\n"
     ]
    },
    {
     "name": "stderr",
     "output_type": "stream",
     "text": [
      "ERROR: [youtube] lAE4m0AFNcw: Video unavailable. This video is no longer available because the YouTube account associated with this video has been terminated.\n"
     ]
    },
    {
     "name": "stdout",
     "output_type": "stream",
     "text": [
      "Error downloading https://www.youtube.com/watch?v=lAE4m0AFNcw: ERROR: [youtube] lAE4m0AFNcw: Video unavailable. This video is no longer available because the YouTube account associated with this video has been terminated.\n",
      "Processed video: ASL Happy\n",
      "Updated checkpoint with video: ASL Happy\n",
      "Video extracted successfully to jealous JEALOUS(2)\n",
      "Processed video: JEALOUS(2)\n",
      "Updated checkpoint with video: JEALOUS(2)\n"
     ]
    },
    {
     "name": "stderr",
     "output_type": "stream",
     "text": [
      "ERROR: [youtube] 0DcZj6ifH4I: Private video. Sign in if you've been granted access to this video\n"
     ]
    },
    {
     "name": "stdout",
     "output_type": "stream",
     "text": [
      "Error downloading www.youtube.com/watch?v=0DcZj6ifH4I: ERROR: [youtube] 0DcZj6ifH4I: Private video. Sign in if you've been granted access to this video\n",
      "Processed video: SignSchool Long(1)\n",
      "Updated checkpoint with video: SignSchool Long(1)\n"
     ]
    },
    {
     "name": "stderr",
     "output_type": "stream",
     "text": [
      "ERROR: [youtube] vegwSPDHPEk: Private video. Sign in if you've been granted access to this video\n"
     ]
    },
    {
     "name": "stdout",
     "output_type": "stream",
     "text": [
      "Error downloading www.youtube.com/watch?v=vegwSPDHPEk: ERROR: [youtube] vegwSPDHPEk: Private video. Sign in if you've been granted access to this video\n",
      "Processed video: SignSchool Broom Sweep\n",
      "Updated checkpoint with video: SignSchool Broom Sweep\n",
      "Video extracted successfully to shock SHOCKED(1)\n",
      "Processed video: SHOCKED(1)\n",
      "Updated checkpoint with video: SHOCKED(1)\n",
      "Video extracted successfully to disappointed DISAPPOINT\n",
      "Processed video: DISAPPOINT\n",
      "Updated checkpoint with video: DISAPPOINT\n"
     ]
    }
   ],
   "source": [
    "\n",
    "# from google.colab import drive\n",
    "# drive.mount('/content/drive',force_remount=True)\n",
    "\n",
    "with open('MSASL_train.json', 'r') as file:\n",
    "  train_data = json.load(file)[:1000]\n",
    "\n",
    "with open('MSASL_val.json', 'r') as file:\n",
    "  val_data = json.load(file)[:1000]\n",
    "    \n",
    "# filtered_data = [obj for obj in train_data if obj.get('clean_text') == desired_value]\n",
    "#getting 30 randoms words from train\n",
    "# random_lines = random.sample(train_data, 30)\n",
    "# clean_texts = [obj.get('clean_text') for obj in random_lines]\n",
    "# for line in clean_texts:\n",
    "#     print(line)\n",
    "# print(len(clean_texts))\n",
    "\n",
    "#get all the matching words between train and validation\n",
    "matching_rows = [row1 for row1 in train_data for row2 in val_data if row1.get('clean_text') == row2.get('clean_text')]\n",
    "my_set = set()\n",
    "for line in matching_rows:\n",
    "    my_set.add(line['clean_text'])\n",
    "\n",
    "random_words = random.sample(list(my_set), 30)\n",
    "print(random_words)\n",
    "\n",
    "#making sure validation set has all these words (skip)\n",
    "#get all the rows from train and validation sets that have the matching values\n",
    "# val_data = [obj for obj in val_data if all( obj.get('clean_text') in clean_texts)]\n",
    "# bool = all(obj.get('clean_text') in random_words for obj in val_data)\n",
    "matching_train = [row for row in train_data if row.get('clean_text') in random_words]\n",
    "matching_val = [row for row in val_data if row.get('clean_text') in random_words]\n",
    "\n",
    "print(len(matching_train))\n",
    "print(len(matching_val))\n",
    "\n",
    "# print(matching_train)\n",
    "# print(matching_val[:10])\n",
    "# print(\"\\n\")\n",
    "# print(val_data[:10])"
   ]
  },
  {
   "cell_type": "code",
   "execution_count": 92,
   "metadata": {
    "scrolled": true
   },
   "outputs": [
    {
     "name": "stdout",
     "output_type": "stream",
     "text": [
      "newasl/sign-language-gesture-recognition/train_videos/Accept\\050_003_001.mp4\n",
      "newasl/sign-language-gesture-recognition/train_videos/Accept\\050_003_002.mp4\n",
      "newasl/sign-language-gesture-recognition/train_videos/Accept\\050_003_003.mp4\n",
      "newasl/sign-language-gesture-recognition/train_videos/Accept\\050_003_004.mp4\n",
      "newasl/sign-language-gesture-recognition/train_videos/Accept\\050_003_005.mp4\n",
      "newasl/sign-language-gesture-recognition/train_videos/Accept\\050_004_001.mp4\n",
      "newasl/sign-language-gesture-recognition/train_videos/Accept\\050_004_002.mp4\n",
      "newasl/sign-language-gesture-recognition/train_videos/Accept\\050_004_003.mp4\n",
      "newasl/sign-language-gesture-recognition/train_videos/Accept\\050_004_004.mp4\n",
      "newasl/sign-language-gesture-recognition/train_videos/Accept\\050_004_005.mp4\n",
      "newasl/sign-language-gesture-recognition/train_videos/Accept\\050_005_001.mp4\n",
      "newasl/sign-language-gesture-recognition/train_videos/Accept\\050_005_002.mp4\n",
      "newasl/sign-language-gesture-recognition/train_videos/Accept\\050_005_003.mp4\n",
      "newasl/sign-language-gesture-recognition/train_videos/Accept\\050_005_004.mp4\n",
      "newasl/sign-language-gesture-recognition/train_videos/Accept\\050_005_005.mp4\n",
      "newasl/sign-language-gesture-recognition/train_videos/Accept\\050_006_001.mp4\n",
      "newasl/sign-language-gesture-recognition/train_videos/Accept\\050_006_002.mp4\n",
      "newasl/sign-language-gesture-recognition/train_videos/Accept\\050_006_003.mp4\n",
      "newasl/sign-language-gesture-recognition/train_videos/Accept\\050_006_004.mp4\n",
      "newasl/sign-language-gesture-recognition/train_videos/Accept\\050_006_005.mp4\n",
      "newasl/sign-language-gesture-recognition/train_videos/Accept\\050_007_001.mp4\n",
      "newasl/sign-language-gesture-recognition/train_videos/Accept\\050_007_002.mp4\n",
      "newasl/sign-language-gesture-recognition/train_videos/Accept\\050_007_003.mp4\n",
      "newasl/sign-language-gesture-recognition/train_videos/Accept\\050_007_004.mp4\n",
      "newasl/sign-language-gesture-recognition/train_videos/Accept\\050_007_005.mp4\n",
      "newasl/sign-language-gesture-recognition/train_videos/Accept\\050_008_001.mp4\n",
      "newasl/sign-language-gesture-recognition/train_videos/Accept\\050_008_002.mp4\n",
      "newasl/sign-language-gesture-recognition/train_videos/Accept\\050_008_003.mp4\n",
      "newasl/sign-language-gesture-recognition/train_videos/Accept\\050_008_004.mp4\n",
      "newasl/sign-language-gesture-recognition/train_videos/Accept\\050_008_005.mp4\n",
      "newasl/sign-language-gesture-recognition/train_videos/Accept\\050_009_001.mp4\n",
      "newasl/sign-language-gesture-recognition/train_videos/Accept\\050_009_002.mp4\n",
      "newasl/sign-language-gesture-recognition/train_videos/Accept\\050_009_003.mp4\n",
      "newasl/sign-language-gesture-recognition/train_videos/Accept\\050_009_004.mp4\n",
      "newasl/sign-language-gesture-recognition/train_videos/Accept\\050_009_005.mp4\n",
      "newasl/sign-language-gesture-recognition/train_videos/Accept\\050_010_001.mp4\n",
      "050_008_001.mp4\n",
      "newasl/sign-language-gesture-recognition/train_videos/Accept\\050_010_002.mp4\n",
      "050_008_002.mp4\n",
      "newasl/sign-language-gesture-recognition/train_videos/Accept\\050_010_003.mp4\n",
      "050_008_003.mp4\n",
      "newasl/sign-language-gesture-recognition/train_videos/Accept\\050_010_004.mp4\n",
      "050_008_004.mp4\n",
      "newasl/sign-language-gesture-recognition/train_videos/Accept\\050_010_005.mp4\n",
      "050_008_005.mp4\n",
      "newasl/sign-language-gesture-recognition/train_videos/Appear\\053_003_001.mp4\n",
      "newasl/sign-language-gesture-recognition/train_videos/Appear\\053_003_002.mp4\n",
      "newasl/sign-language-gesture-recognition/train_videos/Appear\\053_003_003.mp4\n",
      "newasl/sign-language-gesture-recognition/train_videos/Appear\\053_003_004.mp4\n",
      "newasl/sign-language-gesture-recognition/train_videos/Appear\\053_003_005.mp4\n",
      "newasl/sign-language-gesture-recognition/train_videos/Appear\\053_004_001.mp4\n",
      "newasl/sign-language-gesture-recognition/train_videos/Appear\\053_004_002.mp4\n",
      "newasl/sign-language-gesture-recognition/train_videos/Appear\\053_004_003.mp4\n",
      "newasl/sign-language-gesture-recognition/train_videos/Appear\\053_004_004.mp4\n",
      "newasl/sign-language-gesture-recognition/train_videos/Appear\\053_004_005.mp4\n",
      "newasl/sign-language-gesture-recognition/train_videos/Appear\\053_005_001.mp4\n",
      "newasl/sign-language-gesture-recognition/train_videos/Appear\\053_005_002.mp4\n",
      "newasl/sign-language-gesture-recognition/train_videos/Appear\\053_005_003.mp4\n",
      "newasl/sign-language-gesture-recognition/train_videos/Appear\\053_005_004.mp4\n",
      "newasl/sign-language-gesture-recognition/train_videos/Appear\\053_005_005.mp4\n",
      "newasl/sign-language-gesture-recognition/train_videos/Appear\\053_006_001.mp4\n",
      "newasl/sign-language-gesture-recognition/train_videos/Appear\\053_006_002.mp4\n",
      "newasl/sign-language-gesture-recognition/train_videos/Appear\\053_006_003.mp4\n",
      "newasl/sign-language-gesture-recognition/train_videos/Appear\\053_006_004.mp4\n",
      "newasl/sign-language-gesture-recognition/train_videos/Appear\\053_006_005.mp4\n",
      "newasl/sign-language-gesture-recognition/train_videos/Appear\\053_007_001.mp4\n",
      "newasl/sign-language-gesture-recognition/train_videos/Appear\\053_007_002.mp4\n",
      "newasl/sign-language-gesture-recognition/train_videos/Appear\\053_007_003.mp4\n",
      "newasl/sign-language-gesture-recognition/train_videos/Appear\\053_007_004.mp4\n",
      "newasl/sign-language-gesture-recognition/train_videos/Appear\\053_007_005.mp4\n",
      "newasl/sign-language-gesture-recognition/train_videos/Appear\\053_008_001.mp4\n",
      "newasl/sign-language-gesture-recognition/train_videos/Appear\\053_008_002.mp4\n",
      "newasl/sign-language-gesture-recognition/train_videos/Appear\\053_008_003.mp4\n",
      "newasl/sign-language-gesture-recognition/train_videos/Appear\\053_008_004.mp4\n",
      "newasl/sign-language-gesture-recognition/train_videos/Appear\\053_008_005.mp4\n",
      "newasl/sign-language-gesture-recognition/train_videos/Appear\\053_009_001.mp4\n",
      "newasl/sign-language-gesture-recognition/train_videos/Appear\\053_009_002.mp4\n",
      "newasl/sign-language-gesture-recognition/train_videos/Appear\\053_009_003.mp4\n",
      "newasl/sign-language-gesture-recognition/train_videos/Appear\\053_009_004.mp4\n",
      "newasl/sign-language-gesture-recognition/train_videos/Appear\\053_009_005.mp4\n",
      "newasl/sign-language-gesture-recognition/train_videos/Appear\\053_010_001.mp4\n",
      "053_008_001.mp4\n",
      "newasl/sign-language-gesture-recognition/train_videos/Appear\\053_010_002.mp4\n",
      "053_008_002.mp4\n",
      "newasl/sign-language-gesture-recognition/train_videos/Appear\\053_010_003.mp4\n",
      "053_008_003.mp4\n",
      "newasl/sign-language-gesture-recognition/train_videos/Appear\\053_010_004.mp4\n",
      "053_008_004.mp4\n",
      "newasl/sign-language-gesture-recognition/train_videos/Appear\\053_010_005.mp4\n",
      "053_008_005.mp4\n",
      "newasl/sign-language-gesture-recognition/train_videos/Argentina\\024_003_001.mp4\n",
      "newasl/sign-language-gesture-recognition/train_videos/Argentina\\024_003_002.mp4\n",
      "newasl/sign-language-gesture-recognition/train_videos/Argentina\\024_003_003.mp4\n",
      "newasl/sign-language-gesture-recognition/train_videos/Argentina\\024_003_004.mp4\n",
      "newasl/sign-language-gesture-recognition/train_videos/Argentina\\024_003_005.mp4\n",
      "newasl/sign-language-gesture-recognition/train_videos/Argentina\\024_004_001.mp4\n",
      "newasl/sign-language-gesture-recognition/train_videos/Argentina\\024_004_002.mp4\n",
      "newasl/sign-language-gesture-recognition/train_videos/Argentina\\024_004_003.mp4\n",
      "newasl/sign-language-gesture-recognition/train_videos/Argentina\\024_004_004.mp4\n",
      "newasl/sign-language-gesture-recognition/train_videos/Argentina\\024_004_005.mp4\n",
      "newasl/sign-language-gesture-recognition/train_videos/Argentina\\024_005_001.mp4\n",
      "newasl/sign-language-gesture-recognition/train_videos/Argentina\\024_005_002.mp4\n",
      "newasl/sign-language-gesture-recognition/train_videos/Argentina\\024_005_003.mp4\n",
      "newasl/sign-language-gesture-recognition/train_videos/Argentina\\024_005_004.mp4\n",
      "newasl/sign-language-gesture-recognition/train_videos/Argentina\\024_005_005.mp4\n",
      "newasl/sign-language-gesture-recognition/train_videos/Argentina\\024_006_001.mp4\n",
      "newasl/sign-language-gesture-recognition/train_videos/Argentina\\024_006_002.mp4\n",
      "newasl/sign-language-gesture-recognition/train_videos/Argentina\\024_006_003.mp4\n",
      "newasl/sign-language-gesture-recognition/train_videos/Argentina\\024_006_004.mp4\n",
      "newasl/sign-language-gesture-recognition/train_videos/Argentina\\024_006_005.mp4\n",
      "newasl/sign-language-gesture-recognition/train_videos/Argentina\\024_007_001.mp4\n",
      "newasl/sign-language-gesture-recognition/train_videos/Argentina\\024_007_002.mp4\n",
      "newasl/sign-language-gesture-recognition/train_videos/Argentina\\024_007_003.mp4\n",
      "newasl/sign-language-gesture-recognition/train_videos/Argentina\\024_007_004.mp4\n",
      "newasl/sign-language-gesture-recognition/train_videos/Argentina\\024_007_005.mp4\n",
      "newasl/sign-language-gesture-recognition/train_videos/Argentina\\024_008_001.mp4\n",
      "newasl/sign-language-gesture-recognition/train_videos/Argentina\\024_008_002.mp4\n",
      "newasl/sign-language-gesture-recognition/train_videos/Argentina\\024_008_003.mp4\n",
      "newasl/sign-language-gesture-recognition/train_videos/Argentina\\024_008_004.mp4\n",
      "newasl/sign-language-gesture-recognition/train_videos/Argentina\\024_008_005.mp4\n",
      "newasl/sign-language-gesture-recognition/train_videos/Argentina\\024_009_001.mp4\n",
      "newasl/sign-language-gesture-recognition/train_videos/Argentina\\024_009_002.mp4\n",
      "newasl/sign-language-gesture-recognition/train_videos/Argentina\\024_009_003.mp4\n",
      "newasl/sign-language-gesture-recognition/train_videos/Argentina\\024_009_004.mp4\n",
      "newasl/sign-language-gesture-recognition/train_videos/Argentina\\024_009_005.mp4\n",
      "newasl/sign-language-gesture-recognition/train_videos/Argentina\\024_010_001.mp4\n",
      "024_008_001.mp4\n",
      "newasl/sign-language-gesture-recognition/train_videos/Argentina\\024_010_002.mp4\n",
      "024_008_002.mp4\n",
      "newasl/sign-language-gesture-recognition/train_videos/Argentina\\024_010_003.mp4\n",
      "024_008_003.mp4\n",
      "newasl/sign-language-gesture-recognition/train_videos/Argentina\\024_010_004.mp4\n",
      "024_008_004.mp4\n",
      "newasl/sign-language-gesture-recognition/train_videos/Argentina\\024_010_005.mp4\n",
      "024_008_005.mp4\n",
      "newasl/sign-language-gesture-recognition/train_videos/Away\\013_003_001.mp4\n",
      "newasl/sign-language-gesture-recognition/train_videos/Away\\013_003_002.mp4\n",
      "newasl/sign-language-gesture-recognition/train_videos/Away\\013_003_003.mp4\n",
      "newasl/sign-language-gesture-recognition/train_videos/Away\\013_003_004.mp4\n",
      "newasl/sign-language-gesture-recognition/train_videos/Away\\013_003_005.mp4\n",
      "newasl/sign-language-gesture-recognition/train_videos/Away\\013_004_001.mp4\n",
      "newasl/sign-language-gesture-recognition/train_videos/Away\\013_004_002.mp4\n",
      "newasl/sign-language-gesture-recognition/train_videos/Away\\013_004_003.mp4\n",
      "newasl/sign-language-gesture-recognition/train_videos/Away\\013_004_004.mp4\n",
      "newasl/sign-language-gesture-recognition/train_videos/Away\\013_004_005.mp4\n",
      "newasl/sign-language-gesture-recognition/train_videos/Away\\013_005_001.mp4\n",
      "newasl/sign-language-gesture-recognition/train_videos/Away\\013_005_002.mp4\n",
      "newasl/sign-language-gesture-recognition/train_videos/Away\\013_005_003.mp4\n",
      "newasl/sign-language-gesture-recognition/train_videos/Away\\013_005_004.mp4\n",
      "newasl/sign-language-gesture-recognition/train_videos/Away\\013_005_005.mp4\n",
      "newasl/sign-language-gesture-recognition/train_videos/Away\\013_006_001.mp4\n",
      "newasl/sign-language-gesture-recognition/train_videos/Away\\013_006_002.mp4\n",
      "newasl/sign-language-gesture-recognition/train_videos/Away\\013_006_003.mp4\n",
      "newasl/sign-language-gesture-recognition/train_videos/Away\\013_006_004.mp4\n",
      "newasl/sign-language-gesture-recognition/train_videos/Away\\013_006_005.mp4\n",
      "newasl/sign-language-gesture-recognition/train_videos/Away\\013_007_001.mp4\n",
      "newasl/sign-language-gesture-recognition/train_videos/Away\\013_007_002.mp4\n",
      "newasl/sign-language-gesture-recognition/train_videos/Away\\013_007_003.mp4\n",
      "newasl/sign-language-gesture-recognition/train_videos/Away\\013_007_004.mp4\n",
      "newasl/sign-language-gesture-recognition/train_videos/Away\\013_007_005.mp4\n",
      "newasl/sign-language-gesture-recognition/train_videos/Away\\013_008_001.mp4\n",
      "newasl/sign-language-gesture-recognition/train_videos/Away\\013_008_002.mp4\n",
      "newasl/sign-language-gesture-recognition/train_videos/Away\\013_008_003.mp4\n",
      "newasl/sign-language-gesture-recognition/train_videos/Away\\013_008_004.mp4\n",
      "newasl/sign-language-gesture-recognition/train_videos/Away\\013_008_005.mp4\n",
      "newasl/sign-language-gesture-recognition/train_videos/Away\\013_009_001.mp4\n",
      "newasl/sign-language-gesture-recognition/train_videos/Away\\013_009_002.mp4\n",
      "newasl/sign-language-gesture-recognition/train_videos/Away\\013_009_003.mp4\n",
      "newasl/sign-language-gesture-recognition/train_videos/Away\\013_009_004.mp4\n",
      "newasl/sign-language-gesture-recognition/train_videos/Away\\013_009_005.mp4\n",
      "newasl/sign-language-gesture-recognition/train_videos/Away\\013_010_001.mp4\n",
      "013_008_001.mp4\n",
      "newasl/sign-language-gesture-recognition/train_videos/Away\\013_010_002.mp4\n",
      "013_008_002.mp4\n",
      "newasl/sign-language-gesture-recognition/train_videos/Away\\013_010_003.mp4\n",
      "013_008_003.mp4\n",
      "newasl/sign-language-gesture-recognition/train_videos/Away\\013_010_004.mp4\n",
      "013_008_004.mp4\n",
      "newasl/sign-language-gesture-recognition/train_videos/Away\\013_010_005.mp4\n",
      "013_008_005.mp4\n",
      "newasl/sign-language-gesture-recognition/train_videos/Barbecue\\045_003_001.mp4\n",
      "newasl/sign-language-gesture-recognition/train_videos/Barbecue\\045_003_002.mp4\n",
      "newasl/sign-language-gesture-recognition/train_videos/Barbecue\\045_003_003.mp4\n",
      "newasl/sign-language-gesture-recognition/train_videos/Barbecue\\045_003_004.mp4\n",
      "newasl/sign-language-gesture-recognition/train_videos/Barbecue\\045_003_005.mp4\n",
      "newasl/sign-language-gesture-recognition/train_videos/Barbecue\\045_004_001.mp4\n",
      "newasl/sign-language-gesture-recognition/train_videos/Barbecue\\045_004_002.mp4\n",
      "newasl/sign-language-gesture-recognition/train_videos/Barbecue\\045_004_003.mp4\n",
      "newasl/sign-language-gesture-recognition/train_videos/Barbecue\\045_004_004.mp4\n",
      "newasl/sign-language-gesture-recognition/train_videos/Barbecue\\045_004_005.mp4\n",
      "newasl/sign-language-gesture-recognition/train_videos/Barbecue\\045_005_001.mp4\n",
      "newasl/sign-language-gesture-recognition/train_videos/Barbecue\\045_005_002.mp4\n",
      "newasl/sign-language-gesture-recognition/train_videos/Barbecue\\045_005_003.mp4\n",
      "newasl/sign-language-gesture-recognition/train_videos/Barbecue\\045_005_004.mp4\n",
      "newasl/sign-language-gesture-recognition/train_videos/Barbecue\\045_005_005.mp4\n",
      "newasl/sign-language-gesture-recognition/train_videos/Barbecue\\045_006_001.mp4\n",
      "newasl/sign-language-gesture-recognition/train_videos/Barbecue\\045_006_002.mp4\n",
      "newasl/sign-language-gesture-recognition/train_videos/Barbecue\\045_006_003.mp4\n",
      "newasl/sign-language-gesture-recognition/train_videos/Barbecue\\045_006_004.mp4\n",
      "newasl/sign-language-gesture-recognition/train_videos/Barbecue\\045_006_005.mp4\n",
      "newasl/sign-language-gesture-recognition/train_videos/Barbecue\\045_007_001.mp4\n",
      "newasl/sign-language-gesture-recognition/train_videos/Barbecue\\045_007_002.mp4\n",
      "newasl/sign-language-gesture-recognition/train_videos/Barbecue\\045_007_003.mp4\n",
      "newasl/sign-language-gesture-recognition/train_videos/Barbecue\\045_007_004.mp4\n",
      "newasl/sign-language-gesture-recognition/train_videos/Barbecue\\045_007_005.mp4\n",
      "newasl/sign-language-gesture-recognition/train_videos/Barbecue\\045_008_001.mp4\n",
      "newasl/sign-language-gesture-recognition/train_videos/Barbecue\\045_008_002.mp4\n",
      "newasl/sign-language-gesture-recognition/train_videos/Barbecue\\045_008_003.mp4\n",
      "newasl/sign-language-gesture-recognition/train_videos/Barbecue\\045_008_004.mp4\n",
      "newasl/sign-language-gesture-recognition/train_videos/Barbecue\\045_008_005.mp4\n",
      "newasl/sign-language-gesture-recognition/train_videos/Barbecue\\045_009_001.mp4\n",
      "newasl/sign-language-gesture-recognition/train_videos/Barbecue\\045_009_002.mp4\n",
      "newasl/sign-language-gesture-recognition/train_videos/Barbecue\\045_009_003.mp4\n",
      "newasl/sign-language-gesture-recognition/train_videos/Barbecue\\045_009_004.mp4\n",
      "newasl/sign-language-gesture-recognition/train_videos/Barbecue\\045_009_005.mp4\n",
      "newasl/sign-language-gesture-recognition/train_videos/Barbecue\\045_010_001.mp4\n",
      "045_008_001.mp4\n",
      "newasl/sign-language-gesture-recognition/train_videos/Barbecue\\045_010_002.mp4\n",
      "045_008_002.mp4\n",
      "newasl/sign-language-gesture-recognition/train_videos/Barbecue\\045_010_003.mp4\n",
      "045_008_003.mp4\n",
      "newasl/sign-language-gesture-recognition/train_videos/Barbecue\\045_010_004.mp4\n",
      "045_008_004.mp4\n",
      "newasl/sign-language-gesture-recognition/train_videos/Barbecue\\045_010_005.mp4\n",
      "045_008_005.mp4\n",
      "newasl/sign-language-gesture-recognition/train_videos/Bathe\\058_003_001.mp4\n",
      "newasl/sign-language-gesture-recognition/train_videos/Bathe\\058_003_002.mp4\n",
      "newasl/sign-language-gesture-recognition/train_videos/Bathe\\058_003_003.mp4\n",
      "newasl/sign-language-gesture-recognition/train_videos/Bathe\\058_003_004.mp4\n",
      "newasl/sign-language-gesture-recognition/train_videos/Bathe\\058_003_005.mp4\n",
      "newasl/sign-language-gesture-recognition/train_videos/Bathe\\058_004_001.mp4\n",
      "newasl/sign-language-gesture-recognition/train_videos/Bathe\\058_004_002.mp4\n",
      "newasl/sign-language-gesture-recognition/train_videos/Bathe\\058_004_003.mp4\n",
      "newasl/sign-language-gesture-recognition/train_videos/Bathe\\058_004_004.mp4\n",
      "newasl/sign-language-gesture-recognition/train_videos/Bathe\\058_004_005.mp4\n",
      "newasl/sign-language-gesture-recognition/train_videos/Bathe\\058_005_001.mp4\n",
      "newasl/sign-language-gesture-recognition/train_videos/Bathe\\058_005_002.mp4\n",
      "newasl/sign-language-gesture-recognition/train_videos/Bathe\\058_005_003.mp4\n",
      "newasl/sign-language-gesture-recognition/train_videos/Bathe\\058_005_004.mp4\n",
      "newasl/sign-language-gesture-recognition/train_videos/Bathe\\058_005_005.mp4\n",
      "newasl/sign-language-gesture-recognition/train_videos/Bathe\\058_006_001.mp4\n",
      "newasl/sign-language-gesture-recognition/train_videos/Bathe\\058_006_002.mp4\n",
      "newasl/sign-language-gesture-recognition/train_videos/Bathe\\058_006_003.mp4\n",
      "newasl/sign-language-gesture-recognition/train_videos/Bathe\\058_006_004.mp4\n",
      "newasl/sign-language-gesture-recognition/train_videos/Bathe\\058_006_005.mp4\n",
      "newasl/sign-language-gesture-recognition/train_videos/Bathe\\058_007_001.mp4\n",
      "newasl/sign-language-gesture-recognition/train_videos/Bathe\\058_007_002.mp4\n",
      "newasl/sign-language-gesture-recognition/train_videos/Bathe\\058_007_003.mp4\n",
      "newasl/sign-language-gesture-recognition/train_videos/Bathe\\058_007_004.mp4\n",
      "newasl/sign-language-gesture-recognition/train_videos/Bathe\\058_007_005.mp4\n",
      "newasl/sign-language-gesture-recognition/train_videos/Bathe\\058_008_001.mp4\n",
      "newasl/sign-language-gesture-recognition/train_videos/Bathe\\058_008_002.mp4\n",
      "newasl/sign-language-gesture-recognition/train_videos/Bathe\\058_008_003.mp4\n",
      "newasl/sign-language-gesture-recognition/train_videos/Bathe\\058_008_004.mp4\n",
      "newasl/sign-language-gesture-recognition/train_videos/Bathe\\058_008_005.mp4\n",
      "newasl/sign-language-gesture-recognition/train_videos/Bathe\\058_009_001.mp4\n",
      "newasl/sign-language-gesture-recognition/train_videos/Bathe\\058_009_002.mp4\n",
      "newasl/sign-language-gesture-recognition/train_videos/Bathe\\058_009_003.mp4\n",
      "newasl/sign-language-gesture-recognition/train_videos/Bathe\\058_009_004.mp4\n",
      "newasl/sign-language-gesture-recognition/train_videos/Bathe\\058_009_005.mp4\n",
      "newasl/sign-language-gesture-recognition/train_videos/Bathe\\058_010_001.mp4\n",
      "058_008_001.mp4\n",
      "newasl/sign-language-gesture-recognition/train_videos/Bathe\\058_010_002.mp4\n",
      "058_008_002.mp4\n",
      "newasl/sign-language-gesture-recognition/train_videos/Bathe\\058_010_003.mp4\n",
      "058_008_003.mp4\n",
      "newasl/sign-language-gesture-recognition/train_videos/Bathe\\058_010_004.mp4\n",
      "058_008_004.mp4\n",
      "newasl/sign-language-gesture-recognition/train_videos/Bathe\\058_010_005.mp4\n",
      "058_008_005.mp4\n",
      "newasl/sign-language-gesture-recognition/train_videos/Birthday\\030_003_001.mp4\n",
      "newasl/sign-language-gesture-recognition/train_videos/Birthday\\030_003_002.mp4\n",
      "newasl/sign-language-gesture-recognition/train_videos/Birthday\\030_003_003.mp4\n",
      "newasl/sign-language-gesture-recognition/train_videos/Birthday\\030_003_004.mp4\n",
      "newasl/sign-language-gesture-recognition/train_videos/Birthday\\030_003_005.mp4\n",
      "newasl/sign-language-gesture-recognition/train_videos/Birthday\\030_004_001.mp4\n",
      "newasl/sign-language-gesture-recognition/train_videos/Birthday\\030_004_002.mp4\n",
      "newasl/sign-language-gesture-recognition/train_videos/Birthday\\030_004_003.mp4\n",
      "newasl/sign-language-gesture-recognition/train_videos/Birthday\\030_004_004.mp4\n",
      "newasl/sign-language-gesture-recognition/train_videos/Birthday\\030_004_005.mp4\n",
      "newasl/sign-language-gesture-recognition/train_videos/Birthday\\030_005_001.mp4\n",
      "newasl/sign-language-gesture-recognition/train_videos/Birthday\\030_005_002.mp4\n",
      "newasl/sign-language-gesture-recognition/train_videos/Birthday\\030_005_003.mp4\n",
      "newasl/sign-language-gesture-recognition/train_videos/Birthday\\030_005_004.mp4\n",
      "newasl/sign-language-gesture-recognition/train_videos/Birthday\\030_005_005.mp4\n",
      "newasl/sign-language-gesture-recognition/train_videos/Birthday\\030_006_001.mp4\n",
      "newasl/sign-language-gesture-recognition/train_videos/Birthday\\030_006_002.mp4\n",
      "newasl/sign-language-gesture-recognition/train_videos/Birthday\\030_006_003.mp4\n",
      "newasl/sign-language-gesture-recognition/train_videos/Birthday\\030_006_004.mp4\n",
      "newasl/sign-language-gesture-recognition/train_videos/Birthday\\030_006_005.mp4\n",
      "newasl/sign-language-gesture-recognition/train_videos/Birthday\\030_007_001.mp4\n",
      "newasl/sign-language-gesture-recognition/train_videos/Birthday\\030_007_002.mp4\n",
      "newasl/sign-language-gesture-recognition/train_videos/Birthday\\030_007_003.mp4\n",
      "newasl/sign-language-gesture-recognition/train_videos/Birthday\\030_007_004.mp4\n",
      "newasl/sign-language-gesture-recognition/train_videos/Birthday\\030_007_005.mp4\n",
      "newasl/sign-language-gesture-recognition/train_videos/Birthday\\030_008_001.mp4\n",
      "newasl/sign-language-gesture-recognition/train_videos/Birthday\\030_008_002.mp4\n",
      "newasl/sign-language-gesture-recognition/train_videos/Birthday\\030_008_003.mp4\n",
      "newasl/sign-language-gesture-recognition/train_videos/Birthday\\030_008_004.mp4\n",
      "newasl/sign-language-gesture-recognition/train_videos/Birthday\\030_008_005.mp4\n",
      "newasl/sign-language-gesture-recognition/train_videos/Birthday\\030_009_001.mp4\n",
      "newasl/sign-language-gesture-recognition/train_videos/Birthday\\030_009_002.mp4\n",
      "newasl/sign-language-gesture-recognition/train_videos/Birthday\\030_009_003.mp4\n",
      "newasl/sign-language-gesture-recognition/train_videos/Birthday\\030_009_004.mp4\n",
      "newasl/sign-language-gesture-recognition/train_videos/Birthday\\030_009_005.mp4\n",
      "newasl/sign-language-gesture-recognition/train_videos/Birthday\\030_010_001.mp4\n",
      "030_008_001.mp4\n",
      "newasl/sign-language-gesture-recognition/train_videos/Birthday\\030_010_002.mp4\n",
      "030_008_002.mp4\n",
      "newasl/sign-language-gesture-recognition/train_videos/Birthday\\030_010_003.mp4\n",
      "030_008_003.mp4\n",
      "newasl/sign-language-gesture-recognition/train_videos/Birthday\\030_010_004.mp4\n",
      "030_008_004.mp4\n",
      "newasl/sign-language-gesture-recognition/train_videos/Birthday\\030_010_005.mp4\n",
      "030_008_005.mp4\n",
      "newasl/sign-language-gesture-recognition/train_videos/Bitter\\019_003_001.mp4\n",
      "newasl/sign-language-gesture-recognition/train_videos/Bitter\\019_003_002.mp4\n",
      "newasl/sign-language-gesture-recognition/train_videos/Bitter\\019_003_003.mp4\n",
      "newasl/sign-language-gesture-recognition/train_videos/Bitter\\019_003_004.mp4\n",
      "newasl/sign-language-gesture-recognition/train_videos/Bitter\\019_003_005.mp4\n",
      "newasl/sign-language-gesture-recognition/train_videos/Bitter\\019_004_001.mp4\n",
      "newasl/sign-language-gesture-recognition/train_videos/Bitter\\019_004_002.mp4\n",
      "newasl/sign-language-gesture-recognition/train_videos/Bitter\\019_004_003.mp4\n",
      "newasl/sign-language-gesture-recognition/train_videos/Bitter\\019_004_004.mp4\n",
      "newasl/sign-language-gesture-recognition/train_videos/Bitter\\019_004_005.mp4\n",
      "newasl/sign-language-gesture-recognition/train_videos/Bitter\\019_005_001.mp4\n",
      "newasl/sign-language-gesture-recognition/train_videos/Bitter\\019_005_002.mp4\n",
      "newasl/sign-language-gesture-recognition/train_videos/Bitter\\019_005_003.mp4\n",
      "newasl/sign-language-gesture-recognition/train_videos/Bitter\\019_005_004.mp4\n",
      "newasl/sign-language-gesture-recognition/train_videos/Bitter\\019_005_005.mp4\n",
      "newasl/sign-language-gesture-recognition/train_videos/Bitter\\019_006_001.mp4\n",
      "newasl/sign-language-gesture-recognition/train_videos/Bitter\\019_006_002.mp4\n",
      "newasl/sign-language-gesture-recognition/train_videos/Bitter\\019_006_003.mp4\n",
      "newasl/sign-language-gesture-recognition/train_videos/Bitter\\019_006_004.mp4\n",
      "newasl/sign-language-gesture-recognition/train_videos/Bitter\\019_006_005.mp4\n",
      "newasl/sign-language-gesture-recognition/train_videos/Bitter\\019_007_001.mp4\n",
      "newasl/sign-language-gesture-recognition/train_videos/Bitter\\019_007_002.mp4\n",
      "newasl/sign-language-gesture-recognition/train_videos/Bitter\\019_007_003.mp4\n",
      "newasl/sign-language-gesture-recognition/train_videos/Bitter\\019_007_004.mp4\n",
      "newasl/sign-language-gesture-recognition/train_videos/Bitter\\019_007_005.mp4\n",
      "newasl/sign-language-gesture-recognition/train_videos/Bitter\\019_008_001.mp4\n",
      "newasl/sign-language-gesture-recognition/train_videos/Bitter\\019_008_002.mp4\n",
      "newasl/sign-language-gesture-recognition/train_videos/Bitter\\019_008_003.mp4\n",
      "newasl/sign-language-gesture-recognition/train_videos/Bitter\\019_008_004.mp4\n",
      "newasl/sign-language-gesture-recognition/train_videos/Bitter\\019_008_005.mp4\n",
      "newasl/sign-language-gesture-recognition/train_videos/Bitter\\019_009_001.mp4\n",
      "newasl/sign-language-gesture-recognition/train_videos/Bitter\\019_009_002.mp4\n",
      "newasl/sign-language-gesture-recognition/train_videos/Bitter\\019_009_003.mp4\n",
      "newasl/sign-language-gesture-recognition/train_videos/Bitter\\019_009_004.mp4\n",
      "newasl/sign-language-gesture-recognition/train_videos/Bitter\\019_009_005.mp4\n",
      "newasl/sign-language-gesture-recognition/train_videos/Bitter\\019_010_001.mp4\n",
      "019_008_001.mp4\n",
      "newasl/sign-language-gesture-recognition/train_videos/Bitter\\019_010_002.mp4\n",
      "019_008_002.mp4\n",
      "newasl/sign-language-gesture-recognition/train_videos/Bitter\\019_010_003.mp4\n",
      "019_008_003.mp4\n",
      "newasl/sign-language-gesture-recognition/train_videos/Bitter\\019_010_004.mp4\n",
      "019_008_004.mp4\n",
      "newasl/sign-language-gesture-recognition/train_videos/Bitter\\019_010_005.mp4\n",
      "019_008_005.mp4\n",
      "newasl/sign-language-gesture-recognition/train_videos/Born\\015_003_001.mp4\n",
      "newasl/sign-language-gesture-recognition/train_videos/Born\\015_003_002.mp4\n",
      "newasl/sign-language-gesture-recognition/train_videos/Born\\015_003_003.mp4\n",
      "newasl/sign-language-gesture-recognition/train_videos/Born\\015_003_004.mp4\n",
      "newasl/sign-language-gesture-recognition/train_videos/Born\\015_003_005.mp4\n",
      "newasl/sign-language-gesture-recognition/train_videos/Born\\015_004_001.mp4\n",
      "newasl/sign-language-gesture-recognition/train_videos/Born\\015_004_002.mp4\n",
      "newasl/sign-language-gesture-recognition/train_videos/Born\\015_004_003.mp4\n",
      "newasl/sign-language-gesture-recognition/train_videos/Born\\015_004_004.mp4\n",
      "newasl/sign-language-gesture-recognition/train_videos/Born\\015_004_005.mp4\n",
      "newasl/sign-language-gesture-recognition/train_videos/Born\\015_005_001.mp4\n",
      "newasl/sign-language-gesture-recognition/train_videos/Born\\015_005_002.mp4\n",
      "newasl/sign-language-gesture-recognition/train_videos/Born\\015_005_003.mp4\n",
      "newasl/sign-language-gesture-recognition/train_videos/Born\\015_005_004.mp4\n",
      "newasl/sign-language-gesture-recognition/train_videos/Born\\015_005_005.mp4\n",
      "newasl/sign-language-gesture-recognition/train_videos/Born\\015_006_001.mp4\n",
      "newasl/sign-language-gesture-recognition/train_videos/Born\\015_006_002.mp4\n",
      "newasl/sign-language-gesture-recognition/train_videos/Born\\015_006_003.mp4\n",
      "newasl/sign-language-gesture-recognition/train_videos/Born\\015_006_004.mp4\n",
      "newasl/sign-language-gesture-recognition/train_videos/Born\\015_006_005.mp4\n",
      "newasl/sign-language-gesture-recognition/train_videos/Born\\015_007_001.mp4\n",
      "newasl/sign-language-gesture-recognition/train_videos/Born\\015_007_002.mp4\n",
      "newasl/sign-language-gesture-recognition/train_videos/Born\\015_007_003.mp4\n",
      "newasl/sign-language-gesture-recognition/train_videos/Born\\015_007_004.mp4\n",
      "newasl/sign-language-gesture-recognition/train_videos/Born\\015_007_005.mp4\n",
      "newasl/sign-language-gesture-recognition/train_videos/Born\\015_008_001.mp4\n",
      "newasl/sign-language-gesture-recognition/train_videos/Born\\015_008_002.mp4\n",
      "newasl/sign-language-gesture-recognition/train_videos/Born\\015_008_003.mp4\n",
      "newasl/sign-language-gesture-recognition/train_videos/Born\\015_008_004.mp4\n",
      "newasl/sign-language-gesture-recognition/train_videos/Born\\015_008_005.mp4\n",
      "newasl/sign-language-gesture-recognition/train_videos/Born\\015_009_001.mp4\n",
      "newasl/sign-language-gesture-recognition/train_videos/Born\\015_009_002.mp4\n",
      "newasl/sign-language-gesture-recognition/train_videos/Born\\015_009_003.mp4\n",
      "newasl/sign-language-gesture-recognition/train_videos/Born\\015_009_004.mp4\n",
      "newasl/sign-language-gesture-recognition/train_videos/Born\\015_009_005.mp4\n",
      "newasl/sign-language-gesture-recognition/train_videos/Born\\015_010_001.mp4\n",
      "015_008_001.mp4\n",
      "newasl/sign-language-gesture-recognition/train_videos/Born\\015_010_002.mp4\n",
      "015_008_002.mp4\n",
      "newasl/sign-language-gesture-recognition/train_videos/Born\\015_010_003.mp4\n",
      "015_008_003.mp4\n",
      "newasl/sign-language-gesture-recognition/train_videos/Born\\015_010_004.mp4\n",
      "015_008_004.mp4\n",
      "newasl/sign-language-gesture-recognition/train_videos/Born\\015_010_005.mp4\n",
      "015_008_005.mp4\n",
      "newasl/sign-language-gesture-recognition/train_videos/Breakfast\\031_003_001.mp4\n",
      "newasl/sign-language-gesture-recognition/train_videos/Breakfast\\031_003_002.mp4\n",
      "newasl/sign-language-gesture-recognition/train_videos/Breakfast\\031_003_003.mp4\n",
      "newasl/sign-language-gesture-recognition/train_videos/Breakfast\\031_003_004.mp4\n",
      "newasl/sign-language-gesture-recognition/train_videos/Breakfast\\031_003_005.mp4\n",
      "newasl/sign-language-gesture-recognition/train_videos/Breakfast\\031_004_001.mp4\n",
      "newasl/sign-language-gesture-recognition/train_videos/Breakfast\\031_004_002.mp4\n",
      "newasl/sign-language-gesture-recognition/train_videos/Breakfast\\031_004_003.mp4\n",
      "newasl/sign-language-gesture-recognition/train_videos/Breakfast\\031_004_004.mp4\n",
      "newasl/sign-language-gesture-recognition/train_videos/Breakfast\\031_004_005.mp4\n",
      "newasl/sign-language-gesture-recognition/train_videos/Breakfast\\031_005_001.mp4\n",
      "newasl/sign-language-gesture-recognition/train_videos/Breakfast\\031_005_002.mp4\n",
      "newasl/sign-language-gesture-recognition/train_videos/Breakfast\\031_005_003.mp4\n",
      "newasl/sign-language-gesture-recognition/train_videos/Breakfast\\031_005_004.mp4\n",
      "newasl/sign-language-gesture-recognition/train_videos/Breakfast\\031_005_005.mp4\n",
      "newasl/sign-language-gesture-recognition/train_videos/Breakfast\\031_006_001.mp4\n",
      "newasl/sign-language-gesture-recognition/train_videos/Breakfast\\031_006_002.mp4\n",
      "newasl/sign-language-gesture-recognition/train_videos/Breakfast\\031_006_003.mp4\n",
      "newasl/sign-language-gesture-recognition/train_videos/Breakfast\\031_006_004.mp4\n",
      "newasl/sign-language-gesture-recognition/train_videos/Breakfast\\031_006_005.mp4\n",
      "newasl/sign-language-gesture-recognition/train_videos/Breakfast\\031_007_001.mp4\n",
      "newasl/sign-language-gesture-recognition/train_videos/Breakfast\\031_007_002.mp4\n",
      "newasl/sign-language-gesture-recognition/train_videos/Breakfast\\031_007_003.mp4\n",
      "newasl/sign-language-gesture-recognition/train_videos/Breakfast\\031_007_004.mp4\n",
      "newasl/sign-language-gesture-recognition/train_videos/Breakfast\\031_007_005.mp4\n",
      "newasl/sign-language-gesture-recognition/train_videos/Breakfast\\031_008_001.mp4\n",
      "newasl/sign-language-gesture-recognition/train_videos/Breakfast\\031_008_002.mp4\n",
      "newasl/sign-language-gesture-recognition/train_videos/Breakfast\\031_008_003.mp4\n",
      "newasl/sign-language-gesture-recognition/train_videos/Breakfast\\031_008_004.mp4\n",
      "newasl/sign-language-gesture-recognition/train_videos/Breakfast\\031_008_005.mp4\n",
      "newasl/sign-language-gesture-recognition/train_videos/Breakfast\\031_009_001.mp4\n",
      "newasl/sign-language-gesture-recognition/train_videos/Breakfast\\031_009_002.mp4\n",
      "newasl/sign-language-gesture-recognition/train_videos/Breakfast\\031_009_003.mp4\n",
      "newasl/sign-language-gesture-recognition/train_videos/Breakfast\\031_009_004.mp4\n",
      "newasl/sign-language-gesture-recognition/train_videos/Breakfast\\031_009_005.mp4\n",
      "newasl/sign-language-gesture-recognition/train_videos/Breakfast\\031_010_001.mp4\n",
      "031_008_001.mp4\n",
      "newasl/sign-language-gesture-recognition/train_videos/Breakfast\\031_010_002.mp4\n",
      "031_008_002.mp4\n",
      "newasl/sign-language-gesture-recognition/train_videos/Breakfast\\031_010_003.mp4\n",
      "031_008_003.mp4\n",
      "newasl/sign-language-gesture-recognition/train_videos/Breakfast\\031_010_004.mp4\n",
      "031_008_004.mp4\n",
      "newasl/sign-language-gesture-recognition/train_videos/Breakfast\\031_010_005.mp4\n",
      "031_008_005.mp4\n",
      "newasl/sign-language-gesture-recognition/train_videos/Bright\\005_003_001.mp4\n",
      "newasl/sign-language-gesture-recognition/train_videos/Bright\\005_003_002.mp4\n",
      "newasl/sign-language-gesture-recognition/train_videos/Bright\\005_003_003.mp4\n",
      "newasl/sign-language-gesture-recognition/train_videos/Bright\\005_003_004.mp4\n",
      "newasl/sign-language-gesture-recognition/train_videos/Bright\\005_003_005.mp4\n",
      "newasl/sign-language-gesture-recognition/train_videos/Bright\\005_004_001.mp4\n",
      "newasl/sign-language-gesture-recognition/train_videos/Bright\\005_004_002.mp4\n",
      "newasl/sign-language-gesture-recognition/train_videos/Bright\\005_004_003.mp4\n",
      "newasl/sign-language-gesture-recognition/train_videos/Bright\\005_004_004.mp4\n",
      "newasl/sign-language-gesture-recognition/train_videos/Bright\\005_004_005.mp4\n",
      "newasl/sign-language-gesture-recognition/train_videos/Bright\\005_005_001.mp4\n",
      "newasl/sign-language-gesture-recognition/train_videos/Bright\\005_005_002.mp4\n",
      "newasl/sign-language-gesture-recognition/train_videos/Bright\\005_005_003.mp4\n",
      "newasl/sign-language-gesture-recognition/train_videos/Bright\\005_005_004.mp4\n",
      "newasl/sign-language-gesture-recognition/train_videos/Bright\\005_005_005.mp4\n",
      "newasl/sign-language-gesture-recognition/train_videos/Bright\\005_006_001.mp4\n",
      "newasl/sign-language-gesture-recognition/train_videos/Bright\\005_006_002.mp4\n",
      "newasl/sign-language-gesture-recognition/train_videos/Bright\\005_006_003.mp4\n",
      "newasl/sign-language-gesture-recognition/train_videos/Bright\\005_006_004.mp4\n",
      "newasl/sign-language-gesture-recognition/train_videos/Bright\\005_006_005.mp4\n",
      "newasl/sign-language-gesture-recognition/train_videos/Bright\\005_007_001.mp4\n",
      "newasl/sign-language-gesture-recognition/train_videos/Bright\\005_007_002.mp4\n",
      "newasl/sign-language-gesture-recognition/train_videos/Bright\\005_007_003.mp4\n",
      "newasl/sign-language-gesture-recognition/train_videos/Bright\\005_007_004.mp4\n",
      "newasl/sign-language-gesture-recognition/train_videos/Bright\\005_007_005.mp4\n",
      "newasl/sign-language-gesture-recognition/train_videos/Bright\\005_008_001.mp4\n",
      "newasl/sign-language-gesture-recognition/train_videos/Bright\\005_008_002.mp4\n",
      "newasl/sign-language-gesture-recognition/train_videos/Bright\\005_008_003.mp4\n",
      "newasl/sign-language-gesture-recognition/train_videos/Bright\\005_008_004.mp4\n",
      "newasl/sign-language-gesture-recognition/train_videos/Bright\\005_008_005.mp4\n",
      "newasl/sign-language-gesture-recognition/train_videos/Bright\\005_009_001.mp4\n",
      "newasl/sign-language-gesture-recognition/train_videos/Bright\\005_009_002.mp4\n",
      "newasl/sign-language-gesture-recognition/train_videos/Bright\\005_009_003.mp4\n",
      "newasl/sign-language-gesture-recognition/train_videos/Bright\\005_009_004.mp4\n",
      "newasl/sign-language-gesture-recognition/train_videos/Bright\\005_009_005.mp4\n",
      "newasl/sign-language-gesture-recognition/train_videos/Bright\\005_010_001.mp4\n",
      "005_008_001.mp4\n",
      "newasl/sign-language-gesture-recognition/train_videos/Bright\\005_010_002.mp4\n",
      "005_008_002.mp4\n",
      "newasl/sign-language-gesture-recognition/train_videos/Bright\\005_010_003.mp4\n",
      "005_008_003.mp4\n",
      "newasl/sign-language-gesture-recognition/train_videos/Bright\\005_010_004.mp4\n",
      "005_008_004.mp4\n",
      "newasl/sign-language-gesture-recognition/train_videos/Bright\\005_010_005.mp4\n",
      "005_008_005.mp4\n",
      "newasl/sign-language-gesture-recognition/train_videos/Buy\\059_003_001.mp4\n",
      "newasl/sign-language-gesture-recognition/train_videos/Buy\\059_003_002.mp4\n",
      "newasl/sign-language-gesture-recognition/train_videos/Buy\\059_003_003.mp4\n",
      "newasl/sign-language-gesture-recognition/train_videos/Buy\\059_003_004.mp4\n",
      "newasl/sign-language-gesture-recognition/train_videos/Buy\\059_003_005.mp4\n",
      "newasl/sign-language-gesture-recognition/train_videos/Buy\\059_004_001.mp4\n",
      "newasl/sign-language-gesture-recognition/train_videos/Buy\\059_004_002.mp4\n",
      "newasl/sign-language-gesture-recognition/train_videos/Buy\\059_004_003.mp4\n",
      "newasl/sign-language-gesture-recognition/train_videos/Buy\\059_004_004.mp4\n",
      "newasl/sign-language-gesture-recognition/train_videos/Buy\\059_004_005.mp4\n",
      "newasl/sign-language-gesture-recognition/train_videos/Buy\\059_005_001.mp4\n",
      "newasl/sign-language-gesture-recognition/train_videos/Buy\\059_005_002.mp4\n",
      "newasl/sign-language-gesture-recognition/train_videos/Buy\\059_005_003.mp4\n",
      "newasl/sign-language-gesture-recognition/train_videos/Buy\\059_005_004.mp4\n",
      "newasl/sign-language-gesture-recognition/train_videos/Buy\\059_005_005.mp4\n",
      "newasl/sign-language-gesture-recognition/train_videos/Buy\\059_006_001.mp4\n",
      "newasl/sign-language-gesture-recognition/train_videos/Buy\\059_006_002.mp4\n",
      "newasl/sign-language-gesture-recognition/train_videos/Buy\\059_006_003.mp4\n",
      "newasl/sign-language-gesture-recognition/train_videos/Buy\\059_006_004.mp4\n",
      "newasl/sign-language-gesture-recognition/train_videos/Buy\\059_006_005.mp4\n",
      "newasl/sign-language-gesture-recognition/train_videos/Buy\\059_007_001.mp4\n",
      "newasl/sign-language-gesture-recognition/train_videos/Buy\\059_007_002.mp4\n",
      "newasl/sign-language-gesture-recognition/train_videos/Buy\\059_007_003.mp4\n",
      "newasl/sign-language-gesture-recognition/train_videos/Buy\\059_007_004.mp4\n",
      "newasl/sign-language-gesture-recognition/train_videos/Buy\\059_007_005.mp4\n",
      "newasl/sign-language-gesture-recognition/train_videos/Buy\\059_008_001.mp4\n",
      "newasl/sign-language-gesture-recognition/train_videos/Buy\\059_008_002.mp4\n",
      "newasl/sign-language-gesture-recognition/train_videos/Buy\\059_008_003.mp4\n",
      "newasl/sign-language-gesture-recognition/train_videos/Buy\\059_008_004.mp4\n",
      "newasl/sign-language-gesture-recognition/train_videos/Buy\\059_008_005.mp4\n",
      "newasl/sign-language-gesture-recognition/train_videos/Buy\\059_009_001.mp4\n",
      "newasl/sign-language-gesture-recognition/train_videos/Buy\\059_009_002.mp4\n",
      "newasl/sign-language-gesture-recognition/train_videos/Buy\\059_009_003.mp4\n",
      "newasl/sign-language-gesture-recognition/train_videos/Buy\\059_009_004.mp4\n",
      "newasl/sign-language-gesture-recognition/train_videos/Buy\\059_009_005.mp4\n",
      "newasl/sign-language-gesture-recognition/train_videos/Buy\\059_010_001.mp4\n",
      "059_008_001.mp4\n",
      "newasl/sign-language-gesture-recognition/train_videos/Buy\\059_010_002.mp4\n",
      "059_008_002.mp4\n",
      "newasl/sign-language-gesture-recognition/train_videos/Buy\\059_010_003.mp4\n",
      "059_008_003.mp4\n",
      "newasl/sign-language-gesture-recognition/train_videos/Buy\\059_010_004.mp4\n",
      "059_008_004.mp4\n",
      "newasl/sign-language-gesture-recognition/train_videos/Buy\\059_010_005.mp4\n",
      "059_008_005.mp4\n",
      "newasl/sign-language-gesture-recognition/train_videos/Call\\017_003_001.mp4\n",
      "newasl/sign-language-gesture-recognition/train_videos/Call\\017_003_002.mp4\n",
      "newasl/sign-language-gesture-recognition/train_videos/Call\\017_003_003.mp4\n",
      "newasl/sign-language-gesture-recognition/train_videos/Call\\017_003_004.mp4\n",
      "newasl/sign-language-gesture-recognition/train_videos/Call\\017_003_005.mp4\n",
      "newasl/sign-language-gesture-recognition/train_videos/Call\\017_004_001.mp4\n",
      "newasl/sign-language-gesture-recognition/train_videos/Call\\017_004_002.mp4\n",
      "newasl/sign-language-gesture-recognition/train_videos/Call\\017_004_003.mp4\n",
      "newasl/sign-language-gesture-recognition/train_videos/Call\\017_004_004.mp4\n",
      "newasl/sign-language-gesture-recognition/train_videos/Call\\017_004_005.mp4\n",
      "newasl/sign-language-gesture-recognition/train_videos/Call\\017_005_001.mp4\n",
      "newasl/sign-language-gesture-recognition/train_videos/Call\\017_005_002.mp4\n",
      "newasl/sign-language-gesture-recognition/train_videos/Call\\017_005_003.mp4\n",
      "newasl/sign-language-gesture-recognition/train_videos/Call\\017_005_004.mp4\n",
      "newasl/sign-language-gesture-recognition/train_videos/Call\\017_005_005.mp4\n",
      "newasl/sign-language-gesture-recognition/train_videos/Call\\017_006_001.mp4\n",
      "newasl/sign-language-gesture-recognition/train_videos/Call\\017_006_002.mp4\n",
      "newasl/sign-language-gesture-recognition/train_videos/Call\\017_006_003.mp4\n",
      "newasl/sign-language-gesture-recognition/train_videos/Call\\017_006_004.mp4\n",
      "newasl/sign-language-gesture-recognition/train_videos/Call\\017_006_005.mp4\n",
      "newasl/sign-language-gesture-recognition/train_videos/Call\\017_007_001.mp4\n",
      "newasl/sign-language-gesture-recognition/train_videos/Call\\017_007_002.mp4\n",
      "newasl/sign-language-gesture-recognition/train_videos/Call\\017_007_003.mp4\n",
      "newasl/sign-language-gesture-recognition/train_videos/Call\\017_007_004.mp4\n",
      "newasl/sign-language-gesture-recognition/train_videos/Call\\017_007_005.mp4\n",
      "newasl/sign-language-gesture-recognition/train_videos/Call\\017_008_001.mp4\n",
      "newasl/sign-language-gesture-recognition/train_videos/Call\\017_008_002.mp4\n",
      "newasl/sign-language-gesture-recognition/train_videos/Call\\017_008_003.mp4\n",
      "newasl/sign-language-gesture-recognition/train_videos/Call\\017_008_004.mp4\n",
      "newasl/sign-language-gesture-recognition/train_videos/Call\\017_008_005.mp4\n",
      "newasl/sign-language-gesture-recognition/train_videos/Call\\017_009_001.mp4\n",
      "newasl/sign-language-gesture-recognition/train_videos/Call\\017_009_002.mp4\n",
      "newasl/sign-language-gesture-recognition/train_videos/Call\\017_009_003.mp4\n",
      "newasl/sign-language-gesture-recognition/train_videos/Call\\017_009_004.mp4\n",
      "newasl/sign-language-gesture-recognition/train_videos/Call\\017_009_005.mp4\n",
      "newasl/sign-language-gesture-recognition/train_videos/Call\\017_010_001.mp4\n",
      "017_008_001.mp4\n",
      "newasl/sign-language-gesture-recognition/train_videos/Call\\017_010_002.mp4\n",
      "017_008_002.mp4\n",
      "newasl/sign-language-gesture-recognition/train_videos/Call\\017_010_003.mp4\n",
      "017_008_003.mp4\n",
      "newasl/sign-language-gesture-recognition/train_videos/Call\\017_010_004.mp4\n",
      "017_008_004.mp4\n",
      "newasl/sign-language-gesture-recognition/train_videos/Call\\017_010_005.mp4\n",
      "017_008_005.mp4\n",
      "newasl/sign-language-gesture-recognition/train_videos/Candy\\046_003_001.mp4\n",
      "newasl/sign-language-gesture-recognition/train_videos/Candy\\046_003_002.mp4\n",
      "newasl/sign-language-gesture-recognition/train_videos/Candy\\046_003_003.mp4\n",
      "newasl/sign-language-gesture-recognition/train_videos/Candy\\046_003_004.mp4\n",
      "newasl/sign-language-gesture-recognition/train_videos/Candy\\046_003_005.mp4\n",
      "newasl/sign-language-gesture-recognition/train_videos/Candy\\046_004_001.mp4\n",
      "newasl/sign-language-gesture-recognition/train_videos/Candy\\046_004_002.mp4\n",
      "newasl/sign-language-gesture-recognition/train_videos/Candy\\046_004_003.mp4\n",
      "newasl/sign-language-gesture-recognition/train_videos/Candy\\046_004_004.mp4\n",
      "newasl/sign-language-gesture-recognition/train_videos/Candy\\046_004_005.mp4\n",
      "newasl/sign-language-gesture-recognition/train_videos/Candy\\046_005_001.mp4\n",
      "newasl/sign-language-gesture-recognition/train_videos/Candy\\046_005_002.mp4\n",
      "newasl/sign-language-gesture-recognition/train_videos/Candy\\046_005_003.mp4\n",
      "newasl/sign-language-gesture-recognition/train_videos/Candy\\046_005_004.mp4\n",
      "newasl/sign-language-gesture-recognition/train_videos/Candy\\046_005_005.mp4\n",
      "newasl/sign-language-gesture-recognition/train_videos/Candy\\046_006_001.mp4\n",
      "newasl/sign-language-gesture-recognition/train_videos/Candy\\046_006_002.mp4\n",
      "newasl/sign-language-gesture-recognition/train_videos/Candy\\046_006_003.mp4\n",
      "newasl/sign-language-gesture-recognition/train_videos/Candy\\046_006_004.mp4\n",
      "newasl/sign-language-gesture-recognition/train_videos/Candy\\046_006_005.mp4\n",
      "newasl/sign-language-gesture-recognition/train_videos/Candy\\046_007_001.mp4\n",
      "newasl/sign-language-gesture-recognition/train_videos/Candy\\046_007_002.mp4\n",
      "newasl/sign-language-gesture-recognition/train_videos/Candy\\046_007_003.mp4\n",
      "newasl/sign-language-gesture-recognition/train_videos/Candy\\046_007_004.mp4\n",
      "newasl/sign-language-gesture-recognition/train_videos/Candy\\046_007_005.mp4\n",
      "newasl/sign-language-gesture-recognition/train_videos/Candy\\046_008_001.mp4\n",
      "newasl/sign-language-gesture-recognition/train_videos/Candy\\046_008_002.mp4\n",
      "newasl/sign-language-gesture-recognition/train_videos/Candy\\046_008_003.mp4\n",
      "newasl/sign-language-gesture-recognition/train_videos/Candy\\046_008_004.mp4\n",
      "newasl/sign-language-gesture-recognition/train_videos/Candy\\046_008_005.mp4\n",
      "newasl/sign-language-gesture-recognition/train_videos/Candy\\046_009_001.mp4\n",
      "newasl/sign-language-gesture-recognition/train_videos/Candy\\046_009_002.mp4\n",
      "newasl/sign-language-gesture-recognition/train_videos/Candy\\046_009_003.mp4\n",
      "newasl/sign-language-gesture-recognition/train_videos/Candy\\046_009_004.mp4\n",
      "newasl/sign-language-gesture-recognition/train_videos/Candy\\046_009_005.mp4\n",
      "newasl/sign-language-gesture-recognition/train_videos/Candy\\046_010_001.mp4\n",
      "046_008_001.mp4\n",
      "newasl/sign-language-gesture-recognition/train_videos/Candy\\046_010_002.mp4\n",
      "046_008_002.mp4\n",
      "newasl/sign-language-gesture-recognition/train_videos/Candy\\046_010_003.mp4\n",
      "046_008_003.mp4\n",
      "newasl/sign-language-gesture-recognition/train_videos/Candy\\046_010_004.mp4\n",
      "046_008_004.mp4\n",
      "newasl/sign-language-gesture-recognition/train_videos/Candy\\046_010_005.mp4\n",
      "046_008_005.mp4\n",
      "newasl/sign-language-gesture-recognition/train_videos/Catch\\055_003_001.mp4\n",
      "newasl/sign-language-gesture-recognition/train_videos/Catch\\055_003_002.mp4\n",
      "newasl/sign-language-gesture-recognition/train_videos/Catch\\055_003_003.mp4\n",
      "newasl/sign-language-gesture-recognition/train_videos/Catch\\055_003_004.mp4\n",
      "newasl/sign-language-gesture-recognition/train_videos/Catch\\055_003_005.mp4\n",
      "newasl/sign-language-gesture-recognition/train_videos/Catch\\055_004_001.mp4\n",
      "newasl/sign-language-gesture-recognition/train_videos/Catch\\055_004_002.mp4\n",
      "newasl/sign-language-gesture-recognition/train_videos/Catch\\055_004_003.mp4\n",
      "newasl/sign-language-gesture-recognition/train_videos/Catch\\055_004_004.mp4\n",
      "newasl/sign-language-gesture-recognition/train_videos/Catch\\055_004_005.mp4\n",
      "newasl/sign-language-gesture-recognition/train_videos/Catch\\055_005_001.mp4\n",
      "newasl/sign-language-gesture-recognition/train_videos/Catch\\055_005_002.mp4\n",
      "newasl/sign-language-gesture-recognition/train_videos/Catch\\055_005_003.mp4\n",
      "newasl/sign-language-gesture-recognition/train_videos/Catch\\055_005_004.mp4\n",
      "newasl/sign-language-gesture-recognition/train_videos/Catch\\055_005_005.mp4\n",
      "newasl/sign-language-gesture-recognition/train_videos/Catch\\055_006_001.mp4\n",
      "newasl/sign-language-gesture-recognition/train_videos/Catch\\055_006_002.mp4\n",
      "newasl/sign-language-gesture-recognition/train_videos/Catch\\055_006_003.mp4\n",
      "newasl/sign-language-gesture-recognition/train_videos/Catch\\055_006_004.mp4\n",
      "newasl/sign-language-gesture-recognition/train_videos/Catch\\055_006_005.mp4\n",
      "newasl/sign-language-gesture-recognition/train_videos/Catch\\055_007_001.mp4\n",
      "newasl/sign-language-gesture-recognition/train_videos/Catch\\055_007_002.mp4\n",
      "newasl/sign-language-gesture-recognition/train_videos/Catch\\055_007_003.mp4\n",
      "newasl/sign-language-gesture-recognition/train_videos/Catch\\055_007_004.mp4\n",
      "newasl/sign-language-gesture-recognition/train_videos/Catch\\055_007_005.mp4\n",
      "newasl/sign-language-gesture-recognition/train_videos/Catch\\055_008_001.mp4\n",
      "newasl/sign-language-gesture-recognition/train_videos/Catch\\055_008_002.mp4\n",
      "newasl/sign-language-gesture-recognition/train_videos/Catch\\055_008_003.mp4\n",
      "newasl/sign-language-gesture-recognition/train_videos/Catch\\055_008_004.mp4\n",
      "newasl/sign-language-gesture-recognition/train_videos/Catch\\055_008_005.mp4\n",
      "newasl/sign-language-gesture-recognition/train_videos/Catch\\055_009_001.mp4\n",
      "newasl/sign-language-gesture-recognition/train_videos/Catch\\055_009_002.mp4\n",
      "newasl/sign-language-gesture-recognition/train_videos/Catch\\055_009_003.mp4\n",
      "newasl/sign-language-gesture-recognition/train_videos/Catch\\055_009_004.mp4\n",
      "newasl/sign-language-gesture-recognition/train_videos/Catch\\055_009_005.mp4\n",
      "newasl/sign-language-gesture-recognition/train_videos/Catch\\055_010_001.mp4\n",
      "055_008_001.mp4\n",
      "newasl/sign-language-gesture-recognition/train_videos/Catch\\055_010_002.mp4\n",
      "055_008_002.mp4\n",
      "newasl/sign-language-gesture-recognition/train_videos/Catch\\055_010_003.mp4\n",
      "055_008_003.mp4\n",
      "newasl/sign-language-gesture-recognition/train_videos/Catch\\055_010_004.mp4\n",
      "055_008_004.mp4\n",
      "newasl/sign-language-gesture-recognition/train_videos/Catch\\055_010_005.mp4\n",
      "055_008_005.mp4\n",
      "newasl/sign-language-gesture-recognition/train_videos/Chewing-gum\\047_003_001.mp4\n",
      "newasl/sign-language-gesture-recognition/train_videos/Chewing-gum\\047_003_002.mp4\n",
      "newasl/sign-language-gesture-recognition/train_videos/Chewing-gum\\047_003_003.mp4\n",
      "newasl/sign-language-gesture-recognition/train_videos/Chewing-gum\\047_003_004.mp4\n",
      "newasl/sign-language-gesture-recognition/train_videos/Chewing-gum\\047_003_005.mp4\n",
      "newasl/sign-language-gesture-recognition/train_videos/Chewing-gum\\047_004_001.mp4\n",
      "newasl/sign-language-gesture-recognition/train_videos/Chewing-gum\\047_004_002.mp4\n",
      "newasl/sign-language-gesture-recognition/train_videos/Chewing-gum\\047_004_003.mp4\n",
      "newasl/sign-language-gesture-recognition/train_videos/Chewing-gum\\047_004_004.mp4\n",
      "newasl/sign-language-gesture-recognition/train_videos/Chewing-gum\\047_004_005.mp4\n",
      "newasl/sign-language-gesture-recognition/train_videos/Chewing-gum\\047_005_001.mp4\n",
      "newasl/sign-language-gesture-recognition/train_videos/Chewing-gum\\047_005_002.mp4\n",
      "newasl/sign-language-gesture-recognition/train_videos/Chewing-gum\\047_005_003.mp4\n",
      "newasl/sign-language-gesture-recognition/train_videos/Chewing-gum\\047_005_004.mp4\n",
      "newasl/sign-language-gesture-recognition/train_videos/Chewing-gum\\047_005_005.mp4\n",
      "newasl/sign-language-gesture-recognition/train_videos/Chewing-gum\\047_006_001.mp4\n",
      "newasl/sign-language-gesture-recognition/train_videos/Chewing-gum\\047_006_002.mp4\n",
      "newasl/sign-language-gesture-recognition/train_videos/Chewing-gum\\047_006_003.mp4\n",
      "newasl/sign-language-gesture-recognition/train_videos/Chewing-gum\\047_006_004.mp4\n",
      "newasl/sign-language-gesture-recognition/train_videos/Chewing-gum\\047_006_005.mp4\n",
      "newasl/sign-language-gesture-recognition/train_videos/Chewing-gum\\047_007_001.mp4\n",
      "newasl/sign-language-gesture-recognition/train_videos/Chewing-gum\\047_007_002.mp4\n",
      "newasl/sign-language-gesture-recognition/train_videos/Chewing-gum\\047_007_003.mp4\n",
      "newasl/sign-language-gesture-recognition/train_videos/Chewing-gum\\047_007_004.mp4\n",
      "newasl/sign-language-gesture-recognition/train_videos/Chewing-gum\\047_007_005.mp4\n",
      "newasl/sign-language-gesture-recognition/train_videos/Chewing-gum\\047_008_001.mp4\n",
      "newasl/sign-language-gesture-recognition/train_videos/Chewing-gum\\047_008_002.mp4\n",
      "newasl/sign-language-gesture-recognition/train_videos/Chewing-gum\\047_008_003.mp4\n",
      "newasl/sign-language-gesture-recognition/train_videos/Chewing-gum\\047_008_004.mp4\n",
      "newasl/sign-language-gesture-recognition/train_videos/Chewing-gum\\047_008_005.mp4\n",
      "newasl/sign-language-gesture-recognition/train_videos/Chewing-gum\\047_009_001.mp4\n",
      "newasl/sign-language-gesture-recognition/train_videos/Chewing-gum\\047_009_002.mp4\n",
      "newasl/sign-language-gesture-recognition/train_videos/Chewing-gum\\047_009_003.mp4\n",
      "newasl/sign-language-gesture-recognition/train_videos/Chewing-gum\\047_009_004.mp4\n",
      "newasl/sign-language-gesture-recognition/train_videos/Chewing-gum\\047_009_005.mp4\n",
      "newasl/sign-language-gesture-recognition/train_videos/Chewing-gum\\047_010_001.mp4\n",
      "047_008_001.mp4\n",
      "newasl/sign-language-gesture-recognition/train_videos/Chewing-gum\\047_010_002.mp4\n",
      "047_008_002.mp4\n",
      "newasl/sign-language-gesture-recognition/train_videos/Chewing-gum\\047_010_003.mp4\n",
      "047_008_003.mp4\n",
      "newasl/sign-language-gesture-recognition/train_videos/Chewing-gum\\047_010_004.mp4\n",
      "047_008_004.mp4\n",
      "newasl/sign-language-gesture-recognition/train_videos/Chewing-gum\\047_010_005.mp4\n",
      "047_008_005.mp4\n",
      "newasl/sign-language-gesture-recognition/train_videos/Coin\\035_003_001.mp4\n",
      "newasl/sign-language-gesture-recognition/train_videos/Coin\\035_003_002.mp4\n",
      "newasl/sign-language-gesture-recognition/train_videos/Coin\\035_003_003.mp4\n",
      "newasl/sign-language-gesture-recognition/train_videos/Coin\\035_003_004.mp4\n",
      "newasl/sign-language-gesture-recognition/train_videos/Coin\\035_003_005.mp4\n",
      "newasl/sign-language-gesture-recognition/train_videos/Coin\\035_004_001.mp4\n",
      "newasl/sign-language-gesture-recognition/train_videos/Coin\\035_004_002.mp4\n",
      "newasl/sign-language-gesture-recognition/train_videos/Coin\\035_004_003.mp4\n",
      "newasl/sign-language-gesture-recognition/train_videos/Coin\\035_004_004.mp4\n",
      "newasl/sign-language-gesture-recognition/train_videos/Coin\\035_004_005.mp4\n",
      "newasl/sign-language-gesture-recognition/train_videos/Coin\\035_005_001.mp4\n",
      "newasl/sign-language-gesture-recognition/train_videos/Coin\\035_005_002.mp4\n",
      "newasl/sign-language-gesture-recognition/train_videos/Coin\\035_005_003.mp4\n",
      "newasl/sign-language-gesture-recognition/train_videos/Coin\\035_005_004.mp4\n",
      "newasl/sign-language-gesture-recognition/train_videos/Coin\\035_005_005.mp4\n",
      "newasl/sign-language-gesture-recognition/train_videos/Coin\\035_006_001.mp4\n",
      "newasl/sign-language-gesture-recognition/train_videos/Coin\\035_006_002.mp4\n",
      "newasl/sign-language-gesture-recognition/train_videos/Coin\\035_006_003.mp4\n",
      "newasl/sign-language-gesture-recognition/train_videos/Coin\\035_006_004.mp4\n",
      "newasl/sign-language-gesture-recognition/train_videos/Coin\\035_006_005.mp4\n",
      "newasl/sign-language-gesture-recognition/train_videos/Coin\\035_007_001.mp4\n",
      "newasl/sign-language-gesture-recognition/train_videos/Coin\\035_007_002.mp4\n",
      "newasl/sign-language-gesture-recognition/train_videos/Coin\\035_007_003.mp4\n",
      "newasl/sign-language-gesture-recognition/train_videos/Coin\\035_007_004.mp4\n",
      "newasl/sign-language-gesture-recognition/train_videos/Coin\\035_007_005.mp4\n",
      "newasl/sign-language-gesture-recognition/train_videos/Coin\\035_008_001.mp4\n",
      "newasl/sign-language-gesture-recognition/train_videos/Coin\\035_008_002.mp4\n",
      "newasl/sign-language-gesture-recognition/train_videos/Coin\\035_008_003.mp4\n",
      "newasl/sign-language-gesture-recognition/train_videos/Coin\\035_008_004.mp4\n",
      "newasl/sign-language-gesture-recognition/train_videos/Coin\\035_008_005.mp4\n",
      "newasl/sign-language-gesture-recognition/train_videos/Coin\\035_009_001.mp4\n",
      "newasl/sign-language-gesture-recognition/train_videos/Coin\\035_009_002.mp4\n",
      "newasl/sign-language-gesture-recognition/train_videos/Coin\\035_009_003.mp4\n",
      "newasl/sign-language-gesture-recognition/train_videos/Coin\\035_009_004.mp4\n",
      "newasl/sign-language-gesture-recognition/train_videos/Coin\\035_009_005.mp4\n",
      "newasl/sign-language-gesture-recognition/train_videos/Coin\\035_010_001.mp4\n",
      "035_008_001.mp4\n",
      "newasl/sign-language-gesture-recognition/train_videos/Coin\\035_010_002.mp4\n",
      "035_008_002.mp4\n",
      "newasl/sign-language-gesture-recognition/train_videos/Coin\\035_010_003.mp4\n",
      "035_008_003.mp4\n",
      "newasl/sign-language-gesture-recognition/train_videos/Coin\\035_010_004.mp4\n",
      "035_008_004.mp4\n",
      "newasl/sign-language-gesture-recognition/train_videos/Coin\\035_010_005.mp4\n",
      "035_008_005.mp4\n",
      "newasl/sign-language-gesture-recognition/train_videos/Colors\\007_003_001.mp4\n",
      "newasl/sign-language-gesture-recognition/train_videos/Colors\\007_003_002.mp4\n",
      "newasl/sign-language-gesture-recognition/train_videos/Colors\\007_003_003.mp4\n",
      "newasl/sign-language-gesture-recognition/train_videos/Colors\\007_003_004.mp4\n",
      "newasl/sign-language-gesture-recognition/train_videos/Colors\\007_003_005.mp4\n",
      "newasl/sign-language-gesture-recognition/train_videos/Colors\\007_004_001.mp4\n",
      "newasl/sign-language-gesture-recognition/train_videos/Colors\\007_004_002.mp4\n",
      "newasl/sign-language-gesture-recognition/train_videos/Colors\\007_004_003.mp4\n",
      "newasl/sign-language-gesture-recognition/train_videos/Colors\\007_004_004.mp4\n",
      "newasl/sign-language-gesture-recognition/train_videos/Colors\\007_004_005.mp4\n",
      "newasl/sign-language-gesture-recognition/train_videos/Colors\\007_005_001.mp4\n",
      "newasl/sign-language-gesture-recognition/train_videos/Colors\\007_005_002.mp4\n",
      "newasl/sign-language-gesture-recognition/train_videos/Colors\\007_005_003.mp4\n",
      "newasl/sign-language-gesture-recognition/train_videos/Colors\\007_005_004.mp4\n",
      "newasl/sign-language-gesture-recognition/train_videos/Colors\\007_005_005.mp4\n",
      "newasl/sign-language-gesture-recognition/train_videos/Colors\\007_006_001.mp4\n",
      "newasl/sign-language-gesture-recognition/train_videos/Colors\\007_006_002.mp4\n",
      "newasl/sign-language-gesture-recognition/train_videos/Colors\\007_006_003.mp4\n",
      "newasl/sign-language-gesture-recognition/train_videos/Colors\\007_006_004.mp4\n",
      "newasl/sign-language-gesture-recognition/train_videos/Colors\\007_006_005.mp4\n",
      "newasl/sign-language-gesture-recognition/train_videos/Colors\\007_007_001.mp4\n",
      "newasl/sign-language-gesture-recognition/train_videos/Colors\\007_007_002.mp4\n",
      "newasl/sign-language-gesture-recognition/train_videos/Colors\\007_007_003.mp4\n",
      "newasl/sign-language-gesture-recognition/train_videos/Colors\\007_007_004.mp4\n",
      "newasl/sign-language-gesture-recognition/train_videos/Colors\\007_007_005.mp4\n",
      "newasl/sign-language-gesture-recognition/train_videos/Colors\\007_008_001.mp4\n",
      "newasl/sign-language-gesture-recognition/train_videos/Colors\\007_008_002.mp4\n",
      "newasl/sign-language-gesture-recognition/train_videos/Colors\\007_008_003.mp4\n",
      "newasl/sign-language-gesture-recognition/train_videos/Colors\\007_008_004.mp4\n",
      "newasl/sign-language-gesture-recognition/train_videos/Colors\\007_008_005.mp4\n",
      "newasl/sign-language-gesture-recognition/train_videos/Colors\\007_009_001.mp4\n",
      "newasl/sign-language-gesture-recognition/train_videos/Colors\\007_009_002.mp4\n",
      "newasl/sign-language-gesture-recognition/train_videos/Colors\\007_009_003.mp4\n",
      "newasl/sign-language-gesture-recognition/train_videos/Colors\\007_009_004.mp4\n",
      "newasl/sign-language-gesture-recognition/train_videos/Colors\\007_009_005.mp4\n",
      "newasl/sign-language-gesture-recognition/train_videos/Colors\\007_010_001.mp4\n",
      "007_008_001.mp4\n",
      "newasl/sign-language-gesture-recognition/train_videos/Colors\\007_010_002.mp4\n",
      "007_008_002.mp4\n",
      "newasl/sign-language-gesture-recognition/train_videos/Colors\\007_010_003.mp4\n",
      "007_008_003.mp4\n",
      "newasl/sign-language-gesture-recognition/train_videos/Colors\\007_010_004.mp4\n",
      "007_008_004.mp4\n",
      "newasl/sign-language-gesture-recognition/train_videos/Colors\\007_010_005.mp4\n",
      "007_008_005.mp4\n",
      "newasl/sign-language-gesture-recognition/train_videos/Copy\\060_003_001.mp4\n",
      "newasl/sign-language-gesture-recognition/train_videos/Copy\\060_003_002.mp4\n",
      "newasl/sign-language-gesture-recognition/train_videos/Copy\\060_003_003.mp4\n",
      "newasl/sign-language-gesture-recognition/train_videos/Copy\\060_003_004.mp4\n",
      "newasl/sign-language-gesture-recognition/train_videos/Copy\\060_003_005.mp4\n",
      "newasl/sign-language-gesture-recognition/train_videos/Copy\\060_004_001.mp4\n",
      "newasl/sign-language-gesture-recognition/train_videos/Copy\\060_004_002.mp4\n",
      "newasl/sign-language-gesture-recognition/train_videos/Copy\\060_004_003.mp4\n",
      "newasl/sign-language-gesture-recognition/train_videos/Copy\\060_004_004.mp4\n",
      "newasl/sign-language-gesture-recognition/train_videos/Copy\\060_004_005.mp4\n",
      "newasl/sign-language-gesture-recognition/train_videos/Copy\\060_005_001.mp4\n",
      "newasl/sign-language-gesture-recognition/train_videos/Copy\\060_005_002.mp4\n",
      "newasl/sign-language-gesture-recognition/train_videos/Copy\\060_005_003.mp4\n",
      "newasl/sign-language-gesture-recognition/train_videos/Copy\\060_005_004.mp4\n",
      "newasl/sign-language-gesture-recognition/train_videos/Copy\\060_005_005.mp4\n",
      "newasl/sign-language-gesture-recognition/train_videos/Copy\\060_006_001.mp4\n",
      "newasl/sign-language-gesture-recognition/train_videos/Copy\\060_006_002.mp4\n",
      "newasl/sign-language-gesture-recognition/train_videos/Copy\\060_006_003.mp4\n",
      "newasl/sign-language-gesture-recognition/train_videos/Copy\\060_006_004.mp4\n",
      "newasl/sign-language-gesture-recognition/train_videos/Copy\\060_006_005.mp4\n",
      "newasl/sign-language-gesture-recognition/train_videos/Copy\\060_007_001.mp4\n",
      "newasl/sign-language-gesture-recognition/train_videos/Copy\\060_007_002.mp4\n",
      "newasl/sign-language-gesture-recognition/train_videos/Copy\\060_007_003.mp4\n",
      "newasl/sign-language-gesture-recognition/train_videos/Copy\\060_007_004.mp4\n",
      "newasl/sign-language-gesture-recognition/train_videos/Copy\\060_007_005.mp4\n",
      "newasl/sign-language-gesture-recognition/train_videos/Copy\\060_008_001.mp4\n",
      "newasl/sign-language-gesture-recognition/train_videos/Copy\\060_008_002.mp4\n",
      "newasl/sign-language-gesture-recognition/train_videos/Copy\\060_008_003.mp4\n",
      "newasl/sign-language-gesture-recognition/train_videos/Copy\\060_008_004.mp4\n",
      "newasl/sign-language-gesture-recognition/train_videos/Copy\\060_008_005.mp4\n",
      "newasl/sign-language-gesture-recognition/train_videos/Copy\\060_009_001.mp4\n",
      "newasl/sign-language-gesture-recognition/train_videos/Copy\\060_009_002.mp4\n",
      "newasl/sign-language-gesture-recognition/train_videos/Copy\\060_009_003.mp4\n",
      "newasl/sign-language-gesture-recognition/train_videos/Copy\\060_009_004.mp4\n",
      "newasl/sign-language-gesture-recognition/train_videos/Copy\\060_009_005.mp4\n",
      "newasl/sign-language-gesture-recognition/train_videos/Copy\\060_010_001.mp4\n",
      "060_008_001.mp4\n",
      "newasl/sign-language-gesture-recognition/train_videos/Copy\\060_010_002.mp4\n",
      "060_008_002.mp4\n",
      "newasl/sign-language-gesture-recognition/train_videos/Copy\\060_010_003.mp4\n",
      "060_008_003.mp4\n",
      "newasl/sign-language-gesture-recognition/train_videos/Copy\\060_010_004.mp4\n",
      "060_008_004.mp4\n",
      "newasl/sign-language-gesture-recognition/train_videos/Copy\\060_010_005.mp4\n",
      "060_008_005.mp4\n",
      "newasl/sign-language-gesture-recognition/train_videos/Country\\026_003_001.mp4\n",
      "newasl/sign-language-gesture-recognition/train_videos/Country\\026_003_002.mp4\n",
      "newasl/sign-language-gesture-recognition/train_videos/Country\\026_003_003.mp4\n",
      "newasl/sign-language-gesture-recognition/train_videos/Country\\026_003_004.mp4\n",
      "newasl/sign-language-gesture-recognition/train_videos/Country\\026_003_005.mp4\n",
      "newasl/sign-language-gesture-recognition/train_videos/Country\\026_004_001.mp4\n",
      "newasl/sign-language-gesture-recognition/train_videos/Country\\026_004_002.mp4\n",
      "newasl/sign-language-gesture-recognition/train_videos/Country\\026_004_003.mp4\n",
      "newasl/sign-language-gesture-recognition/train_videos/Country\\026_004_004.mp4\n",
      "newasl/sign-language-gesture-recognition/train_videos/Country\\026_004_005.mp4\n",
      "newasl/sign-language-gesture-recognition/train_videos/Country\\026_005_001.mp4\n",
      "newasl/sign-language-gesture-recognition/train_videos/Country\\026_005_002.mp4\n",
      "newasl/sign-language-gesture-recognition/train_videos/Country\\026_005_003.mp4\n",
      "newasl/sign-language-gesture-recognition/train_videos/Country\\026_005_004.mp4\n",
      "newasl/sign-language-gesture-recognition/train_videos/Country\\026_005_005.mp4\n",
      "newasl/sign-language-gesture-recognition/train_videos/Country\\026_006_001.mp4\n",
      "newasl/sign-language-gesture-recognition/train_videos/Country\\026_006_002.mp4\n",
      "newasl/sign-language-gesture-recognition/train_videos/Country\\026_006_003.mp4\n",
      "newasl/sign-language-gesture-recognition/train_videos/Country\\026_006_004.mp4\n",
      "newasl/sign-language-gesture-recognition/train_videos/Country\\026_006_005.mp4\n",
      "newasl/sign-language-gesture-recognition/train_videos/Country\\026_007_001.mp4\n",
      "newasl/sign-language-gesture-recognition/train_videos/Country\\026_007_002.mp4\n",
      "newasl/sign-language-gesture-recognition/train_videos/Country\\026_007_003.mp4\n",
      "newasl/sign-language-gesture-recognition/train_videos/Country\\026_007_004.mp4\n",
      "newasl/sign-language-gesture-recognition/train_videos/Country\\026_007_005.mp4\n",
      "newasl/sign-language-gesture-recognition/train_videos/Country\\026_008_001.mp4\n",
      "newasl/sign-language-gesture-recognition/train_videos/Country\\026_008_002.mp4\n",
      "newasl/sign-language-gesture-recognition/train_videos/Country\\026_008_003.mp4\n",
      "newasl/sign-language-gesture-recognition/train_videos/Country\\026_008_004.mp4\n",
      "newasl/sign-language-gesture-recognition/train_videos/Country\\026_008_005.mp4\n",
      "newasl/sign-language-gesture-recognition/train_videos/Country\\026_009_001.mp4\n",
      "newasl/sign-language-gesture-recognition/train_videos/Country\\026_009_002.mp4\n",
      "newasl/sign-language-gesture-recognition/train_videos/Country\\026_009_003.mp4\n",
      "newasl/sign-language-gesture-recognition/train_videos/Country\\026_009_004.mp4\n",
      "newasl/sign-language-gesture-recognition/train_videos/Country\\026_009_005.mp4\n",
      "newasl/sign-language-gesture-recognition/train_videos/Country\\026_010_001.mp4\n",
      "026_008_001.mp4\n",
      "newasl/sign-language-gesture-recognition/train_videos/Country\\026_010_002.mp4\n",
      "026_008_002.mp4\n",
      "newasl/sign-language-gesture-recognition/train_videos/Country\\026_010_003.mp4\n",
      "026_008_003.mp4\n",
      "newasl/sign-language-gesture-recognition/train_videos/Country\\026_010_004.mp4\n",
      "026_008_004.mp4\n",
      "newasl/sign-language-gesture-recognition/train_videos/Country\\026_010_005.mp4\n",
      "026_008_005.mp4\n",
      "newasl/sign-language-gesture-recognition/train_videos/Dance\\057_003_001.mp4\n",
      "newasl/sign-language-gesture-recognition/train_videos/Dance\\057_003_002.mp4\n",
      "newasl/sign-language-gesture-recognition/train_videos/Dance\\057_003_003.mp4\n",
      "newasl/sign-language-gesture-recognition/train_videos/Dance\\057_003_004.mp4\n",
      "newasl/sign-language-gesture-recognition/train_videos/Dance\\057_003_005.mp4\n",
      "newasl/sign-language-gesture-recognition/train_videos/Dance\\057_004_001.mp4\n",
      "newasl/sign-language-gesture-recognition/train_videos/Dance\\057_004_002.mp4\n",
      "newasl/sign-language-gesture-recognition/train_videos/Dance\\057_004_003.mp4\n",
      "newasl/sign-language-gesture-recognition/train_videos/Dance\\057_004_004.mp4\n",
      "newasl/sign-language-gesture-recognition/train_videos/Dance\\057_004_005.mp4\n",
      "newasl/sign-language-gesture-recognition/train_videos/Dance\\057_005_001.mp4\n",
      "newasl/sign-language-gesture-recognition/train_videos/Dance\\057_005_002.mp4\n",
      "newasl/sign-language-gesture-recognition/train_videos/Dance\\057_005_003.mp4\n",
      "newasl/sign-language-gesture-recognition/train_videos/Dance\\057_005_004.mp4\n",
      "newasl/sign-language-gesture-recognition/train_videos/Dance\\057_005_005.mp4\n",
      "newasl/sign-language-gesture-recognition/train_videos/Dance\\057_006_001.mp4\n",
      "newasl/sign-language-gesture-recognition/train_videos/Dance\\057_006_002.mp4\n",
      "newasl/sign-language-gesture-recognition/train_videos/Dance\\057_006_003.mp4\n",
      "newasl/sign-language-gesture-recognition/train_videos/Dance\\057_006_004.mp4\n",
      "newasl/sign-language-gesture-recognition/train_videos/Dance\\057_006_005.mp4\n",
      "newasl/sign-language-gesture-recognition/train_videos/Dance\\057_007_001.mp4\n",
      "newasl/sign-language-gesture-recognition/train_videos/Dance\\057_007_002.mp4\n",
      "newasl/sign-language-gesture-recognition/train_videos/Dance\\057_007_003.mp4\n",
      "newasl/sign-language-gesture-recognition/train_videos/Dance\\057_007_004.mp4\n",
      "newasl/sign-language-gesture-recognition/train_videos/Dance\\057_007_005.mp4\n",
      "newasl/sign-language-gesture-recognition/train_videos/Dance\\057_008_001.mp4\n",
      "newasl/sign-language-gesture-recognition/train_videos/Dance\\057_008_002.mp4\n",
      "newasl/sign-language-gesture-recognition/train_videos/Dance\\057_008_003.mp4\n",
      "newasl/sign-language-gesture-recognition/train_videos/Dance\\057_008_004.mp4\n",
      "newasl/sign-language-gesture-recognition/train_videos/Dance\\057_008_005.mp4\n",
      "newasl/sign-language-gesture-recognition/train_videos/Dance\\057_009_001.mp4\n",
      "newasl/sign-language-gesture-recognition/train_videos/Dance\\057_009_002.mp4\n",
      "newasl/sign-language-gesture-recognition/train_videos/Dance\\057_009_003.mp4\n",
      "newasl/sign-language-gesture-recognition/train_videos/Dance\\057_009_004.mp4\n",
      "newasl/sign-language-gesture-recognition/train_videos/Deaf\\042_003_001.mp4\n",
      "newasl/sign-language-gesture-recognition/train_videos/Deaf\\042_003_002.mp4\n",
      "newasl/sign-language-gesture-recognition/train_videos/Deaf\\042_003_003.mp4\n",
      "newasl/sign-language-gesture-recognition/train_videos/Deaf\\042_003_004.mp4\n",
      "newasl/sign-language-gesture-recognition/train_videos/Deaf\\042_003_005.mp4\n",
      "newasl/sign-language-gesture-recognition/train_videos/Deaf\\042_004_001.mp4\n",
      "newasl/sign-language-gesture-recognition/train_videos/Deaf\\042_004_002.mp4\n",
      "newasl/sign-language-gesture-recognition/train_videos/Deaf\\042_004_003.mp4\n",
      "newasl/sign-language-gesture-recognition/train_videos/Deaf\\042_004_004.mp4\n",
      "newasl/sign-language-gesture-recognition/train_videos/Deaf\\042_004_005.mp4\n",
      "newasl/sign-language-gesture-recognition/train_videos/Deaf\\042_005_001.mp4\n",
      "newasl/sign-language-gesture-recognition/train_videos/Deaf\\042_005_002.mp4\n",
      "newasl/sign-language-gesture-recognition/train_videos/Deaf\\042_005_003.mp4\n",
      "newasl/sign-language-gesture-recognition/train_videos/Deaf\\042_005_004.mp4\n",
      "newasl/sign-language-gesture-recognition/train_videos/Deaf\\042_005_005.mp4\n",
      "newasl/sign-language-gesture-recognition/train_videos/Deaf\\042_006_001.mp4\n",
      "newasl/sign-language-gesture-recognition/train_videos/Deaf\\042_006_002.mp4\n",
      "newasl/sign-language-gesture-recognition/train_videos/Deaf\\042_006_003.mp4\n",
      "newasl/sign-language-gesture-recognition/train_videos/Deaf\\042_006_004.mp4\n",
      "newasl/sign-language-gesture-recognition/train_videos/Deaf\\042_006_005.mp4\n",
      "newasl/sign-language-gesture-recognition/train_videos/Deaf\\042_007_001.mp4\n",
      "newasl/sign-language-gesture-recognition/train_videos/Deaf\\042_007_002.mp4\n",
      "newasl/sign-language-gesture-recognition/train_videos/Deaf\\042_007_003.mp4\n",
      "newasl/sign-language-gesture-recognition/train_videos/Deaf\\042_007_004.mp4\n",
      "newasl/sign-language-gesture-recognition/train_videos/Deaf\\042_007_005.mp4\n",
      "newasl/sign-language-gesture-recognition/train_videos/Deaf\\042_008_001.mp4\n",
      "newasl/sign-language-gesture-recognition/train_videos/Deaf\\042_008_002.mp4\n",
      "newasl/sign-language-gesture-recognition/train_videos/Deaf\\042_008_003.mp4\n",
      "newasl/sign-language-gesture-recognition/train_videos/Deaf\\042_008_004.mp4\n",
      "newasl/sign-language-gesture-recognition/train_videos/Deaf\\042_008_005.mp4\n",
      "newasl/sign-language-gesture-recognition/train_videos/Deaf\\042_009_001.mp4\n",
      "newasl/sign-language-gesture-recognition/train_videos/Deaf\\042_009_002.mp4\n",
      "newasl/sign-language-gesture-recognition/train_videos/Deaf\\042_009_003.mp4\n",
      "newasl/sign-language-gesture-recognition/train_videos/Deaf\\042_009_004.mp4\n",
      "newasl/sign-language-gesture-recognition/train_videos/Deaf\\042_009_005.mp4\n",
      "newasl/sign-language-gesture-recognition/train_videos/Deaf\\042_010_001.mp4\n",
      "042_008_001.mp4\n",
      "newasl/sign-language-gesture-recognition/train_videos/Deaf\\042_010_002.mp4\n",
      "042_008_002.mp4\n",
      "newasl/sign-language-gesture-recognition/train_videos/Deaf\\042_010_003.mp4\n",
      "042_008_003.mp4\n",
      "newasl/sign-language-gesture-recognition/train_videos/Deaf\\042_010_004.mp4\n",
      "042_008_004.mp4\n",
      "newasl/sign-language-gesture-recognition/train_videos/Deaf\\042_010_005.mp4\n",
      "042_008_005.mp4\n",
      "newasl/sign-language-gesture-recognition/train_videos/Drawer\\014_003_001.mp4\n",
      "newasl/sign-language-gesture-recognition/train_videos/Drawer\\014_003_002.mp4\n",
      "newasl/sign-language-gesture-recognition/train_videos/Drawer\\014_003_003.mp4\n",
      "newasl/sign-language-gesture-recognition/train_videos/Drawer\\014_003_004.mp4\n",
      "newasl/sign-language-gesture-recognition/train_videos/Drawer\\014_003_005.mp4\n",
      "newasl/sign-language-gesture-recognition/train_videos/Drawer\\014_004_001.mp4\n",
      "newasl/sign-language-gesture-recognition/train_videos/Drawer\\014_004_002.mp4\n",
      "newasl/sign-language-gesture-recognition/train_videos/Drawer\\014_004_003.mp4\n",
      "newasl/sign-language-gesture-recognition/train_videos/Drawer\\014_004_004.mp4\n",
      "newasl/sign-language-gesture-recognition/train_videos/Drawer\\014_004_005.mp4\n",
      "newasl/sign-language-gesture-recognition/train_videos/Drawer\\014_005_001.mp4\n",
      "newasl/sign-language-gesture-recognition/train_videos/Drawer\\014_005_002.mp4\n",
      "newasl/sign-language-gesture-recognition/train_videos/Drawer\\014_005_003.mp4\n",
      "newasl/sign-language-gesture-recognition/train_videos/Drawer\\014_005_004.mp4\n",
      "newasl/sign-language-gesture-recognition/train_videos/Drawer\\014_005_005.mp4\n",
      "newasl/sign-language-gesture-recognition/train_videos/Drawer\\014_006_001.mp4\n",
      "newasl/sign-language-gesture-recognition/train_videos/Drawer\\014_006_002.mp4\n",
      "newasl/sign-language-gesture-recognition/train_videos/Drawer\\014_006_003.mp4\n",
      "newasl/sign-language-gesture-recognition/train_videos/Drawer\\014_006_004.mp4\n",
      "newasl/sign-language-gesture-recognition/train_videos/Drawer\\014_006_005.mp4\n",
      "newasl/sign-language-gesture-recognition/train_videos/Drawer\\014_007_001.mp4\n",
      "newasl/sign-language-gesture-recognition/train_videos/Drawer\\014_007_002.mp4\n",
      "newasl/sign-language-gesture-recognition/train_videos/Drawer\\014_007_003.mp4\n",
      "newasl/sign-language-gesture-recognition/train_videos/Drawer\\014_007_004.mp4\n",
      "newasl/sign-language-gesture-recognition/train_videos/Drawer\\014_007_005.mp4\n",
      "newasl/sign-language-gesture-recognition/train_videos/Drawer\\014_008_001.mp4\n",
      "newasl/sign-language-gesture-recognition/train_videos/Drawer\\014_008_002.mp4\n",
      "newasl/sign-language-gesture-recognition/train_videos/Drawer\\014_008_003.mp4\n",
      "newasl/sign-language-gesture-recognition/train_videos/Drawer\\014_008_004.mp4\n",
      "newasl/sign-language-gesture-recognition/train_videos/Drawer\\014_008_005.mp4\n",
      "newasl/sign-language-gesture-recognition/train_videos/Drawer\\014_009_001.mp4\n",
      "newasl/sign-language-gesture-recognition/train_videos/Drawer\\014_009_002.mp4\n",
      "newasl/sign-language-gesture-recognition/train_videos/Drawer\\014_009_003.mp4\n",
      "newasl/sign-language-gesture-recognition/train_videos/Drawer\\014_009_004.mp4\n",
      "newasl/sign-language-gesture-recognition/train_videos/Drawer\\014_009_005.mp4\n",
      "newasl/sign-language-gesture-recognition/train_videos/Drawer\\014_010_001.mp4\n",
      "014_008_001.mp4\n",
      "newasl/sign-language-gesture-recognition/train_videos/Drawer\\014_010_002.mp4\n",
      "014_008_002.mp4\n",
      "newasl/sign-language-gesture-recognition/train_videos/Drawer\\014_010_003.mp4\n",
      "014_008_003.mp4\n",
      "newasl/sign-language-gesture-recognition/train_videos/Drawer\\014_010_004.mp4\n",
      "014_008_004.mp4\n",
      "newasl/sign-language-gesture-recognition/train_videos/Drawer\\014_010_005.mp4\n",
      "014_008_005.mp4\n",
      "newasl/sign-language-gesture-recognition/train_videos/Enemy\\010_003_001.mp4\n",
      "newasl/sign-language-gesture-recognition/train_videos/Enemy\\010_003_002.mp4\n",
      "newasl/sign-language-gesture-recognition/train_videos/Enemy\\010_003_003.mp4\n",
      "newasl/sign-language-gesture-recognition/train_videos/Enemy\\010_003_004.mp4\n",
      "newasl/sign-language-gesture-recognition/train_videos/Enemy\\010_003_005.mp4\n",
      "newasl/sign-language-gesture-recognition/train_videos/Enemy\\010_004_001.mp4\n",
      "newasl/sign-language-gesture-recognition/train_videos/Enemy\\010_004_002.mp4\n",
      "newasl/sign-language-gesture-recognition/train_videos/Enemy\\010_004_003.mp4\n",
      "newasl/sign-language-gesture-recognition/train_videos/Enemy\\010_004_004.mp4\n",
      "newasl/sign-language-gesture-recognition/train_videos/Enemy\\010_004_005.mp4\n",
      "newasl/sign-language-gesture-recognition/train_videos/Enemy\\010_005_001.mp4\n",
      "newasl/sign-language-gesture-recognition/train_videos/Enemy\\010_005_002.mp4\n",
      "newasl/sign-language-gesture-recognition/train_videos/Enemy\\010_005_003.mp4\n",
      "newasl/sign-language-gesture-recognition/train_videos/Enemy\\010_005_004.mp4\n",
      "newasl/sign-language-gesture-recognition/train_videos/Enemy\\010_005_005.mp4\n",
      "newasl/sign-language-gesture-recognition/train_videos/Enemy\\010_006_001.mp4\n",
      "newasl/sign-language-gesture-recognition/train_videos/Enemy\\010_006_002.mp4\n",
      "newasl/sign-language-gesture-recognition/train_videos/Enemy\\010_006_003.mp4\n",
      "newasl/sign-language-gesture-recognition/train_videos/Enemy\\010_006_004.mp4\n",
      "newasl/sign-language-gesture-recognition/train_videos/Enemy\\010_006_005.mp4\n",
      "newasl/sign-language-gesture-recognition/train_videos/Enemy\\010_007_001.mp4\n",
      "newasl/sign-language-gesture-recognition/train_videos/Enemy\\010_007_002.mp4\n",
      "newasl/sign-language-gesture-recognition/train_videos/Enemy\\010_007_003.mp4\n",
      "newasl/sign-language-gesture-recognition/train_videos/Enemy\\010_007_004.mp4\n",
      "newasl/sign-language-gesture-recognition/train_videos/Enemy\\010_007_005.mp4\n",
      "newasl/sign-language-gesture-recognition/train_videos/Enemy\\010_008_001.mp4\n",
      "newasl/sign-language-gesture-recognition/train_videos/Enemy\\010_008_002.mp4\n",
      "newasl/sign-language-gesture-recognition/train_videos/Enemy\\010_008_003.mp4\n",
      "newasl/sign-language-gesture-recognition/train_videos/Enemy\\010_008_004.mp4\n",
      "newasl/sign-language-gesture-recognition/train_videos/Enemy\\010_008_005.mp4\n",
      "newasl/sign-language-gesture-recognition/train_videos/Enemy\\010_009_001.mp4\n",
      "newasl/sign-language-gesture-recognition/train_videos/Enemy\\010_009_002.mp4\n",
      "newasl/sign-language-gesture-recognition/train_videos/Enemy\\010_009_003.mp4\n",
      "newasl/sign-language-gesture-recognition/train_videos/Enemy\\010_009_004.mp4\n",
      "newasl/sign-language-gesture-recognition/train_videos/Enemy\\010_009_005.mp4\n",
      "newasl/sign-language-gesture-recognition/train_videos/Enemy\\010_010_001.mp4\n",
      "010_008_001.mp4\n",
      "newasl/sign-language-gesture-recognition/train_videos/Enemy\\010_010_002.mp4\n",
      "010_008_002.mp4\n",
      "newasl/sign-language-gesture-recognition/train_videos/Enemy\\010_010_003.mp4\n",
      "010_008_003.mp4\n",
      "newasl/sign-language-gesture-recognition/train_videos/Enemy\\010_010_004.mp4\n",
      "010_008_004.mp4\n",
      "newasl/sign-language-gesture-recognition/train_videos/Enemy\\010_010_005.mp4\n",
      "010_008_005.mp4\n",
      "newasl/sign-language-gesture-recognition/train_videos/Find\\064_003_001.mp4\n",
      "newasl/sign-language-gesture-recognition/train_videos/Find\\064_003_002.mp4\n",
      "newasl/sign-language-gesture-recognition/train_videos/Find\\064_003_003.mp4\n",
      "newasl/sign-language-gesture-recognition/train_videos/Find\\064_003_004.mp4\n",
      "newasl/sign-language-gesture-recognition/train_videos/Find\\064_003_005.mp4\n",
      "newasl/sign-language-gesture-recognition/train_videos/Find\\064_004_001.mp4\n",
      "newasl/sign-language-gesture-recognition/train_videos/Find\\064_004_002.mp4\n",
      "newasl/sign-language-gesture-recognition/train_videos/Find\\064_004_003.mp4\n",
      "newasl/sign-language-gesture-recognition/train_videos/Find\\064_004_004.mp4\n",
      "newasl/sign-language-gesture-recognition/train_videos/Find\\064_004_005.mp4\n",
      "newasl/sign-language-gesture-recognition/train_videos/Find\\064_005_001.mp4\n",
      "newasl/sign-language-gesture-recognition/train_videos/Find\\064_005_002.mp4\n",
      "newasl/sign-language-gesture-recognition/train_videos/Find\\064_005_003.mp4\n",
      "newasl/sign-language-gesture-recognition/train_videos/Find\\064_005_004.mp4\n",
      "newasl/sign-language-gesture-recognition/train_videos/Find\\064_005_005.mp4\n",
      "newasl/sign-language-gesture-recognition/train_videos/Find\\064_006_001.mp4\n",
      "newasl/sign-language-gesture-recognition/train_videos/Find\\064_006_002.mp4\n",
      "newasl/sign-language-gesture-recognition/train_videos/Find\\064_006_003.mp4\n",
      "newasl/sign-language-gesture-recognition/train_videos/Find\\064_006_004.mp4\n",
      "newasl/sign-language-gesture-recognition/train_videos/Find\\064_006_005.mp4\n",
      "newasl/sign-language-gesture-recognition/train_videos/Find\\064_007_001.mp4\n",
      "newasl/sign-language-gesture-recognition/train_videos/Find\\064_007_002.mp4\n",
      "newasl/sign-language-gesture-recognition/train_videos/Find\\064_007_003.mp4\n",
      "newasl/sign-language-gesture-recognition/train_videos/Find\\064_007_004.mp4\n",
      "newasl/sign-language-gesture-recognition/train_videos/Find\\064_007_005.mp4\n",
      "newasl/sign-language-gesture-recognition/train_videos/Find\\064_008_001.mp4\n",
      "newasl/sign-language-gesture-recognition/train_videos/Find\\064_008_002.mp4\n",
      "newasl/sign-language-gesture-recognition/train_videos/Find\\064_008_003.mp4\n",
      "newasl/sign-language-gesture-recognition/train_videos/Find\\064_008_004.mp4\n",
      "newasl/sign-language-gesture-recognition/train_videos/Find\\064_008_005.mp4\n",
      "newasl/sign-language-gesture-recognition/train_videos/Find\\064_009_001.mp4\n",
      "newasl/sign-language-gesture-recognition/train_videos/Find\\064_009_002.mp4\n",
      "newasl/sign-language-gesture-recognition/train_videos/Find\\064_009_003.mp4\n",
      "newasl/sign-language-gesture-recognition/train_videos/Find\\064_009_004.mp4\n",
      "newasl/sign-language-gesture-recognition/train_videos/Find\\064_009_005.mp4\n",
      "newasl/sign-language-gesture-recognition/train_videos/Find\\064_010_001.mp4\n",
      "064_008_001.mp4\n",
      "newasl/sign-language-gesture-recognition/train_videos/Find\\064_010_002.mp4\n",
      "064_008_002.mp4\n",
      "newasl/sign-language-gesture-recognition/train_videos/Find\\064_010_003.mp4\n",
      "064_008_003.mp4\n",
      "newasl/sign-language-gesture-recognition/train_videos/Find\\064_010_004.mp4\n",
      "064_008_004.mp4\n",
      "newasl/sign-language-gesture-recognition/train_videos/Find\\064_010_005.mp4\n",
      "064_008_005.mp4\n",
      "newasl/sign-language-gesture-recognition/train_videos/Food\\023_003_001.mp4\n",
      "newasl/sign-language-gesture-recognition/train_videos/Food\\023_003_002.mp4\n",
      "newasl/sign-language-gesture-recognition/train_videos/Food\\023_003_003.mp4\n",
      "newasl/sign-language-gesture-recognition/train_videos/Food\\023_003_004.mp4\n",
      "newasl/sign-language-gesture-recognition/train_videos/Food\\023_003_005.mp4\n",
      "newasl/sign-language-gesture-recognition/train_videos/Food\\023_004_001.mp4\n",
      "newasl/sign-language-gesture-recognition/train_videos/Food\\023_004_002.mp4\n",
      "newasl/sign-language-gesture-recognition/train_videos/Food\\023_004_003.mp4\n",
      "newasl/sign-language-gesture-recognition/train_videos/Food\\023_004_004.mp4\n",
      "newasl/sign-language-gesture-recognition/train_videos/Food\\023_004_005.mp4\n",
      "newasl/sign-language-gesture-recognition/train_videos/Food\\023_005_001.mp4\n",
      "newasl/sign-language-gesture-recognition/train_videos/Food\\023_005_002.mp4\n",
      "newasl/sign-language-gesture-recognition/train_videos/Food\\023_005_003.mp4\n",
      "newasl/sign-language-gesture-recognition/train_videos/Food\\023_005_004.mp4\n",
      "newasl/sign-language-gesture-recognition/train_videos/Food\\023_005_005.mp4\n",
      "newasl/sign-language-gesture-recognition/train_videos/Food\\023_006_001.mp4\n",
      "newasl/sign-language-gesture-recognition/train_videos/Food\\023_006_002.mp4\n",
      "newasl/sign-language-gesture-recognition/train_videos/Food\\023_006_003.mp4\n",
      "newasl/sign-language-gesture-recognition/train_videos/Food\\023_006_004.mp4\n",
      "newasl/sign-language-gesture-recognition/train_videos/Food\\023_006_005.mp4\n",
      "newasl/sign-language-gesture-recognition/train_videos/Food\\023_007_001.mp4\n",
      "newasl/sign-language-gesture-recognition/train_videos/Food\\023_007_002.mp4\n",
      "newasl/sign-language-gesture-recognition/train_videos/Food\\023_007_003.mp4\n",
      "newasl/sign-language-gesture-recognition/train_videos/Food\\023_007_004.mp4\n",
      "newasl/sign-language-gesture-recognition/train_videos/Food\\023_007_005.mp4\n",
      "newasl/sign-language-gesture-recognition/train_videos/Food\\023_008_001.mp4\n",
      "newasl/sign-language-gesture-recognition/train_videos/Food\\023_008_002.mp4\n",
      "newasl/sign-language-gesture-recognition/train_videos/Food\\023_008_003.mp4\n",
      "newasl/sign-language-gesture-recognition/train_videos/Food\\023_008_004.mp4\n",
      "newasl/sign-language-gesture-recognition/train_videos/Food\\023_008_005.mp4\n",
      "newasl/sign-language-gesture-recognition/train_videos/Food\\023_009_001.mp4\n",
      "newasl/sign-language-gesture-recognition/train_videos/Food\\023_009_002.mp4\n",
      "newasl/sign-language-gesture-recognition/train_videos/Food\\023_009_003.mp4\n",
      "newasl/sign-language-gesture-recognition/train_videos/Food\\023_009_004.mp4\n",
      "newasl/sign-language-gesture-recognition/train_videos/Food\\023_009_005.mp4\n",
      "newasl/sign-language-gesture-recognition/train_videos/Food\\023_010_001.mp4\n",
      "023_008_001.mp4\n",
      "newasl/sign-language-gesture-recognition/train_videos/Food\\023_010_002.mp4\n",
      "023_008_002.mp4\n",
      "newasl/sign-language-gesture-recognition/train_videos/Food\\023_010_003.mp4\n",
      "023_008_003.mp4\n",
      "newasl/sign-language-gesture-recognition/train_videos/Food\\023_010_004.mp4\n",
      "023_008_004.mp4\n",
      "newasl/sign-language-gesture-recognition/train_videos/Food\\023_010_005.mp4\n",
      "023_008_005.mp4\n",
      "newasl/sign-language-gesture-recognition/train_videos/Give\\063_003_001.mp4\n",
      "newasl/sign-language-gesture-recognition/train_videos/Give\\063_003_002.mp4\n",
      "newasl/sign-language-gesture-recognition/train_videos/Give\\063_003_003.mp4\n",
      "newasl/sign-language-gesture-recognition/train_videos/Give\\063_003_004.mp4\n",
      "newasl/sign-language-gesture-recognition/train_videos/Give\\063_003_005.mp4\n",
      "newasl/sign-language-gesture-recognition/train_videos/Give\\063_004_001.mp4\n",
      "newasl/sign-language-gesture-recognition/train_videos/Give\\063_004_002.mp4\n",
      "newasl/sign-language-gesture-recognition/train_videos/Give\\063_004_003.mp4\n",
      "newasl/sign-language-gesture-recognition/train_videos/Give\\063_004_004.mp4\n",
      "newasl/sign-language-gesture-recognition/train_videos/Give\\063_004_005.mp4\n",
      "newasl/sign-language-gesture-recognition/train_videos/Give\\063_005_001.mp4\n",
      "newasl/sign-language-gesture-recognition/train_videos/Give\\063_005_002.mp4\n",
      "newasl/sign-language-gesture-recognition/train_videos/Give\\063_005_003.mp4\n",
      "newasl/sign-language-gesture-recognition/train_videos/Give\\063_005_004.mp4\n",
      "newasl/sign-language-gesture-recognition/train_videos/Give\\063_005_005.mp4\n",
      "newasl/sign-language-gesture-recognition/train_videos/Give\\063_006_001.mp4\n",
      "newasl/sign-language-gesture-recognition/train_videos/Give\\063_006_002.mp4\n",
      "newasl/sign-language-gesture-recognition/train_videos/Give\\063_006_003.mp4\n",
      "newasl/sign-language-gesture-recognition/train_videos/Give\\063_006_004.mp4\n",
      "newasl/sign-language-gesture-recognition/train_videos/Give\\063_006_005.mp4\n",
      "newasl/sign-language-gesture-recognition/train_videos/Give\\063_007_001.mp4\n",
      "newasl/sign-language-gesture-recognition/train_videos/Give\\063_007_002.mp4\n",
      "newasl/sign-language-gesture-recognition/train_videos/Give\\063_007_003.mp4\n",
      "newasl/sign-language-gesture-recognition/train_videos/Give\\063_007_004.mp4\n",
      "newasl/sign-language-gesture-recognition/train_videos/Give\\063_007_005.mp4\n",
      "newasl/sign-language-gesture-recognition/train_videos/Give\\063_008_001.mp4\n",
      "newasl/sign-language-gesture-recognition/train_videos/Give\\063_008_002.mp4\n",
      "newasl/sign-language-gesture-recognition/train_videos/Give\\063_008_003.mp4\n",
      "newasl/sign-language-gesture-recognition/train_videos/Give\\063_008_004.mp4\n",
      "newasl/sign-language-gesture-recognition/train_videos/Give\\063_008_005.mp4\n",
      "newasl/sign-language-gesture-recognition/train_videos/Give\\063_009_001.mp4\n",
      "newasl/sign-language-gesture-recognition/train_videos/Give\\063_009_002.mp4\n",
      "newasl/sign-language-gesture-recognition/train_videos/Give\\063_009_003.mp4\n",
      "newasl/sign-language-gesture-recognition/train_videos/Give\\063_009_004.mp4\n",
      "newasl/sign-language-gesture-recognition/train_videos/Give\\063_009_005.mp4\n",
      "newasl/sign-language-gesture-recognition/train_videos/Give\\063_010_001.mp4\n",
      "063_008_001.mp4\n",
      "newasl/sign-language-gesture-recognition/train_videos/Give\\063_010_002.mp4\n",
      "063_008_002.mp4\n",
      "newasl/sign-language-gesture-recognition/train_videos/Give\\063_010_003.mp4\n",
      "063_008_003.mp4\n",
      "newasl/sign-language-gesture-recognition/train_videos/Give\\063_010_004.mp4\n",
      "063_008_004.mp4\n",
      "newasl/sign-language-gesture-recognition/train_videos/Give\\063_010_005.mp4\n",
      "063_008_005.mp4\n",
      "newasl/sign-language-gesture-recognition/train_videos/Green\\003_003_001.mp4\n",
      "newasl/sign-language-gesture-recognition/train_videos/Green\\003_003_002.mp4\n",
      "newasl/sign-language-gesture-recognition/train_videos/Green\\003_003_003.mp4\n",
      "newasl/sign-language-gesture-recognition/train_videos/Green\\003_003_004.mp4\n",
      "newasl/sign-language-gesture-recognition/train_videos/Green\\003_003_005.mp4\n",
      "newasl/sign-language-gesture-recognition/train_videos/Green\\003_004_001.mp4\n",
      "newasl/sign-language-gesture-recognition/train_videos/Green\\003_004_002.mp4\n",
      "newasl/sign-language-gesture-recognition/train_videos/Green\\003_004_003.mp4\n",
      "newasl/sign-language-gesture-recognition/train_videos/Green\\003_004_004.mp4\n",
      "newasl/sign-language-gesture-recognition/train_videos/Green\\003_004_005.mp4\n",
      "newasl/sign-language-gesture-recognition/train_videos/Green\\003_005_001.mp4\n",
      "newasl/sign-language-gesture-recognition/train_videos/Green\\003_005_002.mp4\n",
      "newasl/sign-language-gesture-recognition/train_videos/Green\\003_005_003.mp4\n",
      "newasl/sign-language-gesture-recognition/train_videos/Green\\003_005_004.mp4\n",
      "newasl/sign-language-gesture-recognition/train_videos/Green\\003_005_005.mp4\n",
      "newasl/sign-language-gesture-recognition/train_videos/Green\\003_006_001.mp4\n",
      "newasl/sign-language-gesture-recognition/train_videos/Green\\003_006_002.mp4\n",
      "newasl/sign-language-gesture-recognition/train_videos/Green\\003_006_003.mp4\n",
      "newasl/sign-language-gesture-recognition/train_videos/Green\\003_006_004.mp4\n",
      "newasl/sign-language-gesture-recognition/train_videos/Green\\003_006_005.mp4\n",
      "newasl/sign-language-gesture-recognition/train_videos/Green\\003_007_001.mp4\n",
      "newasl/sign-language-gesture-recognition/train_videos/Green\\003_007_002.mp4\n",
      "newasl/sign-language-gesture-recognition/train_videos/Green\\003_007_003.mp4\n",
      "newasl/sign-language-gesture-recognition/train_videos/Green\\003_007_004.mp4\n",
      "newasl/sign-language-gesture-recognition/train_videos/Green\\003_007_005.mp4\n",
      "newasl/sign-language-gesture-recognition/train_videos/Green\\003_008_001.mp4\n",
      "newasl/sign-language-gesture-recognition/train_videos/Green\\003_008_002.mp4\n",
      "newasl/sign-language-gesture-recognition/train_videos/Green\\003_008_003.mp4\n",
      "newasl/sign-language-gesture-recognition/train_videos/Green\\003_008_004.mp4\n",
      "newasl/sign-language-gesture-recognition/train_videos/Green\\003_008_005.mp4\n",
      "newasl/sign-language-gesture-recognition/train_videos/Green\\003_009_001.mp4\n",
      "newasl/sign-language-gesture-recognition/train_videos/Green\\003_009_002.mp4\n",
      "newasl/sign-language-gesture-recognition/train_videos/Green\\003_009_003.mp4\n",
      "newasl/sign-language-gesture-recognition/train_videos/Green\\003_009_004.mp4\n",
      "newasl/sign-language-gesture-recognition/train_videos/Green\\003_009_005.mp4\n",
      "newasl/sign-language-gesture-recognition/train_videos/Green\\003_010_001.mp4\n",
      "003_008_001.mp4\n",
      "newasl/sign-language-gesture-recognition/train_videos/Green\\003_010_002.mp4\n",
      "003_008_002.mp4\n",
      "newasl/sign-language-gesture-recognition/train_videos/Green\\003_010_003.mp4\n",
      "003_008_003.mp4\n",
      "newasl/sign-language-gesture-recognition/train_videos/Green\\003_010_004.mp4\n",
      "003_008_004.mp4\n",
      "newasl/sign-language-gesture-recognition/train_videos/Green\\003_010_005.mp4\n",
      "003_008_005.mp4\n",
      "newasl/sign-language-gesture-recognition/train_videos/Help\\056_003_001.mp4\n",
      "newasl/sign-language-gesture-recognition/train_videos/Help\\056_003_002.mp4\n",
      "newasl/sign-language-gesture-recognition/train_videos/Help\\056_003_003.mp4\n",
      "newasl/sign-language-gesture-recognition/train_videos/Help\\056_003_004.mp4\n",
      "newasl/sign-language-gesture-recognition/train_videos/Help\\056_003_005.mp4\n",
      "newasl/sign-language-gesture-recognition/train_videos/Help\\056_004_001.mp4\n",
      "newasl/sign-language-gesture-recognition/train_videos/Help\\056_004_002.mp4\n",
      "newasl/sign-language-gesture-recognition/train_videos/Help\\056_004_003.mp4\n",
      "newasl/sign-language-gesture-recognition/train_videos/Help\\056_004_004.mp4\n",
      "newasl/sign-language-gesture-recognition/train_videos/Help\\056_004_005.mp4\n",
      "newasl/sign-language-gesture-recognition/train_videos/Help\\056_005_001.mp4\n",
      "newasl/sign-language-gesture-recognition/train_videos/Help\\056_005_002.mp4\n",
      "newasl/sign-language-gesture-recognition/train_videos/Help\\056_005_003.mp4\n",
      "newasl/sign-language-gesture-recognition/train_videos/Help\\056_005_004.mp4\n",
      "newasl/sign-language-gesture-recognition/train_videos/Help\\056_005_005.mp4\n",
      "newasl/sign-language-gesture-recognition/train_videos/Help\\056_006_001.mp4\n",
      "newasl/sign-language-gesture-recognition/train_videos/Help\\056_006_002.mp4\n",
      "newasl/sign-language-gesture-recognition/train_videos/Help\\056_006_003.mp4\n",
      "newasl/sign-language-gesture-recognition/train_videos/Help\\056_006_004.mp4\n",
      "newasl/sign-language-gesture-recognition/train_videos/Help\\056_006_005.mp4\n",
      "newasl/sign-language-gesture-recognition/train_videos/Help\\056_007_001.mp4\n",
      "newasl/sign-language-gesture-recognition/train_videos/Help\\056_007_002.mp4\n",
      "newasl/sign-language-gesture-recognition/train_videos/Help\\056_007_003.mp4\n",
      "newasl/sign-language-gesture-recognition/train_videos/Help\\056_007_004.mp4\n",
      "newasl/sign-language-gesture-recognition/train_videos/Help\\056_007_005.mp4\n",
      "newasl/sign-language-gesture-recognition/train_videos/Help\\056_008_001.mp4\n",
      "newasl/sign-language-gesture-recognition/train_videos/Help\\056_008_002.mp4\n",
      "newasl/sign-language-gesture-recognition/train_videos/Help\\056_008_003.mp4\n",
      "newasl/sign-language-gesture-recognition/train_videos/Help\\056_008_004.mp4\n",
      "newasl/sign-language-gesture-recognition/train_videos/Help\\056_008_005.mp4\n",
      "newasl/sign-language-gesture-recognition/train_videos/Help\\056_009_001.mp4\n",
      "newasl/sign-language-gesture-recognition/train_videos/Help\\056_009_002.mp4\n",
      "newasl/sign-language-gesture-recognition/train_videos/Help\\056_009_003.mp4\n",
      "newasl/sign-language-gesture-recognition/train_videos/Help\\056_009_004.mp4\n",
      "newasl/sign-language-gesture-recognition/train_videos/Help\\056_009_005.mp4\n",
      "newasl/sign-language-gesture-recognition/train_videos/Help\\056_010_001.mp4\n",
      "056_008_001.mp4\n",
      "newasl/sign-language-gesture-recognition/train_videos/Help\\056_010_002.mp4\n",
      "056_008_002.mp4\n",
      "newasl/sign-language-gesture-recognition/train_videos/Help\\056_010_003.mp4\n",
      "056_008_003.mp4\n",
      "newasl/sign-language-gesture-recognition/train_videos/Help\\056_010_004.mp4\n",
      "056_008_004.mp4\n",
      "newasl/sign-language-gesture-recognition/train_videos/Help\\056_010_005.mp4\n",
      "056_008_005.mp4\n",
      "newasl/sign-language-gesture-recognition/train_videos/Hungry\\033_003_001.mp4\n",
      "newasl/sign-language-gesture-recognition/train_videos/Hungry\\033_003_002.mp4\n",
      "newasl/sign-language-gesture-recognition/train_videos/Hungry\\033_003_003.mp4\n",
      "newasl/sign-language-gesture-recognition/train_videos/Hungry\\033_003_004.mp4\n",
      "newasl/sign-language-gesture-recognition/train_videos/Hungry\\033_003_005.mp4\n",
      "newasl/sign-language-gesture-recognition/train_videos/Hungry\\033_004_001.mp4\n",
      "newasl/sign-language-gesture-recognition/train_videos/Hungry\\033_004_002.mp4\n",
      "newasl/sign-language-gesture-recognition/train_videos/Hungry\\033_004_003.mp4\n",
      "newasl/sign-language-gesture-recognition/train_videos/Hungry\\033_004_004.mp4\n",
      "newasl/sign-language-gesture-recognition/train_videos/Hungry\\033_004_005.mp4\n",
      "newasl/sign-language-gesture-recognition/train_videos/Hungry\\033_005_001.mp4\n",
      "newasl/sign-language-gesture-recognition/train_videos/Hungry\\033_005_002.mp4\n",
      "newasl/sign-language-gesture-recognition/train_videos/Hungry\\033_005_003.mp4\n",
      "newasl/sign-language-gesture-recognition/train_videos/Hungry\\033_005_004.mp4\n",
      "newasl/sign-language-gesture-recognition/train_videos/Hungry\\033_005_005.mp4\n",
      "newasl/sign-language-gesture-recognition/train_videos/Hungry\\033_006_001.mp4\n",
      "newasl/sign-language-gesture-recognition/train_videos/Hungry\\033_006_002.mp4\n",
      "newasl/sign-language-gesture-recognition/train_videos/Hungry\\033_006_003.mp4\n",
      "newasl/sign-language-gesture-recognition/train_videos/Hungry\\033_006_004.mp4\n",
      "newasl/sign-language-gesture-recognition/train_videos/Hungry\\033_006_005.mp4\n",
      "newasl/sign-language-gesture-recognition/train_videos/Hungry\\033_007_001.mp4\n",
      "newasl/sign-language-gesture-recognition/train_videos/Hungry\\033_007_002.mp4\n",
      "newasl/sign-language-gesture-recognition/train_videos/Hungry\\033_007_003.mp4\n",
      "newasl/sign-language-gesture-recognition/train_videos/Hungry\\033_007_004.mp4\n",
      "newasl/sign-language-gesture-recognition/train_videos/Hungry\\033_007_005.mp4\n",
      "newasl/sign-language-gesture-recognition/train_videos/Hungry\\033_008_001.mp4\n",
      "newasl/sign-language-gesture-recognition/train_videos/Hungry\\033_008_002.mp4\n",
      "newasl/sign-language-gesture-recognition/train_videos/Hungry\\033_008_003.mp4\n",
      "newasl/sign-language-gesture-recognition/train_videos/Hungry\\033_008_004.mp4\n",
      "newasl/sign-language-gesture-recognition/train_videos/Hungry\\033_008_005.mp4\n",
      "newasl/sign-language-gesture-recognition/train_videos/Hungry\\033_009_001.mp4\n",
      "newasl/sign-language-gesture-recognition/train_videos/Hungry\\033_009_002.mp4\n",
      "newasl/sign-language-gesture-recognition/train_videos/Hungry\\033_009_003.mp4\n",
      "newasl/sign-language-gesture-recognition/train_videos/Hungry\\033_009_004.mp4\n",
      "newasl/sign-language-gesture-recognition/train_videos/Hungry\\033_009_005.mp4\n",
      "newasl/sign-language-gesture-recognition/train_videos/Hungry\\033_010_001.mp4\n",
      "033_008_001.mp4\n",
      "newasl/sign-language-gesture-recognition/train_videos/Hungry\\033_010_002.mp4\n",
      "033_008_002.mp4\n",
      "newasl/sign-language-gesture-recognition/train_videos/Hungry\\033_010_003.mp4\n",
      "033_008_003.mp4\n",
      "newasl/sign-language-gesture-recognition/train_videos/Hungry\\033_010_004.mp4\n",
      "033_008_004.mp4\n",
      "newasl/sign-language-gesture-recognition/train_videos/Hungry\\033_010_005.mp4\n",
      "033_008_005.mp4\n",
      "newasl/sign-language-gesture-recognition/train_videos/Last name\\027_003_001.mp4\n",
      "newasl/sign-language-gesture-recognition/train_videos/Last name\\027_003_002.mp4\n",
      "newasl/sign-language-gesture-recognition/train_videos/Last name\\027_003_003.mp4\n",
      "newasl/sign-language-gesture-recognition/train_videos/Last name\\027_003_004.mp4\n",
      "newasl/sign-language-gesture-recognition/train_videos/Last name\\027_003_005.mp4\n",
      "newasl/sign-language-gesture-recognition/train_videos/Last name\\027_004_001.mp4\n",
      "newasl/sign-language-gesture-recognition/train_videos/Last name\\027_004_002.mp4\n",
      "newasl/sign-language-gesture-recognition/train_videos/Last name\\027_004_003.mp4\n",
      "newasl/sign-language-gesture-recognition/train_videos/Last name\\027_004_004.mp4\n",
      "newasl/sign-language-gesture-recognition/train_videos/Last name\\027_004_005.mp4\n",
      "newasl/sign-language-gesture-recognition/train_videos/Last name\\027_005_001.mp4\n",
      "newasl/sign-language-gesture-recognition/train_videos/Last name\\027_005_002.mp4\n",
      "newasl/sign-language-gesture-recognition/train_videos/Last name\\027_005_003.mp4\n",
      "newasl/sign-language-gesture-recognition/train_videos/Last name\\027_005_004.mp4\n",
      "newasl/sign-language-gesture-recognition/train_videos/Last name\\027_005_005.mp4\n",
      "newasl/sign-language-gesture-recognition/train_videos/Last name\\027_006_001.mp4\n",
      "newasl/sign-language-gesture-recognition/train_videos/Last name\\027_006_002.mp4\n",
      "newasl/sign-language-gesture-recognition/train_videos/Last name\\027_006_003.mp4\n",
      "newasl/sign-language-gesture-recognition/train_videos/Last name\\027_006_004.mp4\n",
      "newasl/sign-language-gesture-recognition/train_videos/Last name\\027_006_005.mp4\n",
      "newasl/sign-language-gesture-recognition/train_videos/Last name\\027_007_001.mp4\n",
      "newasl/sign-language-gesture-recognition/train_videos/Last name\\027_007_002.mp4\n",
      "newasl/sign-language-gesture-recognition/train_videos/Last name\\027_007_003.mp4\n",
      "newasl/sign-language-gesture-recognition/train_videos/Last name\\027_007_004.mp4\n",
      "newasl/sign-language-gesture-recognition/train_videos/Last name\\027_007_005.mp4\n",
      "newasl/sign-language-gesture-recognition/train_videos/Last name\\027_008_001.mp4\n",
      "newasl/sign-language-gesture-recognition/train_videos/Last name\\027_008_002.mp4\n",
      "newasl/sign-language-gesture-recognition/train_videos/Last name\\027_008_003.mp4\n",
      "newasl/sign-language-gesture-recognition/train_videos/Last name\\027_008_004.mp4\n",
      "newasl/sign-language-gesture-recognition/train_videos/Last name\\027_008_005.mp4\n",
      "newasl/sign-language-gesture-recognition/train_videos/Last name\\027_009_001.mp4\n",
      "newasl/sign-language-gesture-recognition/train_videos/Last name\\027_009_002.mp4\n",
      "newasl/sign-language-gesture-recognition/train_videos/Last name\\027_009_003.mp4\n",
      "newasl/sign-language-gesture-recognition/train_videos/Last name\\027_009_004.mp4\n",
      "newasl/sign-language-gesture-recognition/train_videos/Last name\\027_009_005.mp4\n",
      "newasl/sign-language-gesture-recognition/train_videos/Last name\\027_010_001.mp4\n",
      "027_008_001.mp4\n",
      "newasl/sign-language-gesture-recognition/train_videos/Last name\\027_010_002.mp4\n",
      "027_008_002.mp4\n",
      "newasl/sign-language-gesture-recognition/train_videos/Last name\\027_010_003.mp4\n",
      "027_008_003.mp4\n",
      "newasl/sign-language-gesture-recognition/train_videos/Last name\\027_010_004.mp4\n",
      "027_008_004.mp4\n",
      "newasl/sign-language-gesture-recognition/train_videos/Last name\\027_010_005.mp4\n",
      "027_008_005.mp4\n",
      "newasl/sign-language-gesture-recognition/train_videos/Learn\\016_003_001.mp4\n",
      "newasl/sign-language-gesture-recognition/train_videos/Learn\\016_003_002.mp4\n",
      "newasl/sign-language-gesture-recognition/train_videos/Learn\\016_003_003.mp4\n",
      "newasl/sign-language-gesture-recognition/train_videos/Learn\\016_003_004.mp4\n",
      "newasl/sign-language-gesture-recognition/train_videos/Learn\\016_003_005.mp4\n",
      "newasl/sign-language-gesture-recognition/train_videos/Learn\\016_004_001.mp4\n",
      "newasl/sign-language-gesture-recognition/train_videos/Learn\\016_004_002.mp4\n",
      "newasl/sign-language-gesture-recognition/train_videos/Learn\\016_004_003.mp4\n",
      "newasl/sign-language-gesture-recognition/train_videos/Learn\\016_004_004.mp4\n",
      "newasl/sign-language-gesture-recognition/train_videos/Learn\\016_004_005.mp4\n",
      "newasl/sign-language-gesture-recognition/train_videos/Learn\\016_005_001.mp4\n",
      "newasl/sign-language-gesture-recognition/train_videos/Learn\\016_005_002.mp4\n",
      "newasl/sign-language-gesture-recognition/train_videos/Learn\\016_005_003.mp4\n",
      "newasl/sign-language-gesture-recognition/train_videos/Learn\\016_005_004.mp4\n",
      "newasl/sign-language-gesture-recognition/train_videos/Learn\\016_005_005.mp4\n",
      "newasl/sign-language-gesture-recognition/train_videos/Learn\\016_006_001.mp4\n",
      "newasl/sign-language-gesture-recognition/train_videos/Learn\\016_006_002.mp4\n",
      "newasl/sign-language-gesture-recognition/train_videos/Learn\\016_006_003.mp4\n",
      "newasl/sign-language-gesture-recognition/train_videos/Learn\\016_006_004.mp4\n",
      "newasl/sign-language-gesture-recognition/train_videos/Learn\\016_006_005.mp4\n",
      "newasl/sign-language-gesture-recognition/train_videos/Learn\\016_007_001.mp4\n",
      "newasl/sign-language-gesture-recognition/train_videos/Learn\\016_007_002.mp4\n",
      "newasl/sign-language-gesture-recognition/train_videos/Learn\\016_007_003.mp4\n",
      "newasl/sign-language-gesture-recognition/train_videos/Learn\\016_007_004.mp4\n",
      "newasl/sign-language-gesture-recognition/train_videos/Learn\\016_007_005.mp4\n",
      "newasl/sign-language-gesture-recognition/train_videos/Learn\\016_008_001.mp4\n",
      "newasl/sign-language-gesture-recognition/train_videos/Learn\\016_008_002.mp4\n",
      "newasl/sign-language-gesture-recognition/train_videos/Learn\\016_008_003.mp4\n",
      "newasl/sign-language-gesture-recognition/train_videos/Learn\\016_008_004.mp4\n",
      "newasl/sign-language-gesture-recognition/train_videos/Learn\\016_008_005.mp4\n",
      "newasl/sign-language-gesture-recognition/train_videos/Learn\\016_009_001.mp4\n",
      "newasl/sign-language-gesture-recognition/train_videos/Learn\\016_009_002.mp4\n",
      "newasl/sign-language-gesture-recognition/train_videos/Learn\\016_009_003.mp4\n",
      "newasl/sign-language-gesture-recognition/train_videos/Learn\\016_009_004.mp4\n",
      "newasl/sign-language-gesture-recognition/train_videos/Learn\\016_009_005.mp4\n",
      "newasl/sign-language-gesture-recognition/train_videos/Learn\\016_010_001.mp4\n",
      "016_008_001.mp4\n",
      "newasl/sign-language-gesture-recognition/train_videos/Learn\\016_010_002.mp4\n",
      "016_008_002.mp4\n",
      "newasl/sign-language-gesture-recognition/train_videos/Learn\\016_010_003.mp4\n",
      "016_008_003.mp4\n",
      "newasl/sign-language-gesture-recognition/train_videos/Learn\\016_010_004.mp4\n",
      "016_008_004.mp4\n",
      "newasl/sign-language-gesture-recognition/train_videos/Learn\\016_010_005.mp4\n",
      "016_008_005.mp4\n",
      "newasl/sign-language-gesture-recognition/train_videos/Light-blue\\006_003_001.mp4\n",
      "newasl/sign-language-gesture-recognition/train_videos/Light-blue\\006_003_002.mp4\n",
      "newasl/sign-language-gesture-recognition/train_videos/Light-blue\\006_003_003.mp4\n",
      "newasl/sign-language-gesture-recognition/train_videos/Light-blue\\006_003_004.mp4\n",
      "newasl/sign-language-gesture-recognition/train_videos/Light-blue\\006_003_005.mp4\n",
      "newasl/sign-language-gesture-recognition/train_videos/Light-blue\\006_004_001.mp4\n",
      "newasl/sign-language-gesture-recognition/train_videos/Light-blue\\006_004_002.mp4\n",
      "newasl/sign-language-gesture-recognition/train_videos/Light-blue\\006_004_003.mp4\n",
      "newasl/sign-language-gesture-recognition/train_videos/Light-blue\\006_004_004.mp4\n",
      "newasl/sign-language-gesture-recognition/train_videos/Light-blue\\006_004_005.mp4\n",
      "newasl/sign-language-gesture-recognition/train_videos/Light-blue\\006_005_001.mp4\n",
      "newasl/sign-language-gesture-recognition/train_videos/Light-blue\\006_005_002.mp4\n",
      "newasl/sign-language-gesture-recognition/train_videos/Light-blue\\006_005_003.mp4\n",
      "newasl/sign-language-gesture-recognition/train_videos/Light-blue\\006_005_004.mp4\n",
      "newasl/sign-language-gesture-recognition/train_videos/Light-blue\\006_005_005.mp4\n",
      "newasl/sign-language-gesture-recognition/train_videos/Light-blue\\006_006_001.mp4\n",
      "newasl/sign-language-gesture-recognition/train_videos/Light-blue\\006_006_002.mp4\n",
      "newasl/sign-language-gesture-recognition/train_videos/Light-blue\\006_006_003.mp4\n",
      "newasl/sign-language-gesture-recognition/train_videos/Light-blue\\006_006_004.mp4\n",
      "newasl/sign-language-gesture-recognition/train_videos/Light-blue\\006_006_005.mp4\n",
      "newasl/sign-language-gesture-recognition/train_videos/Light-blue\\006_007_001.mp4\n",
      "newasl/sign-language-gesture-recognition/train_videos/Light-blue\\006_007_002.mp4\n",
      "newasl/sign-language-gesture-recognition/train_videos/Light-blue\\006_007_003.mp4\n",
      "newasl/sign-language-gesture-recognition/train_videos/Light-blue\\006_007_004.mp4\n",
      "newasl/sign-language-gesture-recognition/train_videos/Light-blue\\006_007_005.mp4\n",
      "newasl/sign-language-gesture-recognition/train_videos/Light-blue\\006_008_001.mp4\n",
      "newasl/sign-language-gesture-recognition/train_videos/Light-blue\\006_008_002.mp4\n",
      "newasl/sign-language-gesture-recognition/train_videos/Light-blue\\006_008_003.mp4\n",
      "newasl/sign-language-gesture-recognition/train_videos/Light-blue\\006_008_004.mp4\n",
      "newasl/sign-language-gesture-recognition/train_videos/Light-blue\\006_008_005.mp4\n",
      "newasl/sign-language-gesture-recognition/train_videos/Light-blue\\006_009_001.mp4\n",
      "newasl/sign-language-gesture-recognition/train_videos/Light-blue\\006_009_002.mp4\n",
      "newasl/sign-language-gesture-recognition/train_videos/Light-blue\\006_009_003.mp4\n",
      "newasl/sign-language-gesture-recognition/train_videos/Light-blue\\006_009_004.mp4\n",
      "newasl/sign-language-gesture-recognition/train_videos/Light-blue\\006_009_005.mp4\n",
      "newasl/sign-language-gesture-recognition/train_videos/Light-blue\\006_010_001.mp4\n",
      "006_008_001.mp4\n",
      "newasl/sign-language-gesture-recognition/train_videos/Light-blue\\006_010_002.mp4\n",
      "006_008_002.mp4\n",
      "newasl/sign-language-gesture-recognition/train_videos/Light-blue\\006_010_003.mp4\n",
      "006_008_003.mp4\n",
      "newasl/sign-language-gesture-recognition/train_videos/Light-blue\\006_010_004.mp4\n",
      "006_008_004.mp4\n",
      "newasl/sign-language-gesture-recognition/train_videos/Light-blue\\006_010_005.mp4\n",
      "006_008_005.mp4\n",
      "newasl/sign-language-gesture-recognition/train_videos/Man\\012_003_001.mp4\n",
      "newasl/sign-language-gesture-recognition/train_videos/Man\\012_003_002.mp4\n",
      "newasl/sign-language-gesture-recognition/train_videos/Man\\012_003_003.mp4\n",
      "newasl/sign-language-gesture-recognition/train_videos/Man\\012_003_004.mp4\n",
      "newasl/sign-language-gesture-recognition/train_videos/Man\\012_003_005.mp4\n",
      "newasl/sign-language-gesture-recognition/train_videos/Man\\012_004_001.mp4\n",
      "newasl/sign-language-gesture-recognition/train_videos/Man\\012_004_002.mp4\n",
      "newasl/sign-language-gesture-recognition/train_videos/Man\\012_004_003.mp4\n",
      "newasl/sign-language-gesture-recognition/train_videos/Man\\012_004_004.mp4\n",
      "newasl/sign-language-gesture-recognition/train_videos/Man\\012_004_005.mp4\n",
      "newasl/sign-language-gesture-recognition/train_videos/Man\\012_005_001.mp4\n",
      "newasl/sign-language-gesture-recognition/train_videos/Man\\012_005_002.mp4\n",
      "newasl/sign-language-gesture-recognition/train_videos/Man\\012_005_003.mp4\n",
      "newasl/sign-language-gesture-recognition/train_videos/Man\\012_005_004.mp4\n",
      "newasl/sign-language-gesture-recognition/train_videos/Man\\012_005_005.mp4\n",
      "newasl/sign-language-gesture-recognition/train_videos/Man\\012_006_001.mp4\n",
      "newasl/sign-language-gesture-recognition/train_videos/Man\\012_006_002.mp4\n",
      "newasl/sign-language-gesture-recognition/train_videos/Man\\012_006_003.mp4\n",
      "newasl/sign-language-gesture-recognition/train_videos/Man\\012_006_004.mp4\n",
      "newasl/sign-language-gesture-recognition/train_videos/Man\\012_006_005.mp4\n",
      "newasl/sign-language-gesture-recognition/train_videos/Man\\012_007_001.mp4\n",
      "newasl/sign-language-gesture-recognition/train_videos/Man\\012_007_002.mp4\n",
      "newasl/sign-language-gesture-recognition/train_videos/Man\\012_007_003.mp4\n",
      "newasl/sign-language-gesture-recognition/train_videos/Man\\012_007_004.mp4\n",
      "newasl/sign-language-gesture-recognition/train_videos/Man\\012_007_005.mp4\n",
      "newasl/sign-language-gesture-recognition/train_videos/Man\\012_008_001.mp4\n",
      "newasl/sign-language-gesture-recognition/train_videos/Man\\012_008_002.mp4\n",
      "newasl/sign-language-gesture-recognition/train_videos/Man\\012_008_003.mp4\n",
      "newasl/sign-language-gesture-recognition/train_videos/Man\\012_008_004.mp4\n",
      "newasl/sign-language-gesture-recognition/train_videos/Man\\012_008_005.mp4\n",
      "newasl/sign-language-gesture-recognition/train_videos/Man\\012_009_001.mp4\n",
      "newasl/sign-language-gesture-recognition/train_videos/Man\\012_009_002.mp4\n",
      "newasl/sign-language-gesture-recognition/train_videos/Man\\012_009_003.mp4\n",
      "newasl/sign-language-gesture-recognition/train_videos/Man\\012_009_004.mp4\n",
      "newasl/sign-language-gesture-recognition/train_videos/Man\\012_009_005.mp4\n",
      "newasl/sign-language-gesture-recognition/train_videos/Man\\012_010_001.mp4\n",
      "012_008_001.mp4\n",
      "newasl/sign-language-gesture-recognition/train_videos/Man\\012_010_002.mp4\n",
      "012_008_002.mp4\n",
      "newasl/sign-language-gesture-recognition/train_videos/Man\\012_010_003.mp4\n",
      "012_008_003.mp4\n",
      "newasl/sign-language-gesture-recognition/train_videos/Man\\012_010_004.mp4\n",
      "012_008_004.mp4\n",
      "newasl/sign-language-gesture-recognition/train_videos/Man\\012_010_005.mp4\n",
      "012_008_005.mp4\n",
      "newasl/sign-language-gesture-recognition/train_videos/Map\\034_003_001.mp4\n",
      "newasl/sign-language-gesture-recognition/train_videos/Map\\034_003_002.mp4\n",
      "newasl/sign-language-gesture-recognition/train_videos/Map\\034_003_003.mp4\n",
      "newasl/sign-language-gesture-recognition/train_videos/Map\\034_003_004.mp4\n",
      "newasl/sign-language-gesture-recognition/train_videos/Map\\034_003_005.mp4\n",
      "newasl/sign-language-gesture-recognition/train_videos/Map\\034_004_001.mp4\n",
      "newasl/sign-language-gesture-recognition/train_videos/Map\\034_004_002.mp4\n",
      "newasl/sign-language-gesture-recognition/train_videos/Map\\034_004_003.mp4\n",
      "newasl/sign-language-gesture-recognition/train_videos/Map\\034_004_004.mp4\n",
      "newasl/sign-language-gesture-recognition/train_videos/Map\\034_004_005.mp4\n",
      "newasl/sign-language-gesture-recognition/train_videos/Map\\034_005_001.mp4\n",
      "newasl/sign-language-gesture-recognition/train_videos/Map\\034_005_002.mp4\n",
      "newasl/sign-language-gesture-recognition/train_videos/Map\\034_005_003.mp4\n",
      "newasl/sign-language-gesture-recognition/train_videos/Map\\034_005_004.mp4\n",
      "newasl/sign-language-gesture-recognition/train_videos/Map\\034_005_005.mp4\n",
      "newasl/sign-language-gesture-recognition/train_videos/Map\\034_006_001.mp4\n",
      "newasl/sign-language-gesture-recognition/train_videos/Map\\034_006_002.mp4\n",
      "newasl/sign-language-gesture-recognition/train_videos/Map\\034_006_003.mp4\n",
      "newasl/sign-language-gesture-recognition/train_videos/Map\\034_006_004.mp4\n",
      "newasl/sign-language-gesture-recognition/train_videos/Map\\034_006_005.mp4\n",
      "newasl/sign-language-gesture-recognition/train_videos/Map\\034_007_001.mp4\n",
      "newasl/sign-language-gesture-recognition/train_videos/Map\\034_007_002.mp4\n",
      "newasl/sign-language-gesture-recognition/train_videos/Map\\034_007_003.mp4\n",
      "newasl/sign-language-gesture-recognition/train_videos/Map\\034_007_004.mp4\n",
      "newasl/sign-language-gesture-recognition/train_videos/Map\\034_007_005.mp4\n",
      "newasl/sign-language-gesture-recognition/train_videos/Map\\034_008_001.mp4\n",
      "newasl/sign-language-gesture-recognition/train_videos/Map\\034_008_002.mp4\n",
      "newasl/sign-language-gesture-recognition/train_videos/Map\\034_008_003.mp4\n",
      "newasl/sign-language-gesture-recognition/train_videos/Map\\034_008_004.mp4\n",
      "newasl/sign-language-gesture-recognition/train_videos/Map\\034_008_005.mp4\n",
      "newasl/sign-language-gesture-recognition/train_videos/Map\\034_009_001.mp4\n",
      "newasl/sign-language-gesture-recognition/train_videos/Map\\034_009_002.mp4\n",
      "newasl/sign-language-gesture-recognition/train_videos/Map\\034_009_003.mp4\n",
      "newasl/sign-language-gesture-recognition/train_videos/Map\\034_009_004.mp4\n",
      "newasl/sign-language-gesture-recognition/train_videos/Map\\034_009_005.mp4\n",
      "newasl/sign-language-gesture-recognition/train_videos/Map\\034_010_001.mp4\n",
      "034_008_001.mp4\n",
      "newasl/sign-language-gesture-recognition/train_videos/Map\\034_010_002.mp4\n",
      "034_008_002.mp4\n",
      "newasl/sign-language-gesture-recognition/train_videos/Map\\034_010_003.mp4\n",
      "034_008_003.mp4\n",
      "newasl/sign-language-gesture-recognition/train_videos/Map\\034_010_004.mp4\n",
      "034_008_004.mp4\n",
      "newasl/sign-language-gesture-recognition/train_videos/Map\\034_010_005.mp4\n",
      "034_008_005.mp4\n",
      "newasl/sign-language-gesture-recognition/train_videos/Milk\\021_003_001.mp4\n",
      "newasl/sign-language-gesture-recognition/train_videos/Milk\\021_003_002.mp4\n",
      "newasl/sign-language-gesture-recognition/train_videos/Milk\\021_003_003.mp4\n",
      "newasl/sign-language-gesture-recognition/train_videos/Milk\\021_003_004.mp4\n",
      "newasl/sign-language-gesture-recognition/train_videos/Milk\\021_003_005.mp4\n",
      "newasl/sign-language-gesture-recognition/train_videos/Milk\\021_004_001.mp4\n",
      "newasl/sign-language-gesture-recognition/train_videos/Milk\\021_004_002.mp4\n",
      "newasl/sign-language-gesture-recognition/train_videos/Milk\\021_004_003.mp4\n",
      "newasl/sign-language-gesture-recognition/train_videos/Milk\\021_004_004.mp4\n",
      "newasl/sign-language-gesture-recognition/train_videos/Milk\\021_004_005.mp4\n",
      "newasl/sign-language-gesture-recognition/train_videos/Milk\\021_005_001.mp4\n",
      "newasl/sign-language-gesture-recognition/train_videos/Milk\\021_005_002.mp4\n",
      "newasl/sign-language-gesture-recognition/train_videos/Milk\\021_005_003.mp4\n",
      "newasl/sign-language-gesture-recognition/train_videos/Milk\\021_005_004.mp4\n",
      "newasl/sign-language-gesture-recognition/train_videos/Milk\\021_005_005.mp4\n",
      "newasl/sign-language-gesture-recognition/train_videos/Milk\\021_006_001.mp4\n",
      "newasl/sign-language-gesture-recognition/train_videos/Milk\\021_006_002.mp4\n",
      "newasl/sign-language-gesture-recognition/train_videos/Milk\\021_006_003.mp4\n",
      "newasl/sign-language-gesture-recognition/train_videos/Milk\\021_006_004.mp4\n",
      "newasl/sign-language-gesture-recognition/train_videos/Milk\\021_006_005.mp4\n",
      "newasl/sign-language-gesture-recognition/train_videos/Milk\\021_007_001.mp4\n",
      "newasl/sign-language-gesture-recognition/train_videos/Milk\\021_007_002.mp4\n",
      "newasl/sign-language-gesture-recognition/train_videos/Milk\\021_007_003.mp4\n",
      "newasl/sign-language-gesture-recognition/train_videos/Milk\\021_007_004.mp4\n",
      "newasl/sign-language-gesture-recognition/train_videos/Milk\\021_007_005.mp4\n",
      "newasl/sign-language-gesture-recognition/train_videos/Milk\\021_008_001.mp4\n",
      "newasl/sign-language-gesture-recognition/train_videos/Milk\\021_008_002.mp4\n",
      "newasl/sign-language-gesture-recognition/train_videos/Milk\\021_008_003.mp4\n",
      "newasl/sign-language-gesture-recognition/train_videos/Milk\\021_008_004.mp4\n",
      "newasl/sign-language-gesture-recognition/train_videos/Milk\\021_008_005.mp4\n",
      "newasl/sign-language-gesture-recognition/train_videos/Milk\\021_009_001.mp4\n",
      "newasl/sign-language-gesture-recognition/train_videos/Milk\\021_009_002.mp4\n",
      "newasl/sign-language-gesture-recognition/train_videos/Milk\\021_009_003.mp4\n",
      "newasl/sign-language-gesture-recognition/train_videos/Milk\\021_009_004.mp4\n",
      "newasl/sign-language-gesture-recognition/train_videos/Milk\\021_009_005.mp4\n",
      "newasl/sign-language-gesture-recognition/train_videos/Milk\\021_010_001.mp4\n",
      "021_008_001.mp4\n",
      "newasl/sign-language-gesture-recognition/train_videos/Milk\\021_010_002.mp4\n",
      "021_008_002.mp4\n",
      "newasl/sign-language-gesture-recognition/train_videos/Milk\\021_010_003.mp4\n",
      "021_008_003.mp4\n",
      "newasl/sign-language-gesture-recognition/train_videos/Milk\\021_010_004.mp4\n",
      "021_008_004.mp4\n",
      "newasl/sign-language-gesture-recognition/train_videos/Milk\\021_010_005.mp4\n",
      "021_008_005.mp4\n",
      "newasl/sign-language-gesture-recognition/train_videos/Mock\\029_003_001.mp4\n",
      "newasl/sign-language-gesture-recognition/train_videos/Mock\\029_003_002.mp4\n",
      "newasl/sign-language-gesture-recognition/train_videos/Mock\\029_003_003.mp4\n",
      "newasl/sign-language-gesture-recognition/train_videos/Mock\\029_003_004.mp4\n",
      "newasl/sign-language-gesture-recognition/train_videos/Mock\\029_003_005.mp4\n",
      "newasl/sign-language-gesture-recognition/train_videos/Mock\\029_004_001.mp4\n",
      "newasl/sign-language-gesture-recognition/train_videos/Mock\\029_004_002.mp4\n",
      "newasl/sign-language-gesture-recognition/train_videos/Mock\\029_004_003.mp4\n",
      "newasl/sign-language-gesture-recognition/train_videos/Mock\\029_004_004.mp4\n",
      "newasl/sign-language-gesture-recognition/train_videos/Mock\\029_004_005.mp4\n",
      "newasl/sign-language-gesture-recognition/train_videos/Mock\\029_005_001.mp4\n",
      "newasl/sign-language-gesture-recognition/train_videos/Mock\\029_005_002.mp4\n",
      "newasl/sign-language-gesture-recognition/train_videos/Mock\\029_005_003.mp4\n",
      "newasl/sign-language-gesture-recognition/train_videos/Mock\\029_005_004.mp4\n",
      "newasl/sign-language-gesture-recognition/train_videos/Mock\\029_005_005.mp4\n",
      "newasl/sign-language-gesture-recognition/train_videos/Mock\\029_006_001.mp4\n",
      "newasl/sign-language-gesture-recognition/train_videos/Mock\\029_006_002.mp4\n",
      "newasl/sign-language-gesture-recognition/train_videos/Mock\\029_006_003.mp4\n",
      "newasl/sign-language-gesture-recognition/train_videos/Mock\\029_006_004.mp4\n",
      "newasl/sign-language-gesture-recognition/train_videos/Mock\\029_006_005.mp4\n",
      "newasl/sign-language-gesture-recognition/train_videos/Mock\\029_007_001.mp4\n",
      "newasl/sign-language-gesture-recognition/train_videos/Mock\\029_007_002.mp4\n",
      "newasl/sign-language-gesture-recognition/train_videos/Mock\\029_007_003.mp4\n",
      "newasl/sign-language-gesture-recognition/train_videos/Mock\\029_007_004.mp4\n",
      "newasl/sign-language-gesture-recognition/train_videos/Mock\\029_007_005.mp4\n",
      "newasl/sign-language-gesture-recognition/train_videos/Mock\\029_008_001.mp4\n",
      "newasl/sign-language-gesture-recognition/train_videos/Mock\\029_008_002.mp4\n",
      "newasl/sign-language-gesture-recognition/train_videos/Mock\\029_008_003.mp4\n",
      "newasl/sign-language-gesture-recognition/train_videos/Mock\\029_008_004.mp4\n",
      "newasl/sign-language-gesture-recognition/train_videos/Mock\\029_008_005.mp4\n",
      "newasl/sign-language-gesture-recognition/train_videos/Mock\\029_009_001.mp4\n",
      "newasl/sign-language-gesture-recognition/train_videos/Mock\\029_009_002.mp4\n",
      "newasl/sign-language-gesture-recognition/train_videos/Mock\\029_009_003.mp4\n",
      "newasl/sign-language-gesture-recognition/train_videos/Mock\\029_009_004.mp4\n",
      "newasl/sign-language-gesture-recognition/train_videos/Mock\\029_009_005.mp4\n",
      "newasl/sign-language-gesture-recognition/train_videos/Mock\\029_010_001.mp4\n",
      "029_008_001.mp4\n",
      "newasl/sign-language-gesture-recognition/train_videos/Mock\\029_010_002.mp4\n",
      "029_008_002.mp4\n",
      "newasl/sign-language-gesture-recognition/train_videos/Mock\\029_010_003.mp4\n",
      "029_008_003.mp4\n",
      "newasl/sign-language-gesture-recognition/train_videos/Mock\\029_010_004.mp4\n",
      "029_008_004.mp4\n",
      "newasl/sign-language-gesture-recognition/train_videos/Mock\\029_010_005.mp4\n",
      "029_008_005.mp4\n",
      "newasl/sign-language-gesture-recognition/train_videos/Music\\036_003_001.mp4\n",
      "newasl/sign-language-gesture-recognition/train_videos/Music\\036_003_002.mp4\n",
      "newasl/sign-language-gesture-recognition/train_videos/Music\\036_003_003.mp4\n",
      "newasl/sign-language-gesture-recognition/train_videos/Music\\036_003_004.mp4\n",
      "newasl/sign-language-gesture-recognition/train_videos/Music\\036_003_005.mp4\n",
      "newasl/sign-language-gesture-recognition/train_videos/Music\\036_004_001.mp4\n",
      "newasl/sign-language-gesture-recognition/train_videos/Music\\036_004_002.mp4\n",
      "newasl/sign-language-gesture-recognition/train_videos/Music\\036_004_003.mp4\n",
      "newasl/sign-language-gesture-recognition/train_videos/Music\\036_004_004.mp4\n",
      "newasl/sign-language-gesture-recognition/train_videos/Music\\036_004_005.mp4\n",
      "newasl/sign-language-gesture-recognition/train_videos/Music\\036_005_001.mp4\n",
      "newasl/sign-language-gesture-recognition/train_videos/Music\\036_005_002.mp4\n",
      "newasl/sign-language-gesture-recognition/train_videos/Music\\036_005_003.mp4\n",
      "newasl/sign-language-gesture-recognition/train_videos/Music\\036_005_004.mp4\n",
      "newasl/sign-language-gesture-recognition/train_videos/Music\\036_005_005.mp4\n",
      "newasl/sign-language-gesture-recognition/train_videos/Music\\036_006_001.mp4\n",
      "newasl/sign-language-gesture-recognition/train_videos/Music\\036_006_002.mp4\n",
      "newasl/sign-language-gesture-recognition/train_videos/Music\\036_006_003.mp4\n",
      "newasl/sign-language-gesture-recognition/train_videos/Music\\036_006_004.mp4\n",
      "newasl/sign-language-gesture-recognition/train_videos/Music\\036_006_005.mp4\n",
      "newasl/sign-language-gesture-recognition/train_videos/Music\\036_007_001.mp4\n",
      "newasl/sign-language-gesture-recognition/train_videos/Music\\036_007_002.mp4\n",
      "newasl/sign-language-gesture-recognition/train_videos/Music\\036_007_003.mp4\n",
      "newasl/sign-language-gesture-recognition/train_videos/Music\\036_007_004.mp4\n",
      "newasl/sign-language-gesture-recognition/train_videos/Music\\036_007_005.mp4\n",
      "newasl/sign-language-gesture-recognition/train_videos/Music\\036_008_001.mp4\n",
      "newasl/sign-language-gesture-recognition/train_videos/Music\\036_008_002.mp4\n",
      "newasl/sign-language-gesture-recognition/train_videos/Music\\036_008_003.mp4\n",
      "newasl/sign-language-gesture-recognition/train_videos/Music\\036_008_004.mp4\n",
      "newasl/sign-language-gesture-recognition/train_videos/Music\\036_008_005.mp4\n",
      "newasl/sign-language-gesture-recognition/train_videos/Music\\036_009_001.mp4\n",
      "newasl/sign-language-gesture-recognition/train_videos/Music\\036_009_002.mp4\n",
      "newasl/sign-language-gesture-recognition/train_videos/Music\\036_009_003.mp4\n",
      "newasl/sign-language-gesture-recognition/train_videos/Music\\036_009_004.mp4\n",
      "newasl/sign-language-gesture-recognition/train_videos/Music\\036_009_005.mp4\n",
      "newasl/sign-language-gesture-recognition/train_videos/Music\\036_010_001.mp4\n",
      "036_008_001.mp4\n",
      "newasl/sign-language-gesture-recognition/train_videos/Music\\036_010_002.mp4\n",
      "036_008_002.mp4\n",
      "newasl/sign-language-gesture-recognition/train_videos/Music\\036_010_003.mp4\n",
      "036_008_003.mp4\n",
      "newasl/sign-language-gesture-recognition/train_videos/Music\\036_010_004.mp4\n",
      "036_008_004.mp4\n",
      "newasl/sign-language-gesture-recognition/train_videos/Music\\036_010_005.mp4\n",
      "036_008_005.mp4\n",
      "newasl/sign-language-gesture-recognition/train_videos/Name\\039_003_001.mp4\n",
      "newasl/sign-language-gesture-recognition/train_videos/Name\\039_003_002.mp4\n",
      "newasl/sign-language-gesture-recognition/train_videos/Name\\039_003_003.mp4\n",
      "newasl/sign-language-gesture-recognition/train_videos/Name\\039_003_004.mp4\n",
      "newasl/sign-language-gesture-recognition/train_videos/Name\\039_003_005.mp4\n",
      "newasl/sign-language-gesture-recognition/train_videos/Name\\039_004_001.mp4\n",
      "newasl/sign-language-gesture-recognition/train_videos/Name\\039_004_002.mp4\n",
      "newasl/sign-language-gesture-recognition/train_videos/Name\\039_004_003.mp4\n",
      "newasl/sign-language-gesture-recognition/train_videos/Name\\039_004_004.mp4\n",
      "newasl/sign-language-gesture-recognition/train_videos/Name\\039_004_005.mp4\n",
      "newasl/sign-language-gesture-recognition/train_videos/Name\\039_005_001.mp4\n",
      "newasl/sign-language-gesture-recognition/train_videos/Name\\039_005_002.mp4\n",
      "newasl/sign-language-gesture-recognition/train_videos/Name\\039_005_003.mp4\n",
      "newasl/sign-language-gesture-recognition/train_videos/Name\\039_005_004.mp4\n",
      "newasl/sign-language-gesture-recognition/train_videos/Name\\039_005_005.mp4\n",
      "newasl/sign-language-gesture-recognition/train_videos/Name\\039_006_001.mp4\n",
      "newasl/sign-language-gesture-recognition/train_videos/Name\\039_006_002.mp4\n",
      "newasl/sign-language-gesture-recognition/train_videos/Name\\039_006_003.mp4\n",
      "newasl/sign-language-gesture-recognition/train_videos/Name\\039_006_004.mp4\n",
      "newasl/sign-language-gesture-recognition/train_videos/Name\\039_006_005.mp4\n",
      "newasl/sign-language-gesture-recognition/train_videos/Name\\039_007_001.mp4\n",
      "newasl/sign-language-gesture-recognition/train_videos/Name\\039_007_002.mp4\n",
      "newasl/sign-language-gesture-recognition/train_videos/Name\\039_007_003.mp4\n",
      "newasl/sign-language-gesture-recognition/train_videos/Name\\039_007_004.mp4\n",
      "newasl/sign-language-gesture-recognition/train_videos/Name\\039_007_005.mp4\n",
      "newasl/sign-language-gesture-recognition/train_videos/Name\\039_008_001.mp4\n",
      "newasl/sign-language-gesture-recognition/train_videos/Name\\039_008_002.mp4\n",
      "newasl/sign-language-gesture-recognition/train_videos/Name\\039_008_003.mp4\n",
      "newasl/sign-language-gesture-recognition/train_videos/Name\\039_008_004.mp4\n",
      "newasl/sign-language-gesture-recognition/train_videos/Name\\039_008_005.mp4\n",
      "newasl/sign-language-gesture-recognition/train_videos/Name\\039_009_001.mp4\n",
      "newasl/sign-language-gesture-recognition/train_videos/Name\\039_009_002.mp4\n",
      "newasl/sign-language-gesture-recognition/train_videos/Name\\039_009_003.mp4\n",
      "newasl/sign-language-gesture-recognition/train_videos/Name\\039_009_004.mp4\n",
      "newasl/sign-language-gesture-recognition/train_videos/Name\\039_009_005.mp4\n",
      "newasl/sign-language-gesture-recognition/train_videos/Name\\039_010_001.mp4\n",
      "039_008_001.mp4\n",
      "newasl/sign-language-gesture-recognition/train_videos/Name\\039_010_002.mp4\n",
      "039_008_002.mp4\n",
      "newasl/sign-language-gesture-recognition/train_videos/Name\\039_010_003.mp4\n",
      "039_008_003.mp4\n",
      "newasl/sign-language-gesture-recognition/train_videos/Name\\039_010_004.mp4\n",
      "039_008_004.mp4\n",
      "newasl/sign-language-gesture-recognition/train_videos/Name\\039_010_005.mp4\n",
      "039_008_005.mp4\n",
      "newasl/sign-language-gesture-recognition/train_videos/None\\038_003_001.mp4\n",
      "newasl/sign-language-gesture-recognition/train_videos/None\\038_003_002.mp4\n",
      "newasl/sign-language-gesture-recognition/train_videos/None\\038_003_003.mp4\n",
      "newasl/sign-language-gesture-recognition/train_videos/None\\038_003_004.mp4\n",
      "newasl/sign-language-gesture-recognition/train_videos/None\\038_003_005.mp4\n",
      "newasl/sign-language-gesture-recognition/train_videos/None\\038_004_001.mp4\n",
      "newasl/sign-language-gesture-recognition/train_videos/None\\038_004_002.mp4\n",
      "newasl/sign-language-gesture-recognition/train_videos/None\\038_004_003.mp4\n",
      "newasl/sign-language-gesture-recognition/train_videos/None\\038_004_004.mp4\n",
      "newasl/sign-language-gesture-recognition/train_videos/None\\038_004_005.mp4\n",
      "newasl/sign-language-gesture-recognition/train_videos/None\\038_005_001.mp4\n",
      "newasl/sign-language-gesture-recognition/train_videos/None\\038_005_002.mp4\n",
      "newasl/sign-language-gesture-recognition/train_videos/None\\038_005_003.mp4\n",
      "newasl/sign-language-gesture-recognition/train_videos/None\\038_005_004.mp4\n",
      "newasl/sign-language-gesture-recognition/train_videos/None\\038_005_005.mp4\n",
      "newasl/sign-language-gesture-recognition/train_videos/None\\038_006_001.mp4\n",
      "newasl/sign-language-gesture-recognition/train_videos/None\\038_006_002.mp4\n",
      "newasl/sign-language-gesture-recognition/train_videos/None\\038_006_003.mp4\n",
      "newasl/sign-language-gesture-recognition/train_videos/None\\038_006_004.mp4\n",
      "newasl/sign-language-gesture-recognition/train_videos/None\\038_006_005.mp4\n",
      "newasl/sign-language-gesture-recognition/train_videos/None\\038_007_001.mp4\n",
      "newasl/sign-language-gesture-recognition/train_videos/None\\038_007_002.mp4\n",
      "newasl/sign-language-gesture-recognition/train_videos/None\\038_007_003.mp4\n",
      "newasl/sign-language-gesture-recognition/train_videos/None\\038_007_004.mp4\n",
      "newasl/sign-language-gesture-recognition/train_videos/None\\038_007_005.mp4\n",
      "newasl/sign-language-gesture-recognition/train_videos/None\\038_008_001.mp4\n",
      "newasl/sign-language-gesture-recognition/train_videos/None\\038_008_002.mp4\n",
      "newasl/sign-language-gesture-recognition/train_videos/None\\038_008_003.mp4\n",
      "newasl/sign-language-gesture-recognition/train_videos/None\\038_008_004.mp4\n",
      "newasl/sign-language-gesture-recognition/train_videos/None\\038_008_005.mp4\n",
      "newasl/sign-language-gesture-recognition/train_videos/None\\038_009_001.mp4\n",
      "newasl/sign-language-gesture-recognition/train_videos/None\\038_009_002.mp4\n",
      "newasl/sign-language-gesture-recognition/train_videos/None\\038_009_003.mp4\n",
      "newasl/sign-language-gesture-recognition/train_videos/None\\038_009_004.mp4\n",
      "newasl/sign-language-gesture-recognition/train_videos/None\\038_009_005.mp4\n",
      "newasl/sign-language-gesture-recognition/train_videos/None\\038_010_001.mp4\n",
      "038_008_001.mp4\n",
      "newasl/sign-language-gesture-recognition/train_videos/None\\038_010_002.mp4\n",
      "038_008_002.mp4\n",
      "newasl/sign-language-gesture-recognition/train_videos/None\\038_010_003.mp4\n",
      "038_008_003.mp4\n",
      "newasl/sign-language-gesture-recognition/train_videos/None\\038_010_004.mp4\n",
      "038_008_004.mp4\n",
      "newasl/sign-language-gesture-recognition/train_videos/None\\038_010_005.mp4\n",
      "038_008_005.mp4\n",
      "newasl/sign-language-gesture-recognition/train_videos/Opaque\\001_003_001.mp4\n",
      "newasl/sign-language-gesture-recognition/train_videos/Opaque\\001_003_002.mp4\n",
      "newasl/sign-language-gesture-recognition/train_videos/Opaque\\001_003_003.mp4\n",
      "newasl/sign-language-gesture-recognition/train_videos/Opaque\\001_003_004.mp4\n",
      "newasl/sign-language-gesture-recognition/train_videos/Opaque\\001_003_005.mp4\n",
      "newasl/sign-language-gesture-recognition/train_videos/Opaque\\001_004_001.mp4\n",
      "newasl/sign-language-gesture-recognition/train_videos/Opaque\\001_004_002.mp4\n",
      "newasl/sign-language-gesture-recognition/train_videos/Opaque\\001_004_003.mp4\n",
      "newasl/sign-language-gesture-recognition/train_videos/Opaque\\001_004_004.mp4\n",
      "newasl/sign-language-gesture-recognition/train_videos/Opaque\\001_004_005.mp4\n",
      "newasl/sign-language-gesture-recognition/train_videos/Opaque\\001_005_001.mp4\n",
      "newasl/sign-language-gesture-recognition/train_videos/Opaque\\001_005_002.mp4\n",
      "newasl/sign-language-gesture-recognition/train_videos/Opaque\\001_005_003.mp4\n",
      "newasl/sign-language-gesture-recognition/train_videos/Opaque\\001_005_004.mp4\n",
      "newasl/sign-language-gesture-recognition/train_videos/Opaque\\001_005_005.mp4\n",
      "newasl/sign-language-gesture-recognition/train_videos/Opaque\\001_006_001.mp4\n",
      "newasl/sign-language-gesture-recognition/train_videos/Opaque\\001_006_002.mp4\n",
      "newasl/sign-language-gesture-recognition/train_videos/Opaque\\001_006_003.mp4\n",
      "newasl/sign-language-gesture-recognition/train_videos/Opaque\\001_006_004.mp4\n",
      "newasl/sign-language-gesture-recognition/train_videos/Opaque\\001_006_005.mp4\n",
      "newasl/sign-language-gesture-recognition/train_videos/Opaque\\001_007_001.mp4\n",
      "newasl/sign-language-gesture-recognition/train_videos/Opaque\\001_007_002.mp4\n",
      "newasl/sign-language-gesture-recognition/train_videos/Opaque\\001_007_003.mp4\n",
      "newasl/sign-language-gesture-recognition/train_videos/Opaque\\001_007_004.mp4\n",
      "newasl/sign-language-gesture-recognition/train_videos/Opaque\\001_007_005.mp4\n",
      "newasl/sign-language-gesture-recognition/train_videos/Opaque\\001_008_001.mp4\n",
      "newasl/sign-language-gesture-recognition/train_videos/Opaque\\001_008_002.mp4\n",
      "newasl/sign-language-gesture-recognition/train_videos/Opaque\\001_008_003.mp4\n",
      "newasl/sign-language-gesture-recognition/train_videos/Opaque\\001_008_004.mp4\n",
      "newasl/sign-language-gesture-recognition/train_videos/Opaque\\001_008_005.mp4\n",
      "newasl/sign-language-gesture-recognition/train_videos/Opaque\\001_009_001.mp4\n",
      "newasl/sign-language-gesture-recognition/train_videos/Opaque\\001_009_002.mp4\n",
      "newasl/sign-language-gesture-recognition/train_videos/Opaque\\001_009_003.mp4\n",
      "newasl/sign-language-gesture-recognition/train_videos/Opaque\\001_009_004.mp4\n",
      "newasl/sign-language-gesture-recognition/train_videos/Opaque\\001_009_005.mp4\n",
      "newasl/sign-language-gesture-recognition/train_videos/Opaque\\001_010_001.mp4\n",
      "001_008_001.mp4\n",
      "newasl/sign-language-gesture-recognition/train_videos/Opaque\\001_010_002.mp4\n",
      "001_008_002.mp4\n",
      "newasl/sign-language-gesture-recognition/train_videos/Opaque\\001_010_003.mp4\n",
      "001_008_003.mp4\n",
      "newasl/sign-language-gesture-recognition/train_videos/Opaque\\001_010_004.mp4\n",
      "001_008_004.mp4\n",
      "newasl/sign-language-gesture-recognition/train_videos/Opaque\\001_010_005.mp4\n",
      "001_008_005.mp4\n",
      "newasl/sign-language-gesture-recognition/train_videos/Patience\\040_003_001.mp4\n",
      "newasl/sign-language-gesture-recognition/train_videos/Patience\\040_003_002.mp4\n",
      "newasl/sign-language-gesture-recognition/train_videos/Patience\\040_003_003.mp4\n",
      "newasl/sign-language-gesture-recognition/train_videos/Patience\\040_003_004.mp4\n",
      "newasl/sign-language-gesture-recognition/train_videos/Patience\\040_003_005.mp4\n",
      "newasl/sign-language-gesture-recognition/train_videos/Patience\\040_004_001.mp4\n",
      "newasl/sign-language-gesture-recognition/train_videos/Patience\\040_004_002.mp4\n",
      "newasl/sign-language-gesture-recognition/train_videos/Patience\\040_004_003.mp4\n",
      "newasl/sign-language-gesture-recognition/train_videos/Patience\\040_004_004.mp4\n",
      "newasl/sign-language-gesture-recognition/train_videos/Patience\\040_004_005.mp4\n",
      "newasl/sign-language-gesture-recognition/train_videos/Patience\\040_005_001.mp4\n",
      "newasl/sign-language-gesture-recognition/train_videos/Patience\\040_005_002.mp4\n",
      "newasl/sign-language-gesture-recognition/train_videos/Patience\\040_005_003.mp4\n",
      "newasl/sign-language-gesture-recognition/train_videos/Patience\\040_005_004.mp4\n",
      "newasl/sign-language-gesture-recognition/train_videos/Patience\\040_005_005.mp4\n",
      "newasl/sign-language-gesture-recognition/train_videos/Patience\\040_006_001.mp4\n",
      "newasl/sign-language-gesture-recognition/train_videos/Patience\\040_006_002.mp4\n",
      "newasl/sign-language-gesture-recognition/train_videos/Patience\\040_006_003.mp4\n",
      "newasl/sign-language-gesture-recognition/train_videos/Patience\\040_006_004.mp4\n",
      "newasl/sign-language-gesture-recognition/train_videos/Patience\\040_006_005.mp4\n",
      "newasl/sign-language-gesture-recognition/train_videos/Patience\\040_007_001.mp4\n",
      "newasl/sign-language-gesture-recognition/train_videos/Patience\\040_007_002.mp4\n",
      "newasl/sign-language-gesture-recognition/train_videos/Patience\\040_007_003.mp4\n",
      "newasl/sign-language-gesture-recognition/train_videos/Patience\\040_007_004.mp4\n",
      "newasl/sign-language-gesture-recognition/train_videos/Patience\\040_007_005.mp4\n",
      "newasl/sign-language-gesture-recognition/train_videos/Patience\\040_008_001.mp4\n",
      "newasl/sign-language-gesture-recognition/train_videos/Patience\\040_008_002.mp4\n",
      "newasl/sign-language-gesture-recognition/train_videos/Patience\\040_008_003.mp4\n",
      "newasl/sign-language-gesture-recognition/train_videos/Patience\\040_008_004.mp4\n",
      "newasl/sign-language-gesture-recognition/train_videos/Patience\\040_008_005.mp4\n",
      "newasl/sign-language-gesture-recognition/train_videos/Patience\\040_009_001.mp4\n",
      "newasl/sign-language-gesture-recognition/train_videos/Patience\\040_009_002.mp4\n",
      "newasl/sign-language-gesture-recognition/train_videos/Patience\\040_009_003.mp4\n",
      "newasl/sign-language-gesture-recognition/train_videos/Patience\\040_009_004.mp4\n",
      "newasl/sign-language-gesture-recognition/train_videos/Patience\\040_009_005.mp4\n",
      "newasl/sign-language-gesture-recognition/train_videos/Patience\\040_010_001.mp4\n",
      "040_008_001.mp4\n",
      "newasl/sign-language-gesture-recognition/train_videos/Patience\\040_010_002.mp4\n",
      "040_008_002.mp4\n",
      "newasl/sign-language-gesture-recognition/train_videos/Patience\\040_010_003.mp4\n",
      "040_008_003.mp4\n",
      "newasl/sign-language-gesture-recognition/train_videos/Patience\\040_010_004.mp4\n",
      "040_008_004.mp4\n",
      "newasl/sign-language-gesture-recognition/train_videos/Patience\\040_010_005.mp4\n",
      "040_008_005.mp4\n",
      "newasl/sign-language-gesture-recognition/train_videos/Perfume\\041_003_001.mp4\n",
      "newasl/sign-language-gesture-recognition/train_videos/Perfume\\041_003_002.mp4\n",
      "newasl/sign-language-gesture-recognition/train_videos/Perfume\\041_003_003.mp4\n",
      "newasl/sign-language-gesture-recognition/train_videos/Perfume\\041_003_004.mp4\n",
      "newasl/sign-language-gesture-recognition/train_videos/Perfume\\041_003_005.mp4\n",
      "newasl/sign-language-gesture-recognition/train_videos/Perfume\\041_004_001.mp4\n",
      "newasl/sign-language-gesture-recognition/train_videos/Perfume\\041_004_002.mp4\n",
      "newasl/sign-language-gesture-recognition/train_videos/Perfume\\041_004_003.mp4\n",
      "newasl/sign-language-gesture-recognition/train_videos/Perfume\\041_004_004.mp4\n",
      "newasl/sign-language-gesture-recognition/train_videos/Perfume\\041_004_005.mp4\n",
      "newasl/sign-language-gesture-recognition/train_videos/Perfume\\041_005_001.mp4\n",
      "newasl/sign-language-gesture-recognition/train_videos/Perfume\\041_005_002.mp4\n",
      "newasl/sign-language-gesture-recognition/train_videos/Perfume\\041_005_003.mp4\n",
      "newasl/sign-language-gesture-recognition/train_videos/Perfume\\041_005_004.mp4\n",
      "newasl/sign-language-gesture-recognition/train_videos/Perfume\\041_005_005.mp4\n",
      "newasl/sign-language-gesture-recognition/train_videos/Perfume\\041_006_001.mp4\n",
      "newasl/sign-language-gesture-recognition/train_videos/Perfume\\041_006_002.mp4\n",
      "newasl/sign-language-gesture-recognition/train_videos/Perfume\\041_006_003.mp4\n",
      "newasl/sign-language-gesture-recognition/train_videos/Perfume\\041_006_004.mp4\n",
      "newasl/sign-language-gesture-recognition/train_videos/Perfume\\041_006_005.mp4\n",
      "newasl/sign-language-gesture-recognition/train_videos/Perfume\\041_007_001.mp4\n",
      "newasl/sign-language-gesture-recognition/train_videos/Perfume\\041_007_002.mp4\n",
      "newasl/sign-language-gesture-recognition/train_videos/Perfume\\041_007_003.mp4\n",
      "newasl/sign-language-gesture-recognition/train_videos/Perfume\\041_007_004.mp4\n",
      "newasl/sign-language-gesture-recognition/train_videos/Perfume\\041_007_005.mp4\n",
      "newasl/sign-language-gesture-recognition/train_videos/Perfume\\041_008_001.mp4\n",
      "newasl/sign-language-gesture-recognition/train_videos/Perfume\\041_008_002.mp4\n",
      "newasl/sign-language-gesture-recognition/train_videos/Perfume\\041_008_003.mp4\n",
      "newasl/sign-language-gesture-recognition/train_videos/Perfume\\041_008_004.mp4\n",
      "newasl/sign-language-gesture-recognition/train_videos/Perfume\\041_008_005.mp4\n",
      "newasl/sign-language-gesture-recognition/train_videos/Perfume\\041_009_001.mp4\n",
      "newasl/sign-language-gesture-recognition/train_videos/Perfume\\041_009_002.mp4\n",
      "newasl/sign-language-gesture-recognition/train_videos/Perfume\\041_009_003.mp4\n",
      "newasl/sign-language-gesture-recognition/train_videos/Perfume\\041_009_004.mp4\n",
      "newasl/sign-language-gesture-recognition/train_videos/Perfume\\041_009_005.mp4\n",
      "newasl/sign-language-gesture-recognition/train_videos/Perfume\\041_010_001.mp4\n",
      "041_008_001.mp4\n",
      "newasl/sign-language-gesture-recognition/train_videos/Perfume\\041_010_002.mp4\n",
      "041_008_002.mp4\n",
      "newasl/sign-language-gesture-recognition/train_videos/Perfume\\041_010_003.mp4\n",
      "041_008_003.mp4\n",
      "newasl/sign-language-gesture-recognition/train_videos/Perfume\\041_010_004.mp4\n",
      "041_008_004.mp4\n",
      "newasl/sign-language-gesture-recognition/train_videos/Perfume\\041_010_005.mp4\n",
      "041_008_005.mp4\n",
      "newasl/sign-language-gesture-recognition/train_videos/Photo\\032_003_001.mp4\n",
      "newasl/sign-language-gesture-recognition/train_videos/Photo\\032_003_002.mp4\n",
      "newasl/sign-language-gesture-recognition/train_videos/Photo\\032_003_003.mp4\n",
      "newasl/sign-language-gesture-recognition/train_videos/Photo\\032_003_004.mp4\n",
      "newasl/sign-language-gesture-recognition/train_videos/Photo\\032_003_005.mp4\n",
      "newasl/sign-language-gesture-recognition/train_videos/Photo\\032_004_001.mp4\n",
      "newasl/sign-language-gesture-recognition/train_videos/Photo\\032_004_002.mp4\n",
      "newasl/sign-language-gesture-recognition/train_videos/Photo\\032_004_003.mp4\n",
      "newasl/sign-language-gesture-recognition/train_videos/Photo\\032_004_004.mp4\n",
      "newasl/sign-language-gesture-recognition/train_videos/Photo\\032_004_005.mp4\n",
      "newasl/sign-language-gesture-recognition/train_videos/Photo\\032_005_001.mp4\n",
      "newasl/sign-language-gesture-recognition/train_videos/Photo\\032_005_002.mp4\n",
      "newasl/sign-language-gesture-recognition/train_videos/Photo\\032_005_003.mp4\n",
      "newasl/sign-language-gesture-recognition/train_videos/Photo\\032_005_004.mp4\n",
      "newasl/sign-language-gesture-recognition/train_videos/Photo\\032_005_005.mp4\n",
      "newasl/sign-language-gesture-recognition/train_videos/Photo\\032_006_001.mp4\n",
      "newasl/sign-language-gesture-recognition/train_videos/Photo\\032_006_002.mp4\n",
      "newasl/sign-language-gesture-recognition/train_videos/Photo\\032_006_003.mp4\n",
      "newasl/sign-language-gesture-recognition/train_videos/Photo\\032_006_004.mp4\n",
      "newasl/sign-language-gesture-recognition/train_videos/Photo\\032_006_005.mp4\n",
      "newasl/sign-language-gesture-recognition/train_videos/Photo\\032_007_001.mp4\n",
      "newasl/sign-language-gesture-recognition/train_videos/Photo\\032_007_002.mp4\n",
      "newasl/sign-language-gesture-recognition/train_videos/Photo\\032_007_003.mp4\n",
      "newasl/sign-language-gesture-recognition/train_videos/Photo\\032_007_004.mp4\n",
      "newasl/sign-language-gesture-recognition/train_videos/Photo\\032_007_005.mp4\n",
      "newasl/sign-language-gesture-recognition/train_videos/Photo\\032_008_001.mp4\n",
      "newasl/sign-language-gesture-recognition/train_videos/Photo\\032_008_002.mp4\n",
      "newasl/sign-language-gesture-recognition/train_videos/Photo\\032_008_003.mp4\n",
      "newasl/sign-language-gesture-recognition/train_videos/Photo\\032_008_004.mp4\n",
      "newasl/sign-language-gesture-recognition/train_videos/Photo\\032_008_005.mp4\n",
      "newasl/sign-language-gesture-recognition/train_videos/Photo\\032_009_001.mp4\n",
      "newasl/sign-language-gesture-recognition/train_videos/Photo\\032_009_002.mp4\n",
      "newasl/sign-language-gesture-recognition/train_videos/Photo\\032_009_003.mp4\n",
      "newasl/sign-language-gesture-recognition/train_videos/Photo\\032_009_004.mp4\n",
      "newasl/sign-language-gesture-recognition/train_videos/Photo\\032_009_005.mp4\n",
      "newasl/sign-language-gesture-recognition/train_videos/Photo\\032_010_001.mp4\n",
      "032_008_001.mp4\n",
      "newasl/sign-language-gesture-recognition/train_videos/Photo\\032_010_002.mp4\n",
      "032_008_002.mp4\n",
      "newasl/sign-language-gesture-recognition/train_videos/Photo\\032_010_003.mp4\n",
      "032_008_003.mp4\n",
      "newasl/sign-language-gesture-recognition/train_videos/Photo\\032_010_004.mp4\n",
      "032_008_004.mp4\n",
      "newasl/sign-language-gesture-recognition/train_videos/Photo\\032_010_005.mp4\n",
      "032_008_005.mp4\n",
      "newasl/sign-language-gesture-recognition/train_videos/Pink\\008_003_001.mp4\n",
      "newasl/sign-language-gesture-recognition/train_videos/Pink\\008_003_002.mp4\n",
      "newasl/sign-language-gesture-recognition/train_videos/Pink\\008_003_003.mp4\n",
      "newasl/sign-language-gesture-recognition/train_videos/Pink\\008_003_004.mp4\n",
      "newasl/sign-language-gesture-recognition/train_videos/Pink\\008_003_005.mp4\n",
      "newasl/sign-language-gesture-recognition/train_videos/Pink\\008_004_001.mp4\n",
      "newasl/sign-language-gesture-recognition/train_videos/Pink\\008_004_002.mp4\n",
      "newasl/sign-language-gesture-recognition/train_videos/Pink\\008_004_003.mp4\n",
      "newasl/sign-language-gesture-recognition/train_videos/Pink\\008_004_004.mp4\n",
      "newasl/sign-language-gesture-recognition/train_videos/Pink\\008_004_005.mp4\n",
      "newasl/sign-language-gesture-recognition/train_videos/Pink\\008_005_001.mp4\n",
      "newasl/sign-language-gesture-recognition/train_videos/Pink\\008_005_002.mp4\n",
      "newasl/sign-language-gesture-recognition/train_videos/Pink\\008_005_003.mp4\n",
      "newasl/sign-language-gesture-recognition/train_videos/Pink\\008_005_004.mp4\n",
      "newasl/sign-language-gesture-recognition/train_videos/Pink\\008_005_005.mp4\n",
      "newasl/sign-language-gesture-recognition/train_videos/Pink\\008_006_001.mp4\n",
      "newasl/sign-language-gesture-recognition/train_videos/Pink\\008_006_002.mp4\n",
      "newasl/sign-language-gesture-recognition/train_videos/Pink\\008_006_003.mp4\n",
      "newasl/sign-language-gesture-recognition/train_videos/Pink\\008_006_004.mp4\n",
      "newasl/sign-language-gesture-recognition/train_videos/Pink\\008_006_005.mp4\n",
      "newasl/sign-language-gesture-recognition/train_videos/Pink\\008_007_001.mp4\n",
      "newasl/sign-language-gesture-recognition/train_videos/Pink\\008_007_002.mp4\n",
      "newasl/sign-language-gesture-recognition/train_videos/Pink\\008_007_003.mp4\n",
      "newasl/sign-language-gesture-recognition/train_videos/Pink\\008_007_004.mp4\n",
      "newasl/sign-language-gesture-recognition/train_videos/Pink\\008_007_005.mp4\n",
      "newasl/sign-language-gesture-recognition/train_videos/Pink\\008_008_001.mp4\n",
      "newasl/sign-language-gesture-recognition/train_videos/Pink\\008_008_002.mp4\n",
      "newasl/sign-language-gesture-recognition/train_videos/Pink\\008_008_003.mp4\n",
      "newasl/sign-language-gesture-recognition/train_videos/Pink\\008_008_004.mp4\n",
      "newasl/sign-language-gesture-recognition/train_videos/Pink\\008_008_005.mp4\n",
      "newasl/sign-language-gesture-recognition/train_videos/Pink\\008_009_001.mp4\n",
      "newasl/sign-language-gesture-recognition/train_videos/Pink\\008_009_002.mp4\n",
      "newasl/sign-language-gesture-recognition/train_videos/Pink\\008_009_003.mp4\n",
      "newasl/sign-language-gesture-recognition/train_videos/Pink\\008_009_004.mp4\n",
      "newasl/sign-language-gesture-recognition/train_videos/Pink\\008_009_005.mp4\n",
      "newasl/sign-language-gesture-recognition/train_videos/Pink\\008_010_001.mp4\n",
      "008_008_001.mp4\n",
      "newasl/sign-language-gesture-recognition/train_videos/Pink\\008_010_002.mp4\n",
      "008_008_002.mp4\n",
      "newasl/sign-language-gesture-recognition/train_videos/Pink\\008_010_003.mp4\n",
      "008_008_003.mp4\n",
      "newasl/sign-language-gesture-recognition/train_videos/Pink\\008_010_004.mp4\n",
      "008_008_004.mp4\n",
      "newasl/sign-language-gesture-recognition/train_videos/Pink\\008_010_005.mp4\n",
      "008_008_005.mp4\n",
      "newasl/sign-language-gesture-recognition/train_videos/Realize\\062_003_001.mp4\n",
      "newasl/sign-language-gesture-recognition/train_videos/Realize\\062_003_002.mp4\n",
      "newasl/sign-language-gesture-recognition/train_videos/Realize\\062_003_003.mp4\n",
      "newasl/sign-language-gesture-recognition/train_videos/Realize\\062_003_004.mp4\n",
      "newasl/sign-language-gesture-recognition/train_videos/Realize\\062_003_005.mp4\n",
      "newasl/sign-language-gesture-recognition/train_videos/Realize\\062_004_001.mp4\n",
      "newasl/sign-language-gesture-recognition/train_videos/Realize\\062_004_002.mp4\n",
      "newasl/sign-language-gesture-recognition/train_videos/Realize\\062_004_003.mp4\n",
      "newasl/sign-language-gesture-recognition/train_videos/Realize\\062_004_004.mp4\n",
      "newasl/sign-language-gesture-recognition/train_videos/Realize\\062_004_005.mp4\n",
      "newasl/sign-language-gesture-recognition/train_videos/Realize\\062_005_001.mp4\n",
      "newasl/sign-language-gesture-recognition/train_videos/Realize\\062_005_002.mp4\n",
      "newasl/sign-language-gesture-recognition/train_videos/Realize\\062_005_003.mp4\n",
      "newasl/sign-language-gesture-recognition/train_videos/Realize\\062_005_004.mp4\n",
      "newasl/sign-language-gesture-recognition/train_videos/Realize\\062_005_005.mp4\n",
      "newasl/sign-language-gesture-recognition/train_videos/Realize\\062_006_001.mp4\n",
      "newasl/sign-language-gesture-recognition/train_videos/Realize\\062_006_002.mp4\n",
      "newasl/sign-language-gesture-recognition/train_videos/Realize\\062_006_003.mp4\n",
      "newasl/sign-language-gesture-recognition/train_videos/Realize\\062_006_004.mp4\n",
      "newasl/sign-language-gesture-recognition/train_videos/Realize\\062_006_005.mp4\n",
      "newasl/sign-language-gesture-recognition/train_videos/Realize\\062_007_001.mp4\n",
      "newasl/sign-language-gesture-recognition/train_videos/Realize\\062_007_002.mp4\n",
      "newasl/sign-language-gesture-recognition/train_videos/Realize\\062_007_003.mp4\n",
      "newasl/sign-language-gesture-recognition/train_videos/Realize\\062_007_004.mp4\n",
      "newasl/sign-language-gesture-recognition/train_videos/Realize\\062_007_005.mp4\n",
      "newasl/sign-language-gesture-recognition/train_videos/Realize\\062_008_001.mp4\n",
      "newasl/sign-language-gesture-recognition/train_videos/Realize\\062_008_002.mp4\n",
      "newasl/sign-language-gesture-recognition/train_videos/Realize\\062_008_003.mp4\n",
      "newasl/sign-language-gesture-recognition/train_videos/Realize\\062_008_004.mp4\n",
      "newasl/sign-language-gesture-recognition/train_videos/Realize\\062_008_005.mp4\n",
      "newasl/sign-language-gesture-recognition/train_videos/Realize\\062_009_001.mp4\n",
      "newasl/sign-language-gesture-recognition/train_videos/Realize\\062_009_002.mp4\n",
      "newasl/sign-language-gesture-recognition/train_videos/Realize\\062_009_003.mp4\n",
      "newasl/sign-language-gesture-recognition/train_videos/Realize\\062_009_004.mp4\n",
      "newasl/sign-language-gesture-recognition/train_videos/Realize\\062_009_005.mp4\n",
      "newasl/sign-language-gesture-recognition/train_videos/Realize\\062_010_001.mp4\n",
      "062_008_001.mp4\n",
      "newasl/sign-language-gesture-recognition/train_videos/Realize\\062_010_002.mp4\n",
      "062_008_002.mp4\n",
      "newasl/sign-language-gesture-recognition/train_videos/Realize\\062_010_003.mp4\n",
      "062_008_003.mp4\n",
      "newasl/sign-language-gesture-recognition/train_videos/Realize\\062_010_004.mp4\n",
      "062_008_004.mp4\n",
      "newasl/sign-language-gesture-recognition/train_videos/Realize\\062_010_005.mp4\n",
      "062_008_005.mp4\n",
      "newasl/sign-language-gesture-recognition/train_videos/Red\\002_003_001.mp4\n",
      "newasl/sign-language-gesture-recognition/train_videos/Red\\002_003_002.mp4\n",
      "newasl/sign-language-gesture-recognition/train_videos/Red\\002_003_003.mp4\n",
      "newasl/sign-language-gesture-recognition/train_videos/Red\\002_003_004.mp4\n",
      "newasl/sign-language-gesture-recognition/train_videos/Red\\002_003_005.mp4\n",
      "newasl/sign-language-gesture-recognition/train_videos/Red\\002_004_001.mp4\n",
      "newasl/sign-language-gesture-recognition/train_videos/Red\\002_004_002.mp4\n",
      "newasl/sign-language-gesture-recognition/train_videos/Red\\002_004_003.mp4\n",
      "newasl/sign-language-gesture-recognition/train_videos/Red\\002_004_004.mp4\n",
      "newasl/sign-language-gesture-recognition/train_videos/Red\\002_004_005.mp4\n",
      "newasl/sign-language-gesture-recognition/train_videos/Red\\002_005_001.mp4\n",
      "newasl/sign-language-gesture-recognition/train_videos/Red\\002_005_002.mp4\n",
      "newasl/sign-language-gesture-recognition/train_videos/Red\\002_005_003.mp4\n",
      "newasl/sign-language-gesture-recognition/train_videos/Red\\002_005_004.mp4\n",
      "newasl/sign-language-gesture-recognition/train_videos/Red\\002_005_005.mp4\n",
      "newasl/sign-language-gesture-recognition/train_videos/Red\\002_006_001.mp4\n",
      "newasl/sign-language-gesture-recognition/train_videos/Red\\002_006_002.mp4\n",
      "newasl/sign-language-gesture-recognition/train_videos/Red\\002_006_003.mp4\n",
      "newasl/sign-language-gesture-recognition/train_videos/Red\\002_006_004.mp4\n",
      "newasl/sign-language-gesture-recognition/train_videos/Red\\002_006_005.mp4\n",
      "newasl/sign-language-gesture-recognition/train_videos/Red\\002_007_001.mp4\n",
      "newasl/sign-language-gesture-recognition/train_videos/Red\\002_007_002.mp4\n",
      "newasl/sign-language-gesture-recognition/train_videos/Red\\002_007_003.mp4\n",
      "newasl/sign-language-gesture-recognition/train_videos/Red\\002_007_004.mp4\n",
      "newasl/sign-language-gesture-recognition/train_videos/Red\\002_007_005.mp4\n",
      "newasl/sign-language-gesture-recognition/train_videos/Red\\002_008_001.mp4\n",
      "newasl/sign-language-gesture-recognition/train_videos/Red\\002_008_002.mp4\n",
      "newasl/sign-language-gesture-recognition/train_videos/Red\\002_008_003.mp4\n",
      "newasl/sign-language-gesture-recognition/train_videos/Red\\002_008_004.mp4\n",
      "newasl/sign-language-gesture-recognition/train_videos/Red\\002_008_005.mp4\n",
      "newasl/sign-language-gesture-recognition/train_videos/Red\\002_009_001.mp4\n",
      "newasl/sign-language-gesture-recognition/train_videos/Red\\002_009_002.mp4\n",
      "newasl/sign-language-gesture-recognition/train_videos/Red\\002_009_003.mp4\n",
      "newasl/sign-language-gesture-recognition/train_videos/Red\\002_009_004.mp4\n",
      "newasl/sign-language-gesture-recognition/train_videos/Red\\002_009_005.mp4\n",
      "newasl/sign-language-gesture-recognition/train_videos/Red\\002_010_001.mp4\n",
      "002_008_001.mp4\n",
      "newasl/sign-language-gesture-recognition/train_videos/Red\\002_010_002.mp4\n",
      "002_008_002.mp4\n",
      "newasl/sign-language-gesture-recognition/train_videos/Red\\002_010_003.mp4\n",
      "002_008_003.mp4\n",
      "newasl/sign-language-gesture-recognition/train_videos/Red\\002_010_004.mp4\n",
      "002_008_004.mp4\n",
      "newasl/sign-language-gesture-recognition/train_videos/Red\\002_010_005.mp4\n",
      "002_008_005.mp4\n",
      "newasl/sign-language-gesture-recognition/train_videos/Rice\\044_003_001.mp4\n",
      "newasl/sign-language-gesture-recognition/train_videos/Rice\\044_003_002.mp4\n",
      "newasl/sign-language-gesture-recognition/train_videos/Rice\\044_003_003.mp4\n",
      "newasl/sign-language-gesture-recognition/train_videos/Rice\\044_003_004.mp4\n",
      "newasl/sign-language-gesture-recognition/train_videos/Rice\\044_003_005.mp4\n",
      "newasl/sign-language-gesture-recognition/train_videos/Rice\\044_004_001.mp4\n",
      "newasl/sign-language-gesture-recognition/train_videos/Rice\\044_004_002.mp4\n",
      "newasl/sign-language-gesture-recognition/train_videos/Rice\\044_004_003.mp4\n",
      "newasl/sign-language-gesture-recognition/train_videos/Rice\\044_004_004.mp4\n",
      "newasl/sign-language-gesture-recognition/train_videos/Rice\\044_004_005.mp4\n",
      "newasl/sign-language-gesture-recognition/train_videos/Rice\\044_005_001.mp4\n",
      "newasl/sign-language-gesture-recognition/train_videos/Rice\\044_005_002.mp4\n",
      "newasl/sign-language-gesture-recognition/train_videos/Rice\\044_005_003.mp4\n",
      "newasl/sign-language-gesture-recognition/train_videos/Rice\\044_005_004.mp4\n",
      "newasl/sign-language-gesture-recognition/train_videos/Rice\\044_005_005.mp4\n",
      "newasl/sign-language-gesture-recognition/train_videos/Rice\\044_006_001.mp4\n",
      "newasl/sign-language-gesture-recognition/train_videos/Rice\\044_006_002.mp4\n",
      "newasl/sign-language-gesture-recognition/train_videos/Rice\\044_006_003.mp4\n",
      "newasl/sign-language-gesture-recognition/train_videos/Rice\\044_006_004.mp4\n",
      "newasl/sign-language-gesture-recognition/train_videos/Rice\\044_006_005.mp4\n",
      "newasl/sign-language-gesture-recognition/train_videos/Rice\\044_007_001.mp4\n",
      "newasl/sign-language-gesture-recognition/train_videos/Rice\\044_007_002.mp4\n",
      "newasl/sign-language-gesture-recognition/train_videos/Rice\\044_007_003.mp4\n",
      "newasl/sign-language-gesture-recognition/train_videos/Rice\\044_007_004.mp4\n",
      "newasl/sign-language-gesture-recognition/train_videos/Rice\\044_007_005.mp4\n",
      "newasl/sign-language-gesture-recognition/train_videos/Rice\\044_008_001.mp4\n",
      "newasl/sign-language-gesture-recognition/train_videos/Rice\\044_008_002.mp4\n",
      "newasl/sign-language-gesture-recognition/train_videos/Rice\\044_008_003.mp4\n",
      "newasl/sign-language-gesture-recognition/train_videos/Rice\\044_008_004.mp4\n",
      "newasl/sign-language-gesture-recognition/train_videos/Rice\\044_008_005.mp4\n",
      "newasl/sign-language-gesture-recognition/train_videos/Rice\\044_009_001.mp4\n",
      "newasl/sign-language-gesture-recognition/train_videos/Rice\\044_009_002.mp4\n",
      "newasl/sign-language-gesture-recognition/train_videos/Rice\\044_009_003.mp4\n",
      "newasl/sign-language-gesture-recognition/train_videos/Rice\\044_009_004.mp4\n",
      "newasl/sign-language-gesture-recognition/train_videos/Rice\\044_009_005.mp4\n",
      "newasl/sign-language-gesture-recognition/train_videos/Rice\\044_010_001.mp4\n",
      "044_008_001.mp4\n",
      "newasl/sign-language-gesture-recognition/train_videos/Rice\\044_010_002.mp4\n",
      "044_008_002.mp4\n",
      "newasl/sign-language-gesture-recognition/train_videos/Rice\\044_010_003.mp4\n",
      "044_008_003.mp4\n",
      "newasl/sign-language-gesture-recognition/train_videos/Rice\\044_010_004.mp4\n",
      "044_008_004.mp4\n",
      "newasl/sign-language-gesture-recognition/train_videos/Rice\\044_010_005.mp4\n",
      "044_008_005.mp4\n",
      "newasl/sign-language-gesture-recognition/train_videos/Run\\061_003_001.mp4\n",
      "newasl/sign-language-gesture-recognition/train_videos/Run\\061_003_002.mp4\n",
      "newasl/sign-language-gesture-recognition/train_videos/Run\\061_003_003.mp4\n",
      "newasl/sign-language-gesture-recognition/train_videos/Run\\061_003_004.mp4\n",
      "newasl/sign-language-gesture-recognition/train_videos/Run\\061_003_005.mp4\n",
      "newasl/sign-language-gesture-recognition/train_videos/Run\\061_004_001.mp4\n",
      "newasl/sign-language-gesture-recognition/train_videos/Run\\061_004_002.mp4\n",
      "newasl/sign-language-gesture-recognition/train_videos/Run\\061_004_003.mp4\n",
      "newasl/sign-language-gesture-recognition/train_videos/Run\\061_004_004.mp4\n",
      "newasl/sign-language-gesture-recognition/train_videos/Run\\061_004_005.mp4\n",
      "newasl/sign-language-gesture-recognition/train_videos/Run\\061_005_001.mp4\n",
      "newasl/sign-language-gesture-recognition/train_videos/Run\\061_005_002.mp4\n",
      "newasl/sign-language-gesture-recognition/train_videos/Run\\061_005_003.mp4\n",
      "newasl/sign-language-gesture-recognition/train_videos/Run\\061_005_004.mp4\n",
      "newasl/sign-language-gesture-recognition/train_videos/Run\\061_005_005.mp4\n",
      "newasl/sign-language-gesture-recognition/train_videos/Run\\061_006_001.mp4\n",
      "newasl/sign-language-gesture-recognition/train_videos/Run\\061_006_002.mp4\n",
      "newasl/sign-language-gesture-recognition/train_videos/Run\\061_006_003.mp4\n",
      "newasl/sign-language-gesture-recognition/train_videos/Run\\061_006_004.mp4\n",
      "newasl/sign-language-gesture-recognition/train_videos/Run\\061_006_005.mp4\n",
      "newasl/sign-language-gesture-recognition/train_videos/Run\\061_007_001.mp4\n",
      "newasl/sign-language-gesture-recognition/train_videos/Run\\061_007_002.mp4\n",
      "newasl/sign-language-gesture-recognition/train_videos/Run\\061_007_003.mp4\n",
      "newasl/sign-language-gesture-recognition/train_videos/Run\\061_007_004.mp4\n",
      "newasl/sign-language-gesture-recognition/train_videos/Run\\061_007_005.mp4\n",
      "newasl/sign-language-gesture-recognition/train_videos/Run\\061_008_001.mp4\n",
      "newasl/sign-language-gesture-recognition/train_videos/Run\\061_008_002.mp4\n",
      "newasl/sign-language-gesture-recognition/train_videos/Run\\061_008_003.mp4\n",
      "newasl/sign-language-gesture-recognition/train_videos/Run\\061_008_004.mp4\n",
      "newasl/sign-language-gesture-recognition/train_videos/Run\\061_008_005.mp4\n",
      "newasl/sign-language-gesture-recognition/train_videos/Run\\061_009_001.mp4\n",
      "newasl/sign-language-gesture-recognition/train_videos/Run\\061_009_002.mp4\n",
      "newasl/sign-language-gesture-recognition/train_videos/Run\\061_009_003.mp4\n",
      "newasl/sign-language-gesture-recognition/train_videos/Run\\061_009_004.mp4\n",
      "newasl/sign-language-gesture-recognition/train_videos/Run\\061_009_005.mp4\n",
      "newasl/sign-language-gesture-recognition/train_videos/Run\\061_010_001.mp4\n",
      "061_008_001.mp4\n",
      "newasl/sign-language-gesture-recognition/train_videos/Run\\061_010_002.mp4\n",
      "061_008_002.mp4\n",
      "newasl/sign-language-gesture-recognition/train_videos/Run\\061_010_003.mp4\n",
      "061_008_003.mp4\n",
      "newasl/sign-language-gesture-recognition/train_videos/Run\\061_010_004.mp4\n",
      "061_008_004.mp4\n",
      "newasl/sign-language-gesture-recognition/train_videos/Run\\061_010_005.mp4\n",
      "061_008_005.mp4\n",
      "newasl/sign-language-gesture-recognition/train_videos/Ship\\037_003_001.mp4\n",
      "newasl/sign-language-gesture-recognition/train_videos/Ship\\037_003_002.mp4\n",
      "newasl/sign-language-gesture-recognition/train_videos/Ship\\037_003_003.mp4\n",
      "newasl/sign-language-gesture-recognition/train_videos/Ship\\037_003_004.mp4\n",
      "newasl/sign-language-gesture-recognition/train_videos/Ship\\037_003_005.mp4\n",
      "newasl/sign-language-gesture-recognition/train_videos/Ship\\037_004_001.mp4\n",
      "newasl/sign-language-gesture-recognition/train_videos/Ship\\037_004_002.mp4\n",
      "newasl/sign-language-gesture-recognition/train_videos/Ship\\037_004_003.mp4\n",
      "newasl/sign-language-gesture-recognition/train_videos/Ship\\037_004_004.mp4\n",
      "newasl/sign-language-gesture-recognition/train_videos/Ship\\037_004_005.mp4\n",
      "newasl/sign-language-gesture-recognition/train_videos/Ship\\037_005_001.mp4\n",
      "newasl/sign-language-gesture-recognition/train_videos/Ship\\037_005_002.mp4\n",
      "newasl/sign-language-gesture-recognition/train_videos/Ship\\037_005_003.mp4\n",
      "newasl/sign-language-gesture-recognition/train_videos/Ship\\037_005_004.mp4\n",
      "newasl/sign-language-gesture-recognition/train_videos/Ship\\037_005_005.mp4\n",
      "newasl/sign-language-gesture-recognition/train_videos/Ship\\037_006_001.mp4\n",
      "newasl/sign-language-gesture-recognition/train_videos/Ship\\037_006_002.mp4\n",
      "newasl/sign-language-gesture-recognition/train_videos/Ship\\037_006_003.mp4\n",
      "newasl/sign-language-gesture-recognition/train_videos/Ship\\037_006_004.mp4\n",
      "newasl/sign-language-gesture-recognition/train_videos/Ship\\037_006_005.mp4\n",
      "newasl/sign-language-gesture-recognition/train_videos/Ship\\037_007_001.mp4\n",
      "newasl/sign-language-gesture-recognition/train_videos/Ship\\037_007_002.mp4\n",
      "newasl/sign-language-gesture-recognition/train_videos/Ship\\037_007_003.mp4\n",
      "newasl/sign-language-gesture-recognition/train_videos/Ship\\037_007_004.mp4\n",
      "newasl/sign-language-gesture-recognition/train_videos/Ship\\037_007_005.mp4\n",
      "newasl/sign-language-gesture-recognition/train_videos/Ship\\037_008_001.mp4\n",
      "newasl/sign-language-gesture-recognition/train_videos/Ship\\037_008_002.mp4\n",
      "newasl/sign-language-gesture-recognition/train_videos/Ship\\037_008_003.mp4\n",
      "newasl/sign-language-gesture-recognition/train_videos/Ship\\037_008_004.mp4\n",
      "newasl/sign-language-gesture-recognition/train_videos/Ship\\037_008_005.mp4\n",
      "newasl/sign-language-gesture-recognition/train_videos/Ship\\037_009_001.mp4\n",
      "newasl/sign-language-gesture-recognition/train_videos/Ship\\037_009_002.mp4\n",
      "newasl/sign-language-gesture-recognition/train_videos/Ship\\037_009_003.mp4\n",
      "newasl/sign-language-gesture-recognition/train_videos/Ship\\037_009_004.mp4\n",
      "newasl/sign-language-gesture-recognition/train_videos/Ship\\037_009_005.mp4\n",
      "newasl/sign-language-gesture-recognition/train_videos/Ship\\037_010_001.mp4\n",
      "037_008_001.mp4\n",
      "newasl/sign-language-gesture-recognition/train_videos/Ship\\037_010_002.mp4\n",
      "037_008_002.mp4\n",
      "newasl/sign-language-gesture-recognition/train_videos/Ship\\037_010_003.mp4\n",
      "037_008_003.mp4\n",
      "newasl/sign-language-gesture-recognition/train_videos/Ship\\037_010_004.mp4\n",
      "037_008_004.mp4\n",
      "newasl/sign-language-gesture-recognition/train_videos/Ship\\037_010_005.mp4\n",
      "037_008_005.mp4\n",
      "newasl/sign-language-gesture-recognition/train_videos/Shut down\\052_003_001.mp4\n",
      "newasl/sign-language-gesture-recognition/train_videos/Shut down\\052_003_002.mp4\n",
      "newasl/sign-language-gesture-recognition/train_videos/Shut down\\052_003_003.mp4\n",
      "newasl/sign-language-gesture-recognition/train_videos/Shut down\\052_003_004.mp4\n",
      "newasl/sign-language-gesture-recognition/train_videos/Shut down\\052_003_005.mp4\n",
      "newasl/sign-language-gesture-recognition/train_videos/Shut down\\052_004_001.mp4\n",
      "newasl/sign-language-gesture-recognition/train_videos/Shut down\\052_004_002.mp4\n",
      "newasl/sign-language-gesture-recognition/train_videos/Shut down\\052_004_003.mp4\n",
      "newasl/sign-language-gesture-recognition/train_videos/Shut down\\052_004_004.mp4\n",
      "newasl/sign-language-gesture-recognition/train_videos/Shut down\\052_004_005.mp4\n",
      "newasl/sign-language-gesture-recognition/train_videos/Shut down\\052_005_001.mp4\n",
      "newasl/sign-language-gesture-recognition/train_videos/Shut down\\052_005_002.mp4\n",
      "newasl/sign-language-gesture-recognition/train_videos/Shut down\\052_005_003.mp4\n",
      "newasl/sign-language-gesture-recognition/train_videos/Shut down\\052_005_004.mp4\n",
      "newasl/sign-language-gesture-recognition/train_videos/Shut down\\052_005_005.mp4\n",
      "newasl/sign-language-gesture-recognition/train_videos/Shut down\\052_006_001.mp4\n",
      "newasl/sign-language-gesture-recognition/train_videos/Shut down\\052_006_002.mp4\n",
      "newasl/sign-language-gesture-recognition/train_videos/Shut down\\052_006_003.mp4\n",
      "newasl/sign-language-gesture-recognition/train_videos/Shut down\\052_006_004.mp4\n",
      "newasl/sign-language-gesture-recognition/train_videos/Shut down\\052_006_005.mp4\n",
      "newasl/sign-language-gesture-recognition/train_videos/Shut down\\052_007_001.mp4\n",
      "newasl/sign-language-gesture-recognition/train_videos/Shut down\\052_007_002.mp4\n",
      "newasl/sign-language-gesture-recognition/train_videos/Shut down\\052_007_003.mp4\n",
      "newasl/sign-language-gesture-recognition/train_videos/Shut down\\052_007_004.mp4\n",
      "newasl/sign-language-gesture-recognition/train_videos/Shut down\\052_007_005.mp4\n",
      "newasl/sign-language-gesture-recognition/train_videos/Shut down\\052_008_001.mp4\n",
      "newasl/sign-language-gesture-recognition/train_videos/Shut down\\052_008_002.mp4\n",
      "newasl/sign-language-gesture-recognition/train_videos/Shut down\\052_008_003.mp4\n",
      "newasl/sign-language-gesture-recognition/train_videos/Shut down\\052_008_004.mp4\n",
      "newasl/sign-language-gesture-recognition/train_videos/Shut down\\052_008_005.mp4\n",
      "newasl/sign-language-gesture-recognition/train_videos/Shut down\\052_009_001.mp4\n",
      "newasl/sign-language-gesture-recognition/train_videos/Shut down\\052_009_002.mp4\n",
      "newasl/sign-language-gesture-recognition/train_videos/Shut down\\052_009_003.mp4\n",
      "newasl/sign-language-gesture-recognition/train_videos/Shut down\\052_009_004.mp4\n",
      "newasl/sign-language-gesture-recognition/train_videos/Shut down\\052_009_005.mp4\n",
      "newasl/sign-language-gesture-recognition/train_videos/Shut down\\052_010_001.mp4\n",
      "052_008_001.mp4\n",
      "newasl/sign-language-gesture-recognition/train_videos/Shut down\\052_010_002.mp4\n",
      "052_008_002.mp4\n",
      "newasl/sign-language-gesture-recognition/train_videos/Shut down\\052_010_003.mp4\n",
      "052_008_003.mp4\n",
      "newasl/sign-language-gesture-recognition/train_videos/Shut down\\052_010_004.mp4\n",
      "052_008_004.mp4\n",
      "newasl/sign-language-gesture-recognition/train_videos/Shut down\\052_010_005.mp4\n",
      "052_008_005.mp4\n",
      "newasl/sign-language-gesture-recognition/train_videos/Skimmer\\018_003_001.mp4\n",
      "newasl/sign-language-gesture-recognition/train_videos/Skimmer\\018_003_002.mp4\n",
      "newasl/sign-language-gesture-recognition/train_videos/Skimmer\\018_003_003.mp4\n",
      "newasl/sign-language-gesture-recognition/train_videos/Skimmer\\018_003_004.mp4\n",
      "newasl/sign-language-gesture-recognition/train_videos/Skimmer\\018_003_005.mp4\n",
      "newasl/sign-language-gesture-recognition/train_videos/Skimmer\\018_004_001.mp4\n",
      "newasl/sign-language-gesture-recognition/train_videos/Skimmer\\018_004_002.mp4\n",
      "newasl/sign-language-gesture-recognition/train_videos/Skimmer\\018_004_003.mp4\n",
      "newasl/sign-language-gesture-recognition/train_videos/Skimmer\\018_004_004.mp4\n",
      "newasl/sign-language-gesture-recognition/train_videos/Skimmer\\018_004_005.mp4\n",
      "newasl/sign-language-gesture-recognition/train_videos/Skimmer\\018_005_001.mp4\n",
      "newasl/sign-language-gesture-recognition/train_videos/Skimmer\\018_005_002.mp4\n",
      "newasl/sign-language-gesture-recognition/train_videos/Skimmer\\018_005_003.mp4\n",
      "newasl/sign-language-gesture-recognition/train_videos/Skimmer\\018_005_004.mp4\n",
      "newasl/sign-language-gesture-recognition/train_videos/Skimmer\\018_005_005.mp4\n",
      "newasl/sign-language-gesture-recognition/train_videos/Skimmer\\018_006_001.mp4\n",
      "newasl/sign-language-gesture-recognition/train_videos/Skimmer\\018_006_002.mp4\n",
      "newasl/sign-language-gesture-recognition/train_videos/Skimmer\\018_006_003.mp4\n",
      "newasl/sign-language-gesture-recognition/train_videos/Skimmer\\018_006_004.mp4\n",
      "newasl/sign-language-gesture-recognition/train_videos/Skimmer\\018_006_005.mp4\n",
      "newasl/sign-language-gesture-recognition/train_videos/Skimmer\\018_007_001.mp4\n",
      "newasl/sign-language-gesture-recognition/train_videos/Skimmer\\018_007_002.mp4\n",
      "newasl/sign-language-gesture-recognition/train_videos/Skimmer\\018_007_003.mp4\n",
      "newasl/sign-language-gesture-recognition/train_videos/Skimmer\\018_007_004.mp4\n",
      "newasl/sign-language-gesture-recognition/train_videos/Skimmer\\018_007_005.mp4\n",
      "newasl/sign-language-gesture-recognition/train_videos/Skimmer\\018_008_001.mp4\n",
      "newasl/sign-language-gesture-recognition/train_videos/Skimmer\\018_008_002.mp4\n",
      "newasl/sign-language-gesture-recognition/train_videos/Skimmer\\018_008_003.mp4\n",
      "newasl/sign-language-gesture-recognition/train_videos/Skimmer\\018_008_004.mp4\n",
      "newasl/sign-language-gesture-recognition/train_videos/Skimmer\\018_008_005.mp4\n",
      "newasl/sign-language-gesture-recognition/train_videos/Skimmer\\018_009_001.mp4\n",
      "newasl/sign-language-gesture-recognition/train_videos/Skimmer\\018_009_002.mp4\n",
      "newasl/sign-language-gesture-recognition/train_videos/Skimmer\\018_009_003.mp4\n",
      "newasl/sign-language-gesture-recognition/train_videos/Skimmer\\018_009_004.mp4\n",
      "newasl/sign-language-gesture-recognition/train_videos/Skimmer\\018_009_005.mp4\n",
      "newasl/sign-language-gesture-recognition/train_videos/Skimmer\\018_010_001.mp4\n",
      "018_008_001.mp4\n",
      "newasl/sign-language-gesture-recognition/train_videos/Skimmer\\018_010_002.mp4\n",
      "018_008_002.mp4\n",
      "newasl/sign-language-gesture-recognition/train_videos/Skimmer\\018_010_003.mp4\n",
      "018_008_003.mp4\n",
      "newasl/sign-language-gesture-recognition/train_videos/Skimmer\\018_010_004.mp4\n",
      "018_008_004.mp4\n",
      "newasl/sign-language-gesture-recognition/train_videos/Skimmer\\018_010_005.mp4\n",
      "018_008_005.mp4\n",
      "newasl/sign-language-gesture-recognition/train_videos/Son\\011_003_001.mp4\n",
      "newasl/sign-language-gesture-recognition/train_videos/Son\\011_003_002.mp4\n",
      "newasl/sign-language-gesture-recognition/train_videos/Son\\011_003_003.mp4\n",
      "newasl/sign-language-gesture-recognition/train_videos/Son\\011_003_004.mp4\n",
      "newasl/sign-language-gesture-recognition/train_videos/Son\\011_003_005.mp4\n",
      "newasl/sign-language-gesture-recognition/train_videos/Son\\011_004_001.mp4\n",
      "newasl/sign-language-gesture-recognition/train_videos/Son\\011_004_002.mp4\n",
      "newasl/sign-language-gesture-recognition/train_videos/Son\\011_004_003.mp4\n",
      "newasl/sign-language-gesture-recognition/train_videos/Son\\011_004_004.mp4\n",
      "newasl/sign-language-gesture-recognition/train_videos/Son\\011_004_005.mp4\n",
      "newasl/sign-language-gesture-recognition/train_videos/Son\\011_005_001.mp4\n",
      "newasl/sign-language-gesture-recognition/train_videos/Son\\011_005_002.mp4\n",
      "newasl/sign-language-gesture-recognition/train_videos/Son\\011_005_003.mp4\n",
      "newasl/sign-language-gesture-recognition/train_videos/Son\\011_005_004.mp4\n",
      "newasl/sign-language-gesture-recognition/train_videos/Son\\011_005_005.mp4\n",
      "newasl/sign-language-gesture-recognition/train_videos/Son\\011_006_001.mp4\n",
      "newasl/sign-language-gesture-recognition/train_videos/Son\\011_006_002.mp4\n",
      "newasl/sign-language-gesture-recognition/train_videos/Son\\011_006_003.mp4\n",
      "newasl/sign-language-gesture-recognition/train_videos/Son\\011_006_004.mp4\n",
      "newasl/sign-language-gesture-recognition/train_videos/Son\\011_006_005.mp4\n",
      "newasl/sign-language-gesture-recognition/train_videos/Son\\011_007_001.mp4\n",
      "newasl/sign-language-gesture-recognition/train_videos/Son\\011_007_002.mp4\n",
      "newasl/sign-language-gesture-recognition/train_videos/Son\\011_007_003.mp4\n",
      "newasl/sign-language-gesture-recognition/train_videos/Son\\011_007_004.mp4\n",
      "newasl/sign-language-gesture-recognition/train_videos/Son\\011_007_005.mp4\n",
      "newasl/sign-language-gesture-recognition/train_videos/Son\\011_008_001.mp4\n",
      "newasl/sign-language-gesture-recognition/train_videos/Son\\011_008_002.mp4\n",
      "newasl/sign-language-gesture-recognition/train_videos/Son\\011_008_003.mp4\n",
      "newasl/sign-language-gesture-recognition/train_videos/Son\\011_008_004.mp4\n",
      "newasl/sign-language-gesture-recognition/train_videos/Son\\011_008_005.mp4\n",
      "newasl/sign-language-gesture-recognition/train_videos/Son\\011_009_001.mp4\n",
      "newasl/sign-language-gesture-recognition/train_videos/Son\\011_009_002.mp4\n",
      "newasl/sign-language-gesture-recognition/train_videos/Son\\011_009_003.mp4\n",
      "newasl/sign-language-gesture-recognition/train_videos/Son\\011_009_004.mp4\n",
      "newasl/sign-language-gesture-recognition/train_videos/Son\\011_009_005.mp4\n",
      "newasl/sign-language-gesture-recognition/train_videos/Son\\011_010_001.mp4\n",
      "011_008_001.mp4\n",
      "newasl/sign-language-gesture-recognition/train_videos/Son\\011_010_002.mp4\n",
      "011_008_002.mp4\n",
      "newasl/sign-language-gesture-recognition/train_videos/Son\\011_010_003.mp4\n",
      "011_008_003.mp4\n",
      "newasl/sign-language-gesture-recognition/train_videos/Son\\011_010_004.mp4\n",
      "011_008_004.mp4\n",
      "newasl/sign-language-gesture-recognition/train_videos/Son\\011_010_005.mp4\n",
      "011_008_005.mp4\n",
      "newasl/sign-language-gesture-recognition/train_videos/Spaghetti\\048_003_001.mp4\n",
      "newasl/sign-language-gesture-recognition/train_videos/Spaghetti\\048_003_002.mp4\n",
      "newasl/sign-language-gesture-recognition/train_videos/Spaghetti\\048_003_003.mp4\n",
      "newasl/sign-language-gesture-recognition/train_videos/Spaghetti\\048_003_004.mp4\n",
      "newasl/sign-language-gesture-recognition/train_videos/Spaghetti\\048_003_005.mp4\n",
      "newasl/sign-language-gesture-recognition/train_videos/Spaghetti\\048_004_001.mp4\n",
      "newasl/sign-language-gesture-recognition/train_videos/Spaghetti\\048_004_002.mp4\n",
      "newasl/sign-language-gesture-recognition/train_videos/Spaghetti\\048_004_003.mp4\n",
      "newasl/sign-language-gesture-recognition/train_videos/Spaghetti\\048_004_004.mp4\n",
      "newasl/sign-language-gesture-recognition/train_videos/Spaghetti\\048_004_005.mp4\n",
      "newasl/sign-language-gesture-recognition/train_videos/Spaghetti\\048_005_001.mp4\n",
      "newasl/sign-language-gesture-recognition/train_videos/Spaghetti\\048_005_002.mp4\n",
      "newasl/sign-language-gesture-recognition/train_videos/Spaghetti\\048_005_003.mp4\n",
      "newasl/sign-language-gesture-recognition/train_videos/Spaghetti\\048_005_004.mp4\n",
      "newasl/sign-language-gesture-recognition/train_videos/Spaghetti\\048_005_005.mp4\n",
      "newasl/sign-language-gesture-recognition/train_videos/Spaghetti\\048_006_001.mp4\n",
      "newasl/sign-language-gesture-recognition/train_videos/Spaghetti\\048_006_002.mp4\n",
      "newasl/sign-language-gesture-recognition/train_videos/Spaghetti\\048_006_003.mp4\n",
      "newasl/sign-language-gesture-recognition/train_videos/Spaghetti\\048_006_004.mp4\n",
      "newasl/sign-language-gesture-recognition/train_videos/Spaghetti\\048_006_005.mp4\n",
      "newasl/sign-language-gesture-recognition/train_videos/Spaghetti\\048_007_001.mp4\n",
      "newasl/sign-language-gesture-recognition/train_videos/Spaghetti\\048_007_002.mp4\n",
      "newasl/sign-language-gesture-recognition/train_videos/Spaghetti\\048_007_003.mp4\n",
      "newasl/sign-language-gesture-recognition/train_videos/Spaghetti\\048_007_004.mp4\n",
      "newasl/sign-language-gesture-recognition/train_videos/Spaghetti\\048_007_005.mp4\n",
      "newasl/sign-language-gesture-recognition/train_videos/Spaghetti\\048_008_001.mp4\n",
      "newasl/sign-language-gesture-recognition/train_videos/Spaghetti\\048_008_002.mp4\n",
      "newasl/sign-language-gesture-recognition/train_videos/Spaghetti\\048_008_003.mp4\n",
      "newasl/sign-language-gesture-recognition/train_videos/Spaghetti\\048_008_004.mp4\n",
      "newasl/sign-language-gesture-recognition/train_videos/Spaghetti\\048_008_005.mp4\n",
      "newasl/sign-language-gesture-recognition/train_videos/Spaghetti\\048_009_001.mp4\n",
      "newasl/sign-language-gesture-recognition/train_videos/Spaghetti\\048_009_002.mp4\n",
      "newasl/sign-language-gesture-recognition/train_videos/Spaghetti\\048_009_003.mp4\n",
      "newasl/sign-language-gesture-recognition/train_videos/Spaghetti\\048_009_004.mp4\n",
      "newasl/sign-language-gesture-recognition/train_videos/Spaghetti\\048_009_005.mp4\n",
      "newasl/sign-language-gesture-recognition/train_videos/Spaghetti\\048_010_001.mp4\n",
      "048_008_001.mp4\n",
      "newasl/sign-language-gesture-recognition/train_videos/Spaghetti\\048_010_002.mp4\n",
      "048_008_002.mp4\n",
      "newasl/sign-language-gesture-recognition/train_videos/Spaghetti\\048_010_003.mp4\n",
      "048_008_003.mp4\n",
      "newasl/sign-language-gesture-recognition/train_videos/Spaghetti\\048_010_004.mp4\n",
      "048_008_004.mp4\n",
      "newasl/sign-language-gesture-recognition/train_videos/Spaghetti\\048_010_005.mp4\n",
      "048_008_005.mp4\n",
      "newasl/sign-language-gesture-recognition/train_videos/Sweet milk\\020_003_001.mp4\n",
      "newasl/sign-language-gesture-recognition/train_videos/Sweet milk\\020_003_002.mp4\n",
      "newasl/sign-language-gesture-recognition/train_videos/Sweet milk\\020_003_003.mp4\n",
      "newasl/sign-language-gesture-recognition/train_videos/Sweet milk\\020_003_004.mp4\n",
      "newasl/sign-language-gesture-recognition/train_videos/Sweet milk\\020_003_005.mp4\n",
      "newasl/sign-language-gesture-recognition/train_videos/Sweet milk\\020_004_001.mp4\n",
      "newasl/sign-language-gesture-recognition/train_videos/Sweet milk\\020_004_002.mp4\n",
      "newasl/sign-language-gesture-recognition/train_videos/Sweet milk\\020_004_003.mp4\n",
      "newasl/sign-language-gesture-recognition/train_videos/Sweet milk\\020_004_004.mp4\n",
      "newasl/sign-language-gesture-recognition/train_videos/Sweet milk\\020_004_005.mp4\n",
      "newasl/sign-language-gesture-recognition/train_videos/Sweet milk\\020_005_001.mp4\n",
      "newasl/sign-language-gesture-recognition/train_videos/Sweet milk\\020_005_002.mp4\n",
      "newasl/sign-language-gesture-recognition/train_videos/Sweet milk\\020_005_003.mp4\n",
      "newasl/sign-language-gesture-recognition/train_videos/Sweet milk\\020_005_004.mp4\n",
      "newasl/sign-language-gesture-recognition/train_videos/Sweet milk\\020_005_005.mp4\n",
      "newasl/sign-language-gesture-recognition/train_videos/Sweet milk\\020_006_001.mp4\n",
      "newasl/sign-language-gesture-recognition/train_videos/Sweet milk\\020_006_002.mp4\n",
      "newasl/sign-language-gesture-recognition/train_videos/Sweet milk\\020_006_003.mp4\n",
      "newasl/sign-language-gesture-recognition/train_videos/Sweet milk\\020_006_004.mp4\n",
      "newasl/sign-language-gesture-recognition/train_videos/Sweet milk\\020_006_005.mp4\n",
      "newasl/sign-language-gesture-recognition/train_videos/Sweet milk\\020_007_001.mp4\n",
      "newasl/sign-language-gesture-recognition/train_videos/Sweet milk\\020_007_002.mp4\n",
      "newasl/sign-language-gesture-recognition/train_videos/Sweet milk\\020_007_003.mp4\n",
      "newasl/sign-language-gesture-recognition/train_videos/Sweet milk\\020_007_004.mp4\n",
      "newasl/sign-language-gesture-recognition/train_videos/Sweet milk\\020_007_005.mp4\n",
      "newasl/sign-language-gesture-recognition/train_videos/Sweet milk\\020_008_001.mp4\n",
      "newasl/sign-language-gesture-recognition/train_videos/Sweet milk\\020_008_002.mp4\n",
      "newasl/sign-language-gesture-recognition/train_videos/Sweet milk\\020_008_003.mp4\n",
      "newasl/sign-language-gesture-recognition/train_videos/Sweet milk\\020_008_004.mp4\n",
      "newasl/sign-language-gesture-recognition/train_videos/Sweet milk\\020_008_005.mp4\n",
      "newasl/sign-language-gesture-recognition/train_videos/Sweet milk\\020_009_001.mp4\n",
      "newasl/sign-language-gesture-recognition/train_videos/Sweet milk\\020_009_002.mp4\n",
      "newasl/sign-language-gesture-recognition/train_videos/Sweet milk\\020_009_003.mp4\n",
      "newasl/sign-language-gesture-recognition/train_videos/Sweet milk\\020_009_004.mp4\n",
      "newasl/sign-language-gesture-recognition/train_videos/Sweet milk\\020_009_005.mp4\n",
      "newasl/sign-language-gesture-recognition/train_videos/Sweet milk\\020_010_001.mp4\n",
      "020_008_001.mp4\n",
      "newasl/sign-language-gesture-recognition/train_videos/Sweet milk\\020_010_002.mp4\n",
      "020_008_002.mp4\n",
      "newasl/sign-language-gesture-recognition/train_videos/Sweet milk\\020_010_003.mp4\n",
      "020_008_003.mp4\n",
      "newasl/sign-language-gesture-recognition/train_videos/Sweet milk\\020_010_004.mp4\n",
      "020_008_004.mp4\n",
      "newasl/sign-language-gesture-recognition/train_videos/Sweet milk\\020_010_005.mp4\n",
      "020_008_005.mp4\n",
      "newasl/sign-language-gesture-recognition/train_videos/Thanks\\051_003_001.mp4\n",
      "newasl/sign-language-gesture-recognition/train_videos/Thanks\\051_003_002.mp4\n",
      "newasl/sign-language-gesture-recognition/train_videos/Thanks\\051_003_003.mp4\n",
      "newasl/sign-language-gesture-recognition/train_videos/Thanks\\051_003_004.mp4\n",
      "newasl/sign-language-gesture-recognition/train_videos/Thanks\\051_003_005.mp4\n",
      "newasl/sign-language-gesture-recognition/train_videos/Thanks\\051_004_001.mp4\n",
      "newasl/sign-language-gesture-recognition/train_videos/Thanks\\051_004_002.mp4\n",
      "newasl/sign-language-gesture-recognition/train_videos/Thanks\\051_004_003.mp4\n",
      "newasl/sign-language-gesture-recognition/train_videos/Thanks\\051_004_004.mp4\n",
      "newasl/sign-language-gesture-recognition/train_videos/Thanks\\051_004_005.mp4\n",
      "newasl/sign-language-gesture-recognition/train_videos/Thanks\\051_005_001.mp4\n",
      "newasl/sign-language-gesture-recognition/train_videos/Thanks\\051_005_002.mp4\n",
      "newasl/sign-language-gesture-recognition/train_videos/Thanks\\051_005_003.mp4\n",
      "newasl/sign-language-gesture-recognition/train_videos/Thanks\\051_005_004.mp4\n",
      "newasl/sign-language-gesture-recognition/train_videos/Thanks\\051_005_005.mp4\n",
      "newasl/sign-language-gesture-recognition/train_videos/Thanks\\051_006_001.mp4\n",
      "newasl/sign-language-gesture-recognition/train_videos/Thanks\\051_006_002.mp4\n",
      "newasl/sign-language-gesture-recognition/train_videos/Thanks\\051_006_003.mp4\n",
      "newasl/sign-language-gesture-recognition/train_videos/Thanks\\051_006_004.mp4\n",
      "newasl/sign-language-gesture-recognition/train_videos/Thanks\\051_006_005.mp4\n",
      "newasl/sign-language-gesture-recognition/train_videos/Thanks\\051_007_001.mp4\n",
      "newasl/sign-language-gesture-recognition/train_videos/Thanks\\051_007_002.mp4\n",
      "newasl/sign-language-gesture-recognition/train_videos/Thanks\\051_007_003.mp4\n",
      "newasl/sign-language-gesture-recognition/train_videos/Thanks\\051_007_004.mp4\n",
      "newasl/sign-language-gesture-recognition/train_videos/Thanks\\051_007_005.mp4\n",
      "newasl/sign-language-gesture-recognition/train_videos/Thanks\\051_008_001.mp4\n",
      "newasl/sign-language-gesture-recognition/train_videos/Thanks\\051_008_002.mp4\n",
      "newasl/sign-language-gesture-recognition/train_videos/Thanks\\051_008_003.mp4\n",
      "newasl/sign-language-gesture-recognition/train_videos/Thanks\\051_008_004.mp4\n",
      "newasl/sign-language-gesture-recognition/train_videos/Thanks\\051_008_005.mp4\n",
      "newasl/sign-language-gesture-recognition/train_videos/Thanks\\051_009_001.mp4\n",
      "newasl/sign-language-gesture-recognition/train_videos/Thanks\\051_009_002.mp4\n",
      "newasl/sign-language-gesture-recognition/train_videos/Thanks\\051_009_003.mp4\n",
      "newasl/sign-language-gesture-recognition/train_videos/Thanks\\051_009_004.mp4\n",
      "newasl/sign-language-gesture-recognition/train_videos/Thanks\\051_009_005.mp4\n",
      "newasl/sign-language-gesture-recognition/train_videos/Thanks\\051_010_001.mp4\n",
      "051_008_001.mp4\n",
      "newasl/sign-language-gesture-recognition/train_videos/Thanks\\051_010_002.mp4\n",
      "051_008_002.mp4\n",
      "newasl/sign-language-gesture-recognition/train_videos/Thanks\\051_010_003.mp4\n",
      "051_008_003.mp4\n",
      "newasl/sign-language-gesture-recognition/train_videos/Thanks\\051_010_004.mp4\n",
      "051_008_004.mp4\n",
      "newasl/sign-language-gesture-recognition/train_videos/Thanks\\051_010_005.mp4\n",
      "051_008_005.mp4\n",
      "newasl/sign-language-gesture-recognition/train_videos/To land\\054_003_001.mp4\n",
      "newasl/sign-language-gesture-recognition/train_videos/To land\\054_003_002.mp4\n",
      "newasl/sign-language-gesture-recognition/train_videos/To land\\054_003_003.mp4\n",
      "newasl/sign-language-gesture-recognition/train_videos/To land\\054_003_004.mp4\n",
      "newasl/sign-language-gesture-recognition/train_videos/To land\\054_003_005.mp4\n",
      "newasl/sign-language-gesture-recognition/train_videos/To land\\054_004_001.mp4\n",
      "newasl/sign-language-gesture-recognition/train_videos/To land\\054_004_002.mp4\n",
      "newasl/sign-language-gesture-recognition/train_videos/To land\\054_004_003.mp4\n",
      "newasl/sign-language-gesture-recognition/train_videos/To land\\054_004_004.mp4\n",
      "newasl/sign-language-gesture-recognition/train_videos/To land\\054_004_005.mp4\n",
      "newasl/sign-language-gesture-recognition/train_videos/To land\\054_005_001.mp4\n",
      "newasl/sign-language-gesture-recognition/train_videos/To land\\054_005_002.mp4\n",
      "newasl/sign-language-gesture-recognition/train_videos/To land\\054_005_003.mp4\n",
      "newasl/sign-language-gesture-recognition/train_videos/To land\\054_005_004.mp4\n",
      "newasl/sign-language-gesture-recognition/train_videos/To land\\054_005_005.mp4\n",
      "newasl/sign-language-gesture-recognition/train_videos/To land\\054_006_001.mp4\n",
      "newasl/sign-language-gesture-recognition/train_videos/To land\\054_006_002.mp4\n",
      "newasl/sign-language-gesture-recognition/train_videos/To land\\054_006_003.mp4\n",
      "newasl/sign-language-gesture-recognition/train_videos/To land\\054_006_004.mp4\n",
      "newasl/sign-language-gesture-recognition/train_videos/To land\\054_006_005.mp4\n",
      "newasl/sign-language-gesture-recognition/train_videos/To land\\054_007_001.mp4\n",
      "newasl/sign-language-gesture-recognition/train_videos/To land\\054_007_002.mp4\n",
      "newasl/sign-language-gesture-recognition/train_videos/To land\\054_007_003.mp4\n",
      "newasl/sign-language-gesture-recognition/train_videos/To land\\054_007_004.mp4\n",
      "newasl/sign-language-gesture-recognition/train_videos/To land\\054_007_005.mp4\n",
      "newasl/sign-language-gesture-recognition/train_videos/To land\\054_008_001.mp4\n",
      "newasl/sign-language-gesture-recognition/train_videos/To land\\054_008_002.mp4\n",
      "newasl/sign-language-gesture-recognition/train_videos/To land\\054_008_003.mp4\n",
      "newasl/sign-language-gesture-recognition/train_videos/To land\\054_008_004.mp4\n",
      "newasl/sign-language-gesture-recognition/train_videos/To land\\054_008_005.mp4\n",
      "newasl/sign-language-gesture-recognition/train_videos/To land\\054_009_001.mp4\n",
      "newasl/sign-language-gesture-recognition/train_videos/To land\\054_009_002.mp4\n",
      "newasl/sign-language-gesture-recognition/train_videos/To land\\054_009_003.mp4\n",
      "newasl/sign-language-gesture-recognition/train_videos/To land\\054_009_004.mp4\n",
      "newasl/sign-language-gesture-recognition/train_videos/To land\\054_009_005.mp4\n",
      "newasl/sign-language-gesture-recognition/train_videos/To land\\054_010_001.mp4\n",
      "054_008_001.mp4\n",
      "newasl/sign-language-gesture-recognition/train_videos/To land\\054_010_002.mp4\n",
      "054_008_002.mp4\n",
      "newasl/sign-language-gesture-recognition/train_videos/To land\\054_010_003.mp4\n",
      "054_008_003.mp4\n",
      "newasl/sign-language-gesture-recognition/train_videos/To land\\054_010_004.mp4\n",
      "054_008_004.mp4\n",
      "newasl/sign-language-gesture-recognition/train_videos/To land\\054_010_005.mp4\n",
      "054_008_005.mp4\n",
      "newasl/sign-language-gesture-recognition/train_videos/Trap\\043_003_001.mp4\n",
      "newasl/sign-language-gesture-recognition/train_videos/Trap\\043_003_002.mp4\n",
      "newasl/sign-language-gesture-recognition/train_videos/Trap\\043_003_003.mp4\n",
      "newasl/sign-language-gesture-recognition/train_videos/Trap\\043_003_004.mp4\n",
      "newasl/sign-language-gesture-recognition/train_videos/Trap\\043_003_005.mp4\n",
      "newasl/sign-language-gesture-recognition/train_videos/Trap\\043_004_001.mp4\n",
      "newasl/sign-language-gesture-recognition/train_videos/Trap\\043_004_002.mp4\n",
      "newasl/sign-language-gesture-recognition/train_videos/Trap\\043_004_003.mp4\n",
      "newasl/sign-language-gesture-recognition/train_videos/Trap\\043_004_004.mp4\n",
      "newasl/sign-language-gesture-recognition/train_videos/Trap\\043_004_005.mp4\n",
      "newasl/sign-language-gesture-recognition/train_videos/Trap\\043_005_001.mp4\n",
      "newasl/sign-language-gesture-recognition/train_videos/Trap\\043_005_002.mp4\n",
      "newasl/sign-language-gesture-recognition/train_videos/Trap\\043_005_003.mp4\n",
      "newasl/sign-language-gesture-recognition/train_videos/Trap\\043_005_004.mp4\n",
      "newasl/sign-language-gesture-recognition/train_videos/Trap\\043_005_005.mp4\n",
      "newasl/sign-language-gesture-recognition/train_videos/Trap\\043_006_001.mp4\n",
      "newasl/sign-language-gesture-recognition/train_videos/Trap\\043_006_002.mp4\n",
      "newasl/sign-language-gesture-recognition/train_videos/Trap\\043_006_003.mp4\n",
      "newasl/sign-language-gesture-recognition/train_videos/Trap\\043_006_004.mp4\n",
      "newasl/sign-language-gesture-recognition/train_videos/Trap\\043_006_005.mp4\n",
      "newasl/sign-language-gesture-recognition/train_videos/Trap\\043_007_001.mp4\n",
      "newasl/sign-language-gesture-recognition/train_videos/Trap\\043_007_002.mp4\n",
      "newasl/sign-language-gesture-recognition/train_videos/Trap\\043_007_003.mp4\n",
      "newasl/sign-language-gesture-recognition/train_videos/Trap\\043_007_004.mp4\n",
      "newasl/sign-language-gesture-recognition/train_videos/Trap\\043_007_005.mp4\n",
      "newasl/sign-language-gesture-recognition/train_videos/Trap\\043_008_001.mp4\n",
      "newasl/sign-language-gesture-recognition/train_videos/Trap\\043_008_002.mp4\n",
      "newasl/sign-language-gesture-recognition/train_videos/Trap\\043_008_003.mp4\n",
      "newasl/sign-language-gesture-recognition/train_videos/Trap\\043_008_004.mp4\n",
      "newasl/sign-language-gesture-recognition/train_videos/Trap\\043_008_005.mp4\n",
      "newasl/sign-language-gesture-recognition/train_videos/Trap\\043_009_001.mp4\n",
      "newasl/sign-language-gesture-recognition/train_videos/Trap\\043_009_002.mp4\n",
      "newasl/sign-language-gesture-recognition/train_videos/Trap\\043_009_003.mp4\n",
      "newasl/sign-language-gesture-recognition/train_videos/Trap\\043_009_004.mp4\n",
      "newasl/sign-language-gesture-recognition/train_videos/Trap\\043_009_005.mp4\n",
      "newasl/sign-language-gesture-recognition/train_videos/Trap\\043_010_001.mp4\n",
      "043_008_001.mp4\n",
      "newasl/sign-language-gesture-recognition/train_videos/Trap\\043_010_002.mp4\n",
      "043_008_002.mp4\n",
      "newasl/sign-language-gesture-recognition/train_videos/Trap\\043_010_003.mp4\n",
      "043_008_003.mp4\n",
      "newasl/sign-language-gesture-recognition/train_videos/Trap\\043_010_004.mp4\n",
      "043_008_004.mp4\n",
      "newasl/sign-language-gesture-recognition/train_videos/Trap\\043_010_005.mp4\n",
      "043_008_005.mp4\n",
      "newasl/sign-language-gesture-recognition/train_videos/Uruguay\\025_003_001.mp4\n",
      "newasl/sign-language-gesture-recognition/train_videos/Uruguay\\025_003_002.mp4\n",
      "newasl/sign-language-gesture-recognition/train_videos/Uruguay\\025_003_003.mp4\n",
      "newasl/sign-language-gesture-recognition/train_videos/Uruguay\\025_003_004.mp4\n",
      "newasl/sign-language-gesture-recognition/train_videos/Uruguay\\025_003_005.mp4\n",
      "newasl/sign-language-gesture-recognition/train_videos/Uruguay\\025_004_001.mp4\n",
      "newasl/sign-language-gesture-recognition/train_videos/Uruguay\\025_004_002.mp4\n",
      "newasl/sign-language-gesture-recognition/train_videos/Uruguay\\025_004_003.mp4\n",
      "newasl/sign-language-gesture-recognition/train_videos/Uruguay\\025_004_004.mp4\n",
      "newasl/sign-language-gesture-recognition/train_videos/Uruguay\\025_004_005.mp4\n",
      "newasl/sign-language-gesture-recognition/train_videos/Uruguay\\025_005_001.mp4\n",
      "newasl/sign-language-gesture-recognition/train_videos/Uruguay\\025_005_002.mp4\n",
      "newasl/sign-language-gesture-recognition/train_videos/Uruguay\\025_005_003.mp4\n",
      "newasl/sign-language-gesture-recognition/train_videos/Uruguay\\025_005_004.mp4\n",
      "newasl/sign-language-gesture-recognition/train_videos/Uruguay\\025_005_005.mp4\n",
      "newasl/sign-language-gesture-recognition/train_videos/Uruguay\\025_006_001.mp4\n",
      "newasl/sign-language-gesture-recognition/train_videos/Uruguay\\025_006_002.mp4\n",
      "newasl/sign-language-gesture-recognition/train_videos/Uruguay\\025_006_003.mp4\n",
      "newasl/sign-language-gesture-recognition/train_videos/Uruguay\\025_006_004.mp4\n",
      "newasl/sign-language-gesture-recognition/train_videos/Uruguay\\025_006_005.mp4\n",
      "newasl/sign-language-gesture-recognition/train_videos/Uruguay\\025_007_001.mp4\n",
      "newasl/sign-language-gesture-recognition/train_videos/Uruguay\\025_007_002.mp4\n",
      "newasl/sign-language-gesture-recognition/train_videos/Uruguay\\025_007_003.mp4\n",
      "newasl/sign-language-gesture-recognition/train_videos/Uruguay\\025_007_004.mp4\n",
      "newasl/sign-language-gesture-recognition/train_videos/Uruguay\\025_007_005.mp4\n",
      "newasl/sign-language-gesture-recognition/train_videos/Uruguay\\025_008_001.mp4\n",
      "newasl/sign-language-gesture-recognition/train_videos/Uruguay\\025_008_002.mp4\n",
      "newasl/sign-language-gesture-recognition/train_videos/Uruguay\\025_008_003.mp4\n",
      "newasl/sign-language-gesture-recognition/train_videos/Uruguay\\025_008_004.mp4\n",
      "newasl/sign-language-gesture-recognition/train_videos/Uruguay\\025_008_005.mp4\n",
      "newasl/sign-language-gesture-recognition/train_videos/Uruguay\\025_009_001.mp4\n",
      "newasl/sign-language-gesture-recognition/train_videos/Uruguay\\025_009_002.mp4\n",
      "newasl/sign-language-gesture-recognition/train_videos/Uruguay\\025_009_003.mp4\n",
      "newasl/sign-language-gesture-recognition/train_videos/Uruguay\\025_009_004.mp4\n",
      "newasl/sign-language-gesture-recognition/train_videos/Uruguay\\025_009_005.mp4\n",
      "newasl/sign-language-gesture-recognition/train_videos/Uruguay\\025_010_001.mp4\n",
      "025_008_001.mp4\n",
      "newasl/sign-language-gesture-recognition/train_videos/Uruguay\\025_010_002.mp4\n",
      "025_008_002.mp4\n",
      "newasl/sign-language-gesture-recognition/train_videos/Uruguay\\025_010_003.mp4\n",
      "025_008_003.mp4\n",
      "newasl/sign-language-gesture-recognition/train_videos/Uruguay\\025_010_004.mp4\n",
      "025_008_004.mp4\n",
      "newasl/sign-language-gesture-recognition/train_videos/Uruguay\\025_010_005.mp4\n",
      "025_008_005.mp4\n",
      "newasl/sign-language-gesture-recognition/train_videos/Water\\022_003_001.mp4\n",
      "newasl/sign-language-gesture-recognition/train_videos/Water\\022_003_002.mp4\n",
      "newasl/sign-language-gesture-recognition/train_videos/Water\\022_003_003.mp4\n",
      "newasl/sign-language-gesture-recognition/train_videos/Water\\022_003_004.mp4\n",
      "newasl/sign-language-gesture-recognition/train_videos/Water\\022_003_005.mp4\n",
      "newasl/sign-language-gesture-recognition/train_videos/Water\\022_004_001.mp4\n",
      "newasl/sign-language-gesture-recognition/train_videos/Water\\022_004_002.mp4\n",
      "newasl/sign-language-gesture-recognition/train_videos/Water\\022_004_003.mp4\n",
      "newasl/sign-language-gesture-recognition/train_videos/Water\\022_004_004.mp4\n",
      "newasl/sign-language-gesture-recognition/train_videos/Water\\022_004_005.mp4\n",
      "newasl/sign-language-gesture-recognition/train_videos/Water\\022_005_001.mp4\n",
      "newasl/sign-language-gesture-recognition/train_videos/Water\\022_005_002.mp4\n",
      "newasl/sign-language-gesture-recognition/train_videos/Water\\022_005_003.mp4\n",
      "newasl/sign-language-gesture-recognition/train_videos/Water\\022_005_004.mp4\n",
      "newasl/sign-language-gesture-recognition/train_videos/Water\\022_005_005.mp4\n",
      "newasl/sign-language-gesture-recognition/train_videos/Water\\022_006_001.mp4\n",
      "newasl/sign-language-gesture-recognition/train_videos/Water\\022_006_002.mp4\n",
      "newasl/sign-language-gesture-recognition/train_videos/Water\\022_006_003.mp4\n",
      "newasl/sign-language-gesture-recognition/train_videos/Water\\022_006_004.mp4\n",
      "newasl/sign-language-gesture-recognition/train_videos/Water\\022_006_005.mp4\n",
      "newasl/sign-language-gesture-recognition/train_videos/Water\\022_007_001.mp4\n",
      "newasl/sign-language-gesture-recognition/train_videos/Water\\022_007_002.mp4\n",
      "newasl/sign-language-gesture-recognition/train_videos/Water\\022_007_003.mp4\n",
      "newasl/sign-language-gesture-recognition/train_videos/Water\\022_007_004.mp4\n",
      "newasl/sign-language-gesture-recognition/train_videos/Water\\022_007_005.mp4\n",
      "newasl/sign-language-gesture-recognition/train_videos/Water\\022_008_001.mp4\n",
      "newasl/sign-language-gesture-recognition/train_videos/Water\\022_008_002.mp4\n",
      "newasl/sign-language-gesture-recognition/train_videos/Water\\022_008_003.mp4\n",
      "newasl/sign-language-gesture-recognition/train_videos/Water\\022_008_004.mp4\n",
      "newasl/sign-language-gesture-recognition/train_videos/Water\\022_008_005.mp4\n",
      "newasl/sign-language-gesture-recognition/train_videos/Water\\022_009_001.mp4\n",
      "newasl/sign-language-gesture-recognition/train_videos/Water\\022_009_002.mp4\n",
      "newasl/sign-language-gesture-recognition/train_videos/Water\\022_009_003.mp4\n",
      "newasl/sign-language-gesture-recognition/train_videos/Water\\022_009_004.mp4\n",
      "newasl/sign-language-gesture-recognition/train_videos/Water\\022_009_005.mp4\n",
      "newasl/sign-language-gesture-recognition/train_videos/Water\\022_010_001.mp4\n",
      "022_008_001.mp4\n",
      "newasl/sign-language-gesture-recognition/train_videos/Water\\022_010_002.mp4\n",
      "022_008_002.mp4\n",
      "newasl/sign-language-gesture-recognition/train_videos/Water\\022_010_003.mp4\n",
      "022_008_003.mp4\n",
      "newasl/sign-language-gesture-recognition/train_videos/Water\\022_010_004.mp4\n",
      "022_008_004.mp4\n",
      "newasl/sign-language-gesture-recognition/train_videos/Water\\022_010_005.mp4\n",
      "022_008_005.mp4\n",
      "newasl/sign-language-gesture-recognition/train_videos/Where\\028_003_001.mp4\n",
      "newasl/sign-language-gesture-recognition/train_videos/Where\\028_003_002.mp4\n",
      "newasl/sign-language-gesture-recognition/train_videos/Where\\028_003_003.mp4\n",
      "newasl/sign-language-gesture-recognition/train_videos/Where\\028_003_004.mp4\n",
      "newasl/sign-language-gesture-recognition/train_videos/Where\\028_003_005.mp4\n",
      "newasl/sign-language-gesture-recognition/train_videos/Where\\028_004_001.mp4\n",
      "newasl/sign-language-gesture-recognition/train_videos/Where\\028_004_002.mp4\n",
      "newasl/sign-language-gesture-recognition/train_videos/Where\\028_004_003.mp4\n",
      "newasl/sign-language-gesture-recognition/train_videos/Where\\028_004_004.mp4\n",
      "newasl/sign-language-gesture-recognition/train_videos/Where\\028_004_005.mp4\n",
      "newasl/sign-language-gesture-recognition/train_videos/Where\\028_005_001.mp4\n",
      "newasl/sign-language-gesture-recognition/train_videos/Where\\028_005_002.mp4\n",
      "newasl/sign-language-gesture-recognition/train_videos/Where\\028_005_003.mp4\n",
      "newasl/sign-language-gesture-recognition/train_videos/Where\\028_005_004.mp4\n",
      "newasl/sign-language-gesture-recognition/train_videos/Where\\028_005_005.mp4\n",
      "newasl/sign-language-gesture-recognition/train_videos/Where\\028_006_001.mp4\n",
      "newasl/sign-language-gesture-recognition/train_videos/Where\\028_006_002.mp4\n",
      "newasl/sign-language-gesture-recognition/train_videos/Where\\028_006_003.mp4\n",
      "newasl/sign-language-gesture-recognition/train_videos/Where\\028_006_004.mp4\n",
      "newasl/sign-language-gesture-recognition/train_videos/Where\\028_006_005.mp4\n",
      "newasl/sign-language-gesture-recognition/train_videos/Where\\028_007_001.mp4\n",
      "newasl/sign-language-gesture-recognition/train_videos/Where\\028_007_002.mp4\n",
      "newasl/sign-language-gesture-recognition/train_videos/Where\\028_007_003.mp4\n",
      "newasl/sign-language-gesture-recognition/train_videos/Where\\028_007_004.mp4\n",
      "newasl/sign-language-gesture-recognition/train_videos/Where\\028_007_005.mp4\n",
      "newasl/sign-language-gesture-recognition/train_videos/Where\\028_008_001.mp4\n",
      "newasl/sign-language-gesture-recognition/train_videos/Where\\028_008_002.mp4\n",
      "newasl/sign-language-gesture-recognition/train_videos/Where\\028_008_003.mp4\n",
      "newasl/sign-language-gesture-recognition/train_videos/Where\\028_008_004.mp4\n",
      "newasl/sign-language-gesture-recognition/train_videos/Where\\028_008_005.mp4\n",
      "newasl/sign-language-gesture-recognition/train_videos/Where\\028_009_001.mp4\n",
      "newasl/sign-language-gesture-recognition/train_videos/Where\\028_009_002.mp4\n",
      "newasl/sign-language-gesture-recognition/train_videos/Where\\028_009_003.mp4\n",
      "newasl/sign-language-gesture-recognition/train_videos/Where\\028_009_004.mp4\n",
      "newasl/sign-language-gesture-recognition/train_videos/Where\\028_009_005.mp4\n",
      "newasl/sign-language-gesture-recognition/train_videos/Where\\028_010_001.mp4\n",
      "028_008_001.mp4\n",
      "newasl/sign-language-gesture-recognition/train_videos/Where\\028_010_002.mp4\n",
      "028_008_002.mp4\n",
      "newasl/sign-language-gesture-recognition/train_videos/Where\\028_010_003.mp4\n",
      "028_008_003.mp4\n",
      "newasl/sign-language-gesture-recognition/train_videos/Where\\028_010_004.mp4\n",
      "028_008_004.mp4\n",
      "newasl/sign-language-gesture-recognition/train_videos/Where\\028_010_005.mp4\n",
      "028_008_005.mp4\n",
      "newasl/sign-language-gesture-recognition/train_videos/Women\\009_003_001.mp4\n",
      "newasl/sign-language-gesture-recognition/train_videos/Women\\009_003_002.mp4\n",
      "newasl/sign-language-gesture-recognition/train_videos/Women\\009_003_003.mp4\n",
      "newasl/sign-language-gesture-recognition/train_videos/Women\\009_003_004.mp4\n",
      "newasl/sign-language-gesture-recognition/train_videos/Women\\009_003_005.mp4\n",
      "newasl/sign-language-gesture-recognition/train_videos/Women\\009_004_001.mp4\n",
      "newasl/sign-language-gesture-recognition/train_videos/Women\\009_004_002.mp4\n",
      "newasl/sign-language-gesture-recognition/train_videos/Women\\009_004_003.mp4\n",
      "newasl/sign-language-gesture-recognition/train_videos/Women\\009_004_004.mp4\n",
      "newasl/sign-language-gesture-recognition/train_videos/Women\\009_004_005.mp4\n",
      "newasl/sign-language-gesture-recognition/train_videos/Women\\009_005_001.mp4\n",
      "newasl/sign-language-gesture-recognition/train_videos/Women\\009_005_002.mp4\n",
      "newasl/sign-language-gesture-recognition/train_videos/Women\\009_005_003.mp4\n",
      "newasl/sign-language-gesture-recognition/train_videos/Women\\009_005_004.mp4\n",
      "newasl/sign-language-gesture-recognition/train_videos/Women\\009_005_005.mp4\n",
      "newasl/sign-language-gesture-recognition/train_videos/Women\\009_006_001.mp4\n",
      "newasl/sign-language-gesture-recognition/train_videos/Women\\009_006_002.mp4\n",
      "newasl/sign-language-gesture-recognition/train_videos/Women\\009_006_003.mp4\n",
      "newasl/sign-language-gesture-recognition/train_videos/Women\\009_006_004.mp4\n",
      "newasl/sign-language-gesture-recognition/train_videos/Women\\009_006_005.mp4\n",
      "newasl/sign-language-gesture-recognition/train_videos/Women\\009_007_001.mp4\n",
      "newasl/sign-language-gesture-recognition/train_videos/Women\\009_007_002.mp4\n",
      "newasl/sign-language-gesture-recognition/train_videos/Women\\009_007_003.mp4\n",
      "newasl/sign-language-gesture-recognition/train_videos/Women\\009_007_004.mp4\n",
      "newasl/sign-language-gesture-recognition/train_videos/Women\\009_007_005.mp4\n",
      "newasl/sign-language-gesture-recognition/train_videos/Women\\009_008_001.mp4\n",
      "newasl/sign-language-gesture-recognition/train_videos/Women\\009_008_002.mp4\n",
      "newasl/sign-language-gesture-recognition/train_videos/Women\\009_008_003.mp4\n",
      "newasl/sign-language-gesture-recognition/train_videos/Women\\009_008_004.mp4\n",
      "newasl/sign-language-gesture-recognition/train_videos/Women\\009_008_005.mp4\n",
      "newasl/sign-language-gesture-recognition/train_videos/Women\\009_009_001.mp4\n",
      "newasl/sign-language-gesture-recognition/train_videos/Women\\009_009_002.mp4\n",
      "newasl/sign-language-gesture-recognition/train_videos/Women\\009_009_003.mp4\n",
      "newasl/sign-language-gesture-recognition/train_videos/Women\\009_009_004.mp4\n",
      "newasl/sign-language-gesture-recognition/train_videos/Women\\009_009_005.mp4\n",
      "newasl/sign-language-gesture-recognition/train_videos/Women\\009_010_001.mp4\n",
      "009_008_001.mp4\n",
      "newasl/sign-language-gesture-recognition/train_videos/Women\\009_010_002.mp4\n",
      "009_008_002.mp4\n",
      "newasl/sign-language-gesture-recognition/train_videos/Women\\009_010_003.mp4\n",
      "009_008_003.mp4\n",
      "newasl/sign-language-gesture-recognition/train_videos/Women\\009_010_004.mp4\n",
      "009_008_004.mp4\n",
      "newasl/sign-language-gesture-recognition/train_videos/Women\\009_010_005.mp4\n",
      "009_008_005.mp4\n",
      "newasl/sign-language-gesture-recognition/train_videos/Yellow\\004_003_001.mp4\n",
      "newasl/sign-language-gesture-recognition/train_videos/Yellow\\004_003_002.mp4\n",
      "newasl/sign-language-gesture-recognition/train_videos/Yellow\\004_003_003.mp4\n",
      "newasl/sign-language-gesture-recognition/train_videos/Yellow\\004_003_004.mp4\n",
      "newasl/sign-language-gesture-recognition/train_videos/Yellow\\004_003_005.mp4\n",
      "newasl/sign-language-gesture-recognition/train_videos/Yellow\\004_004_001.mp4\n",
      "newasl/sign-language-gesture-recognition/train_videos/Yellow\\004_004_002.mp4\n",
      "newasl/sign-language-gesture-recognition/train_videos/Yellow\\004_004_003.mp4\n",
      "newasl/sign-language-gesture-recognition/train_videos/Yellow\\004_004_004.mp4\n",
      "newasl/sign-language-gesture-recognition/train_videos/Yellow\\004_004_005.mp4\n",
      "newasl/sign-language-gesture-recognition/train_videos/Yellow\\004_005_001.mp4\n",
      "newasl/sign-language-gesture-recognition/train_videos/Yellow\\004_005_002.mp4\n",
      "newasl/sign-language-gesture-recognition/train_videos/Yellow\\004_005_003.mp4\n",
      "newasl/sign-language-gesture-recognition/train_videos/Yellow\\004_005_004.mp4\n",
      "newasl/sign-language-gesture-recognition/train_videos/Yellow\\004_005_005.mp4\n",
      "newasl/sign-language-gesture-recognition/train_videos/Yellow\\004_006_001.mp4\n",
      "newasl/sign-language-gesture-recognition/train_videos/Yellow\\004_006_002.mp4\n",
      "newasl/sign-language-gesture-recognition/train_videos/Yellow\\004_006_003.mp4\n",
      "newasl/sign-language-gesture-recognition/train_videos/Yellow\\004_006_004.mp4\n",
      "newasl/sign-language-gesture-recognition/train_videos/Yellow\\004_006_005.mp4\n",
      "newasl/sign-language-gesture-recognition/train_videos/Yellow\\004_007_001.mp4\n",
      "newasl/sign-language-gesture-recognition/train_videos/Yellow\\004_007_002.mp4\n",
      "newasl/sign-language-gesture-recognition/train_videos/Yellow\\004_007_003.mp4\n",
      "newasl/sign-language-gesture-recognition/train_videos/Yellow\\004_007_004.mp4\n",
      "newasl/sign-language-gesture-recognition/train_videos/Yellow\\004_007_005.mp4\n",
      "newasl/sign-language-gesture-recognition/train_videos/Yellow\\004_008_001.mp4\n",
      "newasl/sign-language-gesture-recognition/train_videos/Yellow\\004_008_002.mp4\n",
      "newasl/sign-language-gesture-recognition/train_videos/Yellow\\004_008_003.mp4\n",
      "newasl/sign-language-gesture-recognition/train_videos/Yellow\\004_008_004.mp4\n",
      "newasl/sign-language-gesture-recognition/train_videos/Yellow\\004_008_005.mp4\n",
      "newasl/sign-language-gesture-recognition/train_videos/Yellow\\004_009_001.mp4\n",
      "newasl/sign-language-gesture-recognition/train_videos/Yellow\\004_009_002.mp4\n",
      "newasl/sign-language-gesture-recognition/train_videos/Yellow\\004_009_003.mp4\n",
      "newasl/sign-language-gesture-recognition/train_videos/Yellow\\004_009_004.mp4\n",
      "newasl/sign-language-gesture-recognition/train_videos/Yellow\\004_009_005.mp4\n",
      "newasl/sign-language-gesture-recognition/train_videos/Yellow\\004_010_001.mp4\n",
      "004_008_001.mp4\n",
      "newasl/sign-language-gesture-recognition/train_videos/Yellow\\004_010_002.mp4\n",
      "004_008_002.mp4\n",
      "newasl/sign-language-gesture-recognition/train_videos/Yellow\\004_010_003.mp4\n",
      "004_008_003.mp4\n",
      "newasl/sign-language-gesture-recognition/train_videos/Yellow\\004_010_004.mp4\n",
      "004_008_004.mp4\n",
      "newasl/sign-language-gesture-recognition/train_videos/Yellow\\004_010_005.mp4\n",
      "004_008_005.mp4\n",
      "newasl/sign-language-gesture-recognition/train_videos/Yogurt\\049_003_001.mp4\n",
      "newasl/sign-language-gesture-recognition/train_videos/Yogurt\\049_003_002.mp4\n",
      "newasl/sign-language-gesture-recognition/train_videos/Yogurt\\049_003_003.mp4\n",
      "newasl/sign-language-gesture-recognition/train_videos/Yogurt\\049_003_004.mp4\n",
      "newasl/sign-language-gesture-recognition/train_videos/Yogurt\\049_003_005.mp4\n",
      "newasl/sign-language-gesture-recognition/train_videos/Yogurt\\049_004_001.mp4\n",
      "newasl/sign-language-gesture-recognition/train_videos/Yogurt\\049_004_002.mp4\n",
      "newasl/sign-language-gesture-recognition/train_videos/Yogurt\\049_004_003.mp4\n",
      "newasl/sign-language-gesture-recognition/train_videos/Yogurt\\049_004_004.mp4\n",
      "newasl/sign-language-gesture-recognition/train_videos/Yogurt\\049_004_005.mp4\n",
      "newasl/sign-language-gesture-recognition/train_videos/Yogurt\\049_005_001.mp4\n",
      "newasl/sign-language-gesture-recognition/train_videos/Yogurt\\049_005_002.mp4\n",
      "newasl/sign-language-gesture-recognition/train_videos/Yogurt\\049_005_003.mp4\n",
      "newasl/sign-language-gesture-recognition/train_videos/Yogurt\\049_005_004.mp4\n",
      "newasl/sign-language-gesture-recognition/train_videos/Yogurt\\049_005_005.mp4\n",
      "newasl/sign-language-gesture-recognition/train_videos/Yogurt\\049_006_001.mp4\n",
      "newasl/sign-language-gesture-recognition/train_videos/Yogurt\\049_006_002.mp4\n",
      "newasl/sign-language-gesture-recognition/train_videos/Yogurt\\049_006_003.mp4\n",
      "newasl/sign-language-gesture-recognition/train_videos/Yogurt\\049_006_004.mp4\n",
      "newasl/sign-language-gesture-recognition/train_videos/Yogurt\\049_006_005.mp4\n",
      "newasl/sign-language-gesture-recognition/train_videos/Yogurt\\049_007_001.mp4\n",
      "newasl/sign-language-gesture-recognition/train_videos/Yogurt\\049_007_002.mp4\n",
      "newasl/sign-language-gesture-recognition/train_videos/Yogurt\\049_007_003.mp4\n",
      "newasl/sign-language-gesture-recognition/train_videos/Yogurt\\049_007_004.mp4\n",
      "newasl/sign-language-gesture-recognition/train_videos/Yogurt\\049_007_005.mp4\n",
      "newasl/sign-language-gesture-recognition/train_videos/Yogurt\\049_008_001.mp4\n",
      "newasl/sign-language-gesture-recognition/train_videos/Yogurt\\049_008_002.mp4\n",
      "newasl/sign-language-gesture-recognition/train_videos/Yogurt\\049_008_003.mp4\n",
      "newasl/sign-language-gesture-recognition/train_videos/Yogurt\\049_008_004.mp4\n",
      "newasl/sign-language-gesture-recognition/train_videos/Yogurt\\049_008_005.mp4\n",
      "newasl/sign-language-gesture-recognition/train_videos/Yogurt\\049_009_001.mp4\n",
      "newasl/sign-language-gesture-recognition/train_videos/Yogurt\\049_009_002.mp4\n",
      "newasl/sign-language-gesture-recognition/train_videos/Yogurt\\049_009_003.mp4\n",
      "newasl/sign-language-gesture-recognition/train_videos/Yogurt\\049_009_004.mp4\n",
      "newasl/sign-language-gesture-recognition/train_videos/Yogurt\\049_009_005.mp4\n",
      "newasl/sign-language-gesture-recognition/train_videos/Yogurt\\049_010_001.mp4\n",
      "049_008_001.mp4\n",
      "newasl/sign-language-gesture-recognition/train_videos/Yogurt\\049_010_002.mp4\n",
      "049_008_002.mp4\n",
      "newasl/sign-language-gesture-recognition/train_videos/Yogurt\\049_010_003.mp4\n",
      "049_008_003.mp4\n",
      "newasl/sign-language-gesture-recognition/train_videos/Yogurt\\049_010_004.mp4\n",
      "049_008_004.mp4\n",
      "newasl/sign-language-gesture-recognition/train_videos/Yogurt\\049_010_005.mp4\n",
      "049_008_005.mp4\n"
     ]
    }
   ],
   "source": [
    "# Processing new ASL datasets\n",
    "import shutil\n",
    "\n",
    "#source_path\n",
    "source_folder = 'newasl/sign-language-gesture-recognition/all_videos/'\n",
    "train_folder = 'newasl/sign-language-gesture-recognition/train_videos/'\n",
    "test_folder = 'newasl/sign-language-gesture-recognition/test_videos/'\n",
    "\n",
    "# Get a list of all labels in train_folder\n",
    "subfolders = [subfolder for subfolder in os.listdir(train_folder) if os.path.isdir(os.path.join(train_folder, subfolder))]\n",
    "\n",
    "# For each label\n",
    "for subfolder_name in subfolders:\n",
    "    #Get the path\n",
    "    train_subfolder_path = os.path.join(train_folder, subfolder_name)\n",
    "    #Get all the videos \n",
    "    videos = [subfolder for subfolder in os.listdir(train_subfolder_path) if os.path.isfile(os.path.join(train_subfolder_path, subfolder)) and subfolder.endswith(\".mp4\")]\n",
    "\n",
    "    #For each video\n",
    "    for video in videos:\n",
    "        \n",
    "        #Get the video path\n",
    "        old_video_path = os.path.join(train_subfolder_path, video)\n",
    "        print(old_video_path)\n",
    "        # print(video)\n",
    "        # print(video[6])\n",
    "        string_number = video[6]\n",
    "        # print(string_number)\n",
    "        if(string_number == \"0\"):\n",
    "            new_folder_name = video[:5] + \"08\" + video[7:]\n",
    "            print(new_folder_name)\n",
    "        else:\n",
    "            integer_number = int(string_number) -2\n",
    "            # print(integer_number)\n",
    "            new_folder_name = video[:6] + str(integer_number) + video[7:]\n",
    "            # print(new_folder_name)\n",
    "        \n",
    "        new_folder_path = os.path.join(train_subfolder_path, new_folder_name)\n",
    "        os.rename(old_video_path, new_folder_path)\n",
    "        # prefix = video[4:7]\n",
    "        # # print(prefix)\n",
    "        # if prefix == '001' or prefix == '002':\n",
    "        #     shutil.move(video_path, test_subfolder_path)\n",
    "        # else:\n",
    "        #     shutil.move(video_path, train_subfolder_path)\n",
    "\n",
    "# subfolders = [subfolder for subfolder in os.listdir(source_folder) if os.path.isdir(os.path.join(source_folder, subfolder))]\n"
   ]
  },
  {
   "cell_type": "code",
   "execution_count": 59,
   "metadata": {},
   "outputs": [
    {
     "name": "stdout",
     "output_type": "stream",
     "text": [
      "['africa', 'ball', 'bath', 'before', 'black', 'buy', 'chat', 'cook', 'dry', 'eat', 'fine', 'forget', 'gold', 'green', 'happy', 'holland', 'how_many', 'i', 'important', 'jacket', 'learn', 'mustache', 'not', 'now', 'pizza', 'play', 'school', 'shock', 'shoes', 'so', 'table', 'yes']\n",
      "['africa', 'ball', 'bath', 'before', 'black', 'buy', 'chat', 'cook', 'dry', 'eat', 'fine', 'forget', 'gold', 'green', 'happy', 'holland', 'how_many', 'i', 'important', 'jacket', 'learn', 'mustache', 'not', 'now', 'pizza', 'play', 'school', 'shock', 'shoes', 'so', 'table', 'yes']\n",
      "32\n"
     ]
    }
   ],
   "source": [
    "train_labels = [subfolder for subfolder in os.listdir(train_folder) if os.path.isdir(os.path.join(train_folder, subfolder))]\n",
    "test_labels = [subfolder for subfolder in os.listdir(test_folder ) if os.path.isdir(os.path.join(test_folder, subfolder))]\n",
    "\n",
    "print(train_labels)\n",
    "print(test_labels)\n",
    "\n",
    "print(len(train_labels))"
   ]
  },
  {
   "cell_type": "code",
   "execution_count": 62,
   "metadata": {
    "id": "OV-xXQCgZx_s"
   },
   "outputs": [
    {
     "name": "stdout",
     "output_type": "stream",
     "text": [
      "Found 13135 images belonging to 32 classes.\n",
      "Found 1580 images belonging to 32 classes.\n",
      "32\n",
      "Epoch 1/10\n",
      "410/410 [==============================] - ETA: 0s - loss: 2.7447 - accuracy: 0.2416\n",
      "Epoch 1: val_accuracy improved from -inf to 0.06059, saving model to model_asl.h5\n"
     ]
    },
    {
     "name": "stderr",
     "output_type": "stream",
     "text": [
      "C:\\Users\\dangk\\AppData\\Local\\Programs\\Python\\Python36\\Lib\\site-packages\\keras\\src\\engine\\training.py:3103: UserWarning: You are saving your model as an HDF5 file via `model.save()`. This file format is considered legacy. We recommend using instead the native Keras format, e.g. `model.save('my_model.keras')`.\n",
      "  saving_api.save_model(\n"
     ]
    },
    {
     "name": "stdout",
     "output_type": "stream",
     "text": [
      "410/410 [==============================] - 2688s 7s/step - loss: 2.7447 - accuracy: 0.2416 - val_loss: 4.4165 - val_accuracy: 0.0606\n",
      "Epoch 2/10\n",
      "410/410 [==============================] - ETA: 0s - loss: 1.9256 - accuracy: 0.4012\n",
      "Epoch 2: val_accuracy did not improve from 0.06059\n",
      "410/410 [==============================] - 2683s 7s/step - loss: 1.9256 - accuracy: 0.4012 - val_loss: 5.3263 - val_accuracy: 0.0548\n",
      "Epoch 3/10\n",
      "410/410 [==============================] - ETA: 0s - loss: 1.6000 - accuracy: 0.4872\n",
      "Epoch 3: val_accuracy did not improve from 0.06059\n",
      "410/410 [==============================] - 2675s 7s/step - loss: 1.6000 - accuracy: 0.4872 - val_loss: 5.4007 - val_accuracy: 0.0606\n",
      "Epoch 4/10\n",
      "410/410 [==============================] - ETA: 0s - loss: 1.4404 - accuracy: 0.5288\n",
      "Epoch 4: val_accuracy did not improve from 0.06059\n",
      "410/410 [==============================] - 2619s 6s/step - loss: 1.4404 - accuracy: 0.5288 - val_loss: 6.7633 - val_accuracy: 0.0555\n",
      "Epoch 5/10\n",
      "410/410 [==============================] - ETA: 0s - loss: 1.3131 - accuracy: 0.5671\n",
      "Epoch 5: val_accuracy did not improve from 0.06059\n",
      "410/410 [==============================] - 2617s 6s/step - loss: 1.3131 - accuracy: 0.5671 - val_loss: 7.9065 - val_accuracy: 0.0529\n",
      "Epoch 6/10\n",
      "410/410 [==============================] - ETA: 0s - loss: 1.2447 - accuracy: 0.5812\n",
      "Epoch 6: val_accuracy did not improve from 0.06059\n",
      "410/410 [==============================] - 2622s 6s/step - loss: 1.2447 - accuracy: 0.5812 - val_loss: 8.2950 - val_accuracy: 0.0510\n"
     ]
    }
   ],
   "source": [
    "# import os\n",
    "# ! pip install sklearn\n",
    "import numpy as np\n",
    "# from sklearn.model_selection import train_test_split\n",
    "# from tensorflow.keras.applications.vgg16 import VGG16\n",
    "from tensorflow.keras.layers import Dense, Flatten, Dropout, LSTM, TimeDistributed, Input\n",
    "# from tensorflow.keras.models import Sequential\n",
    "from tensorflow.keras.preprocessing.image import ImageDataGenerator\n",
    "from tensorflow.keras.callbacks import ModelCheckpoint, EarlyStopping\n",
    "\n",
    "# Paths to the downloaded and extracted datasets\n",
    "# asl_alphabet_dataset_path = '/path/to/asl-alphabet'\n",
    "# sign_language_mnist_path = '/path/to/sign-language-mnist'\n",
    "TRAIN_FRAMES_PATH = 'train_chosen'\n",
    "VAL_FRAMES_PATH = 'val_chosen'\n",
    "\n",
    "# Model parameters\n",
    "num_frames_per_sequence = 5  # For ASL alphabet, you might use single frames\n",
    "input_shape = (224, 224, 3)\n",
    "batch_size = 32\n",
    "epochs = 10\n",
    "\n",
    "# Assuming the structure of the datasets is such that each class/letter is in a separate folder\n",
    "train_datagen = ImageDataGenerator(\n",
    "    rescale=1./255,\n",
    "    rotation_range=10,\n",
    "    width_shift_range=0.1,\n",
    "    height_shift_range=0.1,\n",
    "    shear_range=0.1,\n",
    "    zoom_range=0.1,\n",
    "    horizontal_flip=True,\n",
    "    fill_mode='nearest',\n",
    "    # validation_split=0.2  # Assuming you want to split the dataset\n",
    ")\n",
    "validation_datagen = ImageDataGenerator(rescale=1./255)\n",
    "\n",
    "train_generator = train_datagen.flow_from_directory(\n",
    "    TRAIN_FRAMES_PATH,\n",
    "    target_size=input_shape[:2],\n",
    "    batch_size=batch_size,\n",
    "    class_mode='categorical',\n",
    "    # subset='training'\n",
    ")\n",
    "\n",
    "train_classes = train_generator.class_indices\n",
    "# validation_classes = validation_generator.class_indices\n",
    "\n",
    "validation_generator = validation_datagen.flow_from_directory(\n",
    "    VAL_FRAMES_PATH,\n",
    "    target_size=input_shape[:2],\n",
    "    batch_size=batch_size,\n",
    "    class_mode='categorical',\n",
    "    # classes=train_classes.keys() \n",
    "    # subset='validation' #this doesn't work for some reasons\n",
    ")\n",
    "\n",
    "# Build model function/ orignal Yashi model\n",
    "def build_model(input_shape, num_classes):\n",
    "    vgg16 = VGG16(weights='imagenet', include_top=False, input_shape=input_shape)\n",
    "    vgg16.trainable = False\n",
    "    model = Sequential()\n",
    "    model.add(vgg16)\n",
    "    model.add(Flatten())\n",
    "    model.add(Dense(512, activation='relu'))\n",
    "    model.add(Dropout(0.5))\n",
    "    model.add(Dense(num_classes, activation='softmax'))\n",
    "    return model\n",
    "    \n",
    "# # # Build model function/ model with 2 drop out and LSTM\n",
    "# def build_model(input_shape, num_classes):\n",
    "#     vgg16 = VGG16(weights='imagenet', include_top=False, input_shape=input_shape[1:])\n",
    "#     for layer in vgg16.layers:\n",
    "#         layer.trainable = False\n",
    "#     model = Sequential()\n",
    "#     model.add(TimeDistributed(vgg16))\n",
    "#     model.add(TimeDistributed(Flatten()))\n",
    "#     model.add(Dropout(0.5))\n",
    "#     model.add(LSTM(512, return_sequences=False))\n",
    "#     model.add(Dropout(0.3))\n",
    "#     model.add(Dense(256, activation='relu'))\n",
    "#     model.add(Dense(num_classes, activation='softmax'))\n",
    "#     return model\n",
    "    \n",
    "# Build and compile the model\n",
    "num_classes = train_generator.num_classes\n",
    "print(num_classes)\n",
    "model = build_model(input_shape, num_classes)\n",
    "model.compile(optimizer='adam', loss='categorical_crossentropy', metrics=['accuracy'])\n",
    "\n",
    "# Callbacks\n",
    "checkpoint = ModelCheckpoint('model_asl.h5', monitor='val_accuracy', verbose=1, save_best_only=True, mode='max')\n",
    "early_stopping = EarlyStopping(monitor='val_accuracy', patience=5)\n",
    "\n",
    "# Train the model\n",
    "history = model.fit(\n",
    "    train_generator,\n",
    "    steps_per_epoch=train_generator.samples // batch_size,\n",
    "    epochs=epochs,\n",
    "    validation_data=validation_generator,\n",
    "    validation_steps=validation_generator.samples // batch_size,\n",
    "    callbacks=[checkpoint, early_stopping]\n",
    ")\n"
   ]
  }
 ],
 "metadata": {
  "accelerator": "TPU",
  "colab": {
   "machine_shape": "hm",
   "provenance": []
  },
  "kernelspec": {
   "display_name": "Python 3 (ipykernel)",
   "language": "python",
   "name": "python3"
  },
  "language_info": {
   "codemirror_mode": {
    "name": "ipython",
    "version": 3
   },
   "file_extension": ".py",
   "mimetype": "text/x-python",
   "name": "python",
   "nbconvert_exporter": "python",
   "pygments_lexer": "ipython3",
   "version": "3.11.5"
  }
 },
 "nbformat": 4,
 "nbformat_minor": 4
}
